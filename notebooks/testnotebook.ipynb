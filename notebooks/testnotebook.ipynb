{
 "cells": [
  {
   "cell_type": "code",
   "execution_count": 1,
   "metadata": {
    "collapsed": true,
    "pycharm": {
     "name": "#%%\n"
    }
   },
   "outputs": [],
   "source": [
    "from psaw import PushshiftAPI    #library Pushshift\n",
    "import datetime as dt            #library for date management\n",
    "#import p                         #library for data manipulation\n",
    "#import matplotlib.pyplot as plt  #library for plotting\n",
    "import pandas as pd\n",
    "#import numpy as np"
   ]
  },
  {
   "cell_type": "code",
   "execution_count": 2,
   "outputs": [
    {
     "data": {
      "text/plain": "3900.0"
     },
     "execution_count": 2,
     "metadata": {},
     "output_type": "execute_result"
    }
   ],
   "source": [
    "1560*2 + 1560 / 2 "
   ],
   "metadata": {
    "collapsed": false,
    "pycharm": {
     "name": "#%%\n"
    }
   }
  },
  {
   "cell_type": "code",
   "execution_count": 24,
   "outputs": [],
   "source": [
    "api = PushshiftAPI()              #Object of the API"
   ],
   "metadata": {
    "collapsed": false,
    "pycharm": {
     "name": "#%%\n"
    }
   }
  },
  {
   "cell_type": "code",
   "execution_count": 25,
   "outputs": [],
   "source": [
    "def data_prep_posts(subreddit, start_time, end_time, filters, limit):\n",
    "    if len(filters) == 0:\n",
    "        filters = ['id', 'author', 'created_utc',\n",
    "                   'domain', 'url',\n",
    "                   'title', 'num_comments']\n",
    "        #We set by default some useful columns\n",
    "\n",
    "\n",
    "    posts = list(api.search_submissions(\n",
    "        subreddit=subreddit,   #Subreddit we want to audit\n",
    "        after=start_time,      #Start date\n",
    "        before=end_time,       #End date\n",
    "        filter=filters,        #Column names we want to retrieve\n",
    "        limit=limit))          ##Max number of posts\n",
    "\n",
    "    return pd.DataFrame(posts) #Return dataframe for analysis"
   ],
   "metadata": {
    "collapsed": false,
    "pycharm": {
     "name": "#%%\n"
    }
   }
  },
  {
   "cell_type": "code",
   "execution_count": 26,
   "outputs": [],
   "source": [
    "subreddit = \"wallstreetbets\"     #Subreddit we are auditing\n",
    "start_time = int(dt.datetime(2021, 1, 1).timestamp())\n",
    "#Starting date for our search\n",
    "end_time = int(dt.datetime(2021, 1, 2).timestamp())\n",
    "#Ending date for our search\n",
    "filters = []                     #We don´t want specific filters\n",
    "limit = 1000                     #Elelemts we want to recieve\n",
    "\n",
    "\"\"\"Here we are going to get subreddits for a brief analysis\"\"\"\n",
    "#Call function for dataframe creation of comments\n",
    "df_p = data_prep_posts(subreddit,start_time,\n",
    "                       end_time,filters,limit)"
   ],
   "metadata": {
    "collapsed": false,
    "pycharm": {
     "name": "#%%\n"
    }
   }
  },
  {
   "cell_type": "code",
   "execution_count": 36,
   "outputs": [
    {
     "name": "stdout",
     "output_type": "stream",
     "text": [
      "2021-01-01 00:00:00\n",
      "2021-01-02 00:00:00\n"
     ]
    }
   ],
   "source": [
    "print(dt.datetime.fromtimestamp(start_time))\n",
    "print(dt.datetime.fromtimestamp(end_time))"
   ],
   "metadata": {
    "collapsed": false,
    "pycharm": {
     "name": "#%%\n"
    }
   }
  },
  {
   "cell_type": "code",
   "execution_count": 37,
   "outputs": [],
   "source": [
    "df_p[\"time\"] = df_p[\"d_\"].apply(lambda x: dt.datetime.fromtimestamp(x[\"created_utc\"]))"
   ],
   "metadata": {
    "collapsed": false,
    "pycharm": {
     "name": "#%%\n"
    }
   }
  },
  {
   "cell_type": "code",
   "execution_count": 39,
   "outputs": [
    {
     "name": "stdout",
     "output_type": "stream",
     "text": [
      "<class 'pandas.core.frame.DataFrame'>\n",
      "RangeIndex: 604 entries, 0 to 603\n",
      "Data columns (total 10 columns):\n",
      " #   Column        Non-Null Count  Dtype         \n",
      "---  ------        --------------  -----         \n",
      " 0   author        604 non-null    object        \n",
      " 1   created_utc   604 non-null    int64         \n",
      " 2   domain        604 non-null    object        \n",
      " 3   id            604 non-null    object        \n",
      " 4   num_comments  604 non-null    int64         \n",
      " 5   title         604 non-null    object        \n",
      " 6   url           604 non-null    object        \n",
      " 7   created       604 non-null    float64       \n",
      " 8   d_            604 non-null    object        \n",
      " 9   time          604 non-null    datetime64[ns]\n",
      "dtypes: datetime64[ns](1), float64(1), int64(2), object(6)\n",
      "memory usage: 47.3+ KB\n"
     ]
    }
   ],
   "source": [
    "df_p.info()"
   ],
   "metadata": {
    "collapsed": false,
    "pycharm": {
     "name": "#%%\n"
    }
   }
  },
  {
   "cell_type": "code",
   "execution_count": 42,
   "outputs": [],
   "source": [
    "\"\"\"FOR COMMENTS\"\"\"\n",
    "def data_prep_comments(term, start_time, end_time, filters, limit):\n",
    "    if (len(filters) == 0):\n",
    "        filters = ['id', 'author', 'created_utc',\n",
    "                   'body', 'permalink', 'subreddit']\n",
    "        #We set by default some usefull columns\n",
    "\n",
    "    comments = list(api.search_comments(\n",
    "        q=term,                 #Subreddit we want to audit\n",
    "        after=start_time,       #Start date\n",
    "        before=end_time,        #End date\n",
    "        filter=filters,         #Column names we want to retrieve\n",
    "        limit=limit))           #Max number of comments\n",
    "    return pd.DataFrame(comments) #Return dataframe for analysis"
   ],
   "metadata": {
    "collapsed": false,
    "pycharm": {
     "name": "#%%\n"
    }
   }
  },
  {
   "cell_type": "code",
   "execution_count": 45,
   "outputs": [],
   "source": [
    "\"\"\"Here we are going to get comments for a brief analysis\"\"\"\n",
    "term = 'wallstreetbets'            #Term we want to search for\n",
    "limit = 1000                #Number of elelemts\n",
    "df_c = data_prep_comments(term, start_time,\n",
    "                          end_time, filters, limit)\n",
    "#Call function for dataframe creation of comments"
   ],
   "metadata": {
    "collapsed": false,
    "pycharm": {
     "name": "#%%\n"
    }
   }
  },
  {
   "cell_type": "code",
   "execution_count": 46,
   "outputs": [
    {
     "data": {
      "text/plain": "            author                                               body  \\\n0         AleksAFG  Congrats and fuck you. Hopefully I'll be there...   \n1           seb_dm                                  /r wallstreetbets   \n2    AutoModerator  This post was flaired as a YOLO so it's on the...   \n3          brodega  Yeah, all these poor people should just become...   \n4    AutoModerator  This post was flaired as a YOLO so it's on the...   \n..             ...                                                ...   \n478  AutoModerator  Your post has been removed because a single li...   \n479  AutoModerator  This post was flaired as a YOLO so it's on the...   \n480  talesofstocks  lol Oh no, the downvotes from reddit users in ...   \n481  AutoModerator  Sir, this is the unemployment line.\\n\\n*I am a...   \n482  AutoModerator  This post was flaired as a YOLO so it's on the...   \n\n     created_utc       id                                          permalink  \\\n0     1609541996  ghrq1lb  /r/Bitcoin/comments/kobrs1/my_friends_mocked_m...   \n1     1609541987  ghrq111  /r/nevertellmetheodds/comments/ko6ets/the_last...   \n2     1609541639  ghrpea5  /r/wallstreetbets/comments/kol2v7/to_dee_moon/...   \n3     1609541379  ghroxdm  /r/funny/comments/kogdjd/walmart_has_a_plan_fo...   \n4     1609541147  ghroi46  /r/wallstreetbets/comments/kokxko/golden_egg/g...   \n..           ...      ...                                                ...   \n478   1609455994  ghnh6e9  /r/wallstreetbets/comments/ko0556/the_truth_ab...   \n479   1609455976  ghnh5ad  /r/wallstreetbets/comments/ko04yx/gme_yolo_upd...   \n480   1609455819  ghngw1u  /r/wallstreetbets/comments/knus1d/it_iz_what_i...   \n481   1609455753  ghngs64  /r/wallstreetbets/comments/ko02mo/crm_salesfor...   \n482   1609455709  ghngpmk  /r/wallstreetbets/comments/ko025r/new_to_stock...   \n\n              subreddit       created  \\\n0               Bitcoin  1.609538e+09   \n1    nevertellmetheodds  1.609538e+09   \n2        wallstreetbets  1.609538e+09   \n3                 funny  1.609538e+09   \n4        wallstreetbets  1.609538e+09   \n..                  ...           ...   \n478      wallstreetbets  1.609452e+09   \n479      wallstreetbets  1.609452e+09   \n480      wallstreetbets  1.609452e+09   \n481      wallstreetbets  1.609452e+09   \n482      wallstreetbets  1.609452e+09   \n\n                                                    d_  \n0    {'author': 'AleksAFG', 'body': 'Congrats and f...  \n1    {'author': 'seb_dm', 'body': '/r wallstreetbet...  \n2    {'author': 'AutoModerator', 'body': 'This post...  \n3    {'author': 'brodega', 'body': 'Yeah, all these...  \n4    {'author': 'AutoModerator', 'body': 'This post...  \n..                                                 ...  \n478  {'author': 'AutoModerator', 'body': 'Your post...  \n479  {'author': 'AutoModerator', 'body': 'This post...  \n480  {'author': 'talesofstocks', 'body': 'lol Oh no...  \n481  {'author': 'AutoModerator', 'body': 'Sir, this...  \n482  {'author': 'AutoModerator', 'body': 'This post...  \n\n[483 rows x 8 columns]",
      "text/html": "<div>\n<style scoped>\n    .dataframe tbody tr th:only-of-type {\n        vertical-align: middle;\n    }\n\n    .dataframe tbody tr th {\n        vertical-align: top;\n    }\n\n    .dataframe thead th {\n        text-align: right;\n    }\n</style>\n<table border=\"1\" class=\"dataframe\">\n  <thead>\n    <tr style=\"text-align: right;\">\n      <th></th>\n      <th>author</th>\n      <th>body</th>\n      <th>created_utc</th>\n      <th>id</th>\n      <th>permalink</th>\n      <th>subreddit</th>\n      <th>created</th>\n      <th>d_</th>\n    </tr>\n  </thead>\n  <tbody>\n    <tr>\n      <th>0</th>\n      <td>AleksAFG</td>\n      <td>Congrats and fuck you. Hopefully I'll be there...</td>\n      <td>1609541996</td>\n      <td>ghrq1lb</td>\n      <td>/r/Bitcoin/comments/kobrs1/my_friends_mocked_m...</td>\n      <td>Bitcoin</td>\n      <td>1.609538e+09</td>\n      <td>{'author': 'AleksAFG', 'body': 'Congrats and f...</td>\n    </tr>\n    <tr>\n      <th>1</th>\n      <td>seb_dm</td>\n      <td>/r wallstreetbets</td>\n      <td>1609541987</td>\n      <td>ghrq111</td>\n      <td>/r/nevertellmetheodds/comments/ko6ets/the_last...</td>\n      <td>nevertellmetheodds</td>\n      <td>1.609538e+09</td>\n      <td>{'author': 'seb_dm', 'body': '/r wallstreetbet...</td>\n    </tr>\n    <tr>\n      <th>2</th>\n      <td>AutoModerator</td>\n      <td>This post was flaired as a YOLO so it's on the...</td>\n      <td>1609541639</td>\n      <td>ghrpea5</td>\n      <td>/r/wallstreetbets/comments/kol2v7/to_dee_moon/...</td>\n      <td>wallstreetbets</td>\n      <td>1.609538e+09</td>\n      <td>{'author': 'AutoModerator', 'body': 'This post...</td>\n    </tr>\n    <tr>\n      <th>3</th>\n      <td>brodega</td>\n      <td>Yeah, all these poor people should just become...</td>\n      <td>1609541379</td>\n      <td>ghroxdm</td>\n      <td>/r/funny/comments/kogdjd/walmart_has_a_plan_fo...</td>\n      <td>funny</td>\n      <td>1.609538e+09</td>\n      <td>{'author': 'brodega', 'body': 'Yeah, all these...</td>\n    </tr>\n    <tr>\n      <th>4</th>\n      <td>AutoModerator</td>\n      <td>This post was flaired as a YOLO so it's on the...</td>\n      <td>1609541147</td>\n      <td>ghroi46</td>\n      <td>/r/wallstreetbets/comments/kokxko/golden_egg/g...</td>\n      <td>wallstreetbets</td>\n      <td>1.609538e+09</td>\n      <td>{'author': 'AutoModerator', 'body': 'This post...</td>\n    </tr>\n    <tr>\n      <th>...</th>\n      <td>...</td>\n      <td>...</td>\n      <td>...</td>\n      <td>...</td>\n      <td>...</td>\n      <td>...</td>\n      <td>...</td>\n      <td>...</td>\n    </tr>\n    <tr>\n      <th>478</th>\n      <td>AutoModerator</td>\n      <td>Your post has been removed because a single li...</td>\n      <td>1609455994</td>\n      <td>ghnh6e9</td>\n      <td>/r/wallstreetbets/comments/ko0556/the_truth_ab...</td>\n      <td>wallstreetbets</td>\n      <td>1.609452e+09</td>\n      <td>{'author': 'AutoModerator', 'body': 'Your post...</td>\n    </tr>\n    <tr>\n      <th>479</th>\n      <td>AutoModerator</td>\n      <td>This post was flaired as a YOLO so it's on the...</td>\n      <td>1609455976</td>\n      <td>ghnh5ad</td>\n      <td>/r/wallstreetbets/comments/ko04yx/gme_yolo_upd...</td>\n      <td>wallstreetbets</td>\n      <td>1.609452e+09</td>\n      <td>{'author': 'AutoModerator', 'body': 'This post...</td>\n    </tr>\n    <tr>\n      <th>480</th>\n      <td>talesofstocks</td>\n      <td>lol Oh no, the downvotes from reddit users in ...</td>\n      <td>1609455819</td>\n      <td>ghngw1u</td>\n      <td>/r/wallstreetbets/comments/knus1d/it_iz_what_i...</td>\n      <td>wallstreetbets</td>\n      <td>1.609452e+09</td>\n      <td>{'author': 'talesofstocks', 'body': 'lol Oh no...</td>\n    </tr>\n    <tr>\n      <th>481</th>\n      <td>AutoModerator</td>\n      <td>Sir, this is the unemployment line.\\n\\n*I am a...</td>\n      <td>1609455753</td>\n      <td>ghngs64</td>\n      <td>/r/wallstreetbets/comments/ko02mo/crm_salesfor...</td>\n      <td>wallstreetbets</td>\n      <td>1.609452e+09</td>\n      <td>{'author': 'AutoModerator', 'body': 'Sir, this...</td>\n    </tr>\n    <tr>\n      <th>482</th>\n      <td>AutoModerator</td>\n      <td>This post was flaired as a YOLO so it's on the...</td>\n      <td>1609455709</td>\n      <td>ghngpmk</td>\n      <td>/r/wallstreetbets/comments/ko025r/new_to_stock...</td>\n      <td>wallstreetbets</td>\n      <td>1.609452e+09</td>\n      <td>{'author': 'AutoModerator', 'body': 'This post...</td>\n    </tr>\n  </tbody>\n</table>\n<p>483 rows × 8 columns</p>\n</div>"
     },
     "execution_count": 46,
     "metadata": {},
     "output_type": "execute_result"
    }
   ],
   "source": [
    "df_c"
   ],
   "metadata": {
    "collapsed": false,
    "pycharm": {
     "name": "#%%\n"
    }
   }
  },
  {
   "cell_type": "code",
   "execution_count": 47,
   "outputs": [],
   "source": [
    "# get the comments of a certain submissions by some kind of id and join them together in database"
   ],
   "metadata": {
    "collapsed": false,
    "pycharm": {
     "name": "#%%\n"
    }
   }
  },
  {
   "cell_type": "code",
   "execution_count": 47,
   "outputs": [],
   "source": [],
   "metadata": {
    "collapsed": false,
    "pycharm": {
     "name": "#%%\n"
    }
   }
  },
  {
   "cell_type": "code",
   "execution_count": null,
   "outputs": [],
   "source": [],
   "metadata": {
    "collapsed": false,
    "pycharm": {
     "name": "#%%\n"
    }
   }
  }
 ],
 "metadata": {
  "kernelspec": {
   "name": "thesis",
   "language": "python",
   "display_name": "thesis"
  },
  "language_info": {
   "codemirror_mode": {
    "name": "ipython",
    "version": 2
   },
   "file_extension": ".py",
   "mimetype": "text/x-python",
   "name": "python",
   "nbconvert_exporter": "python",
   "pygments_lexer": "ipython2",
   "version": "2.7.6"
  }
 },
 "nbformat": 4,
 "nbformat_minor": 0
}