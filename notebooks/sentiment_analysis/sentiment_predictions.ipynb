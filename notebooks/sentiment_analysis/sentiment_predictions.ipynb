{
 "cells": [
  {
   "cell_type": "markdown",
   "source": [
    "## 1. Imports"
   ],
   "metadata": {
    "collapsed": false
   }
  },
  {
   "cell_type": "code",
   "execution_count": 1,
   "outputs": [],
   "source": [
    "import wandb\n",
    "import copy\n",
    "import torch\n",
    "import json\n",
    "from tqdm import tqdm\n",
    "import yaml\n",
    "import pandas as pd\n",
    "import numpy as np\n",
    "import seaborn as sns\n",
    "import torch.nn.functional as F\n",
    "import matplotlib.pyplot as plt\n",
    "from sqlalchemy import  create_engine\n",
    "from torch.utils.data import DataLoader\n",
    "from transformers import AutoTokenizer, AutoModelForSequenceClassification\n",
    "from pytorch_datasets import SentimentAnalysisDataset, DatasetType\n",
    "from sklearn.metrics import precision_score, recall_score, f1_score, confusion_matrix\n",
    "# check size of output and shape\n",
    "# save results to csv after prediction"
   ],
   "metadata": {
    "collapsed": false,
    "pycharm": {
     "name": "#%%\n"
    }
   }
  },
  {
   "cell_type": "markdown",
   "source": [
    "## 2. Database configuration & Model config"
   ],
   "metadata": {
    "collapsed": false
   }
  },
  {
   "cell_type": "code",
   "execution_count": 2,
   "outputs": [],
   "source": [
    "# Reading form config.yaml\"\n",
    "with open(\"../../config.yaml\", \"r\") as yamlconfig:\n",
    "    config = yaml.load(yamlconfig, Loader=yaml.FullLoader)\n",
    "\n",
    "# Create postgres string with db-config\n",
    "postgres_username = config[\"db_config\"][\"postgres_username\"]\n",
    "postgres_password = config[\"db_config\"][\"postgres_password\"]\n",
    "postgres_address = config[\"db_config\"][\"postgres_address\"]\n",
    "postgres_port = config[\"db_config\"][\"postgres_port\"]\n",
    "postgres_dbname = config[\"db_config\"][\"postgres_dbname\"]\n",
    "\n",
    "postgres_str = f\"postgresql://{postgres_username}:{postgres_password}@{postgres_address}:{postgres_port}/{postgres_dbname}\"\n",
    "\n",
    "# create db connection with sqlalchemy\n",
    "cnx = create_engine(postgres_str)"
   ],
   "metadata": {
    "collapsed": false,
    "pycharm": {
     "name": "#%%\n"
    }
   }
  },
  {
   "cell_type": "code",
   "execution_count": 3,
   "outputs": [
    {
     "name": "stderr",
     "output_type": "stream",
     "text": [
      "Some weights of the model checkpoint at cardiffnlp/twitter-roberta-base-sentiment-latest were not used when initializing RobertaForSequenceClassification: ['roberta.pooler.dense.bias', 'roberta.pooler.dense.weight']\n",
      "- This IS expected if you are initializing RobertaForSequenceClassification from the checkpoint of a model trained on another task or with another architecture (e.g. initializing a BertForSequenceClassification model from a BertForPreTraining model).\n",
      "- This IS NOT expected if you are initializing RobertaForSequenceClassification from the checkpoint of a model that you expect to be exactly identical (initializing a BertForSequenceClassification model from a BertForSequenceClassification model).\n"
     ]
    }
   ],
   "source": [
    "model_name_huggingface = \"cardiffnlp/twitter-roberta-base-sentiment-latest\"\n",
    "tokenizer = AutoTokenizer.from_pretrained(model_name_huggingface)\n",
    "huggingface_model = AutoModelForSequenceClassification.from_pretrained(model_name_huggingface, return_dict=True)"
   ],
   "metadata": {
    "collapsed": false,
    "pycharm": {
     "name": "#%%\n"
    }
   }
  },
  {
   "cell_type": "markdown",
   "source": [
    "## 3. Setup model"
   ],
   "metadata": {
    "collapsed": false,
    "pycharm": {
     "name": "#%% md\n"
    }
   }
  },
  {
   "cell_type": "code",
   "execution_count": 4,
   "outputs": [],
   "source": [
    "class SentimentAnalysisModel(torch.nn.Module):\n",
    "    def __init__(self, pretrained_model):\n",
    "        super(SentimentAnalysisModel, self).__init__()\n",
    "        self.pretrained_model = pretrained_model\n",
    "\n",
    "    def forward(self, input_ids, attn_mask, token_type_ids):\n",
    "        output = self.pretrained_model(\n",
    "            input_ids,\n",
    "            attention_mask=attn_mask,\n",
    "            token_type_ids=token_type_ids\n",
    "        )\n",
    "        return output\n",
    "\n",
    "model = SentimentAnalysisModel(huggingface_model)"
   ],
   "metadata": {
    "collapsed": false,
    "pycharm": {
     "name": "#%%\n"
    }
   }
  },
  {
   "cell_type": "code",
   "execution_count": 5,
   "outputs": [],
   "source": [
    "# load best model\n",
    "best_model_state = torch.load(\"../../models/sentiment_analysis/cardiffnlp_twitter-roberta-base-sentiment-latest.pth\")"
   ],
   "metadata": {
    "collapsed": false,
    "pycharm": {
     "name": "#%%\n"
    }
   }
  },
  {
   "cell_type": "code",
   "execution_count": 6,
   "outputs": [
    {
     "data": {
      "text/plain": "<All keys matched successfully>"
     },
     "execution_count": 6,
     "metadata": {},
     "output_type": "execute_result"
    }
   ],
   "source": [
    "model.load_state_dict(best_model_state[\"model_state_dict\"])"
   ],
   "metadata": {
    "collapsed": false,
    "pycharm": {
     "name": "#%%\n"
    }
   }
  },
  {
   "cell_type": "code",
   "execution_count": 7,
   "outputs": [
    {
     "data": {
      "text/plain": "device(type='cuda')"
     },
     "execution_count": 7,
     "metadata": {},
     "output_type": "execute_result"
    }
   ],
   "source": [
    "device = torch.device('cuda') if torch.cuda.is_available() else torch.device('cpu')\n",
    "device"
   ],
   "metadata": {
    "collapsed": false,
    "pycharm": {
     "name": "#%%\n"
    }
   }
  },
  {
   "cell_type": "code",
   "execution_count": 8,
   "outputs": [
    {
     "data": {
      "text/plain": "SentimentAnalysisModel(\n  (pretrained_model): RobertaForSequenceClassification(\n    (roberta): RobertaModel(\n      (embeddings): RobertaEmbeddings(\n        (word_embeddings): Embedding(50265, 768, padding_idx=1)\n        (position_embeddings): Embedding(514, 768, padding_idx=1)\n        (token_type_embeddings): Embedding(1, 768)\n        (LayerNorm): LayerNorm((768,), eps=1e-05, elementwise_affine=True)\n        (dropout): Dropout(p=0.1, inplace=False)\n      )\n      (encoder): RobertaEncoder(\n        (layer): ModuleList(\n          (0): RobertaLayer(\n            (attention): RobertaAttention(\n              (self): RobertaSelfAttention(\n                (query): Linear(in_features=768, out_features=768, bias=True)\n                (key): Linear(in_features=768, out_features=768, bias=True)\n                (value): Linear(in_features=768, out_features=768, bias=True)\n                (dropout): Dropout(p=0.1, inplace=False)\n              )\n              (output): RobertaSelfOutput(\n                (dense): Linear(in_features=768, out_features=768, bias=True)\n                (LayerNorm): LayerNorm((768,), eps=1e-05, elementwise_affine=True)\n                (dropout): Dropout(p=0.1, inplace=False)\n              )\n            )\n            (intermediate): RobertaIntermediate(\n              (dense): Linear(in_features=768, out_features=3072, bias=True)\n              (intermediate_act_fn): GELUActivation()\n            )\n            (output): RobertaOutput(\n              (dense): Linear(in_features=3072, out_features=768, bias=True)\n              (LayerNorm): LayerNorm((768,), eps=1e-05, elementwise_affine=True)\n              (dropout): Dropout(p=0.1, inplace=False)\n            )\n          )\n          (1): RobertaLayer(\n            (attention): RobertaAttention(\n              (self): RobertaSelfAttention(\n                (query): Linear(in_features=768, out_features=768, bias=True)\n                (key): Linear(in_features=768, out_features=768, bias=True)\n                (value): Linear(in_features=768, out_features=768, bias=True)\n                (dropout): Dropout(p=0.1, inplace=False)\n              )\n              (output): RobertaSelfOutput(\n                (dense): Linear(in_features=768, out_features=768, bias=True)\n                (LayerNorm): LayerNorm((768,), eps=1e-05, elementwise_affine=True)\n                (dropout): Dropout(p=0.1, inplace=False)\n              )\n            )\n            (intermediate): RobertaIntermediate(\n              (dense): Linear(in_features=768, out_features=3072, bias=True)\n              (intermediate_act_fn): GELUActivation()\n            )\n            (output): RobertaOutput(\n              (dense): Linear(in_features=3072, out_features=768, bias=True)\n              (LayerNorm): LayerNorm((768,), eps=1e-05, elementwise_affine=True)\n              (dropout): Dropout(p=0.1, inplace=False)\n            )\n          )\n          (2): RobertaLayer(\n            (attention): RobertaAttention(\n              (self): RobertaSelfAttention(\n                (query): Linear(in_features=768, out_features=768, bias=True)\n                (key): Linear(in_features=768, out_features=768, bias=True)\n                (value): Linear(in_features=768, out_features=768, bias=True)\n                (dropout): Dropout(p=0.1, inplace=False)\n              )\n              (output): RobertaSelfOutput(\n                (dense): Linear(in_features=768, out_features=768, bias=True)\n                (LayerNorm): LayerNorm((768,), eps=1e-05, elementwise_affine=True)\n                (dropout): Dropout(p=0.1, inplace=False)\n              )\n            )\n            (intermediate): RobertaIntermediate(\n              (dense): Linear(in_features=768, out_features=3072, bias=True)\n              (intermediate_act_fn): GELUActivation()\n            )\n            (output): RobertaOutput(\n              (dense): Linear(in_features=3072, out_features=768, bias=True)\n              (LayerNorm): LayerNorm((768,), eps=1e-05, elementwise_affine=True)\n              (dropout): Dropout(p=0.1, inplace=False)\n            )\n          )\n          (3): RobertaLayer(\n            (attention): RobertaAttention(\n              (self): RobertaSelfAttention(\n                (query): Linear(in_features=768, out_features=768, bias=True)\n                (key): Linear(in_features=768, out_features=768, bias=True)\n                (value): Linear(in_features=768, out_features=768, bias=True)\n                (dropout): Dropout(p=0.1, inplace=False)\n              )\n              (output): RobertaSelfOutput(\n                (dense): Linear(in_features=768, out_features=768, bias=True)\n                (LayerNorm): LayerNorm((768,), eps=1e-05, elementwise_affine=True)\n                (dropout): Dropout(p=0.1, inplace=False)\n              )\n            )\n            (intermediate): RobertaIntermediate(\n              (dense): Linear(in_features=768, out_features=3072, bias=True)\n              (intermediate_act_fn): GELUActivation()\n            )\n            (output): RobertaOutput(\n              (dense): Linear(in_features=3072, out_features=768, bias=True)\n              (LayerNorm): LayerNorm((768,), eps=1e-05, elementwise_affine=True)\n              (dropout): Dropout(p=0.1, inplace=False)\n            )\n          )\n          (4): RobertaLayer(\n            (attention): RobertaAttention(\n              (self): RobertaSelfAttention(\n                (query): Linear(in_features=768, out_features=768, bias=True)\n                (key): Linear(in_features=768, out_features=768, bias=True)\n                (value): Linear(in_features=768, out_features=768, bias=True)\n                (dropout): Dropout(p=0.1, inplace=False)\n              )\n              (output): RobertaSelfOutput(\n                (dense): Linear(in_features=768, out_features=768, bias=True)\n                (LayerNorm): LayerNorm((768,), eps=1e-05, elementwise_affine=True)\n                (dropout): Dropout(p=0.1, inplace=False)\n              )\n            )\n            (intermediate): RobertaIntermediate(\n              (dense): Linear(in_features=768, out_features=3072, bias=True)\n              (intermediate_act_fn): GELUActivation()\n            )\n            (output): RobertaOutput(\n              (dense): Linear(in_features=3072, out_features=768, bias=True)\n              (LayerNorm): LayerNorm((768,), eps=1e-05, elementwise_affine=True)\n              (dropout): Dropout(p=0.1, inplace=False)\n            )\n          )\n          (5): RobertaLayer(\n            (attention): RobertaAttention(\n              (self): RobertaSelfAttention(\n                (query): Linear(in_features=768, out_features=768, bias=True)\n                (key): Linear(in_features=768, out_features=768, bias=True)\n                (value): Linear(in_features=768, out_features=768, bias=True)\n                (dropout): Dropout(p=0.1, inplace=False)\n              )\n              (output): RobertaSelfOutput(\n                (dense): Linear(in_features=768, out_features=768, bias=True)\n                (LayerNorm): LayerNorm((768,), eps=1e-05, elementwise_affine=True)\n                (dropout): Dropout(p=0.1, inplace=False)\n              )\n            )\n            (intermediate): RobertaIntermediate(\n              (dense): Linear(in_features=768, out_features=3072, bias=True)\n              (intermediate_act_fn): GELUActivation()\n            )\n            (output): RobertaOutput(\n              (dense): Linear(in_features=3072, out_features=768, bias=True)\n              (LayerNorm): LayerNorm((768,), eps=1e-05, elementwise_affine=True)\n              (dropout): Dropout(p=0.1, inplace=False)\n            )\n          )\n          (6): RobertaLayer(\n            (attention): RobertaAttention(\n              (self): RobertaSelfAttention(\n                (query): Linear(in_features=768, out_features=768, bias=True)\n                (key): Linear(in_features=768, out_features=768, bias=True)\n                (value): Linear(in_features=768, out_features=768, bias=True)\n                (dropout): Dropout(p=0.1, inplace=False)\n              )\n              (output): RobertaSelfOutput(\n                (dense): Linear(in_features=768, out_features=768, bias=True)\n                (LayerNorm): LayerNorm((768,), eps=1e-05, elementwise_affine=True)\n                (dropout): Dropout(p=0.1, inplace=False)\n              )\n            )\n            (intermediate): RobertaIntermediate(\n              (dense): Linear(in_features=768, out_features=3072, bias=True)\n              (intermediate_act_fn): GELUActivation()\n            )\n            (output): RobertaOutput(\n              (dense): Linear(in_features=3072, out_features=768, bias=True)\n              (LayerNorm): LayerNorm((768,), eps=1e-05, elementwise_affine=True)\n              (dropout): Dropout(p=0.1, inplace=False)\n            )\n          )\n          (7): RobertaLayer(\n            (attention): RobertaAttention(\n              (self): RobertaSelfAttention(\n                (query): Linear(in_features=768, out_features=768, bias=True)\n                (key): Linear(in_features=768, out_features=768, bias=True)\n                (value): Linear(in_features=768, out_features=768, bias=True)\n                (dropout): Dropout(p=0.1, inplace=False)\n              )\n              (output): RobertaSelfOutput(\n                (dense): Linear(in_features=768, out_features=768, bias=True)\n                (LayerNorm): LayerNorm((768,), eps=1e-05, elementwise_affine=True)\n                (dropout): Dropout(p=0.1, inplace=False)\n              )\n            )\n            (intermediate): RobertaIntermediate(\n              (dense): Linear(in_features=768, out_features=3072, bias=True)\n              (intermediate_act_fn): GELUActivation()\n            )\n            (output): RobertaOutput(\n              (dense): Linear(in_features=3072, out_features=768, bias=True)\n              (LayerNorm): LayerNorm((768,), eps=1e-05, elementwise_affine=True)\n              (dropout): Dropout(p=0.1, inplace=False)\n            )\n          )\n          (8): RobertaLayer(\n            (attention): RobertaAttention(\n              (self): RobertaSelfAttention(\n                (query): Linear(in_features=768, out_features=768, bias=True)\n                (key): Linear(in_features=768, out_features=768, bias=True)\n                (value): Linear(in_features=768, out_features=768, bias=True)\n                (dropout): Dropout(p=0.1, inplace=False)\n              )\n              (output): RobertaSelfOutput(\n                (dense): Linear(in_features=768, out_features=768, bias=True)\n                (LayerNorm): LayerNorm((768,), eps=1e-05, elementwise_affine=True)\n                (dropout): Dropout(p=0.1, inplace=False)\n              )\n            )\n            (intermediate): RobertaIntermediate(\n              (dense): Linear(in_features=768, out_features=3072, bias=True)\n              (intermediate_act_fn): GELUActivation()\n            )\n            (output): RobertaOutput(\n              (dense): Linear(in_features=3072, out_features=768, bias=True)\n              (LayerNorm): LayerNorm((768,), eps=1e-05, elementwise_affine=True)\n              (dropout): Dropout(p=0.1, inplace=False)\n            )\n          )\n          (9): RobertaLayer(\n            (attention): RobertaAttention(\n              (self): RobertaSelfAttention(\n                (query): Linear(in_features=768, out_features=768, bias=True)\n                (key): Linear(in_features=768, out_features=768, bias=True)\n                (value): Linear(in_features=768, out_features=768, bias=True)\n                (dropout): Dropout(p=0.1, inplace=False)\n              )\n              (output): RobertaSelfOutput(\n                (dense): Linear(in_features=768, out_features=768, bias=True)\n                (LayerNorm): LayerNorm((768,), eps=1e-05, elementwise_affine=True)\n                (dropout): Dropout(p=0.1, inplace=False)\n              )\n            )\n            (intermediate): RobertaIntermediate(\n              (dense): Linear(in_features=768, out_features=3072, bias=True)\n              (intermediate_act_fn): GELUActivation()\n            )\n            (output): RobertaOutput(\n              (dense): Linear(in_features=3072, out_features=768, bias=True)\n              (LayerNorm): LayerNorm((768,), eps=1e-05, elementwise_affine=True)\n              (dropout): Dropout(p=0.1, inplace=False)\n            )\n          )\n          (10): RobertaLayer(\n            (attention): RobertaAttention(\n              (self): RobertaSelfAttention(\n                (query): Linear(in_features=768, out_features=768, bias=True)\n                (key): Linear(in_features=768, out_features=768, bias=True)\n                (value): Linear(in_features=768, out_features=768, bias=True)\n                (dropout): Dropout(p=0.1, inplace=False)\n              )\n              (output): RobertaSelfOutput(\n                (dense): Linear(in_features=768, out_features=768, bias=True)\n                (LayerNorm): LayerNorm((768,), eps=1e-05, elementwise_affine=True)\n                (dropout): Dropout(p=0.1, inplace=False)\n              )\n            )\n            (intermediate): RobertaIntermediate(\n              (dense): Linear(in_features=768, out_features=3072, bias=True)\n              (intermediate_act_fn): GELUActivation()\n            )\n            (output): RobertaOutput(\n              (dense): Linear(in_features=3072, out_features=768, bias=True)\n              (LayerNorm): LayerNorm((768,), eps=1e-05, elementwise_affine=True)\n              (dropout): Dropout(p=0.1, inplace=False)\n            )\n          )\n          (11): RobertaLayer(\n            (attention): RobertaAttention(\n              (self): RobertaSelfAttention(\n                (query): Linear(in_features=768, out_features=768, bias=True)\n                (key): Linear(in_features=768, out_features=768, bias=True)\n                (value): Linear(in_features=768, out_features=768, bias=True)\n                (dropout): Dropout(p=0.1, inplace=False)\n              )\n              (output): RobertaSelfOutput(\n                (dense): Linear(in_features=768, out_features=768, bias=True)\n                (LayerNorm): LayerNorm((768,), eps=1e-05, elementwise_affine=True)\n                (dropout): Dropout(p=0.1, inplace=False)\n              )\n            )\n            (intermediate): RobertaIntermediate(\n              (dense): Linear(in_features=768, out_features=3072, bias=True)\n              (intermediate_act_fn): GELUActivation()\n            )\n            (output): RobertaOutput(\n              (dense): Linear(in_features=3072, out_features=768, bias=True)\n              (LayerNorm): LayerNorm((768,), eps=1e-05, elementwise_affine=True)\n              (dropout): Dropout(p=0.1, inplace=False)\n            )\n          )\n        )\n      )\n    )\n    (classifier): RobertaClassificationHead(\n      (dense): Linear(in_features=768, out_features=768, bias=True)\n      (dropout): Dropout(p=0.1, inplace=False)\n      (out_proj): Linear(in_features=768, out_features=3, bias=True)\n    )\n  )\n)"
     },
     "execution_count": 8,
     "metadata": {},
     "output_type": "execute_result"
    }
   ],
   "source": [
    "model.to(device)"
   ],
   "metadata": {
    "collapsed": false,
    "pycharm": {
     "name": "#%%\n"
    }
   }
  },
  {
   "cell_type": "markdown",
   "source": [
    "## 4. Loading data from DB & predicting sentiment"
   ],
   "metadata": {
    "collapsed": false,
    "pycharm": {
     "name": "#%% md\n"
    }
   }
  },
  {
   "cell_type": "code",
   "execution_count": 9,
   "outputs": [],
   "source": [
    "df = pd.read_sql(\"\"\"\n",
    "SELECT created_at, post, stock_symbol\n",
    "FROM r_wallstreetbets_stock_symbols\n",
    "WHERE 'AMC' = ANY(stock_symbol)\n",
    "ORDER BY 2\n",
    "\"\"\", cnx)"
   ],
   "metadata": {
    "collapsed": false,
    "pycharm": {
     "name": "#%%\n"
    }
   }
  },
  {
   "cell_type": "code",
   "execution_count": 10,
   "outputs": [],
   "source": [
    "# Function to predict sentiment scores for a single post\n",
    "def predict_sentiment(df):\n",
    "\n",
    "    tokens = tokenizer.encode_plus(\n",
    "        df[\"post\"],\n",
    "        add_special_tokens=True,\n",
    "        max_length=256,\n",
    "        padding='max_length',\n",
    "        return_token_type_ids=True,\n",
    "        truncation=True,\n",
    "        return_attention_mask=True,\n",
    "        return_tensors='pt'\n",
    "    )\n",
    "\n",
    "    input_ids = tokens['input_ids'].to(device)\n",
    "    attention_mask = tokens['attention_mask'].to(device)\n",
    "    token_type_ids = tokens[\"token_type_ids\"].to(device)\n",
    "\n",
    "    # Set model in evaluation mode before prediction\n",
    "    model.eval()\n",
    "\n",
    "    # Disable gradient calculations\n",
    "    with torch.no_grad():\n",
    "        outputs = model(input_ids, attention_mask, token_type_ids)\n",
    "        probabilities = F.softmax(outputs.logits, dim=1)\n",
    "\n",
    "    return pd.Series([probabilities[0].cpu().numpy()[0], probabilities[0].cpu().numpy()[1], probabilities[0].cpu().numpy()[2]], index=[\"Negative\", \"Neutral\", \"Positive\"])"
   ],
   "metadata": {
    "collapsed": false,
    "pycharm": {
     "name": "#%%\n"
    }
   }
  },
  {
   "cell_type": "code",
   "execution_count": 11,
   "outputs": [],
   "source": [
    "tqdm.pandas()"
   ],
   "metadata": {
    "collapsed": false,
    "pycharm": {
     "name": "#%%\n"
    }
   }
  },
  {
   "cell_type": "code",
   "execution_count": 12,
   "outputs": [
    {
     "name": "stderr",
     "output_type": "stream",
     "text": [
      "100%|██████████| 125876/125876 [21:56<00:00, 95.58it/s]\n"
     ]
    }
   ],
   "source": [
    "df[['Negative','Neutral','Positive']] = df.progress_apply(lambda x: predict_sentiment(x), axis=1)"
   ],
   "metadata": {
    "collapsed": false,
    "pycharm": {
     "name": "#%%\n"
    }
   }
  },
  {
   "cell_type": "code",
   "execution_count": 13,
   "outputs": [],
   "source": [
    "df.to_csv(\"../../data/sentiment_analysis_predictions/AMC.csv\", index = False)"
   ],
   "metadata": {
    "collapsed": false,
    "pycharm": {
     "name": "#%%\n"
    }
   }
  },
  {
   "cell_type": "code",
   "execution_count": 16,
   "outputs": [],
   "source": [],
   "metadata": {
    "collapsed": false,
    "pycharm": {
     "name": "#%%\n"
    }
   }
  },
  {
   "cell_type": "code",
   "execution_count": 16,
   "outputs": [],
   "source": [],
   "metadata": {
    "collapsed": false,
    "pycharm": {
     "name": "#%%\n"
    }
   }
  },
  {
   "cell_type": "code",
   "execution_count": 16,
   "outputs": [],
   "source": [],
   "metadata": {
    "collapsed": false,
    "pycharm": {
     "name": "#%%\n"
    }
   }
  },
  {
   "cell_type": "code",
   "execution_count": 16,
   "outputs": [],
   "source": [],
   "metadata": {
    "collapsed": false,
    "pycharm": {
     "name": "#%%\n"
    }
   }
  },
  {
   "cell_type": "code",
   "execution_count": 16,
   "outputs": [],
   "source": [],
   "metadata": {
    "collapsed": false,
    "pycharm": {
     "name": "#%%\n"
    }
   }
  },
  {
   "cell_type": "code",
   "execution_count": 14,
   "outputs": [],
   "source": [
    "df_test = pd.read_csv(\"../../data/sentiment_analysis_predictions/AMC.csv\")"
   ],
   "metadata": {
    "collapsed": false,
    "pycharm": {
     "name": "#%%\n"
    }
   }
  },
  {
   "cell_type": "code",
   "execution_count": 15,
   "outputs": [
    {
     "data": {
      "text/plain": "                 created_at  \\\n0       2021-06-01 13:43:45   \n1       2021-06-02 21:20:19   \n2       2021-06-02 21:04:52   \n3       2021-05-27 19:03:00   \n4       2021-06-02 21:07:46   \n...                     ...   \n125871  2021-07-22 02:21:30   \n125872  2021-06-07 11:14:43   \n125873  2021-05-29 22:12:14   \n125874  2021-06-03 23:00:11   \n125875  2021-12-10 18:13:13   \n\n                                                     post    stock_symbol  \\\n0       ''Today, we announced ***selling*** 8.5 millio...         ['AMC']   \n1       ''What's the exit strategy for AMC &amp; BB ?'...         ['AMC']   \n2                 ''What's the exit strategy for AMC ?''          ['AMC']   \n3       ''What's the exit strategy for AMC ?'' &amp;#x...         ['AMC']   \n4       ''What's the exit strategy for AMC ?'' I have ...         ['AMC']   \n...                                                   ...             ...   \n125871                                          🦥🦥🦥💎 AMC          ['AMC']   \n125872  🦧 LoL -Some on Wall Street try options trade t...         ['AMC']   \n125873  🦧🦧 I am heaviest right now in AMC but I will b...  ['AMC', 'GME']   \n125874                                           🦧🦧🦧🦧 AMC         ['AMC']   \n125875  🧻✋🏾 my AMC 32 puts earlier this week for a mea...         ['AMC']   \n\n        Negative   Neutral  Positive  \n0       0.076889  0.921566  0.001545  \n1       0.001541  0.996695  0.001764  \n2       0.004683  0.994740  0.000578  \n3       0.001751  0.996623  0.001626  \n4       0.002554  0.996377  0.001069  \n...          ...       ...       ...  \n125871  0.001373  0.900091  0.098537  \n125872  0.067654  0.929924  0.002422  \n125873  0.121967  0.816447  0.061587  \n125874  0.001693  0.989049  0.009259  \n125875  0.998312  0.000692  0.000996  \n\n[125876 rows x 6 columns]",
      "text/html": "<div>\n<style scoped>\n    .dataframe tbody tr th:only-of-type {\n        vertical-align: middle;\n    }\n\n    .dataframe tbody tr th {\n        vertical-align: top;\n    }\n\n    .dataframe thead th {\n        text-align: right;\n    }\n</style>\n<table border=\"1\" class=\"dataframe\">\n  <thead>\n    <tr style=\"text-align: right;\">\n      <th></th>\n      <th>created_at</th>\n      <th>post</th>\n      <th>stock_symbol</th>\n      <th>Negative</th>\n      <th>Neutral</th>\n      <th>Positive</th>\n    </tr>\n  </thead>\n  <tbody>\n    <tr>\n      <th>0</th>\n      <td>2021-06-01 13:43:45</td>\n      <td>''Today, we announced ***selling*** 8.5 millio...</td>\n      <td>['AMC']</td>\n      <td>0.076889</td>\n      <td>0.921566</td>\n      <td>0.001545</td>\n    </tr>\n    <tr>\n      <th>1</th>\n      <td>2021-06-02 21:20:19</td>\n      <td>''What's the exit strategy for AMC &amp;amp; BB ?'...</td>\n      <td>['AMC']</td>\n      <td>0.001541</td>\n      <td>0.996695</td>\n      <td>0.001764</td>\n    </tr>\n    <tr>\n      <th>2</th>\n      <td>2021-06-02 21:04:52</td>\n      <td>''What's the exit strategy for AMC ?''</td>\n      <td>['AMC']</td>\n      <td>0.004683</td>\n      <td>0.994740</td>\n      <td>0.000578</td>\n    </tr>\n    <tr>\n      <th>3</th>\n      <td>2021-05-27 19:03:00</td>\n      <td>''What's the exit strategy for AMC ?'' &amp;amp;#x...</td>\n      <td>['AMC']</td>\n      <td>0.001751</td>\n      <td>0.996623</td>\n      <td>0.001626</td>\n    </tr>\n    <tr>\n      <th>4</th>\n      <td>2021-06-02 21:07:46</td>\n      <td>''What's the exit strategy for AMC ?'' I have ...</td>\n      <td>['AMC']</td>\n      <td>0.002554</td>\n      <td>0.996377</td>\n      <td>0.001069</td>\n    </tr>\n    <tr>\n      <th>...</th>\n      <td>...</td>\n      <td>...</td>\n      <td>...</td>\n      <td>...</td>\n      <td>...</td>\n      <td>...</td>\n    </tr>\n    <tr>\n      <th>125871</th>\n      <td>2021-07-22 02:21:30</td>\n      <td>🦥🦥🦥💎 AMC</td>\n      <td>['AMC']</td>\n      <td>0.001373</td>\n      <td>0.900091</td>\n      <td>0.098537</td>\n    </tr>\n    <tr>\n      <th>125872</th>\n      <td>2021-06-07 11:14:43</td>\n      <td>🦧 LoL -Some on Wall Street try options trade t...</td>\n      <td>['AMC']</td>\n      <td>0.067654</td>\n      <td>0.929924</td>\n      <td>0.002422</td>\n    </tr>\n    <tr>\n      <th>125873</th>\n      <td>2021-05-29 22:12:14</td>\n      <td>🦧🦧 I am heaviest right now in AMC but I will b...</td>\n      <td>['AMC', 'GME']</td>\n      <td>0.121967</td>\n      <td>0.816447</td>\n      <td>0.061587</td>\n    </tr>\n    <tr>\n      <th>125874</th>\n      <td>2021-06-03 23:00:11</td>\n      <td>🦧🦧🦧🦧 AMC</td>\n      <td>['AMC']</td>\n      <td>0.001693</td>\n      <td>0.989049</td>\n      <td>0.009259</td>\n    </tr>\n    <tr>\n      <th>125875</th>\n      <td>2021-12-10 18:13:13</td>\n      <td>🧻✋🏾 my AMC 32 puts earlier this week for a mea...</td>\n      <td>['AMC']</td>\n      <td>0.998312</td>\n      <td>0.000692</td>\n      <td>0.000996</td>\n    </tr>\n  </tbody>\n</table>\n<p>125876 rows × 6 columns</p>\n</div>"
     },
     "execution_count": 15,
     "metadata": {},
     "output_type": "execute_result"
    }
   ],
   "source": [
    "df_test"
   ],
   "metadata": {
    "collapsed": false,
    "pycharm": {
     "name": "#%%\n"
    }
   }
  },
  {
   "cell_type": "code",
   "execution_count": 16,
   "outputs": [
    {
     "data": {
      "text/plain": "                 created_at  \\\n0       2021-06-01 13:43:45   \n1       2021-06-02 21:20:19   \n2       2021-06-02 21:04:52   \n3       2021-05-27 19:03:00   \n4       2021-06-02 21:07:46   \n...                     ...   \n125871  2021-07-22 02:21:30   \n125872  2021-06-07 11:14:43   \n125873  2021-05-29 22:12:14   \n125874  2021-06-03 23:00:11   \n125875  2021-12-10 18:13:13   \n\n                                                     post    stock_symbol  \\\n0       ''Today, we announced ***selling*** 8.5 millio...         ['AMC']   \n1       ''What's the exit strategy for AMC &amp; BB ?'...         ['AMC']   \n2                 ''What's the exit strategy for AMC ?''          ['AMC']   \n3       ''What's the exit strategy for AMC ?'' &amp;#x...         ['AMC']   \n4       ''What's the exit strategy for AMC ?'' I have ...         ['AMC']   \n...                                                   ...             ...   \n125871                                          🦥🦥🦥💎 AMC          ['AMC']   \n125872  🦧 LoL -Some on Wall Street try options trade t...         ['AMC']   \n125873  🦧🦧 I am heaviest right now in AMC but I will b...  ['AMC', 'GME']   \n125874                                           🦧🦧🦧🦧 AMC         ['AMC']   \n125875  🧻✋🏾 my AMC 32 puts earlier this week for a mea...         ['AMC']   \n\n        Negative   Neutral  Positive  \n0       0.076889  0.921566  0.001545  \n1       0.001541  0.996695  0.001764  \n2       0.004683  0.994740  0.000578  \n3       0.001751  0.996623  0.001626  \n4       0.002554  0.996377  0.001069  \n...          ...       ...       ...  \n125871  0.001373  0.900091  0.098537  \n125872  0.067654  0.929924  0.002422  \n125873  0.121967  0.816447  0.061587  \n125874  0.001693  0.989049  0.009259  \n125875  0.998312  0.000692  0.000996  \n\n[125876 rows x 6 columns]",
      "text/html": "<div>\n<style scoped>\n    .dataframe tbody tr th:only-of-type {\n        vertical-align: middle;\n    }\n\n    .dataframe tbody tr th {\n        vertical-align: top;\n    }\n\n    .dataframe thead th {\n        text-align: right;\n    }\n</style>\n<table border=\"1\" class=\"dataframe\">\n  <thead>\n    <tr style=\"text-align: right;\">\n      <th></th>\n      <th>created_at</th>\n      <th>post</th>\n      <th>stock_symbol</th>\n      <th>Negative</th>\n      <th>Neutral</th>\n      <th>Positive</th>\n    </tr>\n  </thead>\n  <tbody>\n    <tr>\n      <th>0</th>\n      <td>2021-06-01 13:43:45</td>\n      <td>''Today, we announced ***selling*** 8.5 millio...</td>\n      <td>['AMC']</td>\n      <td>0.076889</td>\n      <td>0.921566</td>\n      <td>0.001545</td>\n    </tr>\n    <tr>\n      <th>1</th>\n      <td>2021-06-02 21:20:19</td>\n      <td>''What's the exit strategy for AMC &amp;amp; BB ?'...</td>\n      <td>['AMC']</td>\n      <td>0.001541</td>\n      <td>0.996695</td>\n      <td>0.001764</td>\n    </tr>\n    <tr>\n      <th>2</th>\n      <td>2021-06-02 21:04:52</td>\n      <td>''What's the exit strategy for AMC ?''</td>\n      <td>['AMC']</td>\n      <td>0.004683</td>\n      <td>0.994740</td>\n      <td>0.000578</td>\n    </tr>\n    <tr>\n      <th>3</th>\n      <td>2021-05-27 19:03:00</td>\n      <td>''What's the exit strategy for AMC ?'' &amp;amp;#x...</td>\n      <td>['AMC']</td>\n      <td>0.001751</td>\n      <td>0.996623</td>\n      <td>0.001626</td>\n    </tr>\n    <tr>\n      <th>4</th>\n      <td>2021-06-02 21:07:46</td>\n      <td>''What's the exit strategy for AMC ?'' I have ...</td>\n      <td>['AMC']</td>\n      <td>0.002554</td>\n      <td>0.996377</td>\n      <td>0.001069</td>\n    </tr>\n    <tr>\n      <th>...</th>\n      <td>...</td>\n      <td>...</td>\n      <td>...</td>\n      <td>...</td>\n      <td>...</td>\n      <td>...</td>\n    </tr>\n    <tr>\n      <th>125871</th>\n      <td>2021-07-22 02:21:30</td>\n      <td>🦥🦥🦥💎 AMC</td>\n      <td>['AMC']</td>\n      <td>0.001373</td>\n      <td>0.900091</td>\n      <td>0.098537</td>\n    </tr>\n    <tr>\n      <th>125872</th>\n      <td>2021-06-07 11:14:43</td>\n      <td>🦧 LoL -Some on Wall Street try options trade t...</td>\n      <td>['AMC']</td>\n      <td>0.067654</td>\n      <td>0.929924</td>\n      <td>0.002422</td>\n    </tr>\n    <tr>\n      <th>125873</th>\n      <td>2021-05-29 22:12:14</td>\n      <td>🦧🦧 I am heaviest right now in AMC but I will b...</td>\n      <td>['AMC', 'GME']</td>\n      <td>0.121967</td>\n      <td>0.816447</td>\n      <td>0.061587</td>\n    </tr>\n    <tr>\n      <th>125874</th>\n      <td>2021-06-03 23:00:11</td>\n      <td>🦧🦧🦧🦧 AMC</td>\n      <td>['AMC']</td>\n      <td>0.001693</td>\n      <td>0.989049</td>\n      <td>0.009259</td>\n    </tr>\n    <tr>\n      <th>125875</th>\n      <td>2021-12-10 18:13:13</td>\n      <td>🧻✋🏾 my AMC 32 puts earlier this week for a mea...</td>\n      <td>['AMC']</td>\n      <td>0.998312</td>\n      <td>0.000692</td>\n      <td>0.000996</td>\n    </tr>\n  </tbody>\n</table>\n<p>125876 rows × 6 columns</p>\n</div>"
     },
     "execution_count": 16,
     "metadata": {},
     "output_type": "execute_result"
    }
   ],
   "source": [
    "df_test"
   ],
   "metadata": {
    "collapsed": false,
    "pycharm": {
     "name": "#%%\n"
    }
   }
  },
  {
   "cell_type": "code",
   "execution_count": null,
   "outputs": [],
   "source": [],
   "metadata": {
    "collapsed": false,
    "pycharm": {
     "name": "#%%\n"
    }
   }
  }
 ],
 "metadata": {
  "kernelspec": {
   "name": "thesis",
   "language": "python",
   "display_name": "thesis"
  },
  "language_info": {
   "codemirror_mode": {
    "name": "ipython",
    "version": 2
   },
   "file_extension": ".py",
   "mimetype": "text/x-python",
   "name": "python",
   "nbconvert_exporter": "python",
   "pygments_lexer": "ipython2",
   "version": "2.7.6"
  }
 },
 "nbformat": 4,
 "nbformat_minor": 0
}