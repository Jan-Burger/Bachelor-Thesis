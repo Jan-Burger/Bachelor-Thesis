{
 "cells": [
  {
   "cell_type": "markdown",
   "source": [
    "## 1. Imports"
   ],
   "metadata": {
    "collapsed": false
   }
  },
  {
   "cell_type": "code",
   "execution_count": 1,
   "outputs": [],
   "source": [
    "import wandb\n",
    "import copy\n",
    "import torch\n",
    "import json\n",
    "import tqdm\n",
    "import yaml\n",
    "import pandas as pd\n",
    "import numpy as np\n",
    "import seaborn as sns\n",
    "import torch.nn.functional as F\n",
    "import matplotlib.pyplot as plt\n",
    "from sqlalchemy import  create_engine\n",
    "from torch.utils.data import DataLoader\n",
    "from transformers import AutoTokenizer, AutoModelForSequenceClassification\n",
    "from pytorch_datasets import SentimentAnalysisDataset, DatasetType\n",
    "from sklearn.metrics import precision_score, recall_score, f1_score, confusion_matrix\n",
    "# quickly check model state dict before and after loading from file\n",
    "# check size of output and shape\n",
    "# save results to csv after prediction"
   ],
   "metadata": {
    "collapsed": false,
    "pycharm": {
     "name": "#%%\n"
    }
   }
  },
  {
   "cell_type": "markdown",
   "source": [
    "## 2. Database configuration & Model config"
   ],
   "metadata": {
    "collapsed": false
   }
  },
  {
   "cell_type": "code",
   "execution_count": 2,
   "outputs": [],
   "source": [
    "# Reading form config.yaml\"\n",
    "with open(\"../../config.yaml\", \"r\") as yamlconfig:\n",
    "    config = yaml.load(yamlconfig, Loader=yaml.FullLoader)\n",
    "\n",
    "# Create postgres string with db-config\n",
    "postgres_username = config[\"db_config\"][\"postgres_username\"]\n",
    "postgres_password = config[\"db_config\"][\"postgres_password\"]\n",
    "postgres_address = config[\"db_config\"][\"postgres_address\"]\n",
    "postgres_port = config[\"db_config\"][\"postgres_port\"]\n",
    "postgres_dbname = config[\"db_config\"][\"postgres_dbname\"]\n",
    "\n",
    "postgres_str = f\"postgresql://{postgres_username}:{postgres_password}@{postgres_address}:{postgres_port}/{postgres_dbname}\"\n",
    "\n",
    "# create db connection with sqlalchemy\n",
    "cnx = create_engine(postgres_str)"
   ],
   "metadata": {
    "collapsed": false,
    "pycharm": {
     "name": "#%%\n"
    }
   }
  },
  {
   "cell_type": "code",
   "execution_count": 3,
   "outputs": [
    {
     "name": "stderr",
     "output_type": "stream",
     "text": [
      "Some weights of the model checkpoint at cardiffnlp/twitter-roberta-base-sentiment-latest were not used when initializing RobertaForSequenceClassification: ['roberta.pooler.dense.bias', 'roberta.pooler.dense.weight']\n",
      "- This IS expected if you are initializing RobertaForSequenceClassification from the checkpoint of a model trained on another task or with another architecture (e.g. initializing a BertForSequenceClassification model from a BertForPreTraining model).\n",
      "- This IS NOT expected if you are initializing RobertaForSequenceClassification from the checkpoint of a model that you expect to be exactly identical (initializing a BertForSequenceClassification model from a BertForSequenceClassification model).\n"
     ]
    }
   ],
   "source": [
    "model_name_huggingface = \"cardiffnlp/twitter-roberta-base-sentiment-latest\"\n",
    "tokenizer = AutoTokenizer.from_pretrained(model_name_huggingface)\n",
    "huggingface_model = AutoModelForSequenceClassification.from_pretrained(model_name_huggingface, return_dict=True)"
   ],
   "metadata": {
    "collapsed": false,
    "pycharm": {
     "name": "#%%\n"
    }
   }
  },
  {
   "cell_type": "markdown",
   "source": [
    "## 3. Setup model"
   ],
   "metadata": {
    "collapsed": false,
    "pycharm": {
     "name": "#%% md\n"
    }
   }
  },
  {
   "cell_type": "code",
   "execution_count": 4,
   "outputs": [],
   "source": [
    "class SentimentAnalysisModel(torch.nn.Module):\n",
    "    def __init__(self, pretrained_model):\n",
    "        super(SentimentAnalysisModel, self).__init__()\n",
    "        self.pretrained_model = pretrained_model\n",
    "\n",
    "    def forward(self, input_ids, attn_mask, token_type_ids):\n",
    "        output = self.pretrained_model(\n",
    "            input_ids,\n",
    "            attention_mask=attn_mask,\n",
    "            token_type_ids=token_type_ids\n",
    "        )\n",
    "        return output\n",
    "\n",
    "model = SentimentAnalysisModel(huggingface_model)"
   ],
   "metadata": {
    "collapsed": false,
    "pycharm": {
     "name": "#%%\n"
    }
   }
  },
  {
   "cell_type": "code",
   "execution_count": 5,
   "outputs": [],
   "source": [
    "# load best model\n",
    "best_model_state = torch.load(\"../../models/sentiment_analysis/cardiffnlp_twitter-roberta-base-sentiment-latest.pth\")"
   ],
   "metadata": {
    "collapsed": false,
    "pycharm": {
     "name": "#%%\n"
    }
   }
  },
  {
   "cell_type": "code",
   "execution_count": 6,
   "outputs": [
    {
     "data": {
      "text/plain": "<All keys matched successfully>"
     },
     "execution_count": 6,
     "metadata": {},
     "output_type": "execute_result"
    }
   ],
   "source": [
    "model.load_state_dict(best_model_state[\"model_state_dict\"])"
   ],
   "metadata": {
    "collapsed": false,
    "pycharm": {
     "name": "#%%\n"
    }
   }
  },
  {
   "cell_type": "code",
   "execution_count": null,
   "outputs": [],
   "source": [
    "# Set model in evaluation mode before prediction\n",
    "model.eval()"
   ],
   "metadata": {
    "collapsed": false,
    "pycharm": {
     "name": "#%%\n"
    }
   }
  },
  {
   "cell_type": "code",
   "execution_count": 32,
   "outputs": [],
   "source": [
    "tokens = tokenizer.encode_plus(\n",
    "    \"This stock goes to the moon!\",\n",
    "    add_special_tokens=True,\n",
    "    max_length=256,\n",
    "    padding='max_length',\n",
    "    return_token_type_ids=True,\n",
    "    truncation=True,\n",
    "    return_attention_mask=True,\n",
    "    return_tensors='pt'\n",
    ")"
   ],
   "metadata": {
    "collapsed": false,
    "pycharm": {
     "name": "#%%\n"
    }
   }
  },
  {
   "cell_type": "code",
   "execution_count": 33,
   "outputs": [],
   "source": [
    "input_ids = tokens['input_ids']\n",
    "attention_mask = tokens['attention_mask']\n",
    "token_type_ids = tokens[\"token_type_ids\"]"
   ],
   "metadata": {
    "collapsed": false,
    "pycharm": {
     "name": "#%%\n"
    }
   }
  },
  {
   "cell_type": "code",
   "execution_count": 34,
   "outputs": [],
   "source": [
    "outputs = model(input_ids, attention_mask, token_type_ids)"
   ],
   "metadata": {
    "collapsed": false,
    "pycharm": {
     "name": "#%%\n"
    }
   }
  },
  {
   "cell_type": "code",
   "execution_count": 35,
   "outputs": [],
   "source": [
    "probabilities = F.softmax(outputs.logits, dim=1)"
   ],
   "metadata": {
    "collapsed": false,
    "pycharm": {
     "name": "#%%\n"
    }
   }
  },
  {
   "cell_type": "code",
   "execution_count": 36,
   "outputs": [
    {
     "data": {
      "text/plain": "tensor([[8.2851e-04, 2.6224e-04, 9.9891e-01]], grad_fn=<SoftmaxBackward0>)"
     },
     "execution_count": 36,
     "metadata": {},
     "output_type": "execute_result"
    }
   ],
   "source": [
    "probabilities"
   ],
   "metadata": {
    "collapsed": false,
    "pycharm": {
     "name": "#%%\n"
    }
   }
  },
  {
   "cell_type": "code",
   "execution_count": 39,
   "outputs": [
    {
     "data": {
      "text/plain": "False"
     },
     "execution_count": 39,
     "metadata": {},
     "output_type": "execute_result"
    }
   ],
   "source": [
    "model.training"
   ],
   "metadata": {
    "collapsed": false,
    "pycharm": {
     "name": "#%%\n"
    }
   }
  },
  {
   "cell_type": "markdown",
   "source": [
    "## 4. Loading data from DB"
   ],
   "metadata": {
    "collapsed": false,
    "pycharm": {
     "name": "#%% md\n"
    }
   }
  },
  {
   "cell_type": "code",
   "execution_count": 8,
   "outputs": [],
   "source": [
    "df = pd.read_sql(\"\"\"\n",
    "SELECT created_at, post, stock_symbol\n",
    "FROM r_wallstreetbets_stock_symbols\n",
    "WHERE 'GME' = ANY(stock_symbol)\n",
    "ORDER BY 2\n",
    "\"\"\", cnx)"
   ],
   "metadata": {
    "collapsed": false,
    "pycharm": {
     "name": "#%%\n"
    }
   }
  },
  {
   "cell_type": "code",
   "execution_count": null,
   "outputs": [],
   "source": [
    "def predict_sentiment(post):\n",
    "\n",
    "    # Set model in evaluation mode before prediction & disable gradient calculation\n",
    "    model.eval()\n",
    "\n",
    "    with torch.no_grad():\n",
    "        pass"
   ],
   "metadata": {
    "collapsed": false,
    "pycharm": {
     "name": "#%%\n"
    }
   }
  },
  {
   "cell_type": "code",
   "execution_count": 9,
   "outputs": [
    {
     "data": {
      "text/plain": "                created_at                                               post  \\\n0      2022-04-19 23:08:36  '$AMC and $GME to the moon! Ryan Cohen can now...   \n1      2022-03-18 03:43:36  'Do incredibly stupid things with your money l...   \n2      2021-09-07 05:54:00  'Everyone felt like it was spam'. Really. All ...   \n3      2021-12-31 02:54:19  'In seeking to answer this question, staff obs...   \n4      2022-01-22 13:54:42             'Injected with Hypeium' - GME Trailer    \n...                    ...                                                ...   \n144270 2021-05-29 22:12:14  🦧🦧 I am heaviest right now in AMC but I will b...   \n144271 2021-08-25 09:06:33  🧂🧂🧂 only way to lose on GME was to chase crazy...   \n144272 2022-01-07 14:15:34  🧙✨ A Pox upon your Stocks 🧙✨\\n\\n⸸⛧⛤Summoning G...   \n144273 2021-07-01 03:34:19                                  🧱 GME 💎🙌!!!!!!!!    \n144274 2021-05-30 22:00:57  🪦Ryan Cohen’s RC ventures and GME \\n\\nKeep it ...   \n\n       stock_symbol  \n0             [GME]  \n1             [GME]  \n2             [GME]  \n3             [GME]  \n4             [GME]  \n...             ...  \n144270   [AMC, GME]  \n144271        [GME]  \n144272     [GME, A]  \n144273        [GME]  \n144274    [RC, GME]  \n\n[144275 rows x 3 columns]",
      "text/html": "<div>\n<style scoped>\n    .dataframe tbody tr th:only-of-type {\n        vertical-align: middle;\n    }\n\n    .dataframe tbody tr th {\n        vertical-align: top;\n    }\n\n    .dataframe thead th {\n        text-align: right;\n    }\n</style>\n<table border=\"1\" class=\"dataframe\">\n  <thead>\n    <tr style=\"text-align: right;\">\n      <th></th>\n      <th>created_at</th>\n      <th>post</th>\n      <th>stock_symbol</th>\n    </tr>\n  </thead>\n  <tbody>\n    <tr>\n      <th>0</th>\n      <td>2022-04-19 23:08:36</td>\n      <td>'$AMC and $GME to the moon! Ryan Cohen can now...</td>\n      <td>[GME]</td>\n    </tr>\n    <tr>\n      <th>1</th>\n      <td>2022-03-18 03:43:36</td>\n      <td>'Do incredibly stupid things with your money l...</td>\n      <td>[GME]</td>\n    </tr>\n    <tr>\n      <th>2</th>\n      <td>2021-09-07 05:54:00</td>\n      <td>'Everyone felt like it was spam'. Really. All ...</td>\n      <td>[GME]</td>\n    </tr>\n    <tr>\n      <th>3</th>\n      <td>2021-12-31 02:54:19</td>\n      <td>'In seeking to answer this question, staff obs...</td>\n      <td>[GME]</td>\n    </tr>\n    <tr>\n      <th>4</th>\n      <td>2022-01-22 13:54:42</td>\n      <td>'Injected with Hypeium' - GME Trailer</td>\n      <td>[GME]</td>\n    </tr>\n    <tr>\n      <th>...</th>\n      <td>...</td>\n      <td>...</td>\n      <td>...</td>\n    </tr>\n    <tr>\n      <th>144270</th>\n      <td>2021-05-29 22:12:14</td>\n      <td>🦧🦧 I am heaviest right now in AMC but I will b...</td>\n      <td>[AMC, GME]</td>\n    </tr>\n    <tr>\n      <th>144271</th>\n      <td>2021-08-25 09:06:33</td>\n      <td>🧂🧂🧂 only way to lose on GME was to chase crazy...</td>\n      <td>[GME]</td>\n    </tr>\n    <tr>\n      <th>144272</th>\n      <td>2022-01-07 14:15:34</td>\n      <td>🧙✨ A Pox upon your Stocks 🧙✨\\n\\n⸸⛧⛤Summoning G...</td>\n      <td>[GME, A]</td>\n    </tr>\n    <tr>\n      <th>144273</th>\n      <td>2021-07-01 03:34:19</td>\n      <td>🧱 GME 💎🙌!!!!!!!!</td>\n      <td>[GME]</td>\n    </tr>\n    <tr>\n      <th>144274</th>\n      <td>2021-05-30 22:00:57</td>\n      <td>🪦Ryan Cohen’s RC ventures and GME \\n\\nKeep it ...</td>\n      <td>[RC, GME]</td>\n    </tr>\n  </tbody>\n</table>\n<p>144275 rows × 3 columns</p>\n</div>"
     },
     "execution_count": 9,
     "metadata": {},
     "output_type": "execute_result"
    }
   ],
   "source": [
    "df"
   ],
   "metadata": {
    "collapsed": false,
    "pycharm": {
     "name": "#%%\n"
    }
   }
  },
  {
   "cell_type": "code",
   "execution_count": 18,
   "outputs": [],
   "source": [
    "tokenizer = AutoTokenizer.from_pretrained(model_name)"
   ],
   "metadata": {
    "collapsed": false,
    "pycharm": {
     "name": "#%%\n"
    }
   }
  },
  {
   "cell_type": "code",
   "execution_count": 14,
   "outputs": [],
   "source": [
    "model = torch.load(\"../../models/sentiment_analysis/cardiffnlp_twitter-xlm-roberta-base-sentiment.pth\")"
   ],
   "metadata": {
    "collapsed": false,
    "pycharm": {
     "name": "#%%\n"
    }
   }
  },
  {
   "cell_type": "code",
   "execution_count": 16,
   "outputs": [
    {
     "ename": "AttributeError",
     "evalue": "'dict' object has no attribute 'state_dict'",
     "output_type": "error",
     "traceback": [
      "\u001B[1;31m---------------------------------------------------------------------------\u001B[0m",
      "\u001B[1;31mAttributeError\u001B[0m                            Traceback (most recent call last)",
      "Input \u001B[1;32mIn [16]\u001B[0m, in \u001B[0;36m<cell line: 1>\u001B[1;34m()\u001B[0m\n\u001B[1;32m----> 1\u001B[0m \u001B[43mmodel_state\u001B[49m\u001B[38;5;241;43m.\u001B[39;49m\u001B[43mstate_dict\u001B[49m()\n",
      "\u001B[1;31mAttributeError\u001B[0m: 'dict' object has no attribute 'state_dict'"
     ]
    }
   ],
   "source": [],
   "metadata": {
    "collapsed": false,
    "pycharm": {
     "name": "#%%\n"
    }
   }
  },
  {
   "cell_type": "code",
   "execution_count": null,
   "outputs": [],
   "source": [],
   "metadata": {
    "collapsed": false,
    "pycharm": {
     "name": "#%%\n"
    }
   }
  }
 ],
 "metadata": {
  "kernelspec": {
   "name": "thesis",
   "language": "python",
   "display_name": "thesis"
  },
  "language_info": {
   "codemirror_mode": {
    "name": "ipython",
    "version": 2
   },
   "file_extension": ".py",
   "mimetype": "text/x-python",
   "name": "python",
   "nbconvert_exporter": "python",
   "pygments_lexer": "ipython2",
   "version": "2.7.6"
  }
 },
 "nbformat": 4,
 "nbformat_minor": 0
}