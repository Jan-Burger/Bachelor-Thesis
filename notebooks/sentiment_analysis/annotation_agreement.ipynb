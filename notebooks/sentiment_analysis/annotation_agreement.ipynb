{
 "cells": [
  {
   "cell_type": "markdown",
   "source": [
    "## 1. Imports"
   ],
   "metadata": {
    "collapsed": false,
    "pycharm": {
     "name": "#%% md\n"
    }
   }
  },
  {
   "cell_type": "code",
   "execution_count": 12,
   "metadata": {
    "collapsed": true
   },
   "outputs": [],
   "source": [
    "import yaml\n",
    "import pandas as pd\n",
    "import numpy as np\n",
    "import pmaw\n",
    "import torch\n",
    "from sklearn.metrics import cohen_kappa_score, confusion_matrix\n",
    "from statistics import multimode, mode\n",
    "from collections import Counter\n",
    "from statsmodels.stats.inter_rater import fleiss_kappa\n",
    "import matplotlib.pyplot as plt\n",
    "import seaborn as sns"
   ]
  },
  {
   "cell_type": "code",
   "execution_count": 6,
   "outputs": [],
   "source": [
    "df = pd.read_excel(\"../../data/wsb_annotations/wsb_annotations_bitio.xlsx\", sheet_name=\"annotations_scale\")"
   ],
   "metadata": {
    "collapsed": false,
    "pycharm": {
     "name": "#%%\n"
    }
   }
  },
  {
   "cell_type": "code",
   "execution_count": 7,
   "outputs": [
    {
     "data": {
      "text/plain": "          id  User 1  User 2  User 3  User 4  User 5  \\\n0    h15nzwn       2       2       2       2       2   \n1    gyxowrt       2       2       2       2       2   \n2    h0cufvd       2       2       2       2       2   \n3    h16r93i       2       2       2       2       2   \n4    h1adyxq       1       2       1       2       2   \n..       ...     ...     ...     ...     ...     ...   \n178  gx0pu7v       2       2       2       2       2   \n179  gvgbq2j       0       0       0       2       0   \n180  h0g8s39       2       2       2       2       2   \n181  h12l678       1       1       1       0       0   \n182  gxzi5c5       1       0       1       2       2   \n\n                                                  post  Own annotation  \\\n0    \\n  \\nGentlemen, start your boners:\\n\\nBlackBe...               2   \n1    #It has come to my attention that $PLTR Nation...               2   \n2    #SNDL and TLRY for smooking weed on the moon 🚬...               2   \n3                                $63k in on WKHS calls               2   \n4                                         $CLF and $MT               1   \n..                                                 ...             ...   \n178  Woke up on the floor got up and I looked perfe...               2   \n179  Yeah, I was going to sell my UWMC for a L, but...               0   \n180  Yep, it’s cheap right now and we could see it ...               2   \n181  You didn’t know what a hedge fund was before G...               1   \n182                            👆 Found the TSLA holder               2   \n\n     Majority Vote  \n0                2  \n1                2  \n2                2  \n3                2  \n4                2  \n..             ...  \n178              2  \n179              0  \n180              2  \n181              1  \n182              1  \n\n[183 rows x 9 columns]",
      "text/html": "<div>\n<style scoped>\n    .dataframe tbody tr th:only-of-type {\n        vertical-align: middle;\n    }\n\n    .dataframe tbody tr th {\n        vertical-align: top;\n    }\n\n    .dataframe thead th {\n        text-align: right;\n    }\n</style>\n<table border=\"1\" class=\"dataframe\">\n  <thead>\n    <tr style=\"text-align: right;\">\n      <th></th>\n      <th>id</th>\n      <th>User 1</th>\n      <th>User 2</th>\n      <th>User 3</th>\n      <th>User 4</th>\n      <th>User 5</th>\n      <th>post</th>\n      <th>Own annotation</th>\n      <th>Majority Vote</th>\n    </tr>\n  </thead>\n  <tbody>\n    <tr>\n      <th>0</th>\n      <td>h15nzwn</td>\n      <td>2</td>\n      <td>2</td>\n      <td>2</td>\n      <td>2</td>\n      <td>2</td>\n      <td>\\n  \\nGentlemen, start your boners:\\n\\nBlackBe...</td>\n      <td>2</td>\n      <td>2</td>\n    </tr>\n    <tr>\n      <th>1</th>\n      <td>gyxowrt</td>\n      <td>2</td>\n      <td>2</td>\n      <td>2</td>\n      <td>2</td>\n      <td>2</td>\n      <td>#It has come to my attention that $PLTR Nation...</td>\n      <td>2</td>\n      <td>2</td>\n    </tr>\n    <tr>\n      <th>2</th>\n      <td>h0cufvd</td>\n      <td>2</td>\n      <td>2</td>\n      <td>2</td>\n      <td>2</td>\n      <td>2</td>\n      <td>#SNDL and TLRY for smooking weed on the moon 🚬...</td>\n      <td>2</td>\n      <td>2</td>\n    </tr>\n    <tr>\n      <th>3</th>\n      <td>h16r93i</td>\n      <td>2</td>\n      <td>2</td>\n      <td>2</td>\n      <td>2</td>\n      <td>2</td>\n      <td>$63k in on WKHS calls</td>\n      <td>2</td>\n      <td>2</td>\n    </tr>\n    <tr>\n      <th>4</th>\n      <td>h1adyxq</td>\n      <td>1</td>\n      <td>2</td>\n      <td>1</td>\n      <td>2</td>\n      <td>2</td>\n      <td>$CLF and $MT</td>\n      <td>1</td>\n      <td>2</td>\n    </tr>\n    <tr>\n      <th>...</th>\n      <td>...</td>\n      <td>...</td>\n      <td>...</td>\n      <td>...</td>\n      <td>...</td>\n      <td>...</td>\n      <td>...</td>\n      <td>...</td>\n      <td>...</td>\n    </tr>\n    <tr>\n      <th>178</th>\n      <td>gx0pu7v</td>\n      <td>2</td>\n      <td>2</td>\n      <td>2</td>\n      <td>2</td>\n      <td>2</td>\n      <td>Woke up on the floor got up and I looked perfe...</td>\n      <td>2</td>\n      <td>2</td>\n    </tr>\n    <tr>\n      <th>179</th>\n      <td>gvgbq2j</td>\n      <td>0</td>\n      <td>0</td>\n      <td>0</td>\n      <td>2</td>\n      <td>0</td>\n      <td>Yeah, I was going to sell my UWMC for a L, but...</td>\n      <td>0</td>\n      <td>0</td>\n    </tr>\n    <tr>\n      <th>180</th>\n      <td>h0g8s39</td>\n      <td>2</td>\n      <td>2</td>\n      <td>2</td>\n      <td>2</td>\n      <td>2</td>\n      <td>Yep, it’s cheap right now and we could see it ...</td>\n      <td>2</td>\n      <td>2</td>\n    </tr>\n    <tr>\n      <th>181</th>\n      <td>h12l678</td>\n      <td>1</td>\n      <td>1</td>\n      <td>1</td>\n      <td>0</td>\n      <td>0</td>\n      <td>You didn’t know what a hedge fund was before G...</td>\n      <td>1</td>\n      <td>1</td>\n    </tr>\n    <tr>\n      <th>182</th>\n      <td>gxzi5c5</td>\n      <td>1</td>\n      <td>0</td>\n      <td>1</td>\n      <td>2</td>\n      <td>2</td>\n      <td>👆 Found the TSLA holder</td>\n      <td>2</td>\n      <td>1</td>\n    </tr>\n  </tbody>\n</table>\n<p>183 rows × 9 columns</p>\n</div>"
     },
     "execution_count": 7,
     "metadata": {},
     "output_type": "execute_result"
    }
   ],
   "source": [
    "df"
   ],
   "metadata": {
    "collapsed": false,
    "pycharm": {
     "name": "#%%\n"
    }
   }
  },
  {
   "cell_type": "code",
   "execution_count": 8,
   "outputs": [],
   "source": [
    "# Create raw and normalized confusion matrices\n",
    "# True = majority vote\n",
    "# predicted = own annotation\n",
    "cm_raw = confusion_matrix(df[\"Majority Vote\"], df[\"Own annotation\"], labels=[0,1,2])\n",
    "#cm_normalized = np.round(cm_raw.astype('float') / cm_raw.sum(axis=1)[:, np.newaxis], decimals=2)"
   ],
   "metadata": {
    "collapsed": false,
    "pycharm": {
     "name": "#%%\n"
    }
   }
  },
  {
   "cell_type": "code",
   "execution_count": 9,
   "outputs": [
    {
     "data": {
      "text/plain": "array([[32,  6,  1],\n       [ 2, 34,  8],\n       [ 0, 14, 86]], dtype=int64)"
     },
     "execution_count": 9,
     "metadata": {},
     "output_type": "execute_result"
    }
   ],
   "source": [
    "cm_raw"
   ],
   "metadata": {
    "collapsed": false,
    "pycharm": {
     "name": "#%%\n"
    }
   }
  },
  {
   "cell_type": "code",
   "execution_count": 10,
   "outputs": [],
   "source": [
    "label_arrangement = [\"Negative\", \"Neutral\", \"Positive\"]"
   ],
   "metadata": {
    "collapsed": false,
    "pycharm": {
     "name": "#%%\n"
    }
   }
  },
  {
   "cell_type": "markdown",
   "source": [
    "### Plot confusion matrices micro averaged"
   ],
   "metadata": {
    "collapsed": false
   }
  },
  {
   "cell_type": "code",
   "execution_count": 14,
   "outputs": [
    {
     "data": {
      "text/plain": "<Figure size 576x360 with 2 Axes>",
      "image/png": "[encoded data removed]"
     },
     "metadata": {
      "needs_background": "light"
     },
     "output_type": "display_data"
    }
   ],
   "source": [
    "# Create confusion matrices with seaborn\n",
    "\n",
    "# Raw Confusion matrix\n",
    "df_cm_raw = pd.DataFrame(cm_raw, columns=label_arrangement, index=label_arrangement)\n",
    "df_cm_raw.index.name = \"Majority Vote Annotation\"\n",
    "df_cm_raw.columns.name = \"Own Annotation\"\n",
    "plt.figure(figsize=(8, 5))\n",
    "plt.title(f\"Confusion matrix inter-rater reliability\")\n",
    "plot_cm_raw = sns.heatmap(\n",
    "    df_cm_raw, cmap=\"Blues\", annot=True, annot_kws={\"size\": 14}, fmt=\"g\"\n",
    ")  # font size\n",
    "\n",
    "# Log raw confusion matrix to wandb\n",
    "#wandb.log({\"Confusion matrix - Raw\": wandb.Image(plot_cm_raw)})"
   ],
   "metadata": {
    "collapsed": false,
    "pycharm": {
     "name": "#%%\n"
    }
   }
  },
  {
   "cell_type": "code",
   "execution_count": 20,
   "outputs": [
    {
     "data": {
      "text/plain": "0.39421899728268983"
     },
     "execution_count": 20,
     "metadata": {},
     "output_type": "execute_result"
    }
   ],
   "source": [
    "p_e"
   ],
   "metadata": {
    "collapsed": false,
    "pycharm": {
     "name": "#%%\n"
    }
   }
  },
  {
   "cell_type": "code",
   "execution_count": 16,
   "outputs": [],
   "source": [
    "p_e =((39/183 )* (34/183)) + ((44/183) * (54/183)) + ((100/183) * (95/183))\n",
    "p_0 = 0.830601093"
   ],
   "metadata": {
    "collapsed": false,
    "pycharm": {
     "name": "#%%\n"
    }
   }
  },
  {
   "cell_type": "code",
   "execution_count": 17,
   "outputs": [
    {
     "data": {
      "text/plain": "0.7203627940788189"
     },
     "execution_count": 17,
     "metadata": {},
     "output_type": "execute_result"
    }
   ],
   "source": [
    "kappa = (p_0 - p_e) / (1 - p_e)\n",
    "kappa"
   ],
   "metadata": {
    "collapsed": false,
    "pycharm": {
     "name": "#%%\n"
    }
   }
  },
  {
   "cell_type": "code",
   "execution_count": 18,
   "outputs": [],
   "source": [
    "score = cohen_kappa_score(df[\"Majority Vote\"], df[\"Own annotation\"])"
   ],
   "metadata": {
    "collapsed": false,
    "pycharm": {
     "name": "#%%\n"
    }
   }
  },
  {
   "cell_type": "code",
   "execution_count": 19,
   "outputs": [
    {
     "data": {
      "text/plain": "0.7203627939074284"
     },
     "execution_count": 19,
     "metadata": {},
     "output_type": "execute_result"
    }
   ],
   "source": [
    "score"
   ],
   "metadata": {
    "collapsed": false,
    "pycharm": {
     "name": "#%%\n"
    }
   }
  },
  {
   "cell_type": "code",
   "execution_count": 21,
   "outputs": [
    {
     "data": {
      "text/plain": "152"
     },
     "execution_count": 21,
     "metadata": {},
     "output_type": "execute_result"
    }
   ],
   "source": [
    "86+34+32"
   ],
   "metadata": {
    "collapsed": false,
    "pycharm": {
     "name": "#%%\n"
    }
   }
  },
  {
   "cell_type": "markdown",
   "source": [
    "\n"
   ],
   "metadata": {
    "collapsed": false
   }
  },
  {
   "cell_type": "code",
   "execution_count": 6,
   "outputs": [],
   "source": [
    "def majority_vote(annotator_results_list: list):\n",
    "    return mode(annotator_results_list)\n"
   ],
   "metadata": {
    "collapsed": false,
    "pycharm": {
     "name": "#%%\n"
    }
   }
  },
  {
   "cell_type": "code",
   "execution_count": 7,
   "outputs": [],
   "source": [
    "annotators = [\"ben\", \"dliden\", \"doss\", \"jmo\", \"jmo2\"]"
   ],
   "metadata": {
    "collapsed": false,
    "pycharm": {
     "name": "#%%\n"
    }
   }
  },
  {
   "cell_type": "code",
   "execution_count": 8,
   "outputs": [],
   "source": [
    "df[\"majority vote\"] = df[annotators].apply(lambda x: majority_vote(x), axis=1)"
   ],
   "metadata": {
    "collapsed": false,
    "pycharm": {
     "name": "#%%\n"
    }
   }
  },
  {
   "cell_type": "code",
   "execution_count": 43,
   "outputs": [],
   "source": [
    "test_list = multimode([1,2,2,3,4,4,3])"
   ],
   "metadata": {
    "collapsed": false,
    "pycharm": {
     "name": "#%%\n"
    }
   }
  },
  {
   "cell_type": "code",
   "execution_count": 44,
   "outputs": [
    {
     "data": {
      "text/plain": "[2, 3, 4]"
     },
     "execution_count": 44,
     "metadata": {},
     "output_type": "execute_result"
    }
   ],
   "source": [
    "test_list"
   ],
   "metadata": {
    "collapsed": false,
    "pycharm": {
     "name": "#%%\n"
    }
   }
  },
  {
   "cell_type": "code",
   "execution_count": 39,
   "outputs": [],
   "source": [
    "data = Counter(test_list)"
   ],
   "metadata": {
    "collapsed": false,
    "pycharm": {
     "name": "#%%\n"
    }
   }
  },
  {
   "cell_type": "code",
   "execution_count": 41,
   "outputs": [
    {
     "data": {
      "text/plain": "[(2, 2)]"
     },
     "execution_count": 41,
     "metadata": {},
     "output_type": "execute_result"
    }
   ],
   "source": [
    "data.most_common(1)"
   ],
   "metadata": {
    "collapsed": false,
    "pycharm": {
     "name": "#%%\n"
    }
   }
  },
  {
   "cell_type": "code",
   "execution_count": 55,
   "outputs": [
    {
     "data": {
      "text/plain": "          id  ben  dliden  doss  jmo  jmo2  \\\n0    h15nzwn    1       1     1    1     1   \n1    gyxowrt    1       1     1    1     1   \n2    h0cufvd    1       1     1    1     1   \n3    h16r93i    1       1     1    1     1   \n4    h1adyxq    0       1     0    1     1   \n..       ...  ...     ...   ...  ...   ...   \n178  gx0pu7v    1       1     1    1     1   \n179  gvgbq2j   -1      -1    -1    1    -1   \n180  h0g8s39    1       1     1    1     1   \n181  h12l678    0       0     0   -1    -1   \n182  gxzi5c5    0      -1     0    1     1   \n\n                                                  post  Own annotation  \\\n0    \\n  \\nGentlemen, start your boners:\\n\\nBlackBe...             1.0   \n1    #It has come to my attention that $PLTR Nation...             1.0   \n2    #SNDL and TLRY for smooking weed on the moon 🚬...             1.0   \n3                                $63k in on WKHS calls             1.0   \n4                                         $CLF and $MT             0.0   \n..                                                 ...             ...   \n178  Woke up on the floor got up and I looked perfe...             1.0   \n179  Yeah, I was going to sell my UWMC for a L, but...            -1.0   \n180  Yep, it’s cheap right now and we could see it ...             1.0   \n181  You didn’t know what a hedge fund was before G...             0.0   \n182                            👆 Found the TSLA holder             1.0   \n\n     majority vote  \n0                1  \n1                1  \n2                1  \n3                1  \n4                1  \n..             ...  \n178              1  \n179             -1  \n180              1  \n181              0  \n182              0  \n\n[183 rows x 9 columns]",
      "text/html": "<div>\n<style scoped>\n    .dataframe tbody tr th:only-of-type {\n        vertical-align: middle;\n    }\n\n    .dataframe tbody tr th {\n        vertical-align: top;\n    }\n\n    .dataframe thead th {\n        text-align: right;\n    }\n</style>\n<table border=\"1\" class=\"dataframe\">\n  <thead>\n    <tr style=\"text-align: right;\">\n      <th></th>\n      <th>id</th>\n      <th>ben</th>\n      <th>dliden</th>\n      <th>doss</th>\n      <th>jmo</th>\n      <th>jmo2</th>\n      <th>post</th>\n      <th>Own annotation</th>\n      <th>majority vote</th>\n    </tr>\n  </thead>\n  <tbody>\n    <tr>\n      <th>0</th>\n      <td>h15nzwn</td>\n      <td>1</td>\n      <td>1</td>\n      <td>1</td>\n      <td>1</td>\n      <td>1</td>\n      <td>\\n  \\nGentlemen, start your boners:\\n\\nBlackBe...</td>\n      <td>1.0</td>\n      <td>1</td>\n    </tr>\n    <tr>\n      <th>1</th>\n      <td>gyxowrt</td>\n      <td>1</td>\n      <td>1</td>\n      <td>1</td>\n      <td>1</td>\n      <td>1</td>\n      <td>#It has come to my attention that $PLTR Nation...</td>\n      <td>1.0</td>\n      <td>1</td>\n    </tr>\n    <tr>\n      <th>2</th>\n      <td>h0cufvd</td>\n      <td>1</td>\n      <td>1</td>\n      <td>1</td>\n      <td>1</td>\n      <td>1</td>\n      <td>#SNDL and TLRY for smooking weed on the moon 🚬...</td>\n      <td>1.0</td>\n      <td>1</td>\n    </tr>\n    <tr>\n      <th>3</th>\n      <td>h16r93i</td>\n      <td>1</td>\n      <td>1</td>\n      <td>1</td>\n      <td>1</td>\n      <td>1</td>\n      <td>$63k in on WKHS calls</td>\n      <td>1.0</td>\n      <td>1</td>\n    </tr>\n    <tr>\n      <th>4</th>\n      <td>h1adyxq</td>\n      <td>0</td>\n      <td>1</td>\n      <td>0</td>\n      <td>1</td>\n      <td>1</td>\n      <td>$CLF and $MT</td>\n      <td>0.0</td>\n      <td>1</td>\n    </tr>\n    <tr>\n      <th>...</th>\n      <td>...</td>\n      <td>...</td>\n      <td>...</td>\n      <td>...</td>\n      <td>...</td>\n      <td>...</td>\n      <td>...</td>\n      <td>...</td>\n      <td>...</td>\n    </tr>\n    <tr>\n      <th>178</th>\n      <td>gx0pu7v</td>\n      <td>1</td>\n      <td>1</td>\n      <td>1</td>\n      <td>1</td>\n      <td>1</td>\n      <td>Woke up on the floor got up and I looked perfe...</td>\n      <td>1.0</td>\n      <td>1</td>\n    </tr>\n    <tr>\n      <th>179</th>\n      <td>gvgbq2j</td>\n      <td>-1</td>\n      <td>-1</td>\n      <td>-1</td>\n      <td>1</td>\n      <td>-1</td>\n      <td>Yeah, I was going to sell my UWMC for a L, but...</td>\n      <td>-1.0</td>\n      <td>-1</td>\n    </tr>\n    <tr>\n      <th>180</th>\n      <td>h0g8s39</td>\n      <td>1</td>\n      <td>1</td>\n      <td>1</td>\n      <td>1</td>\n      <td>1</td>\n      <td>Yep, it’s cheap right now and we could see it ...</td>\n      <td>1.0</td>\n      <td>1</td>\n    </tr>\n    <tr>\n      <th>181</th>\n      <td>h12l678</td>\n      <td>0</td>\n      <td>0</td>\n      <td>0</td>\n      <td>-1</td>\n      <td>-1</td>\n      <td>You didn’t know what a hedge fund was before G...</td>\n      <td>0.0</td>\n      <td>0</td>\n    </tr>\n    <tr>\n      <th>182</th>\n      <td>gxzi5c5</td>\n      <td>0</td>\n      <td>-1</td>\n      <td>0</td>\n      <td>1</td>\n      <td>1</td>\n      <td>👆 Found the TSLA holder</td>\n      <td>1.0</td>\n      <td>0</td>\n    </tr>\n  </tbody>\n</table>\n<p>183 rows × 9 columns</p>\n</div>"
     },
     "execution_count": 55,
     "metadata": {},
     "output_type": "execute_result"
    }
   ],
   "source": [
    "df"
   ],
   "metadata": {
    "collapsed": false,
    "pycharm": {
     "name": "#%%\n"
    }
   }
  },
  {
   "cell_type": "code",
   "execution_count": 9,
   "outputs": [],
   "source": [
    "score = cohen_kappa_score(df[\"majority vote\"], df[\"Own annotation\"])"
   ],
   "metadata": {
    "collapsed": false,
    "pycharm": {
     "name": "#%%\n"
    }
   }
  },
  {
   "cell_type": "code",
   "execution_count": 10,
   "outputs": [
    {
     "data": {
      "text/plain": "0.7203627939074284"
     },
     "execution_count": 10,
     "metadata": {},
     "output_type": "execute_result"
    }
   ],
   "source": [
    "score"
   ],
   "metadata": {
    "collapsed": false,
    "pycharm": {
     "name": "#%%\n"
    }
   }
  },
  {
   "cell_type": "code",
   "execution_count": 11,
   "outputs": [
    {
     "ename": "AssertionError",
     "evalue": "",
     "output_type": "error",
     "traceback": [
      "\u001B[1;31m---------------------------------------------------------------------------\u001B[0m",
      "\u001B[1;31mAssertionError\u001B[0m                            Traceback (most recent call last)",
      "Input \u001B[1;32mIn [11]\u001B[0m, in \u001B[0;36m<cell line: 1>\u001B[1;34m()\u001B[0m\n\u001B[1;32m----> 1\u001B[0m \u001B[43mfleiss_kappa\u001B[49m\u001B[43m(\u001B[49m\u001B[43mdf\u001B[49m\u001B[43m[\u001B[49m\u001B[43mannotators\u001B[49m\u001B[43m]\u001B[49m\u001B[38;5;241;43m.\u001B[39;49m\u001B[43mto_numpy\u001B[49m\u001B[43m(\u001B[49m\u001B[43m)\u001B[49m\u001B[43m)\u001B[49m\n",
      "File \u001B[1;32m~\\anaconda3\\envs\\thesis\\lib\\site-packages\\statsmodels\\stats\\inter_rater.py:250\u001B[0m, in \u001B[0;36mfleiss_kappa\u001B[1;34m(table, method)\u001B[0m\n\u001B[0;32m    248\u001B[0m n_rat \u001B[38;5;241m=\u001B[39m n_rater\u001B[38;5;241m.\u001B[39mmax()\n\u001B[0;32m    249\u001B[0m \u001B[38;5;66;03m#assume fully ranked\u001B[39;00m\n\u001B[1;32m--> 250\u001B[0m \u001B[38;5;28;01massert\u001B[39;00m n_total \u001B[38;5;241m==\u001B[39m n_sub \u001B[38;5;241m*\u001B[39m n_rat\n\u001B[0;32m    252\u001B[0m \u001B[38;5;66;03m#marginal frequency  of categories\u001B[39;00m\n\u001B[0;32m    253\u001B[0m p_cat \u001B[38;5;241m=\u001B[39m table\u001B[38;5;241m.\u001B[39msum(\u001B[38;5;241m0\u001B[39m) \u001B[38;5;241m/\u001B[39m n_total\n",
      "\u001B[1;31mAssertionError\u001B[0m: "
     ]
    }
   ],
   "source": [
    "fleiss_kappa(df[annotators].to_numpy())"
   ],
   "metadata": {
    "collapsed": false,
    "pycharm": {
     "name": "#%%\n"
    }
   }
  },
  {
   "cell_type": "code",
   "execution_count": 12,
   "outputs": [
    {
     "data": {
      "text/plain": "(array([[0, 0, 2],\n        [0, 0, 2],\n        [0, 0, 2],\n        [0, 0, 2],\n        [0, 1, 1],\n        [0, 2, 0],\n        [0, 2, 0],\n        [0, 2, 0],\n        [0, 0, 2],\n        [0, 0, 2],\n        [0, 2, 0],\n        [0, 0, 2],\n        [0, 0, 2],\n        [0, 2, 0],\n        [0, 0, 2],\n        [0, 0, 2],\n        [0, 0, 2],\n        [0, 0, 2],\n        [0, 0, 2],\n        [0, 0, 2],\n        [0, 2, 0],\n        [0, 1, 1],\n        [0, 2, 0],\n        [2, 0, 0],\n        [1, 1, 0],\n        [2, 0, 0],\n        [0, 2, 0],\n        [2, 0, 0],\n        [0, 2, 0],\n        [2, 0, 0],\n        [0, 0, 2],\n        [0, 2, 0],\n        [0, 1, 1],\n        [0, 2, 0],\n        [1, 1, 0],\n        [2, 0, 0],\n        [0, 0, 2],\n        [0, 0, 2],\n        [0, 0, 2],\n        [2, 0, 0],\n        [0, 2, 0],\n        [0, 0, 2],\n        [0, 0, 2],\n        [1, 0, 1],\n        [0, 1, 1],\n        [1, 1, 0],\n        [0, 0, 2],\n        [0, 0, 2],\n        [0, 0, 2],\n        [0, 0, 2],\n        [0, 0, 2],\n        [0, 1, 1],\n        [0, 1, 1],\n        [0, 1, 1],\n        [0, 0, 2],\n        [2, 0, 0],\n        [0, 0, 2],\n        [2, 0, 0],\n        [2, 0, 0],\n        [0, 0, 2],\n        [0, 2, 0],\n        [2, 0, 0],\n        [0, 2, 0],\n        [0, 2, 0],\n        [0, 1, 1],\n        [0, 2, 0],\n        [2, 0, 0],\n        [0, 2, 0],\n        [0, 0, 2],\n        [0, 0, 2],\n        [2, 0, 0],\n        [0, 1, 1],\n        [0, 1, 1],\n        [0, 0, 2],\n        [2, 0, 0],\n        [0, 1, 1],\n        [0, 0, 2],\n        [0, 0, 2],\n        [2, 0, 0],\n        [0, 0, 2],\n        [0, 0, 2],\n        [0, 2, 0],\n        [0, 0, 2],\n        [2, 0, 0],\n        [0, 2, 0],\n        [0, 1, 1],\n        [0, 0, 2],\n        [0, 2, 0],\n        [0, 2, 0],\n        [0, 0, 2],\n        [0, 0, 2],\n        [0, 0, 2],\n        [0, 0, 2],\n        [0, 0, 2],\n        [0, 1, 1],\n        [0, 0, 2],\n        [0, 0, 2],\n        [0, 0, 2],\n        [0, 0, 2],\n        [2, 0, 0],\n        [0, 2, 0],\n        [0, 0, 2],\n        [0, 0, 2],\n        [1, 1, 0],\n        [0, 2, 0],\n        [2, 0, 0],\n        [2, 0, 0],\n        [2, 0, 0],\n        [0, 1, 1],\n        [0, 0, 2],\n        [0, 0, 2],\n        [0, 0, 2],\n        [0, 0, 2],\n        [2, 0, 0],\n        [0, 2, 0],\n        [2, 0, 0],\n        [0, 2, 0],\n        [0, 0, 2],\n        [0, 0, 2],\n        [0, 2, 0],\n        [0, 0, 2],\n        [0, 1, 1],\n        [2, 0, 0],\n        [0, 0, 2],\n        [0, 2, 0],\n        [0, 0, 2],\n        [1, 1, 0],\n        [0, 0, 2],\n        [0, 0, 2],\n        [0, 0, 2],\n        [0, 0, 2],\n        [0, 0, 2],\n        [1, 1, 0],\n        [1, 1, 0],\n        [2, 0, 0],\n        [0, 0, 2],\n        [0, 0, 2],\n        [0, 0, 2],\n        [0, 0, 2],\n        [2, 0, 0],\n        [0, 0, 2],\n        [0, 0, 2],\n        [0, 0, 2],\n        [2, 0, 0],\n        [0, 0, 2],\n        [2, 0, 0],\n        [0, 2, 0],\n        [1, 1, 0],\n        [0, 0, 2],\n        [2, 0, 0],\n        [0, 0, 2],\n        [0, 1, 1],\n        [0, 0, 2],\n        [0, 0, 2],\n        [0, 0, 2],\n        [2, 0, 0],\n        [0, 2, 0],\n        [0, 2, 0],\n        [0, 1, 1],\n        [0, 0, 2],\n        [0, 1, 1],\n        [0, 0, 2],\n        [0, 0, 2],\n        [0, 2, 0],\n        [0, 2, 0],\n        [2, 0, 0],\n        [2, 0, 0],\n        [2, 0, 0],\n        [0, 1, 1],\n        [0, 0, 2],\n        [0, 0, 2],\n        [0, 2, 0],\n        [0, 1, 1],\n        [0, 1, 1],\n        [0, 0, 2],\n        [0, 0, 2],\n        [0, 0, 2],\n        [0, 0, 2],\n        [0, 0, 2],\n        [2, 0, 0],\n        [0, 0, 2],\n        [0, 2, 0],\n        [0, 1, 1]]),\n array([0., 1., 2.]))"
     },
     "execution_count": 12,
     "metadata": {},
     "output_type": "execute_result"
    }
   ],
   "source": [
    "from statsmodels.stats import inter_rater as irr\n",
    "agg = irr.aggregate_raters(df[[\"majority vote\", \"Own annotation\"]].to_numpy()) # returns a tuple (data, categories)\n",
    "agg"
   ],
   "metadata": {
    "collapsed": false,
    "pycharm": {
     "name": "#%%\n"
    }
   }
  },
  {
   "cell_type": "code",
   "execution_count": 13,
   "outputs": [
    {
     "data": {
      "text/plain": "0.7198449344428257"
     },
     "execution_count": 13,
     "metadata": {},
     "output_type": "execute_result"
    }
   ],
   "source": [
    "irr.fleiss_kappa(agg[0], method='fleiss')"
   ],
   "metadata": {
    "collapsed": false,
    "pycharm": {
     "name": "#%%\n"
    }
   }
  },
  {
   "cell_type": "markdown",
   "source": [
    "## Scale evaluation"
   ],
   "metadata": {
    "collapsed": false,
    "pycharm": {
     "name": "#%% md\n"
    }
   }
  },
  {
   "cell_type": "code",
   "execution_count": 77,
   "outputs": [],
   "source": [
    "df[\"annotator avg\"] = df[annotators].mean(axis=1)"
   ],
   "metadata": {
    "collapsed": false,
    "pycharm": {
     "name": "#%%\n"
    }
   }
  },
  {
   "cell_type": "code",
   "execution_count": 79,
   "outputs": [],
   "source": [
    "df[\"MAE\"] = df[[\"annotator avg\", \"Own annotation\"]].apply(lambda x: abs(x[0] - x[1]), axis=1)"
   ],
   "metadata": {
    "collapsed": false,
    "pycharm": {
     "name": "#%%\n"
    }
   }
  },
  {
   "cell_type": "code",
   "execution_count": 80,
   "outputs": [
    {
     "data": {
      "text/plain": "          id  ben  dliden  doss  jmo  jmo2  \\\n0    h15nzwn    2       2     2    2     2   \n1    gyxowrt    2       2     2    2     2   \n2    h0cufvd    2       2     2    2     2   \n3    h16r93i    2       2     2    2     2   \n4    h1adyxq    1       2     1    2     2   \n..       ...  ...     ...   ...  ...   ...   \n178  gx0pu7v    2       2     2    2     2   \n179  gvgbq2j    0       0     0    2     0   \n180  h0g8s39    2       2     2    2     2   \n181  h12l678    1       1     1    0     0   \n182  gxzi5c5    1       0     1    2     2   \n\n                                                  post  Own annotation  \\\n0    \\n  \\nGentlemen, start your boners:\\n\\nBlackBe...             2.0   \n1    #It has come to my attention that $PLTR Nation...             2.0   \n2    #SNDL and TLRY for smooking weed on the moon 🚬...             2.0   \n3                                $63k in on WKHS calls             2.0   \n4                                         $CLF and $MT             1.0   \n..                                                 ...             ...   \n178  Woke up on the floor got up and I looked perfe...             2.0   \n179  Yeah, I was going to sell my UWMC for a L, but...             0.0   \n180  Yep, it’s cheap right now and we could see it ...             2.0   \n181  You didn’t know what a hedge fund was before G...             1.0   \n182                            👆 Found the TSLA holder             2.0   \n\n     annotator avg  MAE  \n0              2.0  0.0  \n1              2.0  0.0  \n2              2.0  0.0  \n3              2.0  0.0  \n4              1.6  0.6  \n..             ...  ...  \n178            2.0  0.0  \n179            0.4  0.4  \n180            2.0  0.0  \n181            0.6  0.4  \n182            1.2  0.8  \n\n[183 rows x 10 columns]",
      "text/html": "<div>\n<style scoped>\n    .dataframe tbody tr th:only-of-type {\n        vertical-align: middle;\n    }\n\n    .dataframe tbody tr th {\n        vertical-align: top;\n    }\n\n    .dataframe thead th {\n        text-align: right;\n    }\n</style>\n<table border=\"1\" class=\"dataframe\">\n  <thead>\n    <tr style=\"text-align: right;\">\n      <th></th>\n      <th>id</th>\n      <th>ben</th>\n      <th>dliden</th>\n      <th>doss</th>\n      <th>jmo</th>\n      <th>jmo2</th>\n      <th>post</th>\n      <th>Own annotation</th>\n      <th>annotator avg</th>\n      <th>MAE</th>\n    </tr>\n  </thead>\n  <tbody>\n    <tr>\n      <th>0</th>\n      <td>h15nzwn</td>\n      <td>2</td>\n      <td>2</td>\n      <td>2</td>\n      <td>2</td>\n      <td>2</td>\n      <td>\\n  \\nGentlemen, start your boners:\\n\\nBlackBe...</td>\n      <td>2.0</td>\n      <td>2.0</td>\n      <td>0.0</td>\n    </tr>\n    <tr>\n      <th>1</th>\n      <td>gyxowrt</td>\n      <td>2</td>\n      <td>2</td>\n      <td>2</td>\n      <td>2</td>\n      <td>2</td>\n      <td>#It has come to my attention that $PLTR Nation...</td>\n      <td>2.0</td>\n      <td>2.0</td>\n      <td>0.0</td>\n    </tr>\n    <tr>\n      <th>2</th>\n      <td>h0cufvd</td>\n      <td>2</td>\n      <td>2</td>\n      <td>2</td>\n      <td>2</td>\n      <td>2</td>\n      <td>#SNDL and TLRY for smooking weed on the moon 🚬...</td>\n      <td>2.0</td>\n      <td>2.0</td>\n      <td>0.0</td>\n    </tr>\n    <tr>\n      <th>3</th>\n      <td>h16r93i</td>\n      <td>2</td>\n      <td>2</td>\n      <td>2</td>\n      <td>2</td>\n      <td>2</td>\n      <td>$63k in on WKHS calls</td>\n      <td>2.0</td>\n      <td>2.0</td>\n      <td>0.0</td>\n    </tr>\n    <tr>\n      <th>4</th>\n      <td>h1adyxq</td>\n      <td>1</td>\n      <td>2</td>\n      <td>1</td>\n      <td>2</td>\n      <td>2</td>\n      <td>$CLF and $MT</td>\n      <td>1.0</td>\n      <td>1.6</td>\n      <td>0.6</td>\n    </tr>\n    <tr>\n      <th>...</th>\n      <td>...</td>\n      <td>...</td>\n      <td>...</td>\n      <td>...</td>\n      <td>...</td>\n      <td>...</td>\n      <td>...</td>\n      <td>...</td>\n      <td>...</td>\n      <td>...</td>\n    </tr>\n    <tr>\n      <th>178</th>\n      <td>gx0pu7v</td>\n      <td>2</td>\n      <td>2</td>\n      <td>2</td>\n      <td>2</td>\n      <td>2</td>\n      <td>Woke up on the floor got up and I looked perfe...</td>\n      <td>2.0</td>\n      <td>2.0</td>\n      <td>0.0</td>\n    </tr>\n    <tr>\n      <th>179</th>\n      <td>gvgbq2j</td>\n      <td>0</td>\n      <td>0</td>\n      <td>0</td>\n      <td>2</td>\n      <td>0</td>\n      <td>Yeah, I was going to sell my UWMC for a L, but...</td>\n      <td>0.0</td>\n      <td>0.4</td>\n      <td>0.4</td>\n    </tr>\n    <tr>\n      <th>180</th>\n      <td>h0g8s39</td>\n      <td>2</td>\n      <td>2</td>\n      <td>2</td>\n      <td>2</td>\n      <td>2</td>\n      <td>Yep, it’s cheap right now and we could see it ...</td>\n      <td>2.0</td>\n      <td>2.0</td>\n      <td>0.0</td>\n    </tr>\n    <tr>\n      <th>181</th>\n      <td>h12l678</td>\n      <td>1</td>\n      <td>1</td>\n      <td>1</td>\n      <td>0</td>\n      <td>0</td>\n      <td>You didn’t know what a hedge fund was before G...</td>\n      <td>1.0</td>\n      <td>0.6</td>\n      <td>0.4</td>\n    </tr>\n    <tr>\n      <th>182</th>\n      <td>gxzi5c5</td>\n      <td>1</td>\n      <td>0</td>\n      <td>1</td>\n      <td>2</td>\n      <td>2</td>\n      <td>👆 Found the TSLA holder</td>\n      <td>2.0</td>\n      <td>1.2</td>\n      <td>0.8</td>\n    </tr>\n  </tbody>\n</table>\n<p>183 rows × 10 columns</p>\n</div>"
     },
     "execution_count": 80,
     "metadata": {},
     "output_type": "execute_result"
    }
   ],
   "source": [
    "df"
   ],
   "metadata": {
    "collapsed": false,
    "pycharm": {
     "name": "#%%\n"
    }
   }
  },
  {
   "cell_type": "code",
   "execution_count": 81,
   "outputs": [],
   "source": [
    "MAE = df[\"MAE\"].sum() / len(df[\"MAE\"])"
   ],
   "metadata": {
    "collapsed": false,
    "pycharm": {
     "name": "#%%\n"
    }
   }
  },
  {
   "cell_type": "code",
   "execution_count": 82,
   "outputs": [
    {
     "data": {
      "text/plain": "0.24043715846994532"
     },
     "execution_count": 82,
     "metadata": {},
     "output_type": "execute_result"
    }
   ],
   "source": [
    "MAE"
   ],
   "metadata": {
    "collapsed": false,
    "pycharm": {
     "name": "#%%\n"
    }
   }
  },
  {
   "cell_type": "code",
   "execution_count": null,
   "outputs": [],
   "source": [],
   "metadata": {
    "collapsed": false,
    "pycharm": {
     "name": "#%%\n"
    }
   }
  },
  {
   "cell_type": "code",
   "execution_count": null,
   "outputs": [],
   "source": [
    "\"C:\\Users\\janbu\\Desktop\\data-1655541559013.csv\""
   ],
   "metadata": {
    "collapsed": false,
    "pycharm": {
     "name": "#%%\n"
    }
   }
  },
  {
   "cell_type": "code",
   "execution_count": 3,
   "outputs": [],
   "source": [
    "import pandas as pd\n",
    "df = pd.read_csv(\"../../../data-1655541559013.csv\")"
   ],
   "metadata": {
    "collapsed": false,
    "pycharm": {
     "name": "#%%\n"
    }
   }
  },
  {
   "cell_type": "code",
   "execution_count": 2,
   "outputs": [],
   "source": [
    "df_ = pd.read_excel(\"../../data/external/posts_to_annotate.xlsx\", sheet_name=\"data\")"
   ],
   "metadata": {
    "collapsed": false,
    "pycharm": {
     "name": "#%%\n"
    }
   }
  },
  {
   "cell_type": "code",
   "execution_count": 8,
   "outputs": [],
   "source": [
    "positive_word_list = pd.read_excel(\"../../data/external/posts_to_annotate.xlsx\", sheet_name=\"wsb_expressions\", header=None)[0].to_list()"
   ],
   "metadata": {
    "collapsed": false,
    "pycharm": {
     "name": "#%%\n"
    }
   }
  },
  {
   "cell_type": "code",
   "execution_count": 10,
   "outputs": [],
   "source": [
    "negative_word_list = [\"put\", \"short\", \"sell\", \"bearish\", \"paper hands\", \"tdm\", \"crash\", \"down\", \"lost\"]"
   ],
   "metadata": {
    "collapsed": false,
    "pycharm": {
     "name": "#%%\n"
    }
   }
  },
  {
   "cell_type": "code",
   "execution_count": 11,
   "outputs": [
    {
     "data": {
      "text/plain": "['put',\n 'short',\n 'sell',\n 'bearish',\n 'paper hands',\n 'tdm',\n 'crash',\n 'down',\n 'lost']"
     },
     "execution_count": 11,
     "metadata": {},
     "output_type": "execute_result"
    }
   ],
   "source": [
    "negative_word_list"
   ],
   "metadata": {
    "collapsed": false,
    "pycharm": {
     "name": "#%%\n"
    }
   }
  },
  {
   "cell_type": "code",
   "execution_count": 12,
   "outputs": [],
   "source": [
    "def annotate_automatic(post):\n",
    "    for word in negative_word_list:\n",
    "        if word in post.lower():\n",
    "            return -1\n",
    "    return None"
   ],
   "metadata": {
    "collapsed": false,
    "pycharm": {
     "name": "#%%\n"
    }
   }
  },
  {
   "cell_type": "code",
   "execution_count": 13,
   "outputs": [],
   "source": [
    "df[\"automatic annotation\"] = df[\"post\"].apply(lambda x: annotate_automatic(x))"
   ],
   "metadata": {
    "collapsed": false,
    "pycharm": {
     "name": "#%%\n"
    }
   }
  },
  {
   "cell_type": "code",
   "execution_count": 14,
   "outputs": [
    {
     "data": {
      "text/plain": "           id                                               post stock_symbol  \\\n0    14639183  Oh yea saw them NYE Chicago... They opened the...         {AL}   \n1    14639175  yeah but what matters is the volume of trades ...        {GME}   \n2    14639164  Doesn't matter if you buy meme stocks or not, ...        {DOW}   \n3    14639156  how much will ETSY 200 PUT expiring that week ...       {ETSY}   \n4    14639142  No comissions, good UI. Not that complicated. ...   {GME,HOOD}   \n..        ...                                                ...          ...   \n995  14633426  Their UI is infinitely better than fidelity. I...         {UI}   \n996  14633412  Thanks any suggestions on how far I should go ...       {PINS}   \n997  14633390  I should have sold all my PLTR shares and brou...  {HOOD,PLTR}   \n998  14633379  Nice.. what's your next play? Or are you exclu...        {AMD}   \n999  14633378  I am a bot from /r/wallstreetbets. Your submis...          {A}   \n\n     automatic annotation  \n0                     NaN  \n1                     NaN  \n2                     NaN  \n3                    -1.0  \n4                     NaN  \n..                    ...  \n995                   NaN  \n996                   NaN  \n997                   NaN  \n998                   NaN  \n999                   NaN  \n\n[1000 rows x 4 columns]",
      "text/html": "<div>\n<style scoped>\n    .dataframe tbody tr th:only-of-type {\n        vertical-align: middle;\n    }\n\n    .dataframe tbody tr th {\n        vertical-align: top;\n    }\n\n    .dataframe thead th {\n        text-align: right;\n    }\n</style>\n<table border=\"1\" class=\"dataframe\">\n  <thead>\n    <tr style=\"text-align: right;\">\n      <th></th>\n      <th>id</th>\n      <th>post</th>\n      <th>stock_symbol</th>\n      <th>automatic annotation</th>\n    </tr>\n  </thead>\n  <tbody>\n    <tr>\n      <th>0</th>\n      <td>14639183</td>\n      <td>Oh yea saw them NYE Chicago... They opened the...</td>\n      <td>{AL}</td>\n      <td>NaN</td>\n    </tr>\n    <tr>\n      <th>1</th>\n      <td>14639175</td>\n      <td>yeah but what matters is the volume of trades ...</td>\n      <td>{GME}</td>\n      <td>NaN</td>\n    </tr>\n    <tr>\n      <th>2</th>\n      <td>14639164</td>\n      <td>Doesn't matter if you buy meme stocks or not, ...</td>\n      <td>{DOW}</td>\n      <td>NaN</td>\n    </tr>\n    <tr>\n      <th>3</th>\n      <td>14639156</td>\n      <td>how much will ETSY 200 PUT expiring that week ...</td>\n      <td>{ETSY}</td>\n      <td>-1.0</td>\n    </tr>\n    <tr>\n      <th>4</th>\n      <td>14639142</td>\n      <td>No comissions, good UI. Not that complicated. ...</td>\n      <td>{GME,HOOD}</td>\n      <td>NaN</td>\n    </tr>\n    <tr>\n      <th>...</th>\n      <td>...</td>\n      <td>...</td>\n      <td>...</td>\n      <td>...</td>\n    </tr>\n    <tr>\n      <th>995</th>\n      <td>14633426</td>\n      <td>Their UI is infinitely better than fidelity. I...</td>\n      <td>{UI}</td>\n      <td>NaN</td>\n    </tr>\n    <tr>\n      <th>996</th>\n      <td>14633412</td>\n      <td>Thanks any suggestions on how far I should go ...</td>\n      <td>{PINS}</td>\n      <td>NaN</td>\n    </tr>\n    <tr>\n      <th>997</th>\n      <td>14633390</td>\n      <td>I should have sold all my PLTR shares and brou...</td>\n      <td>{HOOD,PLTR}</td>\n      <td>NaN</td>\n    </tr>\n    <tr>\n      <th>998</th>\n      <td>14633379</td>\n      <td>Nice.. what's your next play? Or are you exclu...</td>\n      <td>{AMD}</td>\n      <td>NaN</td>\n    </tr>\n    <tr>\n      <th>999</th>\n      <td>14633378</td>\n      <td>I am a bot from /r/wallstreetbets. Your submis...</td>\n      <td>{A}</td>\n      <td>NaN</td>\n    </tr>\n  </tbody>\n</table>\n<p>1000 rows × 4 columns</p>\n</div>"
     },
     "execution_count": 14,
     "metadata": {},
     "output_type": "execute_result"
    }
   ],
   "source": [
    "df"
   ],
   "metadata": {
    "collapsed": false,
    "pycharm": {
     "name": "#%%\n"
    }
   }
  },
  {
   "cell_type": "code",
   "execution_count": 15,
   "outputs": [
    {
     "data": {
      "text/plain": "-1.0    226\nName: automatic annotation, dtype: int64"
     },
     "execution_count": 15,
     "metadata": {},
     "output_type": "execute_result"
    }
   ],
   "source": [
    "df[\"automatic annotation\"].value_counts()"
   ],
   "metadata": {
    "collapsed": false,
    "pycharm": {
     "name": "#%%\n"
    }
   }
  },
  {
   "cell_type": "code",
   "execution_count": 16,
   "outputs": [],
   "source": [
    "df.to_csv(\"../../data/external/automatic_annotation_2.csv\")"
   ],
   "metadata": {
    "collapsed": false,
    "pycharm": {
     "name": "#%%\n"
    }
   }
  },
  {
   "cell_type": "code",
   "execution_count": null,
   "outputs": [],
   "source": [],
   "metadata": {
    "collapsed": false,
    "pycharm": {
     "name": "#%%\n"
    }
   }
  },
  {
   "cell_type": "markdown",
   "source": [
    "## T-test for model performance comparison"
   ],
   "metadata": {
    "collapsed": false,
    "pycharm": {
     "name": "#%% md\n"
    }
   }
  },
  {
   "cell_type": "code",
   "execution_count": 78,
   "outputs": [],
   "source": [
    "import pandas as pd\n",
    "from scipy import stats\n",
    "import seaborn as sns\n",
    "import matplotlib.pyplot as plt"
   ],
   "metadata": {
    "collapsed": false,
    "pycharm": {
     "name": "#%%\n"
    }
   }
  },
  {
   "cell_type": "code",
   "execution_count": 79,
   "outputs": [],
   "source": [
    "df = pd.read_csv(\"../../data/sentiment_analysis_results/wandb_model_performance_summary.csv\")"
   ],
   "metadata": {
    "collapsed": false,
    "pycharm": {
     "name": "#%%\n"
    }
   }
  },
  {
   "cell_type": "code",
   "execution_count": 80,
   "outputs": [],
   "source": [
    "model_performance_trained = df[\"Max. Validation Accuracy\"].dropna()\n",
    "model_performance_untrained = df[\"Accuracy\"].dropna()"
   ],
   "metadata": {
    "collapsed": false,
    "pycharm": {
     "name": "#%%\n"
    }
   }
  },
  {
   "cell_type": "code",
   "execution_count": 81,
   "outputs": [],
   "source": [
    "df_finetuned = pd.DataFrame({'values':model_performance_trained.values, 'type': \"after finetuning\"})"
   ],
   "metadata": {
    "collapsed": false,
    "pycharm": {
     "name": "#%%\n"
    }
   }
  },
  {
   "cell_type": "code",
   "execution_count": 82,
   "outputs": [],
   "source": [
    "df_untrained = pd.DataFrame({'values':model_performance_untrained.values, 'type': \"before finetuning\"})"
   ],
   "metadata": {
    "collapsed": false,
    "pycharm": {
     "name": "#%%\n"
    }
   }
  },
  {
   "cell_type": "code",
   "execution_count": 83,
   "outputs": [],
   "source": [
    "df = pd.concat([df_untrained, df_finetuned])"
   ],
   "metadata": {
    "collapsed": false,
    "pycharm": {
     "name": "#%%\n"
    }
   }
  },
  {
   "cell_type": "code",
   "execution_count": 84,
   "outputs": [],
   "source": [
    "sns.set(rc={'figure.figsize':(11.7,8.27)})\n",
    "sns.set_style(\"darkgrid\")"
   ],
   "metadata": {
    "collapsed": false,
    "pycharm": {
     "name": "#%%\n"
    }
   }
  },
  {
   "cell_type": "code",
   "execution_count": 85,
   "outputs": [
    {
     "data": {
      "text/plain": "Text(0.5, 1.0, 'Model comparison by Accuracy')"
     },
     "execution_count": 85,
     "metadata": {},
     "output_type": "execute_result"
    },
    {
     "data": {
      "text/plain": "<Figure size 842.4x595.44 with 1 Axes>",
      "image/png": "[encoded data removed]"
     },
     "metadata": {},
     "output_type": "display_data"
    }
   ],
   "source": [
    "ax = sns.boxplot(x = \"type\", y = \"values\", data=df)\n",
    "plt.xlabel(\"Model type\", fontsize= 13)\n",
    "plt.ylabel(\"Accuracy\", fontsize= 13)\n",
    "plt.title(\"Model comparison by Accuracy\", fontsize= 15)"
   ],
   "metadata": {
    "collapsed": false,
    "pycharm": {
     "name": "#%%\n"
    }
   }
  },
  {
   "cell_type": "code",
   "execution_count": 68,
   "outputs": [],
   "source": [
    "statistic = stats.ttest_rel(df_untrained[\"values\"], df_finetuned['values'])"
   ],
   "metadata": {
    "collapsed": false,
    "pycharm": {
     "name": "#%%\n"
    }
   }
  },
  {
   "cell_type": "code",
   "execution_count": 75,
   "outputs": [
    {
     "data": {
      "text/plain": "'0.00008650'"
     },
     "execution_count": 75,
     "metadata": {},
     "output_type": "execute_result"
    }
   ],
   "source": [
    "\"{:.8f}\".format(float(f\"{statistic.pvalue}\"))"
   ],
   "metadata": {
    "collapsed": false,
    "pycharm": {
     "name": "#%%\n"
    }
   }
  },
  {
   "cell_type": "code",
   "execution_count": 94,
   "outputs": [
    {
     "data": {
      "text/plain": "Ttest_relResult(statistic=-16.125786666318433, pvalue=8.649975113262053e-05)"
     },
     "execution_count": 94,
     "metadata": {},
     "output_type": "execute_result"
    }
   ],
   "source": [
    "statistic"
   ],
   "metadata": {
    "collapsed": false,
    "pycharm": {
     "name": "#%%\n"
    }
   }
  },
  {
   "cell_type": "code",
   "execution_count": 86,
   "outputs": [],
   "source": [
    "import numpy as np"
   ],
   "metadata": {
    "collapsed": false,
    "pycharm": {
     "name": "#%%\n"
    }
   }
  },
  {
   "cell_type": "code",
   "execution_count": 87,
   "outputs": [
    {
     "data": {
      "text/plain": "0.71875"
     },
     "execution_count": 87,
     "metadata": {},
     "output_type": "execute_result"
    }
   ],
   "source": [
    "np.median(model_performance_trained)"
   ],
   "metadata": {
    "collapsed": false,
    "pycharm": {
     "name": "#%%\n"
    }
   }
  },
  {
   "cell_type": "code",
   "execution_count": 89,
   "outputs": [
    {
     "data": {
      "text/plain": "0.4479166666666667"
     },
     "execution_count": 89,
     "metadata": {},
     "output_type": "execute_result"
    }
   ],
   "source": [
    "np.median(model_performance_untrained)"
   ],
   "metadata": {
    "collapsed": false,
    "pycharm": {
     "name": "#%%\n"
    }
   }
  },
  {
   "cell_type": "code",
   "execution_count": 92,
   "outputs": [],
   "source": [
    "untrained = stats.iqr(model_performance_untrained)"
   ],
   "metadata": {
    "collapsed": false,
    "pycharm": {
     "name": "#%%\n"
    }
   }
  },
  {
   "cell_type": "code",
   "execution_count": 93,
   "outputs": [
    {
     "data": {
      "text/plain": "0.04166666666666663"
     },
     "execution_count": 93,
     "metadata": {},
     "output_type": "execute_result"
    }
   ],
   "source": [
    "stats.iqr(model_performance_trained)"
   ],
   "metadata": {
    "collapsed": false,
    "pycharm": {
     "name": "#%%\n"
    }
   }
  },
  {
   "cell_type": "code",
   "execution_count": null,
   "outputs": [],
   "source": [
    "untrained."
   ],
   "metadata": {
    "collapsed": false,
    "pycharm": {
     "name": "#%%\n"
    }
   }
  }
 ],
 "metadata": {
  "kernelspec": {
   "name": "thesis",
   "language": "python",
   "display_name": "thesis"
  },
  "language_info": {
   "codemirror_mode": {
    "name": "ipython",
    "version": 2
   },
   "file_extension": ".py",
   "mimetype": "text/x-python",
   "name": "python",
   "nbconvert_exporter": "python",
   "pygments_lexer": "ipython2",
   "version": "2.7.6"
  }
 },
 "nbformat": 4,
 "nbformat_minor": 0
}