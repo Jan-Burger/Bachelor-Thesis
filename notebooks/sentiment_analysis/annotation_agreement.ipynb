{
 "cells": [
  {
   "cell_type": "markdown",
   "source": [
    "## 1. Imports"
   ],
   "metadata": {
    "collapsed": false,
    "pycharm": {
     "name": "#%% md\n"
    }
   }
  },
  {
   "cell_type": "code",
   "execution_count": 69,
   "metadata": {
    "collapsed": true
   },
   "outputs": [],
   "source": [
    "import yaml\n",
    "import pandas as pd\n",
    "import numpy as np\n",
    "import pmaw\n",
    "import torch\n",
    "from sklearn.metrics import cohen_kappa_score\n",
    "from statistics import multimode, mode\n",
    "from collections import Counter\n",
    "from statsmodels.stats.inter_rater import fleiss_kappa"
   ]
  },
  {
   "cell_type": "code",
   "execution_count": 72,
   "outputs": [],
   "source": [
    "df = pd.read_excel(\"../../data/external/annotations_wsb.xlsx\", sheet_name=\"annotations_scale\")"
   ],
   "metadata": {
    "collapsed": false,
    "pycharm": {
     "name": "#%%\n"
    }
   }
  },
  {
   "cell_type": "code",
   "execution_count": 73,
   "outputs": [],
   "source": [
    "df.dropna(inplace=True)"
   ],
   "metadata": {
    "collapsed": false,
    "pycharm": {
     "name": "#%%\n"
    }
   }
  },
  {
   "cell_type": "code",
   "execution_count": 15,
   "outputs": [
    {
     "data": {
      "text/plain": "          id  ben  dliden  doss  jmo  jmo2  \\\n0    h15nzwn    1       1     1    1     1   \n1    gyxowrt    1       1     1    1     1   \n2    h0cufvd    1       1     1    1     1   \n3    h16r93i    1       1     1    1     1   \n4    h1adyxq    0       1     0    1     1   \n..       ...  ...     ...   ...  ...   ...   \n178  gx0pu7v    1       1     1    1     1   \n179  gvgbq2j   -1      -1    -1    1    -1   \n180  h0g8s39    1       1     1    1     1   \n181  h12l678    0       0     0   -1    -1   \n182  gxzi5c5    0      -1     0    1     1   \n\n                                                  post  Own annotation  \n0    \\n  \\nGentlemen, start your boners:\\n\\nBlackBe...             1.0  \n1    #It has come to my attention that $PLTR Nation...             1.0  \n2    #SNDL and TLRY for smooking weed on the moon 🚬...             1.0  \n3                                $63k in on WKHS calls             1.0  \n4                                         $CLF and $MT             0.0  \n..                                                 ...             ...  \n178  Woke up on the floor got up and I looked perfe...             1.0  \n179  Yeah, I was going to sell my UWMC for a L, but...            -1.0  \n180  Yep, it’s cheap right now and we could see it ...             1.0  \n181  You didn’t know what a hedge fund was before G...             0.0  \n182                            👆 Found the TSLA holder             1.0  \n\n[183 rows x 8 columns]",
      "text/html": "<div>\n<style scoped>\n    .dataframe tbody tr th:only-of-type {\n        vertical-align: middle;\n    }\n\n    .dataframe tbody tr th {\n        vertical-align: top;\n    }\n\n    .dataframe thead th {\n        text-align: right;\n    }\n</style>\n<table border=\"1\" class=\"dataframe\">\n  <thead>\n    <tr style=\"text-align: right;\">\n      <th></th>\n      <th>id</th>\n      <th>ben</th>\n      <th>dliden</th>\n      <th>doss</th>\n      <th>jmo</th>\n      <th>jmo2</th>\n      <th>post</th>\n      <th>Own annotation</th>\n    </tr>\n  </thead>\n  <tbody>\n    <tr>\n      <th>0</th>\n      <td>h15nzwn</td>\n      <td>1</td>\n      <td>1</td>\n      <td>1</td>\n      <td>1</td>\n      <td>1</td>\n      <td>\\n  \\nGentlemen, start your boners:\\n\\nBlackBe...</td>\n      <td>1.0</td>\n    </tr>\n    <tr>\n      <th>1</th>\n      <td>gyxowrt</td>\n      <td>1</td>\n      <td>1</td>\n      <td>1</td>\n      <td>1</td>\n      <td>1</td>\n      <td>#It has come to my attention that $PLTR Nation...</td>\n      <td>1.0</td>\n    </tr>\n    <tr>\n      <th>2</th>\n      <td>h0cufvd</td>\n      <td>1</td>\n      <td>1</td>\n      <td>1</td>\n      <td>1</td>\n      <td>1</td>\n      <td>#SNDL and TLRY for smooking weed on the moon 🚬...</td>\n      <td>1.0</td>\n    </tr>\n    <tr>\n      <th>3</th>\n      <td>h16r93i</td>\n      <td>1</td>\n      <td>1</td>\n      <td>1</td>\n      <td>1</td>\n      <td>1</td>\n      <td>$63k in on WKHS calls</td>\n      <td>1.0</td>\n    </tr>\n    <tr>\n      <th>4</th>\n      <td>h1adyxq</td>\n      <td>0</td>\n      <td>1</td>\n      <td>0</td>\n      <td>1</td>\n      <td>1</td>\n      <td>$CLF and $MT</td>\n      <td>0.0</td>\n    </tr>\n    <tr>\n      <th>...</th>\n      <td>...</td>\n      <td>...</td>\n      <td>...</td>\n      <td>...</td>\n      <td>...</td>\n      <td>...</td>\n      <td>...</td>\n      <td>...</td>\n    </tr>\n    <tr>\n      <th>178</th>\n      <td>gx0pu7v</td>\n      <td>1</td>\n      <td>1</td>\n      <td>1</td>\n      <td>1</td>\n      <td>1</td>\n      <td>Woke up on the floor got up and I looked perfe...</td>\n      <td>1.0</td>\n    </tr>\n    <tr>\n      <th>179</th>\n      <td>gvgbq2j</td>\n      <td>-1</td>\n      <td>-1</td>\n      <td>-1</td>\n      <td>1</td>\n      <td>-1</td>\n      <td>Yeah, I was going to sell my UWMC for a L, but...</td>\n      <td>-1.0</td>\n    </tr>\n    <tr>\n      <th>180</th>\n      <td>h0g8s39</td>\n      <td>1</td>\n      <td>1</td>\n      <td>1</td>\n      <td>1</td>\n      <td>1</td>\n      <td>Yep, it’s cheap right now and we could see it ...</td>\n      <td>1.0</td>\n    </tr>\n    <tr>\n      <th>181</th>\n      <td>h12l678</td>\n      <td>0</td>\n      <td>0</td>\n      <td>0</td>\n      <td>-1</td>\n      <td>-1</td>\n      <td>You didn’t know what a hedge fund was before G...</td>\n      <td>0.0</td>\n    </tr>\n    <tr>\n      <th>182</th>\n      <td>gxzi5c5</td>\n      <td>0</td>\n      <td>-1</td>\n      <td>0</td>\n      <td>1</td>\n      <td>1</td>\n      <td>👆 Found the TSLA holder</td>\n      <td>1.0</td>\n    </tr>\n  </tbody>\n</table>\n<p>183 rows × 8 columns</p>\n</div>"
     },
     "execution_count": 15,
     "metadata": {},
     "output_type": "execute_result"
    }
   ],
   "source": [
    "df"
   ],
   "metadata": {
    "collapsed": false,
    "pycharm": {
     "name": "#%%\n"
    }
   }
  },
  {
   "cell_type": "code",
   "execution_count": 24,
   "outputs": [],
   "source": [
    "score = cohen_kappa_score(df[\"jmo2\"], df[\"Own annotation\"])"
   ],
   "metadata": {
    "collapsed": false,
    "pycharm": {
     "name": "#%%\n"
    }
   }
  },
  {
   "cell_type": "code",
   "execution_count": 50,
   "outputs": [],
   "source": [
    "def majority_vote(annotator_results_list: list):\n",
    "    return mode(annotator_results_list)\n"
   ],
   "metadata": {
    "collapsed": false,
    "pycharm": {
     "name": "#%%\n"
    }
   }
  },
  {
   "cell_type": "code",
   "execution_count": 51,
   "outputs": [],
   "source": [
    "annotators = [\"ben\", \"dliden\", \"doss\", \"jmo\", \"jmo2\"]"
   ],
   "metadata": {
    "collapsed": false,
    "pycharm": {
     "name": "#%%\n"
    }
   }
  },
  {
   "cell_type": "code",
   "execution_count": 54,
   "outputs": [],
   "source": [
    "df[\"majority vote\"] = df[annotators].apply(lambda x: majority_vote(x), axis=1)"
   ],
   "metadata": {
    "collapsed": false,
    "pycharm": {
     "name": "#%%\n"
    }
   }
  },
  {
   "cell_type": "code",
   "execution_count": 43,
   "outputs": [],
   "source": [
    "test_list = multimode([1,2,2,3,4,4,3])"
   ],
   "metadata": {
    "collapsed": false,
    "pycharm": {
     "name": "#%%\n"
    }
   }
  },
  {
   "cell_type": "code",
   "execution_count": 44,
   "outputs": [
    {
     "data": {
      "text/plain": "[2, 3, 4]"
     },
     "execution_count": 44,
     "metadata": {},
     "output_type": "execute_result"
    }
   ],
   "source": [
    "test_list"
   ],
   "metadata": {
    "collapsed": false,
    "pycharm": {
     "name": "#%%\n"
    }
   }
  },
  {
   "cell_type": "code",
   "execution_count": 39,
   "outputs": [],
   "source": [
    "data = Counter(test_list)"
   ],
   "metadata": {
    "collapsed": false,
    "pycharm": {
     "name": "#%%\n"
    }
   }
  },
  {
   "cell_type": "code",
   "execution_count": 41,
   "outputs": [
    {
     "data": {
      "text/plain": "[(2, 2)]"
     },
     "execution_count": 41,
     "metadata": {},
     "output_type": "execute_result"
    }
   ],
   "source": [
    "data.most_common(1)"
   ],
   "metadata": {
    "collapsed": false,
    "pycharm": {
     "name": "#%%\n"
    }
   }
  },
  {
   "cell_type": "code",
   "execution_count": 55,
   "outputs": [
    {
     "data": {
      "text/plain": "          id  ben  dliden  doss  jmo  jmo2  \\\n0    h15nzwn    1       1     1    1     1   \n1    gyxowrt    1       1     1    1     1   \n2    h0cufvd    1       1     1    1     1   \n3    h16r93i    1       1     1    1     1   \n4    h1adyxq    0       1     0    1     1   \n..       ...  ...     ...   ...  ...   ...   \n178  gx0pu7v    1       1     1    1     1   \n179  gvgbq2j   -1      -1    -1    1    -1   \n180  h0g8s39    1       1     1    1     1   \n181  h12l678    0       0     0   -1    -1   \n182  gxzi5c5    0      -1     0    1     1   \n\n                                                  post  Own annotation  \\\n0    \\n  \\nGentlemen, start your boners:\\n\\nBlackBe...             1.0   \n1    #It has come to my attention that $PLTR Nation...             1.0   \n2    #SNDL and TLRY for smooking weed on the moon 🚬...             1.0   \n3                                $63k in on WKHS calls             1.0   \n4                                         $CLF and $MT             0.0   \n..                                                 ...             ...   \n178  Woke up on the floor got up and I looked perfe...             1.0   \n179  Yeah, I was going to sell my UWMC for a L, but...            -1.0   \n180  Yep, it’s cheap right now and we could see it ...             1.0   \n181  You didn’t know what a hedge fund was before G...             0.0   \n182                            👆 Found the TSLA holder             1.0   \n\n     majority vote  \n0                1  \n1                1  \n2                1  \n3                1  \n4                1  \n..             ...  \n178              1  \n179             -1  \n180              1  \n181              0  \n182              0  \n\n[183 rows x 9 columns]",
      "text/html": "<div>\n<style scoped>\n    .dataframe tbody tr th:only-of-type {\n        vertical-align: middle;\n    }\n\n    .dataframe tbody tr th {\n        vertical-align: top;\n    }\n\n    .dataframe thead th {\n        text-align: right;\n    }\n</style>\n<table border=\"1\" class=\"dataframe\">\n  <thead>\n    <tr style=\"text-align: right;\">\n      <th></th>\n      <th>id</th>\n      <th>ben</th>\n      <th>dliden</th>\n      <th>doss</th>\n      <th>jmo</th>\n      <th>jmo2</th>\n      <th>post</th>\n      <th>Own annotation</th>\n      <th>majority vote</th>\n    </tr>\n  </thead>\n  <tbody>\n    <tr>\n      <th>0</th>\n      <td>h15nzwn</td>\n      <td>1</td>\n      <td>1</td>\n      <td>1</td>\n      <td>1</td>\n      <td>1</td>\n      <td>\\n  \\nGentlemen, start your boners:\\n\\nBlackBe...</td>\n      <td>1.0</td>\n      <td>1</td>\n    </tr>\n    <tr>\n      <th>1</th>\n      <td>gyxowrt</td>\n      <td>1</td>\n      <td>1</td>\n      <td>1</td>\n      <td>1</td>\n      <td>1</td>\n      <td>#It has come to my attention that $PLTR Nation...</td>\n      <td>1.0</td>\n      <td>1</td>\n    </tr>\n    <tr>\n      <th>2</th>\n      <td>h0cufvd</td>\n      <td>1</td>\n      <td>1</td>\n      <td>1</td>\n      <td>1</td>\n      <td>1</td>\n      <td>#SNDL and TLRY for smooking weed on the moon 🚬...</td>\n      <td>1.0</td>\n      <td>1</td>\n    </tr>\n    <tr>\n      <th>3</th>\n      <td>h16r93i</td>\n      <td>1</td>\n      <td>1</td>\n      <td>1</td>\n      <td>1</td>\n      <td>1</td>\n      <td>$63k in on WKHS calls</td>\n      <td>1.0</td>\n      <td>1</td>\n    </tr>\n    <tr>\n      <th>4</th>\n      <td>h1adyxq</td>\n      <td>0</td>\n      <td>1</td>\n      <td>0</td>\n      <td>1</td>\n      <td>1</td>\n      <td>$CLF and $MT</td>\n      <td>0.0</td>\n      <td>1</td>\n    </tr>\n    <tr>\n      <th>...</th>\n      <td>...</td>\n      <td>...</td>\n      <td>...</td>\n      <td>...</td>\n      <td>...</td>\n      <td>...</td>\n      <td>...</td>\n      <td>...</td>\n      <td>...</td>\n    </tr>\n    <tr>\n      <th>178</th>\n      <td>gx0pu7v</td>\n      <td>1</td>\n      <td>1</td>\n      <td>1</td>\n      <td>1</td>\n      <td>1</td>\n      <td>Woke up on the floor got up and I looked perfe...</td>\n      <td>1.0</td>\n      <td>1</td>\n    </tr>\n    <tr>\n      <th>179</th>\n      <td>gvgbq2j</td>\n      <td>-1</td>\n      <td>-1</td>\n      <td>-1</td>\n      <td>1</td>\n      <td>-1</td>\n      <td>Yeah, I was going to sell my UWMC for a L, but...</td>\n      <td>-1.0</td>\n      <td>-1</td>\n    </tr>\n    <tr>\n      <th>180</th>\n      <td>h0g8s39</td>\n      <td>1</td>\n      <td>1</td>\n      <td>1</td>\n      <td>1</td>\n      <td>1</td>\n      <td>Yep, it’s cheap right now and we could see it ...</td>\n      <td>1.0</td>\n      <td>1</td>\n    </tr>\n    <tr>\n      <th>181</th>\n      <td>h12l678</td>\n      <td>0</td>\n      <td>0</td>\n      <td>0</td>\n      <td>-1</td>\n      <td>-1</td>\n      <td>You didn’t know what a hedge fund was before G...</td>\n      <td>0.0</td>\n      <td>0</td>\n    </tr>\n    <tr>\n      <th>182</th>\n      <td>gxzi5c5</td>\n      <td>0</td>\n      <td>-1</td>\n      <td>0</td>\n      <td>1</td>\n      <td>1</td>\n      <td>👆 Found the TSLA holder</td>\n      <td>1.0</td>\n      <td>0</td>\n    </tr>\n  </tbody>\n</table>\n<p>183 rows × 9 columns</p>\n</div>"
     },
     "execution_count": 55,
     "metadata": {},
     "output_type": "execute_result"
    }
   ],
   "source": [
    "df"
   ],
   "metadata": {
    "collapsed": false,
    "pycharm": {
     "name": "#%%\n"
    }
   }
  },
  {
   "cell_type": "code",
   "execution_count": 56,
   "outputs": [],
   "source": [
    "score = cohen_kappa_score(df[\"majority vote\"], df[\"Own annotation\"])"
   ],
   "metadata": {
    "collapsed": false,
    "pycharm": {
     "name": "#%%\n"
    }
   }
  },
  {
   "cell_type": "code",
   "execution_count": 58,
   "outputs": [
    {
     "data": {
      "text/plain": "0.7203627939074284"
     },
     "execution_count": 58,
     "metadata": {},
     "output_type": "execute_result"
    }
   ],
   "source": [
    "score"
   ],
   "metadata": {
    "collapsed": false,
    "pycharm": {
     "name": "#%%\n"
    }
   }
  },
  {
   "cell_type": "code",
   "execution_count": 62,
   "outputs": [
    {
     "ename": "AssertionError",
     "evalue": "",
     "output_type": "error",
     "traceback": [
      "\u001B[1;31m---------------------------------------------------------------------------\u001B[0m",
      "\u001B[1;31mAssertionError\u001B[0m                            Traceback (most recent call last)",
      "Input \u001B[1;32mIn [62]\u001B[0m, in \u001B[0;36m<cell line: 1>\u001B[1;34m()\u001B[0m\n\u001B[1;32m----> 1\u001B[0m \u001B[43mfleiss_kappa\u001B[49m\u001B[43m(\u001B[49m\u001B[43mdf\u001B[49m\u001B[43m[\u001B[49m\u001B[43mannotators\u001B[49m\u001B[43m]\u001B[49m\u001B[38;5;241;43m.\u001B[39;49m\u001B[43mto_numpy\u001B[49m\u001B[43m(\u001B[49m\u001B[43m)\u001B[49m\u001B[43m)\u001B[49m\n",
      "File \u001B[1;32m~\\anaconda3\\envs\\thesis\\lib\\site-packages\\statsmodels\\stats\\inter_rater.py:250\u001B[0m, in \u001B[0;36mfleiss_kappa\u001B[1;34m(table, method)\u001B[0m\n\u001B[0;32m    248\u001B[0m n_rat \u001B[38;5;241m=\u001B[39m n_rater\u001B[38;5;241m.\u001B[39mmax()\n\u001B[0;32m    249\u001B[0m \u001B[38;5;66;03m#assume fully ranked\u001B[39;00m\n\u001B[1;32m--> 250\u001B[0m \u001B[38;5;28;01massert\u001B[39;00m n_total \u001B[38;5;241m==\u001B[39m n_sub \u001B[38;5;241m*\u001B[39m n_rat\n\u001B[0;32m    252\u001B[0m \u001B[38;5;66;03m#marginal frequency  of categories\u001B[39;00m\n\u001B[0;32m    253\u001B[0m p_cat \u001B[38;5;241m=\u001B[39m table\u001B[38;5;241m.\u001B[39msum(\u001B[38;5;241m0\u001B[39m) \u001B[38;5;241m/\u001B[39m n_total\n",
      "\u001B[1;31mAssertionError\u001B[0m: "
     ]
    }
   ],
   "source": [
    "fleiss_kappa(df[annotators].to_numpy())"
   ],
   "metadata": {
    "collapsed": false,
    "pycharm": {
     "name": "#%%\n"
    }
   }
  },
  {
   "cell_type": "code",
   "execution_count": 67,
   "outputs": [
    {
     "data": {
      "text/plain": "(array([[0, 0, 2],\n        [0, 0, 2],\n        [0, 0, 2],\n        [0, 0, 2],\n        [0, 1, 1],\n        [0, 2, 0],\n        [0, 2, 0],\n        [0, 2, 0],\n        [0, 0, 2],\n        [0, 0, 2],\n        [0, 2, 0],\n        [0, 0, 2],\n        [0, 0, 2],\n        [0, 2, 0],\n        [0, 0, 2],\n        [0, 0, 2],\n        [0, 0, 2],\n        [0, 0, 2],\n        [0, 0, 2],\n        [0, 0, 2],\n        [0, 2, 0],\n        [0, 1, 1],\n        [0, 2, 0],\n        [2, 0, 0],\n        [1, 1, 0],\n        [2, 0, 0],\n        [0, 2, 0],\n        [2, 0, 0],\n        [0, 2, 0],\n        [2, 0, 0],\n        [0, 0, 2],\n        [0, 2, 0],\n        [0, 1, 1],\n        [0, 2, 0],\n        [1, 1, 0],\n        [2, 0, 0],\n        [0, 0, 2],\n        [0, 0, 2],\n        [0, 0, 2],\n        [2, 0, 0],\n        [0, 2, 0],\n        [0, 0, 2],\n        [0, 0, 2],\n        [1, 0, 1],\n        [0, 1, 1],\n        [1, 1, 0],\n        [0, 0, 2],\n        [0, 0, 2],\n        [0, 0, 2],\n        [0, 0, 2],\n        [0, 0, 2],\n        [0, 1, 1],\n        [0, 1, 1],\n        [0, 1, 1],\n        [0, 0, 2],\n        [2, 0, 0],\n        [0, 0, 2],\n        [2, 0, 0],\n        [2, 0, 0],\n        [0, 0, 2],\n        [0, 2, 0],\n        [2, 0, 0],\n        [0, 2, 0],\n        [0, 2, 0],\n        [0, 1, 1],\n        [0, 2, 0],\n        [2, 0, 0],\n        [0, 2, 0],\n        [0, 0, 2],\n        [0, 0, 2],\n        [2, 0, 0],\n        [0, 1, 1],\n        [0, 1, 1],\n        [0, 0, 2],\n        [2, 0, 0],\n        [0, 1, 1],\n        [0, 0, 2],\n        [0, 0, 2],\n        [2, 0, 0],\n        [0, 0, 2],\n        [0, 0, 2],\n        [0, 2, 0],\n        [0, 0, 2],\n        [2, 0, 0],\n        [0, 2, 0],\n        [0, 1, 1],\n        [0, 0, 2],\n        [0, 2, 0],\n        [0, 2, 0],\n        [0, 0, 2],\n        [0, 0, 2],\n        [0, 0, 2],\n        [0, 0, 2],\n        [0, 0, 2],\n        [0, 1, 1],\n        [0, 0, 2],\n        [0, 0, 2],\n        [0, 0, 2],\n        [0, 0, 2],\n        [2, 0, 0],\n        [0, 2, 0],\n        [0, 0, 2],\n        [0, 0, 2],\n        [1, 1, 0],\n        [0, 2, 0],\n        [2, 0, 0],\n        [2, 0, 0],\n        [2, 0, 0],\n        [0, 1, 1],\n        [0, 0, 2],\n        [0, 0, 2],\n        [0, 0, 2],\n        [0, 0, 2],\n        [2, 0, 0],\n        [0, 2, 0],\n        [2, 0, 0],\n        [0, 2, 0],\n        [0, 0, 2],\n        [0, 0, 2],\n        [0, 2, 0],\n        [0, 0, 2],\n        [0, 1, 1],\n        [2, 0, 0],\n        [0, 0, 2],\n        [0, 2, 0],\n        [0, 0, 2],\n        [1, 1, 0],\n        [0, 0, 2],\n        [0, 0, 2],\n        [0, 0, 2],\n        [0, 0, 2],\n        [0, 0, 2],\n        [1, 1, 0],\n        [1, 1, 0],\n        [2, 0, 0],\n        [0, 0, 2],\n        [0, 0, 2],\n        [0, 0, 2],\n        [0, 0, 2],\n        [2, 0, 0],\n        [0, 0, 2],\n        [0, 0, 2],\n        [0, 0, 2],\n        [2, 0, 0],\n        [0, 0, 2],\n        [2, 0, 0],\n        [0, 2, 0],\n        [1, 1, 0],\n        [0, 0, 2],\n        [2, 0, 0],\n        [0, 0, 2],\n        [0, 1, 1],\n        [0, 0, 2],\n        [0, 0, 2],\n        [0, 0, 2],\n        [2, 0, 0],\n        [0, 2, 0],\n        [0, 2, 0],\n        [0, 1, 1],\n        [0, 0, 2],\n        [0, 1, 1],\n        [0, 0, 2],\n        [0, 0, 2],\n        [0, 2, 0],\n        [0, 2, 0],\n        [2, 0, 0],\n        [2, 0, 0],\n        [2, 0, 0],\n        [0, 1, 1],\n        [0, 0, 2],\n        [0, 0, 2],\n        [0, 2, 0],\n        [0, 1, 1],\n        [0, 1, 1],\n        [0, 0, 2],\n        [0, 0, 2],\n        [0, 0, 2],\n        [0, 0, 2],\n        [0, 0, 2],\n        [2, 0, 0],\n        [0, 0, 2],\n        [0, 2, 0],\n        [0, 1, 1]]),\n array([-1.,  0.,  1.]))"
     },
     "execution_count": 67,
     "metadata": {},
     "output_type": "execute_result"
    }
   ],
   "source": [
    "from statsmodels.stats import inter_rater as irr\n",
    "agg = irr.aggregate_raters(df[[\"majority vote\", \"Own annotation\"]].to_numpy()) # returns a tuple (data, categories)\n",
    "agg"
   ],
   "metadata": {
    "collapsed": false,
    "pycharm": {
     "name": "#%%\n"
    }
   }
  },
  {
   "cell_type": "code",
   "execution_count": 68,
   "outputs": [
    {
     "data": {
      "text/plain": "0.7198449344428257"
     },
     "execution_count": 68,
     "metadata": {},
     "output_type": "execute_result"
    }
   ],
   "source": [
    "irr.fleiss_kappa(agg[0], method='fleiss')"
   ],
   "metadata": {
    "collapsed": false,
    "pycharm": {
     "name": "#%%\n"
    }
   }
  },
  {
   "cell_type": "markdown",
   "source": [
    "## Scale evaluation"
   ],
   "metadata": {
    "collapsed": false,
    "pycharm": {
     "name": "#%% md\n"
    }
   }
  },
  {
   "cell_type": "code",
   "execution_count": 77,
   "outputs": [],
   "source": [
    "df[\"annotator avg\"] = df[annotators].mean(axis=1)"
   ],
   "metadata": {
    "collapsed": false,
    "pycharm": {
     "name": "#%%\n"
    }
   }
  },
  {
   "cell_type": "code",
   "execution_count": 79,
   "outputs": [],
   "source": [
    "df[\"MAE\"] = df[[\"annotator avg\", \"Own annotation\"]].apply(lambda x: abs(x[0] - x[1]), axis=1)"
   ],
   "metadata": {
    "collapsed": false,
    "pycharm": {
     "name": "#%%\n"
    }
   }
  },
  {
   "cell_type": "code",
   "execution_count": 80,
   "outputs": [
    {
     "data": {
      "text/plain": "          id  ben  dliden  doss  jmo  jmo2  \\\n0    h15nzwn    2       2     2    2     2   \n1    gyxowrt    2       2     2    2     2   \n2    h0cufvd    2       2     2    2     2   \n3    h16r93i    2       2     2    2     2   \n4    h1adyxq    1       2     1    2     2   \n..       ...  ...     ...   ...  ...   ...   \n178  gx0pu7v    2       2     2    2     2   \n179  gvgbq2j    0       0     0    2     0   \n180  h0g8s39    2       2     2    2     2   \n181  h12l678    1       1     1    0     0   \n182  gxzi5c5    1       0     1    2     2   \n\n                                                  post  Own annotation  \\\n0    \\n  \\nGentlemen, start your boners:\\n\\nBlackBe...             2.0   \n1    #It has come to my attention that $PLTR Nation...             2.0   \n2    #SNDL and TLRY for smooking weed on the moon 🚬...             2.0   \n3                                $63k in on WKHS calls             2.0   \n4                                         $CLF and $MT             1.0   \n..                                                 ...             ...   \n178  Woke up on the floor got up and I looked perfe...             2.0   \n179  Yeah, I was going to sell my UWMC for a L, but...             0.0   \n180  Yep, it’s cheap right now and we could see it ...             2.0   \n181  You didn’t know what a hedge fund was before G...             1.0   \n182                            👆 Found the TSLA holder             2.0   \n\n     annotator avg  MAE  \n0              2.0  0.0  \n1              2.0  0.0  \n2              2.0  0.0  \n3              2.0  0.0  \n4              1.6  0.6  \n..             ...  ...  \n178            2.0  0.0  \n179            0.4  0.4  \n180            2.0  0.0  \n181            0.6  0.4  \n182            1.2  0.8  \n\n[183 rows x 10 columns]",
      "text/html": "<div>\n<style scoped>\n    .dataframe tbody tr th:only-of-type {\n        vertical-align: middle;\n    }\n\n    .dataframe tbody tr th {\n        vertical-align: top;\n    }\n\n    .dataframe thead th {\n        text-align: right;\n    }\n</style>\n<table border=\"1\" class=\"dataframe\">\n  <thead>\n    <tr style=\"text-align: right;\">\n      <th></th>\n      <th>id</th>\n      <th>ben</th>\n      <th>dliden</th>\n      <th>doss</th>\n      <th>jmo</th>\n      <th>jmo2</th>\n      <th>post</th>\n      <th>Own annotation</th>\n      <th>annotator avg</th>\n      <th>MAE</th>\n    </tr>\n  </thead>\n  <tbody>\n    <tr>\n      <th>0</th>\n      <td>h15nzwn</td>\n      <td>2</td>\n      <td>2</td>\n      <td>2</td>\n      <td>2</td>\n      <td>2</td>\n      <td>\\n  \\nGentlemen, start your boners:\\n\\nBlackBe...</td>\n      <td>2.0</td>\n      <td>2.0</td>\n      <td>0.0</td>\n    </tr>\n    <tr>\n      <th>1</th>\n      <td>gyxowrt</td>\n      <td>2</td>\n      <td>2</td>\n      <td>2</td>\n      <td>2</td>\n      <td>2</td>\n      <td>#It has come to my attention that $PLTR Nation...</td>\n      <td>2.0</td>\n      <td>2.0</td>\n      <td>0.0</td>\n    </tr>\n    <tr>\n      <th>2</th>\n      <td>h0cufvd</td>\n      <td>2</td>\n      <td>2</td>\n      <td>2</td>\n      <td>2</td>\n      <td>2</td>\n      <td>#SNDL and TLRY for smooking weed on the moon 🚬...</td>\n      <td>2.0</td>\n      <td>2.0</td>\n      <td>0.0</td>\n    </tr>\n    <tr>\n      <th>3</th>\n      <td>h16r93i</td>\n      <td>2</td>\n      <td>2</td>\n      <td>2</td>\n      <td>2</td>\n      <td>2</td>\n      <td>$63k in on WKHS calls</td>\n      <td>2.0</td>\n      <td>2.0</td>\n      <td>0.0</td>\n    </tr>\n    <tr>\n      <th>4</th>\n      <td>h1adyxq</td>\n      <td>1</td>\n      <td>2</td>\n      <td>1</td>\n      <td>2</td>\n      <td>2</td>\n      <td>$CLF and $MT</td>\n      <td>1.0</td>\n      <td>1.6</td>\n      <td>0.6</td>\n    </tr>\n    <tr>\n      <th>...</th>\n      <td>...</td>\n      <td>...</td>\n      <td>...</td>\n      <td>...</td>\n      <td>...</td>\n      <td>...</td>\n      <td>...</td>\n      <td>...</td>\n      <td>...</td>\n      <td>...</td>\n    </tr>\n    <tr>\n      <th>178</th>\n      <td>gx0pu7v</td>\n      <td>2</td>\n      <td>2</td>\n      <td>2</td>\n      <td>2</td>\n      <td>2</td>\n      <td>Woke up on the floor got up and I looked perfe...</td>\n      <td>2.0</td>\n      <td>2.0</td>\n      <td>0.0</td>\n    </tr>\n    <tr>\n      <th>179</th>\n      <td>gvgbq2j</td>\n      <td>0</td>\n      <td>0</td>\n      <td>0</td>\n      <td>2</td>\n      <td>0</td>\n      <td>Yeah, I was going to sell my UWMC for a L, but...</td>\n      <td>0.0</td>\n      <td>0.4</td>\n      <td>0.4</td>\n    </tr>\n    <tr>\n      <th>180</th>\n      <td>h0g8s39</td>\n      <td>2</td>\n      <td>2</td>\n      <td>2</td>\n      <td>2</td>\n      <td>2</td>\n      <td>Yep, it’s cheap right now and we could see it ...</td>\n      <td>2.0</td>\n      <td>2.0</td>\n      <td>0.0</td>\n    </tr>\n    <tr>\n      <th>181</th>\n      <td>h12l678</td>\n      <td>1</td>\n      <td>1</td>\n      <td>1</td>\n      <td>0</td>\n      <td>0</td>\n      <td>You didn’t know what a hedge fund was before G...</td>\n      <td>1.0</td>\n      <td>0.6</td>\n      <td>0.4</td>\n    </tr>\n    <tr>\n      <th>182</th>\n      <td>gxzi5c5</td>\n      <td>1</td>\n      <td>0</td>\n      <td>1</td>\n      <td>2</td>\n      <td>2</td>\n      <td>👆 Found the TSLA holder</td>\n      <td>2.0</td>\n      <td>1.2</td>\n      <td>0.8</td>\n    </tr>\n  </tbody>\n</table>\n<p>183 rows × 10 columns</p>\n</div>"
     },
     "execution_count": 80,
     "metadata": {},
     "output_type": "execute_result"
    }
   ],
   "source": [
    "df"
   ],
   "metadata": {
    "collapsed": false,
    "pycharm": {
     "name": "#%%\n"
    }
   }
  },
  {
   "cell_type": "code",
   "execution_count": 81,
   "outputs": [],
   "source": [
    "MAE = df[\"MAE\"].sum() / len(df[\"MAE\"])"
   ],
   "metadata": {
    "collapsed": false,
    "pycharm": {
     "name": "#%%\n"
    }
   }
  },
  {
   "cell_type": "code",
   "execution_count": 82,
   "outputs": [
    {
     "data": {
      "text/plain": "0.24043715846994532"
     },
     "execution_count": 82,
     "metadata": {},
     "output_type": "execute_result"
    }
   ],
   "source": [
    "MAE"
   ],
   "metadata": {
    "collapsed": false,
    "pycharm": {
     "name": "#%%\n"
    }
   }
  },
  {
   "cell_type": "code",
   "execution_count": null,
   "outputs": [],
   "source": [],
   "metadata": {
    "collapsed": false,
    "pycharm": {
     "name": "#%%\n"
    }
   }
  }
 ],
 "metadata": {
  "kernelspec": {
   "name": "thesis",
   "language": "python",
   "display_name": "thesis"
  },
  "language_info": {
   "codemirror_mode": {
    "name": "ipython",
    "version": 2
   },
   "file_extension": ".py",
   "mimetype": "text/x-python",
   "name": "python",
   "nbconvert_exporter": "python",
   "pygments_lexer": "ipython2",
   "version": "2.7.6"
  }
 },
 "nbformat": 4,
 "nbformat_minor": 0
}