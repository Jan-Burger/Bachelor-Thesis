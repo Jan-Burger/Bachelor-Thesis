{
 "cells": [
  {
   "cell_type": "code",
   "execution_count": 24,
   "metadata": {
    "collapsed": true
   },
   "outputs": [],
   "source": [
    "import pandas as pd\n",
    "import numpy as np\n",
    "import datetime"
   ]
  },
  {
   "cell_type": "code",
   "execution_count": 51,
   "outputs": [],
   "source": [
    "df = pd.read_csv(\"../../data/sentiment_analysis_predictions/by_post/SPY.csv\", parse_dates=[\"created_at\"])"
   ],
   "metadata": {
    "collapsed": false,
    "pycharm": {
     "name": "#%%\n"
    }
   }
  },
  {
   "cell_type": "code",
   "execution_count": 52,
   "outputs": [
    {
     "name": "stdout",
     "output_type": "stream",
     "text": [
      "<class 'pandas.core.frame.DataFrame'>\n",
      "RangeIndex: 155524 entries, 0 to 155523\n",
      "Data columns (total 6 columns):\n",
      " #   Column        Non-Null Count   Dtype         \n",
      "---  ------        --------------   -----         \n",
      " 0   created_at    155524 non-null  datetime64[ns]\n",
      " 1   post          155524 non-null  object        \n",
      " 2   stock_symbol  155524 non-null  object        \n",
      " 3   Negative      155524 non-null  float64       \n",
      " 4   Neutral       155524 non-null  float64       \n",
      " 5   Positive      155524 non-null  float64       \n",
      "dtypes: datetime64[ns](1), float64(3), object(2)\n",
      "memory usage: 7.1+ MB\n"
     ]
    }
   ],
   "source": [
    "df.info()"
   ],
   "metadata": {
    "collapsed": false,
    "pycharm": {
     "name": "#%%\n"
    }
   }
  },
  {
   "cell_type": "code",
   "execution_count": 53,
   "outputs": [],
   "source": [
    "df_group_by_average = df.groupby(df[\"created_at\"].dt.date).mean()"
   ],
   "metadata": {
    "collapsed": false,
    "pycharm": {
     "name": "#%%\n"
    }
   }
  },
  {
   "cell_type": "code",
   "execution_count": 54,
   "outputs": [],
   "source": [
    "df_group_by_average[\"count\"] = df.groupby(df[\"created_at\"].dt.date).size()"
   ],
   "metadata": {
    "collapsed": false,
    "pycharm": {
     "name": "#%%\n"
    }
   }
  },
  {
   "cell_type": "code",
   "execution_count": 55,
   "outputs": [],
   "source": [
    "df_group_by_average[\"pos_minus_neg\"] = df_group_by_average[\"Positive\"] - df_group_by_average[\"Negative\"]"
   ],
   "metadata": {
    "collapsed": false,
    "pycharm": {
     "name": "#%%\n"
    }
   }
  },
  {
   "cell_type": "code",
   "execution_count": 56,
   "outputs": [],
   "source": [
    "df_group_by_average[\"pos_minus_neg_times_count\"] = df_group_by_average[\"pos_minus_neg\"] * df_group_by_average[\"count\"]"
   ],
   "metadata": {
    "collapsed": false,
    "pycharm": {
     "name": "#%%\n"
    }
   }
  },
  {
   "cell_type": "code",
   "execution_count": 57,
   "outputs": [
    {
     "data": {
      "text/plain": "            Negative   Neutral  Positive  count  pos_minus_neg  \\\ncreated_at                                                       \n2021-05-01  0.364499  0.338692  0.296809     87      -0.067691   \n2021-05-02  0.353237  0.337489  0.309274    110      -0.043963   \n2021-05-03  0.473865  0.232569  0.293566    282      -0.180299   \n2021-05-04  0.467318  0.228605  0.304077    374      -0.163241   \n2021-05-05  0.501610  0.224523  0.273867    308      -0.227744   \n...              ...       ...       ...    ...            ...   \n2022-04-26  0.439146  0.273064  0.287790    602      -0.151355   \n2022-04-27  0.448051  0.286386  0.265564    600      -0.182487   \n2022-04-28  0.474838  0.292044  0.233118    565      -0.241720   \n2022-04-29  0.508760  0.258128  0.233112    726      -0.275648   \n2022-04-30  0.458508  0.317673  0.223819    197      -0.234689   \n\n            pos_minus_neg_times_count  \ncreated_at                             \n2021-05-01                  -5.889096  \n2021-05-02                  -4.835967  \n2021-05-03                 -50.844340  \n2021-05-04                 -61.052021  \n2021-05-05                 -70.145086  \n...                               ...  \n2022-04-26                 -91.115755  \n2022-04-27                -109.492358  \n2022-04-28                -136.571542  \n2022-04-29                -200.120464  \n2022-04-30                 -46.233703  \n\n[365 rows x 6 columns]",
      "text/html": "<div>\n<style scoped>\n    .dataframe tbody tr th:only-of-type {\n        vertical-align: middle;\n    }\n\n    .dataframe tbody tr th {\n        vertical-align: top;\n    }\n\n    .dataframe thead th {\n        text-align: right;\n    }\n</style>\n<table border=\"1\" class=\"dataframe\">\n  <thead>\n    <tr style=\"text-align: right;\">\n      <th></th>\n      <th>Negative</th>\n      <th>Neutral</th>\n      <th>Positive</th>\n      <th>count</th>\n      <th>pos_minus_neg</th>\n      <th>pos_minus_neg_times_count</th>\n    </tr>\n    <tr>\n      <th>created_at</th>\n      <th></th>\n      <th></th>\n      <th></th>\n      <th></th>\n      <th></th>\n      <th></th>\n    </tr>\n  </thead>\n  <tbody>\n    <tr>\n      <th>2021-05-01</th>\n      <td>0.364499</td>\n      <td>0.338692</td>\n      <td>0.296809</td>\n      <td>87</td>\n      <td>-0.067691</td>\n      <td>-5.889096</td>\n    </tr>\n    <tr>\n      <th>2021-05-02</th>\n      <td>0.353237</td>\n      <td>0.337489</td>\n      <td>0.309274</td>\n      <td>110</td>\n      <td>-0.043963</td>\n      <td>-4.835967</td>\n    </tr>\n    <tr>\n      <th>2021-05-03</th>\n      <td>0.473865</td>\n      <td>0.232569</td>\n      <td>0.293566</td>\n      <td>282</td>\n      <td>-0.180299</td>\n      <td>-50.844340</td>\n    </tr>\n    <tr>\n      <th>2021-05-04</th>\n      <td>0.467318</td>\n      <td>0.228605</td>\n      <td>0.304077</td>\n      <td>374</td>\n      <td>-0.163241</td>\n      <td>-61.052021</td>\n    </tr>\n    <tr>\n      <th>2021-05-05</th>\n      <td>0.501610</td>\n      <td>0.224523</td>\n      <td>0.273867</td>\n      <td>308</td>\n      <td>-0.227744</td>\n      <td>-70.145086</td>\n    </tr>\n    <tr>\n      <th>...</th>\n      <td>...</td>\n      <td>...</td>\n      <td>...</td>\n      <td>...</td>\n      <td>...</td>\n      <td>...</td>\n    </tr>\n    <tr>\n      <th>2022-04-26</th>\n      <td>0.439146</td>\n      <td>0.273064</td>\n      <td>0.287790</td>\n      <td>602</td>\n      <td>-0.151355</td>\n      <td>-91.115755</td>\n    </tr>\n    <tr>\n      <th>2022-04-27</th>\n      <td>0.448051</td>\n      <td>0.286386</td>\n      <td>0.265564</td>\n      <td>600</td>\n      <td>-0.182487</td>\n      <td>-109.492358</td>\n    </tr>\n    <tr>\n      <th>2022-04-28</th>\n      <td>0.474838</td>\n      <td>0.292044</td>\n      <td>0.233118</td>\n      <td>565</td>\n      <td>-0.241720</td>\n      <td>-136.571542</td>\n    </tr>\n    <tr>\n      <th>2022-04-29</th>\n      <td>0.508760</td>\n      <td>0.258128</td>\n      <td>0.233112</td>\n      <td>726</td>\n      <td>-0.275648</td>\n      <td>-200.120464</td>\n    </tr>\n    <tr>\n      <th>2022-04-30</th>\n      <td>0.458508</td>\n      <td>0.317673</td>\n      <td>0.223819</td>\n      <td>197</td>\n      <td>-0.234689</td>\n      <td>-46.233703</td>\n    </tr>\n  </tbody>\n</table>\n<p>365 rows × 6 columns</p>\n</div>"
     },
     "execution_count": 57,
     "metadata": {},
     "output_type": "execute_result"
    }
   ],
   "source": [
    "df_group_by_average"
   ],
   "metadata": {
    "collapsed": false,
    "pycharm": {
     "name": "#%%\n"
    }
   }
  },
  {
   "cell_type": "code",
   "execution_count": 58,
   "outputs": [],
   "source": [
    "df_group_by_average.to_csv(\"../../data/sentiment_analysis_predictions/by_day/SPY.csv\")"
   ],
   "metadata": {
    "collapsed": false,
    "pycharm": {
     "name": "#%%\n"
    }
   }
  },
  {
   "cell_type": "code",
   "execution_count": null,
   "outputs": [],
   "source": [],
   "metadata": {
    "collapsed": false,
    "pycharm": {
     "name": "#%%\n"
    }
   }
  },
  {
   "cell_type": "code",
   "execution_count": null,
   "outputs": [],
   "source": [],
   "metadata": {
    "collapsed": false,
    "pycharm": {
     "name": "#%%\n"
    }
   }
  },
  {
   "cell_type": "code",
   "execution_count": null,
   "outputs": [],
   "source": [],
   "metadata": {
    "collapsed": false,
    "pycharm": {
     "name": "#%%\n"
    }
   }
  },
  {
   "cell_type": "code",
   "execution_count": 22,
   "outputs": [
    {
     "data": {
      "text/plain": "array([\"'member when the GME squeeze was happening in January, and everyone was saying that AMC was a distraction? What happened to that?\",\n       '- AMC Market Cap: $25.7B\\n- GME Market Cap: $18.27B\\n- BB Market Cap: $8.9B\\n\\nWSB Ticker mentions:\\n\\n- AMC: Medium\\n- GME: Low\\n- BB: High\\n\\nClearly the best risk reward here is BB',\n       '                       🚀BB GME AMC NOK 🌝                                                                           \\n                   🚀🖕🖕                                                                            \\n                🚀🖕🖕🖕                                                                           \\n             🚀🖕🖕🖕🖕                                                                             \\n          🚀🖕🖕🖕🖕🖕                                                                            \\n        🚀🖕🖕🖕🖕🖕🖕                                                                            \\n      🚀🖕🖕🖕🖕🖕🖕🖕\\n    🚀 🖕🖕🖕🖕🖕🖕🖕🖕',\n       ..., '🦍🦍Bargain shopping AMC 🦍🦍',\n       '🦍🦍If AMC is so worthless, how come Hege masters took a 3 billion dollar loss yesterday, 13 billion loss so far on a worthless company? Hold and Load AMC 💰🚀🚀🚀',\n       '🦧🦧🦧🦧 AMC'], dtype=object)"
     },
     "execution_count": 22,
     "metadata": {},
     "output_type": "execute_result"
    }
   ],
   "source": [
    "df[df[\"created_at\"].dt.date == datetime.date(2021, 6, 3)][\"post\"].unique()"
   ],
   "metadata": {
    "collapsed": false,
    "pycharm": {
     "name": "#%%\n"
    }
   }
  },
  {
   "cell_type": "code",
   "execution_count": 18,
   "outputs": [
    {
     "data": {
      "text/plain": "datetime.date(2021, 6, 1)"
     },
     "execution_count": 18,
     "metadata": {},
     "output_type": "execute_result"
    }
   ],
   "source": [
    "df[\"created_at\"].dt.date[0]"
   ],
   "metadata": {
    "collapsed": false,
    "pycharm": {
     "name": "#%%\n"
    }
   }
  },
  {
   "cell_type": "code",
   "execution_count": 19,
   "outputs": [
    {
     "ename": "TypeError",
     "evalue": "descriptor 'date' for 'datetime.datetime' objects doesn't apply to a 'int' object",
     "output_type": "error",
     "traceback": [
      "\u001B[1;31m---------------------------------------------------------------------------\u001B[0m",
      "\u001B[1;31mTypeError\u001B[0m                                 Traceback (most recent call last)",
      "Input \u001B[1;32mIn [19]\u001B[0m, in \u001B[0;36m<cell line: 1>\u001B[1;34m()\u001B[0m\n\u001B[1;32m----> 1\u001B[0m \u001B[43mdatetime\u001B[49m\u001B[38;5;241;43m.\u001B[39;49m\u001B[43mdate\u001B[49m\u001B[43m(\u001B[49m\u001B[38;5;241;43m2021\u001B[39;49m\u001B[43m,\u001B[49m\u001B[43m \u001B[49m\u001B[38;5;241;43m6\u001B[39;49m\u001B[43m,\u001B[49m\u001B[43m \u001B[49m\u001B[38;5;241;43m3\u001B[39;49m\u001B[43m)\u001B[49m\n",
      "\u001B[1;31mTypeError\u001B[0m: descriptor 'date' for 'datetime.datetime' objects doesn't apply to a 'int' object"
     ]
    }
   ],
   "source": [
    " datetime.date(2021, 6, 3)"
   ],
   "metadata": {
    "collapsed": false,
    "pycharm": {
     "name": "#%%\n"
    }
   }
  },
  {
   "cell_type": "code",
   "execution_count": 30,
   "outputs": [
    {
     "data": {
      "text/plain": "                created_at                                               post  \\\n2394   2021-05-01 17:51:12                                 $AMC to the moon 🚀   \n2976   2021-05-01 06:02:43  $GME and $AMC squeezes got Hedgies reaching fo...   \n3029   2021-05-01 00:00:43  $ICTP (Intercept Pharmaceuticals): An In-Depth...   \n4808   2021-05-01 00:40:00  13f filings for AMC today. 213,000 shares adde...   \n6199   2021-05-01 04:14:30  After all the negative things fool has posted ...   \n...                    ...                                                ...   \n117890 2021-05-01 10:02:19                        When will AMC apes die off?   \n121258 2021-05-01 18:33:07  Wow. I have PFE, SQ &amp; the mother load w $A...   \n123016 2021-05-01 22:28:41  Yes! I really want to do my first options trad...   \n123225 2021-05-01 22:57:47             Yet AMC is making a killing out of it.   \n123520 2021-05-01 14:00:01  You'll all be fomoing NOK next month. No point...   \n\n                                          stock_symbol  Negative   Neutral  \\\n2394                                           ['AMC']  0.000649  0.000260   \n2976                                    ['GME', 'AMC']  0.000711  0.000426   \n3029    ['AMC', 'REAL', 'X', 'BIG', 'III', 'IS', 'WE']  0.000533  0.040576   \n4808                                           ['AMC']  0.000543  0.000272   \n6199                                           ['AMC']  0.523657  0.447448   \n...                                                ...       ...       ...   \n117890                                         ['AMC']  0.727423  0.270910   \n121258                                   ['AMC', 'SQ']  0.000636  0.000216   \n123016                                  ['AMC', 'GME']  0.000650  0.000191   \n123225                                         ['AMC']  0.003846  0.991679   \n123520                           ['AMC', 'GME', 'NOK']  0.001835  0.020993   \n\n        Positive  \n2394    0.999091  \n2976    0.998863  \n3029    0.958891  \n4808    0.999186  \n6199    0.028894  \n...          ...  \n117890  0.001667  \n121258  0.999148  \n123016  0.999160  \n123225  0.004474  \n123520  0.977172  \n\n[90 rows x 6 columns]",
      "text/html": "<div>\n<style scoped>\n    .dataframe tbody tr th:only-of-type {\n        vertical-align: middle;\n    }\n\n    .dataframe tbody tr th {\n        vertical-align: top;\n    }\n\n    .dataframe thead th {\n        text-align: right;\n    }\n</style>\n<table border=\"1\" class=\"dataframe\">\n  <thead>\n    <tr style=\"text-align: right;\">\n      <th></th>\n      <th>created_at</th>\n      <th>post</th>\n      <th>stock_symbol</th>\n      <th>Negative</th>\n      <th>Neutral</th>\n      <th>Positive</th>\n    </tr>\n  </thead>\n  <tbody>\n    <tr>\n      <th>2394</th>\n      <td>2021-05-01 17:51:12</td>\n      <td>$AMC to the moon 🚀</td>\n      <td>['AMC']</td>\n      <td>0.000649</td>\n      <td>0.000260</td>\n      <td>0.999091</td>\n    </tr>\n    <tr>\n      <th>2976</th>\n      <td>2021-05-01 06:02:43</td>\n      <td>$GME and $AMC squeezes got Hedgies reaching fo...</td>\n      <td>['GME', 'AMC']</td>\n      <td>0.000711</td>\n      <td>0.000426</td>\n      <td>0.998863</td>\n    </tr>\n    <tr>\n      <th>3029</th>\n      <td>2021-05-01 00:00:43</td>\n      <td>$ICTP (Intercept Pharmaceuticals): An In-Depth...</td>\n      <td>['AMC', 'REAL', 'X', 'BIG', 'III', 'IS', 'WE']</td>\n      <td>0.000533</td>\n      <td>0.040576</td>\n      <td>0.958891</td>\n    </tr>\n    <tr>\n      <th>4808</th>\n      <td>2021-05-01 00:40:00</td>\n      <td>13f filings for AMC today. 213,000 shares adde...</td>\n      <td>['AMC']</td>\n      <td>0.000543</td>\n      <td>0.000272</td>\n      <td>0.999186</td>\n    </tr>\n    <tr>\n      <th>6199</th>\n      <td>2021-05-01 04:14:30</td>\n      <td>After all the negative things fool has posted ...</td>\n      <td>['AMC']</td>\n      <td>0.523657</td>\n      <td>0.447448</td>\n      <td>0.028894</td>\n    </tr>\n    <tr>\n      <th>...</th>\n      <td>...</td>\n      <td>...</td>\n      <td>...</td>\n      <td>...</td>\n      <td>...</td>\n      <td>...</td>\n    </tr>\n    <tr>\n      <th>117890</th>\n      <td>2021-05-01 10:02:19</td>\n      <td>When will AMC apes die off?</td>\n      <td>['AMC']</td>\n      <td>0.727423</td>\n      <td>0.270910</td>\n      <td>0.001667</td>\n    </tr>\n    <tr>\n      <th>121258</th>\n      <td>2021-05-01 18:33:07</td>\n      <td>Wow. I have PFE, SQ &amp;amp; the mother load w $A...</td>\n      <td>['AMC', 'SQ']</td>\n      <td>0.000636</td>\n      <td>0.000216</td>\n      <td>0.999148</td>\n    </tr>\n    <tr>\n      <th>123016</th>\n      <td>2021-05-01 22:28:41</td>\n      <td>Yes! I really want to do my first options trad...</td>\n      <td>['AMC', 'GME']</td>\n      <td>0.000650</td>\n      <td>0.000191</td>\n      <td>0.999160</td>\n    </tr>\n    <tr>\n      <th>123225</th>\n      <td>2021-05-01 22:57:47</td>\n      <td>Yet AMC is making a killing out of it.</td>\n      <td>['AMC']</td>\n      <td>0.003846</td>\n      <td>0.991679</td>\n      <td>0.004474</td>\n    </tr>\n    <tr>\n      <th>123520</th>\n      <td>2021-05-01 14:00:01</td>\n      <td>You'll all be fomoing NOK next month. No point...</td>\n      <td>['AMC', 'GME', 'NOK']</td>\n      <td>0.001835</td>\n      <td>0.020993</td>\n      <td>0.977172</td>\n    </tr>\n  </tbody>\n</table>\n<p>90 rows × 6 columns</p>\n</div>"
     },
     "execution_count": 30,
     "metadata": {},
     "output_type": "execute_result"
    }
   ],
   "source": [
    "df[df[\"created_at\"].dt.date == datetime.date(2021, 5, 1)]"
   ],
   "metadata": {
    "collapsed": false,
    "pycharm": {
     "name": "#%%\n"
    }
   }
  },
  {
   "cell_type": "code",
   "execution_count": null,
   "outputs": [],
   "source": [],
   "metadata": {
    "collapsed": false,
    "pycharm": {
     "name": "#%%\n"
    }
   }
  }
 ],
 "metadata": {
  "kernelspec": {
   "name": "thesis",
   "language": "python",
   "display_name": "thesis"
  },
  "language_info": {
   "codemirror_mode": {
    "name": "ipython",
    "version": 2
   },
   "file_extension": ".py",
   "mimetype": "text/x-python",
   "name": "python",
   "nbconvert_exporter": "python",
   "pygments_lexer": "ipython2",
   "version": "2.7.6"
  }
 },
 "nbformat": 4,
 "nbformat_minor": 0
}