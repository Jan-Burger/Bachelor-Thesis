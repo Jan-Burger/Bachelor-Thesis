{
 "cells": [
  {
   "cell_type": "markdown",
   "source": [
    "## 1. Imports"
   ],
   "metadata": {
    "collapsed": false,
    "pycharm": {
     "name": "#%% md\n"
    }
   }
  },
  {
   "cell_type": "code",
   "execution_count": 50,
   "outputs": [],
   "source": [
    "import pandas as pd\n",
    "import numpy as np\n",
    "from sklearn.model_selection import train_test_split\n",
    "from sklearn.linear_model import LogisticRegression"
   ],
   "metadata": {
    "collapsed": false,
    "pycharm": {
     "name": "#%%\n"
    }
   }
  },
  {
   "cell_type": "markdown",
   "source": [
    "## 2. Loading the data"
   ],
   "metadata": {
    "collapsed": false,
    "pycharm": {
     "name": "#%% md\n"
    }
   }
  },
  {
   "cell_type": "code",
   "execution_count": 30,
   "outputs": [],
   "source": [
    "stock_ticker = \"GME\""
   ],
   "metadata": {
    "collapsed": false,
    "pycharm": {
     "name": "#%%\n"
    }
   }
  },
  {
   "cell_type": "code",
   "execution_count": 31,
   "outputs": [],
   "source": [
    "df = pd.read_csv(f\"../../../data/stock_prediction/stock_prediction_data/stock_prediction_data_{stock_ticker}.csv\", index_col=[0])"
   ],
   "metadata": {
    "collapsed": false,
    "pycharm": {
     "name": "#%%\n"
    }
   }
  },
  {
   "cell_type": "code",
   "execution_count": 32,
   "outputs": [],
   "source": [
    "# log_return_t+1 is to predict\n",
    "target = df[\"log_return_shift\"].apply(lambda x: 1 if x > 0 else -1)\n",
    "\n",
    "# used features to predict stock return\n",
    "features = [\"Negative\", \"Neutral\", \"Positive\", \"count\", \"pos_minus_neg\",\"pos_minus_neg_times_count\", \"Volume\", \"pos_minus_neg_diff\", \"count_diff\"]\n",
    "df = df[features]\n"
   ],
   "metadata": {
    "collapsed": false,
    "pycharm": {
     "name": "#%%\n"
    }
   }
  },
  {
   "cell_type": "code",
   "execution_count": 33,
   "outputs": [
    {
     "data": {
      "text/plain": "            Negative   Neutral  Positive  count  pos_minus_neg  \\\n2021-05-04  0.271763  0.360857  0.367380    499       0.095617   \n2021-05-05  0.229515  0.447798  0.322687    820       0.093173   \n2021-05-06  0.201018  0.429720  0.369262   1647       0.168243   \n2021-05-07  0.200771  0.395441  0.403788    734       0.203017   \n2021-05-10  0.290007  0.379028  0.330965    756       0.040958   \n...              ...       ...       ...    ...            ...   \n2022-04-22  0.259425  0.387646  0.352929    166       0.093503   \n2022-04-25  0.251789  0.407347  0.340865    226       0.089076   \n2022-04-26  0.341325  0.328281  0.330394    198      -0.010931   \n2022-04-27  0.228449  0.414548  0.357003    245       0.128553   \n2022-04-28  0.221616  0.425977  0.352407    206       0.130790   \n\n            pos_minus_neg_times_count   Volume  pos_minus_neg_diff  count_diff  \n2021-05-04                  47.712727  4007500           -0.068648         3.0  \n2021-05-05                  76.401538  2805400           -0.002444       321.0  \n2021-05-06                 277.096813  2942800            0.075071       827.0  \n2021-05-07                 149.014766  2934600            0.034774      -913.0  \n2021-05-10                  30.964170  4806700           -0.162059        22.0  \n...                               ...      ...                 ...         ...  \n2022-04-22                  15.521564  1569600            0.026664         2.0  \n2022-04-25                  20.131230  1534800           -0.004427        60.0  \n2022-04-26                  -2.164416  1545700           -0.100008       -28.0  \n2022-04-27                  31.495606  1305900            0.139485        47.0  \n2022-04-28                  26.942841  1767500            0.002237       -39.0  \n\n[250 rows x 9 columns]",
      "text/html": "<div>\n<style scoped>\n    .dataframe tbody tr th:only-of-type {\n        vertical-align: middle;\n    }\n\n    .dataframe tbody tr th {\n        vertical-align: top;\n    }\n\n    .dataframe thead th {\n        text-align: right;\n    }\n</style>\n<table border=\"1\" class=\"dataframe\">\n  <thead>\n    <tr style=\"text-align: right;\">\n      <th></th>\n      <th>Negative</th>\n      <th>Neutral</th>\n      <th>Positive</th>\n      <th>count</th>\n      <th>pos_minus_neg</th>\n      <th>pos_minus_neg_times_count</th>\n      <th>Volume</th>\n      <th>pos_minus_neg_diff</th>\n      <th>count_diff</th>\n    </tr>\n  </thead>\n  <tbody>\n    <tr>\n      <th>2021-05-04</th>\n      <td>0.271763</td>\n      <td>0.360857</td>\n      <td>0.367380</td>\n      <td>499</td>\n      <td>0.095617</td>\n      <td>47.712727</td>\n      <td>4007500</td>\n      <td>-0.068648</td>\n      <td>3.0</td>\n    </tr>\n    <tr>\n      <th>2021-05-05</th>\n      <td>0.229515</td>\n      <td>0.447798</td>\n      <td>0.322687</td>\n      <td>820</td>\n      <td>0.093173</td>\n      <td>76.401538</td>\n      <td>2805400</td>\n      <td>-0.002444</td>\n      <td>321.0</td>\n    </tr>\n    <tr>\n      <th>2021-05-06</th>\n      <td>0.201018</td>\n      <td>0.429720</td>\n      <td>0.369262</td>\n      <td>1647</td>\n      <td>0.168243</td>\n      <td>277.096813</td>\n      <td>2942800</td>\n      <td>0.075071</td>\n      <td>827.0</td>\n    </tr>\n    <tr>\n      <th>2021-05-07</th>\n      <td>0.200771</td>\n      <td>0.395441</td>\n      <td>0.403788</td>\n      <td>734</td>\n      <td>0.203017</td>\n      <td>149.014766</td>\n      <td>2934600</td>\n      <td>0.034774</td>\n      <td>-913.0</td>\n    </tr>\n    <tr>\n      <th>2021-05-10</th>\n      <td>0.290007</td>\n      <td>0.379028</td>\n      <td>0.330965</td>\n      <td>756</td>\n      <td>0.040958</td>\n      <td>30.964170</td>\n      <td>4806700</td>\n      <td>-0.162059</td>\n      <td>22.0</td>\n    </tr>\n    <tr>\n      <th>...</th>\n      <td>...</td>\n      <td>...</td>\n      <td>...</td>\n      <td>...</td>\n      <td>...</td>\n      <td>...</td>\n      <td>...</td>\n      <td>...</td>\n      <td>...</td>\n    </tr>\n    <tr>\n      <th>2022-04-22</th>\n      <td>0.259425</td>\n      <td>0.387646</td>\n      <td>0.352929</td>\n      <td>166</td>\n      <td>0.093503</td>\n      <td>15.521564</td>\n      <td>1569600</td>\n      <td>0.026664</td>\n      <td>2.0</td>\n    </tr>\n    <tr>\n      <th>2022-04-25</th>\n      <td>0.251789</td>\n      <td>0.407347</td>\n      <td>0.340865</td>\n      <td>226</td>\n      <td>0.089076</td>\n      <td>20.131230</td>\n      <td>1534800</td>\n      <td>-0.004427</td>\n      <td>60.0</td>\n    </tr>\n    <tr>\n      <th>2022-04-26</th>\n      <td>0.341325</td>\n      <td>0.328281</td>\n      <td>0.330394</td>\n      <td>198</td>\n      <td>-0.010931</td>\n      <td>-2.164416</td>\n      <td>1545700</td>\n      <td>-0.100008</td>\n      <td>-28.0</td>\n    </tr>\n    <tr>\n      <th>2022-04-27</th>\n      <td>0.228449</td>\n      <td>0.414548</td>\n      <td>0.357003</td>\n      <td>245</td>\n      <td>0.128553</td>\n      <td>31.495606</td>\n      <td>1305900</td>\n      <td>0.139485</td>\n      <td>47.0</td>\n    </tr>\n    <tr>\n      <th>2022-04-28</th>\n      <td>0.221616</td>\n      <td>0.425977</td>\n      <td>0.352407</td>\n      <td>206</td>\n      <td>0.130790</td>\n      <td>26.942841</td>\n      <td>1767500</td>\n      <td>0.002237</td>\n      <td>-39.0</td>\n    </tr>\n  </tbody>\n</table>\n<p>250 rows × 9 columns</p>\n</div>"
     },
     "execution_count": 33,
     "metadata": {},
     "output_type": "execute_result"
    }
   ],
   "source": [
    "df"
   ],
   "metadata": {
    "collapsed": false,
    "pycharm": {
     "name": "#%%\n"
    }
   }
  },
  {
   "cell_type": "code",
   "execution_count": 34,
   "outputs": [
    {
     "data": {
      "text/plain": "-1    0.532\n 1    0.468\nName: log_return_shift, dtype: float64"
     },
     "execution_count": 34,
     "metadata": {},
     "output_type": "execute_result"
    }
   ],
   "source": [
    "target.value_counts(normalize=True)"
   ],
   "metadata": {
    "collapsed": false,
    "pycharm": {
     "name": "#%%\n"
    }
   }
  },
  {
   "cell_type": "markdown",
   "source": [
    "## 3. Data transformation"
   ],
   "metadata": {
    "collapsed": false,
    "pycharm": {
     "name": "#%% md\n"
    }
   }
  },
  {
   "cell_type": "code",
   "execution_count": 35,
   "outputs": [],
   "source": [
    "# Data normalization\n",
    "df = (df - df.mean())/df.std()"
   ],
   "metadata": {
    "collapsed": false,
    "pycharm": {
     "name": "#%%\n"
    }
   }
  },
  {
   "cell_type": "code",
   "execution_count": 43,
   "outputs": [],
   "source": [
    "# Stratified split\n",
    "X_train, X_test, Y_train, Y_test = train_test_split(df, target, stratify=target, test_size=0.25,random_state=42)"
   ],
   "metadata": {
    "collapsed": false,
    "pycharm": {
     "name": "#%%\n"
    }
   }
  },
  {
   "cell_type": "code",
   "execution_count": 49,
   "outputs": [
    {
     "data": {
      "text/plain": "2021-10-25    1\n2021-05-13   -1\n2021-09-15    1\n2021-12-10   -1\n2021-06-21    1\n             ..\n2021-12-27   -1\n2021-09-29   -1\n2022-02-14    1\n2021-12-01    1\n2022-03-01    1\nName: log_return_shift, Length: 187, dtype: int64"
     },
     "execution_count": 49,
     "metadata": {},
     "output_type": "execute_result"
    }
   ],
   "source": [
    "Y_train"
   ],
   "metadata": {
    "collapsed": false,
    "pycharm": {
     "name": "#%%\n"
    }
   }
  },
  {
   "cell_type": "code",
   "execution_count": 48,
   "outputs": [
    {
     "data": {
      "text/plain": "-1    0.539683\n 1    0.460317\nName: log_return_shift, dtype: float64"
     },
     "execution_count": 48,
     "metadata": {},
     "output_type": "execute_result"
    }
   ],
   "source": [
    "Y_test.value_counts(normalize=True)"
   ],
   "metadata": {
    "collapsed": false,
    "pycharm": {
     "name": "#%%\n"
    }
   }
  },
  {
   "cell_type": "markdown",
   "source": [
    "## 4. Model training and prediction"
   ],
   "metadata": {
    "collapsed": false,
    "pycharm": {
     "name": "#%% md\n"
    }
   }
  },
  {
   "cell_type": "code",
   "execution_count": 51,
   "outputs": [],
   "source": [
    "# Create LR classifier\n",
    "clf = LogisticRegression(random_state=0).fit(X_train, Y_train)"
   ],
   "metadata": {
    "collapsed": false,
    "pycharm": {
     "name": "#%%\n"
    }
   }
  },
  {
   "cell_type": "code",
   "execution_count": 54,
   "outputs": [
    {
     "data": {
      "text/plain": "0.49206349206349204"
     },
     "execution_count": 54,
     "metadata": {},
     "output_type": "execute_result"
    }
   ],
   "source": [
    "clf.score(X_test, Y_test)"
   ],
   "metadata": {
    "collapsed": false,
    "pycharm": {
     "name": "#%%\n"
    }
   }
  },
  {
   "cell_type": "code",
   "execution_count": null,
   "outputs": [],
   "source": [],
   "metadata": {
    "collapsed": false,
    "pycharm": {
     "name": "#%%\n"
    }
   }
  }
 ],
 "metadata": {
  "kernelspec": {
   "name": "thesis",
   "language": "python",
   "display_name": "thesis"
  },
  "language_info": {
   "codemirror_mode": {
    "name": "ipython",
    "version": 2
   },
   "file_extension": ".py",
   "mimetype": "text/x-python",
   "name": "python",
   "nbconvert_exporter": "python",
   "pygments_lexer": "ipython2",
   "version": "2.7.6"
  }
 },
 "nbformat": 4,
 "nbformat_minor": 0
}