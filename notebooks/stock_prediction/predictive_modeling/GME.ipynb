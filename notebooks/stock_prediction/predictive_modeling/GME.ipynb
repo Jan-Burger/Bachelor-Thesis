{
 "cells": [
  {
   "cell_type": "markdown",
   "source": [
    "## 1. Imports"
   ],
   "metadata": {
    "collapsed": false,
    "pycharm": {
     "name": "#%% md\n"
    }
   }
  },
  {
   "cell_type": "code",
   "execution_count": 42,
   "outputs": [],
   "source": [
    "import pickle\n",
    "import pandas as pd\n",
    "import numpy as np\n",
    "import seaborn as sns\n",
    "import matplotlib.pyplot as plt\n",
    "from joblib import dump, load\n",
    "from sklearn.model_selection import train_test_split\n",
    "from sklearn.linear_model import LogisticRegression\n",
    "from sklearn.tree import DecisionTreeClassifier\n",
    "from sklearn.ensemble import RandomForestClassifier\n",
    "from xgboost import XGBClassifier\n",
    "from sklearn.neighbors import KNeighborsClassifier\n",
    "from sklearn.neural_network import MLPClassifier\n",
    "from sklearn.metrics import precision_score, recall_score, f1_score, confusion_matrix"
   ],
   "metadata": {
    "collapsed": false,
    "pycharm": {
     "name": "#%%\n"
    }
   }
  },
  {
   "cell_type": "markdown",
   "source": [
    "## 2. Loading the data"
   ],
   "metadata": {
    "collapsed": false,
    "pycharm": {
     "name": "#%% md\n"
    }
   }
  },
  {
   "cell_type": "code",
   "execution_count": 2,
   "outputs": [],
   "source": [
    "stock_ticker = \"GME\""
   ],
   "metadata": {
    "collapsed": false,
    "pycharm": {
     "name": "#%%\n"
    }
   }
  },
  {
   "cell_type": "code",
   "execution_count": 3,
   "outputs": [],
   "source": [
    "df = pd.read_csv(f\"../../../data/stock_prediction/stock_prediction_data/stock_prediction_data_{stock_ticker}.csv\", index_col=[0])"
   ],
   "metadata": {
    "collapsed": false,
    "pycharm": {
     "name": "#%%\n"
    }
   }
  },
  {
   "cell_type": "code",
   "execution_count": 4,
   "outputs": [],
   "source": [
    "# log_return_t+1 is to predict -> positive or negative return\n",
    "target = df[\"log_return_shift\"].apply(lambda x: 1 if x > 0 else 0)\n",
    "\n",
    "# used features to predict stock return\n",
    "features = [\"Negative\", \"Neutral\", \"Positive\", \"count\", \"pos_minus_neg\",\"pos_minus_neg_times_count\", \"Volume\", \"pos_minus_neg_diff\", \"count_diff\"]\n",
    "df = df[features]\n"
   ],
   "metadata": {
    "collapsed": false,
    "pycharm": {
     "name": "#%%\n"
    }
   }
  },
  {
   "cell_type": "code",
   "execution_count": 5,
   "outputs": [
    {
     "data": {
      "text/plain": "            Negative   Neutral  Positive  count  pos_minus_neg  \\\n2021-05-04  0.271763  0.360857  0.367380    499       0.095617   \n2021-05-05  0.229515  0.447798  0.322687    820       0.093173   \n2021-05-06  0.201018  0.429720  0.369262   1647       0.168243   \n2021-05-07  0.200771  0.395441  0.403788    734       0.203017   \n2021-05-10  0.290007  0.379028  0.330965    756       0.040958   \n...              ...       ...       ...    ...            ...   \n2022-04-22  0.259425  0.387646  0.352929    166       0.093503   \n2022-04-25  0.251789  0.407347  0.340865    226       0.089076   \n2022-04-26  0.341325  0.328281  0.330394    198      -0.010931   \n2022-04-27  0.228449  0.414548  0.357003    245       0.128553   \n2022-04-28  0.221616  0.425977  0.352407    206       0.130790   \n\n            pos_minus_neg_times_count   Volume  pos_minus_neg_diff  count_diff  \n2021-05-04                  47.712727  4007500           -0.068648         3.0  \n2021-05-05                  76.401538  2805400           -0.002444       321.0  \n2021-05-06                 277.096813  2942800            0.075071       827.0  \n2021-05-07                 149.014766  2934600            0.034774      -913.0  \n2021-05-10                  30.964170  4806700           -0.162059        22.0  \n...                               ...      ...                 ...         ...  \n2022-04-22                  15.521564  1569600            0.026664         2.0  \n2022-04-25                  20.131230  1534800           -0.004427        60.0  \n2022-04-26                  -2.164416  1545700           -0.100008       -28.0  \n2022-04-27                  31.495606  1305900            0.139485        47.0  \n2022-04-28                  26.942841  1767500            0.002237       -39.0  \n\n[250 rows x 9 columns]",
      "text/html": "<div>\n<style scoped>\n    .dataframe tbody tr th:only-of-type {\n        vertical-align: middle;\n    }\n\n    .dataframe tbody tr th {\n        vertical-align: top;\n    }\n\n    .dataframe thead th {\n        text-align: right;\n    }\n</style>\n<table border=\"1\" class=\"dataframe\">\n  <thead>\n    <tr style=\"text-align: right;\">\n      <th></th>\n      <th>Negative</th>\n      <th>Neutral</th>\n      <th>Positive</th>\n      <th>count</th>\n      <th>pos_minus_neg</th>\n      <th>pos_minus_neg_times_count</th>\n      <th>Volume</th>\n      <th>pos_minus_neg_diff</th>\n      <th>count_diff</th>\n    </tr>\n  </thead>\n  <tbody>\n    <tr>\n      <th>2021-05-04</th>\n      <td>0.271763</td>\n      <td>0.360857</td>\n      <td>0.367380</td>\n      <td>499</td>\n      <td>0.095617</td>\n      <td>47.712727</td>\n      <td>4007500</td>\n      <td>-0.068648</td>\n      <td>3.0</td>\n    </tr>\n    <tr>\n      <th>2021-05-05</th>\n      <td>0.229515</td>\n      <td>0.447798</td>\n      <td>0.322687</td>\n      <td>820</td>\n      <td>0.093173</td>\n      <td>76.401538</td>\n      <td>2805400</td>\n      <td>-0.002444</td>\n      <td>321.0</td>\n    </tr>\n    <tr>\n      <th>2021-05-06</th>\n      <td>0.201018</td>\n      <td>0.429720</td>\n      <td>0.369262</td>\n      <td>1647</td>\n      <td>0.168243</td>\n      <td>277.096813</td>\n      <td>2942800</td>\n      <td>0.075071</td>\n      <td>827.0</td>\n    </tr>\n    <tr>\n      <th>2021-05-07</th>\n      <td>0.200771</td>\n      <td>0.395441</td>\n      <td>0.403788</td>\n      <td>734</td>\n      <td>0.203017</td>\n      <td>149.014766</td>\n      <td>2934600</td>\n      <td>0.034774</td>\n      <td>-913.0</td>\n    </tr>\n    <tr>\n      <th>2021-05-10</th>\n      <td>0.290007</td>\n      <td>0.379028</td>\n      <td>0.330965</td>\n      <td>756</td>\n      <td>0.040958</td>\n      <td>30.964170</td>\n      <td>4806700</td>\n      <td>-0.162059</td>\n      <td>22.0</td>\n    </tr>\n    <tr>\n      <th>...</th>\n      <td>...</td>\n      <td>...</td>\n      <td>...</td>\n      <td>...</td>\n      <td>...</td>\n      <td>...</td>\n      <td>...</td>\n      <td>...</td>\n      <td>...</td>\n    </tr>\n    <tr>\n      <th>2022-04-22</th>\n      <td>0.259425</td>\n      <td>0.387646</td>\n      <td>0.352929</td>\n      <td>166</td>\n      <td>0.093503</td>\n      <td>15.521564</td>\n      <td>1569600</td>\n      <td>0.026664</td>\n      <td>2.0</td>\n    </tr>\n    <tr>\n      <th>2022-04-25</th>\n      <td>0.251789</td>\n      <td>0.407347</td>\n      <td>0.340865</td>\n      <td>226</td>\n      <td>0.089076</td>\n      <td>20.131230</td>\n      <td>1534800</td>\n      <td>-0.004427</td>\n      <td>60.0</td>\n    </tr>\n    <tr>\n      <th>2022-04-26</th>\n      <td>0.341325</td>\n      <td>0.328281</td>\n      <td>0.330394</td>\n      <td>198</td>\n      <td>-0.010931</td>\n      <td>-2.164416</td>\n      <td>1545700</td>\n      <td>-0.100008</td>\n      <td>-28.0</td>\n    </tr>\n    <tr>\n      <th>2022-04-27</th>\n      <td>0.228449</td>\n      <td>0.414548</td>\n      <td>0.357003</td>\n      <td>245</td>\n      <td>0.128553</td>\n      <td>31.495606</td>\n      <td>1305900</td>\n      <td>0.139485</td>\n      <td>47.0</td>\n    </tr>\n    <tr>\n      <th>2022-04-28</th>\n      <td>0.221616</td>\n      <td>0.425977</td>\n      <td>0.352407</td>\n      <td>206</td>\n      <td>0.130790</td>\n      <td>26.942841</td>\n      <td>1767500</td>\n      <td>0.002237</td>\n      <td>-39.0</td>\n    </tr>\n  </tbody>\n</table>\n<p>250 rows × 9 columns</p>\n</div>"
     },
     "execution_count": 5,
     "metadata": {},
     "output_type": "execute_result"
    }
   ],
   "source": [
    "df"
   ],
   "metadata": {
    "collapsed": false,
    "pycharm": {
     "name": "#%%\n"
    }
   }
  },
  {
   "cell_type": "code",
   "execution_count": 6,
   "outputs": [
    {
     "data": {
      "text/plain": "0    0.532\n1    0.468\nName: log_return_shift, dtype: float64"
     },
     "execution_count": 6,
     "metadata": {},
     "output_type": "execute_result"
    }
   ],
   "source": [
    "target.value_counts(normalize=True)"
   ],
   "metadata": {
    "collapsed": false,
    "pycharm": {
     "name": "#%%\n"
    }
   }
  },
  {
   "cell_type": "markdown",
   "source": [
    "## 3. Data transformation"
   ],
   "metadata": {
    "collapsed": false,
    "pycharm": {
     "name": "#%% md\n"
    }
   }
  },
  {
   "cell_type": "code",
   "execution_count": 7,
   "outputs": [],
   "source": [
    "# Data normalization\n",
    "df = (df - df.mean())/df.std()"
   ],
   "metadata": {
    "collapsed": false,
    "pycharm": {
     "name": "#%%\n"
    }
   }
  },
  {
   "cell_type": "code",
   "execution_count": 8,
   "outputs": [],
   "source": [
    "# Stratified split\n",
    "X_train, X_test, Y_train, Y_test = train_test_split(df, target, stratify=target, test_size=0.25, random_state=42)"
   ],
   "metadata": {
    "collapsed": false,
    "pycharm": {
     "name": "#%%\n"
    }
   }
  },
  {
   "cell_type": "code",
   "execution_count": 9,
   "outputs": [
    {
     "data": {
      "text/plain": "2021-10-25    1\n2021-05-13    0\n2021-09-15    1\n2021-12-10    0\n2021-06-21    1\n             ..\n2021-12-27    0\n2021-09-29    0\n2022-02-14    1\n2021-12-01    1\n2022-03-01    1\nName: log_return_shift, Length: 187, dtype: int64"
     },
     "execution_count": 9,
     "metadata": {},
     "output_type": "execute_result"
    }
   ],
   "source": [
    "Y_train"
   ],
   "metadata": {
    "collapsed": false,
    "pycharm": {
     "name": "#%%\n"
    }
   }
  },
  {
   "cell_type": "code",
   "execution_count": 10,
   "outputs": [
    {
     "data": {
      "text/plain": "0    0.539683\n1    0.460317\nName: log_return_shift, dtype: float64"
     },
     "execution_count": 10,
     "metadata": {},
     "output_type": "execute_result"
    }
   ],
   "source": [
    "Y_test.value_counts(normalize=True)"
   ],
   "metadata": {
    "collapsed": false,
    "pycharm": {
     "name": "#%%\n"
    }
   }
  },
  {
   "cell_type": "markdown",
   "source": [
    "## 4. Model training and prediction"
   ],
   "metadata": {
    "collapsed": false,
    "pycharm": {
     "name": "#%% md\n"
    }
   }
  },
  {
   "cell_type": "code",
   "execution_count": 11,
   "outputs": [],
   "source": [
    "# Create LR classifier\n",
    "clf_lr = LogisticRegression(random_state=42).fit(X_train, Y_train)"
   ],
   "metadata": {
    "collapsed": false,
    "pycharm": {
     "name": "#%%\n"
    }
   }
  },
  {
   "cell_type": "code",
   "execution_count": 12,
   "outputs": [],
   "source": [
    "train_acc_lr = clf_lr.score(X_train, Y_train)\n",
    "test_acc_lr = clf_lr.score(X_test, Y_test)"
   ],
   "metadata": {
    "collapsed": false,
    "pycharm": {
     "name": "#%%\n"
    }
   }
  },
  {
   "cell_type": "code",
   "execution_count": 13,
   "outputs": [],
   "source": [
    "# Create DT classifier\n",
    "clf_dt = DecisionTreeClassifier().fit(X_train, Y_train)"
   ],
   "metadata": {
    "collapsed": false,
    "pycharm": {
     "name": "#%%\n"
    }
   }
  },
  {
   "cell_type": "code",
   "execution_count": 14,
   "outputs": [],
   "source": [
    "train_acc_dt = clf_dt.score(X_train, Y_train)\n",
    "test_acc_dt = clf_dt.score(X_test, Y_test)"
   ],
   "metadata": {
    "collapsed": false,
    "pycharm": {
     "name": "#%%\n"
    }
   }
  },
  {
   "cell_type": "code",
   "execution_count": 15,
   "outputs": [],
   "source": [
    "# Create RF classifier\n",
    "clf_rf = RandomForestClassifier(random_state=42).fit(X_train, Y_train)"
   ],
   "metadata": {
    "collapsed": false,
    "pycharm": {
     "name": "#%%\n"
    }
   }
  },
  {
   "cell_type": "code",
   "execution_count": 16,
   "outputs": [],
   "source": [
    "train_acc_rf = clf_rf.score(X_train, Y_train)\n",
    "test_acc_rf = clf_rf.score(X_test, Y_test)"
   ],
   "metadata": {
    "collapsed": false,
    "pycharm": {
     "name": "#%%\n"
    }
   }
  },
  {
   "cell_type": "code",
   "execution_count": 17,
   "outputs": [],
   "source": [
    "# Create XGBoost classifier\n",
    "cl_xgb = XGBClassifier(use_label_encoder=False, eval_metric='mlogloss').fit(X_train, Y_train)"
   ],
   "metadata": {
    "collapsed": false,
    "pycharm": {
     "name": "#%%\n"
    }
   }
  },
  {
   "cell_type": "code",
   "execution_count": 18,
   "outputs": [],
   "source": [
    "train_acc_xgb = cl_xgb.score(X_train, Y_train)\n",
    "test_acc_xgb = cl_xgb.score(X_test, Y_test)"
   ],
   "metadata": {
    "collapsed": false,
    "pycharm": {
     "name": "#%%\n"
    }
   }
  },
  {
   "cell_type": "code",
   "execution_count": 19,
   "outputs": [],
   "source": [
    "# Create KNN classifier\n",
    "clf_knn = KNeighborsClassifier().fit(X_train, Y_train)"
   ],
   "metadata": {
    "collapsed": false,
    "pycharm": {
     "name": "#%%\n"
    }
   }
  },
  {
   "cell_type": "code",
   "execution_count": 20,
   "outputs": [],
   "source": [
    "train_acc_knn = clf_knn.score(X_train, Y_train)\n",
    "test_acc_knn = clf_knn.score(X_test, Y_test)"
   ],
   "metadata": {
    "collapsed": false,
    "pycharm": {
     "name": "#%%\n"
    }
   }
  },
  {
   "cell_type": "code",
   "execution_count": 21,
   "outputs": [
    {
     "name": "stderr",
     "output_type": "stream",
     "text": [
      "C:\\Users\\janbu\\anaconda3\\envs\\thesis\\lib\\site-packages\\sklearn\\neural_network\\_multilayer_perceptron.py:702: ConvergenceWarning: Stochastic Optimizer: Maximum iterations (100) reached and the optimization hasn't converged yet.\n",
      "  warnings.warn(\n"
     ]
    }
   ],
   "source": [
    "# Create MLP classifier\n",
    "clf_mlp = MLPClassifier(random_state=42, max_iter=100).fit(X_train, Y_train)"
   ],
   "metadata": {
    "collapsed": false,
    "pycharm": {
     "name": "#%%\n"
    }
   }
  },
  {
   "cell_type": "code",
   "execution_count": 22,
   "outputs": [],
   "source": [
    "train_acc_mlp = clf_mlp.score(X_train, Y_train)\n",
    "test_acc_mlp = clf_mlp.score(X_test, Y_test)"
   ],
   "metadata": {
    "collapsed": false,
    "pycharm": {
     "name": "#%%\n"
    }
   }
  },
  {
   "cell_type": "code",
   "execution_count": 23,
   "outputs": [],
   "source": [
    "result_df = pd.DataFrame(\n",
    "    data={\n",
    "        \"Model\": [\"Logistic Regression\", \"Decision Tree\", \"Random Forest\", \"XGBoost\", \"K-Nearest Neighbour\", \"Neural Network\"],\n",
    "        \"Train Accuracy\": [train_acc_lr, train_acc_dt, train_acc_rf, train_acc_xgb, train_acc_knn, train_acc_mlp],\n",
    "        \"Test Accuracy\": [test_acc_lr, test_acc_dt, test_acc_rf, test_acc_xgb, test_acc_knn, test_acc_mlp]\n",
    "    }\n",
    ")"
   ],
   "metadata": {
    "collapsed": false,
    "pycharm": {
     "name": "#%%\n"
    }
   }
  },
  {
   "cell_type": "code",
   "execution_count": 24,
   "outputs": [
    {
     "data": {
      "text/plain": "                 Model  Train Accuracy  Test Accuracy\n0  Logistic Regression        0.550802       0.492063\n1        Decision Tree        1.000000       0.587302\n2        Random Forest        1.000000       0.539683\n3              XGBoost        1.000000       0.587302\n4  K-Nearest Neighbour        0.641711       0.396825\n5       Neural Network        0.668449       0.523810",
      "text/html": "<div>\n<style scoped>\n    .dataframe tbody tr th:only-of-type {\n        vertical-align: middle;\n    }\n\n    .dataframe tbody tr th {\n        vertical-align: top;\n    }\n\n    .dataframe thead th {\n        text-align: right;\n    }\n</style>\n<table border=\"1\" class=\"dataframe\">\n  <thead>\n    <tr style=\"text-align: right;\">\n      <th></th>\n      <th>Model</th>\n      <th>Train Accuracy</th>\n      <th>Test Accuracy</th>\n    </tr>\n  </thead>\n  <tbody>\n    <tr>\n      <th>0</th>\n      <td>Logistic Regression</td>\n      <td>0.550802</td>\n      <td>0.492063</td>\n    </tr>\n    <tr>\n      <th>1</th>\n      <td>Decision Tree</td>\n      <td>1.000000</td>\n      <td>0.587302</td>\n    </tr>\n    <tr>\n      <th>2</th>\n      <td>Random Forest</td>\n      <td>1.000000</td>\n      <td>0.539683</td>\n    </tr>\n    <tr>\n      <th>3</th>\n      <td>XGBoost</td>\n      <td>1.000000</td>\n      <td>0.587302</td>\n    </tr>\n    <tr>\n      <th>4</th>\n      <td>K-Nearest Neighbour</td>\n      <td>0.641711</td>\n      <td>0.396825</td>\n    </tr>\n    <tr>\n      <th>5</th>\n      <td>Neural Network</td>\n      <td>0.668449</td>\n      <td>0.523810</td>\n    </tr>\n  </tbody>\n</table>\n</div>"
     },
     "execution_count": 24,
     "metadata": {},
     "output_type": "execute_result"
    }
   ],
   "source": [
    "result_df"
   ],
   "metadata": {
    "collapsed": false,
    "pycharm": {
     "name": "#%%\n"
    }
   }
  },
  {
   "cell_type": "code",
   "execution_count": 115,
   "outputs": [],
   "source": [
    "result_df.to_excel(f\"../../../data/stock_prediction/stock_prediction_model_results/{stock_ticker}.xlsx\")"
   ],
   "metadata": {
    "collapsed": false,
    "pycharm": {
     "name": "#%%\n"
    }
   }
  },
  {
   "cell_type": "markdown",
   "source": [
    "## 5. Saving all models"
   ],
   "metadata": {
    "collapsed": false,
    "pycharm": {
     "name": "#%% md\n"
    }
   }
  },
  {
   "cell_type": "code",
   "execution_count": null,
   "outputs": [],
   "source": [
    "dump(clf_lr, f'../../../models/stock_prediction/{stock_ticker}/Logistic_Regression.joblib')"
   ],
   "metadata": {
    "collapsed": false,
    "pycharm": {
     "name": "#%%\n"
    }
   }
  },
  {
   "cell_type": "code",
   "execution_count": 119,
   "outputs": [
    {
     "data": {
      "text/plain": "['../../../models/stock_prediction/GME/Decision_Tree.joblib']"
     },
     "execution_count": 119,
     "metadata": {},
     "output_type": "execute_result"
    }
   ],
   "source": [
    "dump(clf_dt, f'../../../models/stock_prediction/{stock_ticker}/Decision_Tree.joblib')"
   ],
   "metadata": {
    "collapsed": false,
    "pycharm": {
     "name": "#%%\n"
    }
   }
  },
  {
   "cell_type": "code",
   "execution_count": 120,
   "outputs": [
    {
     "data": {
      "text/plain": "['../../../models/stock_prediction/GME/Random_Forest.joblib']"
     },
     "execution_count": 120,
     "metadata": {},
     "output_type": "execute_result"
    }
   ],
   "source": [
    "dump(clf_rf, f'../../../models/stock_prediction/{stock_ticker}/Random_Forest.joblib')"
   ],
   "metadata": {
    "collapsed": false,
    "pycharm": {
     "name": "#%%\n"
    }
   }
  },
  {
   "cell_type": "code",
   "execution_count": 121,
   "outputs": [
    {
     "data": {
      "text/plain": "['../../../models/stock_prediction/GME/XGBoost.joblib']"
     },
     "execution_count": 121,
     "metadata": {},
     "output_type": "execute_result"
    }
   ],
   "source": [
    "dump(cl_xgb, f'../../../models/stock_prediction/{stock_ticker}/XGBoost.joblib')"
   ],
   "metadata": {
    "collapsed": false,
    "pycharm": {
     "name": "#%%\n"
    }
   }
  },
  {
   "cell_type": "code",
   "execution_count": 122,
   "outputs": [
    {
     "data": {
      "text/plain": "['../../../models/stock_prediction/GME/K-Nearest_Neighbour.joblib']"
     },
     "execution_count": 122,
     "metadata": {},
     "output_type": "execute_result"
    }
   ],
   "source": [
    "dump(clf_knn, f'../../../models/stock_prediction/{stock_ticker}/K-Nearest_Neighbour.joblib')"
   ],
   "metadata": {
    "collapsed": false,
    "pycharm": {
     "name": "#%%\n"
    }
   }
  },
  {
   "cell_type": "code",
   "execution_count": 123,
   "outputs": [
    {
     "data": {
      "text/plain": "['../../../models/stock_prediction/GME/Neural_Network.joblib']"
     },
     "execution_count": 123,
     "metadata": {},
     "output_type": "execute_result"
    }
   ],
   "source": [
    "dump(clf_mlp, f'../../../models/stock_prediction/{stock_ticker}/Neural_Network.joblib')"
   ],
   "metadata": {
    "collapsed": false,
    "pycharm": {
     "name": "#%%\n"
    }
   }
  },
  {
   "cell_type": "markdown",
   "source": [
    "## 6. Best model inspection - XGBoost"
   ],
   "metadata": {
    "collapsed": false,
    "pycharm": {
     "name": "#%% md\n"
    }
   }
  },
  {
   "cell_type": "code",
   "execution_count": 28,
   "outputs": [],
   "source": [
    "y_pred = cl_xgb.predict(X_test)\n",
    "y_true = Y_test"
   ],
   "metadata": {
    "collapsed": false,
    "pycharm": {
     "name": "#%%\n"
    }
   }
  },
  {
   "cell_type": "code",
   "execution_count": 33,
   "outputs": [],
   "source": [
    "# Calculate accuracy, precision, recall and f1-score with micro average\n",
    "prec = precision_score(y_true=y_true, y_pred=y_pred)\n",
    "recall = recall_score(y_true=y_true, y_pred=y_pred)\n",
    "f1 = f1_score(y_true=y_true, y_pred=y_pred)"
   ],
   "metadata": {
    "collapsed": false,
    "pycharm": {
     "name": "#%%\n"
    }
   }
  },
  {
   "cell_type": "code",
   "execution_count": 40,
   "outputs": [],
   "source": [
    "# Create raw and normalized confusion matrices\n",
    "cm_raw = confusion_matrix(y_true, y_pred)\n",
    "cm_normalized = np.round(cm_raw.astype('float') / cm_raw.sum(axis=1)[:, np.newaxis], decimals=2)"
   ],
   "metadata": {
    "collapsed": false,
    "pycharm": {
     "name": "#%%\n"
    }
   }
  },
  {
   "cell_type": "code",
   "execution_count": 41,
   "outputs": [
    {
     "data": {
      "text/plain": "array([[19, 15],\n       [11, 18]], dtype=int64)"
     },
     "execution_count": 41,
     "metadata": {},
     "output_type": "execute_result"
    }
   ],
   "source": [
    "cm_raw"
   ],
   "metadata": {
    "collapsed": false,
    "pycharm": {
     "name": "#%%\n"
    }
   }
  },
  {
   "cell_type": "code",
   "execution_count": 44,
   "outputs": [
    {
     "data": {
      "text/plain": "<Figure size 576x360 with 2 Axes>",
      "image/png": "[encoded data removed]"
     },
     "metadata": {
      "needs_background": "light"
     },
     "output_type": "display_data"
    }
   ],
   "source": [
    "# Create confusion matrices with seaborn\n",
    "\n",
    "# Raw Confusion matrix\n",
    "df_cm_raw = pd.DataFrame(cm_raw, columns=[\"Negative Return\", \"Positive Return\"], index=[\"Negative Return\", \"Positive Return\"])\n",
    "df_cm_raw.index.name = \"True label\"\n",
    "df_cm_raw.columns.name = \"Predicted label\"\n",
    "plt.figure(figsize=(8, 5))\n",
    "plt.title(f\"Confusion matrix XGBoost - GME\")\n",
    "plot_cm_raw = sns.heatmap(\n",
    "    df_cm_raw, cmap=\"Blues\", annot=True, annot_kws={\"size\": 14}\n",
    ")  # font size\n"
   ],
   "metadata": {
    "collapsed": false,
    "pycharm": {
     "name": "#%%\n"
    }
   }
  },
  {
   "cell_type": "code",
   "execution_count": 53,
   "outputs": [
    {
     "data": {
      "text/plain": "<Figure size 576x360 with 2 Axes>",
      "image/png": "[encoded data removed]"
     },
     "metadata": {
      "needs_background": "light"
     },
     "output_type": "display_data"
    }
   ],
   "source": [
    "# Normalized by true label Confusion matrix\n",
    "df_cm_raw = pd.DataFrame(cm_normalized, columns=[\"Negative Return\", \"Positive Return\"], index=[\"Negative Return\", \"Positive Return\"])\n",
    "df_cm_raw.index.name = \"True label\"\n",
    "df_cm_raw.columns.name = \"Predicted label\"\n",
    "plt.figure(figsize=(8, 5))\n",
    "plt.title(f\"Confusion matrix XGBoost - GME\")\n",
    "plot_cm_raw = sns.heatmap(\n",
    "    df_cm_raw, cmap=\"Blues\", annot=True, annot_kws={\"size\": 14}\n",
    ")  # font size"
   ],
   "metadata": {
    "collapsed": false,
    "pycharm": {
     "name": "#%%\n"
    }
   }
  },
  {
   "cell_type": "code",
   "execution_count": null,
   "outputs": [],
   "source": [
    "# von allen positve returns 62% richtig von allen negative returns 56% richtig"
   ],
   "metadata": {
    "collapsed": false,
    "pycharm": {
     "name": "#%%\n"
    }
   }
  },
  {
   "cell_type": "code",
   "execution_count": null,
   "outputs": [],
   "source": [
    "# noch 1 plot mit labels as color und actual amount of return as scale on x and y is true label and color is predicted label maybe"
   ],
   "metadata": {
    "collapsed": false,
    "pycharm": {
     "name": "#%%\n"
    }
   }
  }
 ],
 "metadata": {
  "kernelspec": {
   "name": "thesis",
   "language": "python",
   "display_name": "thesis"
  },
  "language_info": {
   "codemirror_mode": {
    "name": "ipython",
    "version": 2
   },
   "file_extension": ".py",
   "mimetype": "text/x-python",
   "name": "python",
   "nbconvert_exporter": "python",
   "pygments_lexer": "ipython2",
   "version": "2.7.6"
  }
 },
 "nbformat": 4,
 "nbformat_minor": 0
}