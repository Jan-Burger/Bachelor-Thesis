{
 "cells": [
  {
   "cell_type": "markdown",
   "source": [
    "## 1. Imports"
   ],
   "metadata": {
    "collapsed": false,
    "pycharm": {
     "name": "#%% md\n"
    }
   }
  },
  {
   "cell_type": "code",
   "execution_count": 1,
   "outputs": [],
   "source": [
    "import pickle\n",
    "import pandas as pd\n",
    "import numpy as np\n",
    "from joblib import dump, load\n",
    "from sklearn.model_selection import train_test_split\n",
    "from sklearn.linear_model import LogisticRegression\n",
    "from sklearn.tree import DecisionTreeClassifier\n",
    "from sklearn.ensemble import RandomForestClassifier\n",
    "from xgboost import XGBClassifier\n",
    "from sklearn.neighbors import KNeighborsClassifier\n",
    "from sklearn.neural_network import MLPClassifier"
   ],
   "metadata": {
    "collapsed": false,
    "pycharm": {
     "name": "#%%\n"
    }
   }
  },
  {
   "cell_type": "markdown",
   "source": [
    "## 2. Loading the data"
   ],
   "metadata": {
    "collapsed": false,
    "pycharm": {
     "name": "#%% md\n"
    }
   }
  },
  {
   "cell_type": "code",
   "execution_count": 2,
   "outputs": [],
   "source": [
    "stock_ticker = \"SPY\""
   ],
   "metadata": {
    "collapsed": false,
    "pycharm": {
     "name": "#%%\n"
    }
   }
  },
  {
   "cell_type": "code",
   "execution_count": 3,
   "outputs": [],
   "source": [
    "df = pd.read_csv(f\"../../../data/stock_prediction/stock_prediction_data/stock_prediction_data_{stock_ticker}.csv\", index_col=[0])"
   ],
   "metadata": {
    "collapsed": false,
    "pycharm": {
     "name": "#%%\n"
    }
   }
  },
  {
   "cell_type": "code",
   "execution_count": 4,
   "outputs": [],
   "source": [
    "# log_return_t+1 is to predict -> positive or negative return\n",
    "target = df[\"log_return_shift\"].apply(lambda x: 1 if x > 0 else 0)\n",
    "\n",
    "# used features to predict stock return\n",
    "features = [\"Negative\", \"Neutral\", \"Positive\", \"count\", \"pos_minus_neg\",\"pos_minus_neg_times_count\", \"Volume\", \"pos_minus_neg_diff\", \"count_diff\"]\n",
    "df = df[features]\n"
   ],
   "metadata": {
    "collapsed": false,
    "pycharm": {
     "name": "#%%\n"
    }
   }
  },
  {
   "cell_type": "code",
   "execution_count": 5,
   "outputs": [
    {
     "data": {
      "text/plain": "            Negative   Neutral  Positive  count  pos_minus_neg  \\\n2021-05-04  0.467318  0.228605  0.304077    374      -0.163241   \n2021-05-05  0.501610  0.224523  0.273867    308      -0.227744   \n2021-05-06  0.466016  0.237503  0.296481    418      -0.169535   \n2021-05-07  0.464900  0.232654  0.302446    547      -0.162454   \n2021-05-10  0.556672  0.195418  0.247910    466      -0.308762   \n...              ...       ...       ...    ...            ...   \n2022-04-22  0.514130  0.252199  0.233671    645      -0.280458   \n2022-04-25  0.424861  0.290111  0.285028    576      -0.139833   \n2022-04-26  0.439146  0.273064  0.287790    602      -0.151355   \n2022-04-27  0.448051  0.286386  0.265564    600      -0.182487   \n2022-04-28  0.474838  0.292044  0.233118    565      -0.241720   \n\n            pos_minus_neg_times_count     Volume  pos_minus_neg_diff  \\\n2021-05-04                 -61.052021  101591200            0.017058   \n2021-05-05                 -70.145086   60162200           -0.064503   \n2021-05-06                 -70.865820   74321400            0.058208   \n2021-05-07                 -88.862488   67733800            0.007081   \n2021-05-10                -143.883209   81852400           -0.146308   \n...                               ...        ...                 ...   \n2022-04-22                -180.895673  132471800           -0.051080   \n2022-04-25                 -80.543813  119647700            0.140625   \n2022-04-26                 -91.115755  103996300           -0.011522   \n2022-04-27                -109.492358  122030000           -0.031132   \n2022-04-28                -136.571542  105449100           -0.059232   \n\n            count_diff  \n2021-05-04        92.0  \n2021-05-05       -66.0  \n2021-05-06       110.0  \n2021-05-07       129.0  \n2021-05-10       -81.0  \n...                ...  \n2022-04-22       217.0  \n2022-04-25       -69.0  \n2022-04-26        26.0  \n2022-04-27        -2.0  \n2022-04-28       -35.0  \n\n[250 rows x 9 columns]",
      "text/html": "<div>\n<style scoped>\n    .dataframe tbody tr th:only-of-type {\n        vertical-align: middle;\n    }\n\n    .dataframe tbody tr th {\n        vertical-align: top;\n    }\n\n    .dataframe thead th {\n        text-align: right;\n    }\n</style>\n<table border=\"1\" class=\"dataframe\">\n  <thead>\n    <tr style=\"text-align: right;\">\n      <th></th>\n      <th>Negative</th>\n      <th>Neutral</th>\n      <th>Positive</th>\n      <th>count</th>\n      <th>pos_minus_neg</th>\n      <th>pos_minus_neg_times_count</th>\n      <th>Volume</th>\n      <th>pos_minus_neg_diff</th>\n      <th>count_diff</th>\n    </tr>\n  </thead>\n  <tbody>\n    <tr>\n      <th>2021-05-04</th>\n      <td>0.467318</td>\n      <td>0.228605</td>\n      <td>0.304077</td>\n      <td>374</td>\n      <td>-0.163241</td>\n      <td>-61.052021</td>\n      <td>101591200</td>\n      <td>0.017058</td>\n      <td>92.0</td>\n    </tr>\n    <tr>\n      <th>2021-05-05</th>\n      <td>0.501610</td>\n      <td>0.224523</td>\n      <td>0.273867</td>\n      <td>308</td>\n      <td>-0.227744</td>\n      <td>-70.145086</td>\n      <td>60162200</td>\n      <td>-0.064503</td>\n      <td>-66.0</td>\n    </tr>\n    <tr>\n      <th>2021-05-06</th>\n      <td>0.466016</td>\n      <td>0.237503</td>\n      <td>0.296481</td>\n      <td>418</td>\n      <td>-0.169535</td>\n      <td>-70.865820</td>\n      <td>74321400</td>\n      <td>0.058208</td>\n      <td>110.0</td>\n    </tr>\n    <tr>\n      <th>2021-05-07</th>\n      <td>0.464900</td>\n      <td>0.232654</td>\n      <td>0.302446</td>\n      <td>547</td>\n      <td>-0.162454</td>\n      <td>-88.862488</td>\n      <td>67733800</td>\n      <td>0.007081</td>\n      <td>129.0</td>\n    </tr>\n    <tr>\n      <th>2021-05-10</th>\n      <td>0.556672</td>\n      <td>0.195418</td>\n      <td>0.247910</td>\n      <td>466</td>\n      <td>-0.308762</td>\n      <td>-143.883209</td>\n      <td>81852400</td>\n      <td>-0.146308</td>\n      <td>-81.0</td>\n    </tr>\n    <tr>\n      <th>...</th>\n      <td>...</td>\n      <td>...</td>\n      <td>...</td>\n      <td>...</td>\n      <td>...</td>\n      <td>...</td>\n      <td>...</td>\n      <td>...</td>\n      <td>...</td>\n    </tr>\n    <tr>\n      <th>2022-04-22</th>\n      <td>0.514130</td>\n      <td>0.252199</td>\n      <td>0.233671</td>\n      <td>645</td>\n      <td>-0.280458</td>\n      <td>-180.895673</td>\n      <td>132471800</td>\n      <td>-0.051080</td>\n      <td>217.0</td>\n    </tr>\n    <tr>\n      <th>2022-04-25</th>\n      <td>0.424861</td>\n      <td>0.290111</td>\n      <td>0.285028</td>\n      <td>576</td>\n      <td>-0.139833</td>\n      <td>-80.543813</td>\n      <td>119647700</td>\n      <td>0.140625</td>\n      <td>-69.0</td>\n    </tr>\n    <tr>\n      <th>2022-04-26</th>\n      <td>0.439146</td>\n      <td>0.273064</td>\n      <td>0.287790</td>\n      <td>602</td>\n      <td>-0.151355</td>\n      <td>-91.115755</td>\n      <td>103996300</td>\n      <td>-0.011522</td>\n      <td>26.0</td>\n    </tr>\n    <tr>\n      <th>2022-04-27</th>\n      <td>0.448051</td>\n      <td>0.286386</td>\n      <td>0.265564</td>\n      <td>600</td>\n      <td>-0.182487</td>\n      <td>-109.492358</td>\n      <td>122030000</td>\n      <td>-0.031132</td>\n      <td>-2.0</td>\n    </tr>\n    <tr>\n      <th>2022-04-28</th>\n      <td>0.474838</td>\n      <td>0.292044</td>\n      <td>0.233118</td>\n      <td>565</td>\n      <td>-0.241720</td>\n      <td>-136.571542</td>\n      <td>105449100</td>\n      <td>-0.059232</td>\n      <td>-35.0</td>\n    </tr>\n  </tbody>\n</table>\n<p>250 rows × 9 columns</p>\n</div>"
     },
     "execution_count": 5,
     "metadata": {},
     "output_type": "execute_result"
    }
   ],
   "source": [
    "df"
   ],
   "metadata": {
    "collapsed": false,
    "pycharm": {
     "name": "#%%\n"
    }
   }
  },
  {
   "cell_type": "code",
   "execution_count": 6,
   "outputs": [
    {
     "data": {
      "text/plain": "1    0.536\n0    0.464\nName: log_return_shift, dtype: float64"
     },
     "execution_count": 6,
     "metadata": {},
     "output_type": "execute_result"
    }
   ],
   "source": [
    "target.value_counts(normalize=True)"
   ],
   "metadata": {
    "collapsed": false,
    "pycharm": {
     "name": "#%%\n"
    }
   }
  },
  {
   "cell_type": "markdown",
   "source": [
    "## 3. Data transformation"
   ],
   "metadata": {
    "collapsed": false,
    "pycharm": {
     "name": "#%% md\n"
    }
   }
  },
  {
   "cell_type": "code",
   "execution_count": 7,
   "outputs": [],
   "source": [
    "# Data normalization\n",
    "df = (df - df.mean())/df.std()"
   ],
   "metadata": {
    "collapsed": false,
    "pycharm": {
     "name": "#%%\n"
    }
   }
  },
  {
   "cell_type": "code",
   "execution_count": 8,
   "outputs": [],
   "source": [
    "# Stratified split\n",
    "X_train, X_test, Y_train, Y_test = train_test_split(df, target, stratify=target, test_size=0.25, random_state=42)"
   ],
   "metadata": {
    "collapsed": false,
    "pycharm": {
     "name": "#%%\n"
    }
   }
  },
  {
   "cell_type": "code",
   "execution_count": 9,
   "outputs": [
    {
     "data": {
      "text/plain": "2021-11-10    1\n2021-11-18    0\n2021-08-13    1\n2021-06-11    1\n2021-06-24    1\n             ..\n2021-11-01    1\n2021-05-24    0\n2022-02-23    1\n2022-03-31    1\n2021-12-21    1\nName: log_return_shift, Length: 187, dtype: int64"
     },
     "execution_count": 9,
     "metadata": {},
     "output_type": "execute_result"
    }
   ],
   "source": [
    "Y_train"
   ],
   "metadata": {
    "collapsed": false,
    "pycharm": {
     "name": "#%%\n"
    }
   }
  },
  {
   "cell_type": "code",
   "execution_count": 10,
   "outputs": [
    {
     "data": {
      "text/plain": "1    0.539683\n0    0.460317\nName: log_return_shift, dtype: float64"
     },
     "execution_count": 10,
     "metadata": {},
     "output_type": "execute_result"
    }
   ],
   "source": [
    "Y_test.value_counts(normalize=True)"
   ],
   "metadata": {
    "collapsed": false,
    "pycharm": {
     "name": "#%%\n"
    }
   }
  },
  {
   "cell_type": "markdown",
   "source": [
    "## 4. Model training and prediction"
   ],
   "metadata": {
    "collapsed": false,
    "pycharm": {
     "name": "#%% md\n"
    }
   }
  },
  {
   "cell_type": "code",
   "execution_count": 11,
   "outputs": [],
   "source": [
    "# Create LR classifier\n",
    "clf_lr = LogisticRegression(random_state=42).fit(X_train, Y_train)"
   ],
   "metadata": {
    "collapsed": false,
    "pycharm": {
     "name": "#%%\n"
    }
   }
  },
  {
   "cell_type": "code",
   "execution_count": 12,
   "outputs": [],
   "source": [
    "train_acc_lr = clf_lr.score(X_train, Y_train)\n",
    "test_acc_lr = clf_lr.score(X_test, Y_test)"
   ],
   "metadata": {
    "collapsed": false,
    "pycharm": {
     "name": "#%%\n"
    }
   }
  },
  {
   "cell_type": "code",
   "execution_count": 13,
   "outputs": [],
   "source": [
    "# Create DT classifier\n",
    "clf_dt = DecisionTreeClassifier().fit(X_train, Y_train)"
   ],
   "metadata": {
    "collapsed": false,
    "pycharm": {
     "name": "#%%\n"
    }
   }
  },
  {
   "cell_type": "code",
   "execution_count": 14,
   "outputs": [],
   "source": [
    "train_acc_dt = clf_dt.score(X_train, Y_train)\n",
    "test_acc_dt = clf_dt.score(X_test, Y_test)"
   ],
   "metadata": {
    "collapsed": false,
    "pycharm": {
     "name": "#%%\n"
    }
   }
  },
  {
   "cell_type": "code",
   "execution_count": 15,
   "outputs": [],
   "source": [
    "# Create RF classifier\n",
    "clf_rf = RandomForestClassifier(random_state=42).fit(X_train, Y_train)"
   ],
   "metadata": {
    "collapsed": false,
    "pycharm": {
     "name": "#%%\n"
    }
   }
  },
  {
   "cell_type": "code",
   "execution_count": 16,
   "outputs": [],
   "source": [
    "train_acc_rf = clf_rf.score(X_train, Y_train)\n",
    "test_acc_rf = clf_rf.score(X_test, Y_test)"
   ],
   "metadata": {
    "collapsed": false,
    "pycharm": {
     "name": "#%%\n"
    }
   }
  },
  {
   "cell_type": "code",
   "execution_count": 17,
   "outputs": [],
   "source": [
    "# Create XGBoost classifier\n",
    "cl_xgb = XGBClassifier(use_label_encoder=False, eval_metric='mlogloss').fit(X_train, Y_train)"
   ],
   "metadata": {
    "collapsed": false,
    "pycharm": {
     "name": "#%%\n"
    }
   }
  },
  {
   "cell_type": "code",
   "execution_count": 18,
   "outputs": [],
   "source": [
    "train_acc_xgb = cl_xgb.score(X_train, Y_train)\n",
    "test_acc_xgb = cl_xgb.score(X_test, Y_test)"
   ],
   "metadata": {
    "collapsed": false,
    "pycharm": {
     "name": "#%%\n"
    }
   }
  },
  {
   "cell_type": "code",
   "execution_count": 19,
   "outputs": [],
   "source": [
    "# Create KNN classifier\n",
    "clf_knn = KNeighborsClassifier().fit(X_train, Y_train)"
   ],
   "metadata": {
    "collapsed": false,
    "pycharm": {
     "name": "#%%\n"
    }
   }
  },
  {
   "cell_type": "code",
   "execution_count": 20,
   "outputs": [],
   "source": [
    "train_acc_knn = clf_knn.score(X_train, Y_train)\n",
    "test_acc_knn = clf_knn.score(X_test, Y_test)"
   ],
   "metadata": {
    "collapsed": false,
    "pycharm": {
     "name": "#%%\n"
    }
   }
  },
  {
   "cell_type": "code",
   "execution_count": 25,
   "outputs": [
    {
     "name": "stderr",
     "output_type": "stream",
     "text": [
      "C:\\Users\\janbu\\anaconda3\\envs\\thesis\\lib\\site-packages\\sklearn\\neural_network\\_multilayer_perceptron.py:702: ConvergenceWarning: Stochastic Optimizer: Maximum iterations (100) reached and the optimization hasn't converged yet.\n",
      "  warnings.warn(\n"
     ]
    }
   ],
   "source": [
    "# Create MLP classifier\n",
    "clf_mlp = MLPClassifier(random_state=42, max_iter=100).fit(X_train, Y_train)"
   ],
   "metadata": {
    "collapsed": false,
    "pycharm": {
     "name": "#%%\n"
    }
   }
  },
  {
   "cell_type": "code",
   "execution_count": 26,
   "outputs": [],
   "source": [
    "train_acc_mlp = clf_mlp.score(X_train, Y_train)\n",
    "test_acc_mlp = clf_mlp.score(X_test, Y_test)"
   ],
   "metadata": {
    "collapsed": false,
    "pycharm": {
     "name": "#%%\n"
    }
   }
  },
  {
   "cell_type": "code",
   "execution_count": 27,
   "outputs": [],
   "source": [
    "result_df = pd.DataFrame(\n",
    "    data={\n",
    "        \"Model\": [\"Logistic Regression\", \"Decision Tree\", \"Random Forest\", \"XGBoost\", \"K-Nearest Neighbour\", \"Neural Network\"],\n",
    "        \"Train Accuracy\": [train_acc_lr, train_acc_dt, train_acc_rf, train_acc_xgb, train_acc_knn, train_acc_mlp],\n",
    "        \"Test Accuracy\": [test_acc_lr, test_acc_dt, test_acc_rf, test_acc_xgb, test_acc_knn, test_acc_mlp]\n",
    "    }\n",
    ")"
   ],
   "metadata": {
    "collapsed": false,
    "pycharm": {
     "name": "#%%\n"
    }
   }
  },
  {
   "cell_type": "code",
   "execution_count": 28,
   "outputs": [
    {
     "data": {
      "text/plain": "                 Model  Train Accuracy  Test Accuracy\n0  Logistic Regression        0.561497       0.460317\n1        Decision Tree        1.000000       0.507937\n2        Random Forest        1.000000       0.555556\n3              XGBoost        1.000000       0.492063\n4  K-Nearest Neighbour        0.652406       0.476190\n5       Neural Network        0.689840       0.492063",
      "text/html": "<div>\n<style scoped>\n    .dataframe tbody tr th:only-of-type {\n        vertical-align: middle;\n    }\n\n    .dataframe tbody tr th {\n        vertical-align: top;\n    }\n\n    .dataframe thead th {\n        text-align: right;\n    }\n</style>\n<table border=\"1\" class=\"dataframe\">\n  <thead>\n    <tr style=\"text-align: right;\">\n      <th></th>\n      <th>Model</th>\n      <th>Train Accuracy</th>\n      <th>Test Accuracy</th>\n    </tr>\n  </thead>\n  <tbody>\n    <tr>\n      <th>0</th>\n      <td>Logistic Regression</td>\n      <td>0.561497</td>\n      <td>0.460317</td>\n    </tr>\n    <tr>\n      <th>1</th>\n      <td>Decision Tree</td>\n      <td>1.000000</td>\n      <td>0.507937</td>\n    </tr>\n    <tr>\n      <th>2</th>\n      <td>Random Forest</td>\n      <td>1.000000</td>\n      <td>0.555556</td>\n    </tr>\n    <tr>\n      <th>3</th>\n      <td>XGBoost</td>\n      <td>1.000000</td>\n      <td>0.492063</td>\n    </tr>\n    <tr>\n      <th>4</th>\n      <td>K-Nearest Neighbour</td>\n      <td>0.652406</td>\n      <td>0.476190</td>\n    </tr>\n    <tr>\n      <th>5</th>\n      <td>Neural Network</td>\n      <td>0.689840</td>\n      <td>0.492063</td>\n    </tr>\n  </tbody>\n</table>\n</div>"
     },
     "execution_count": 28,
     "metadata": {},
     "output_type": "execute_result"
    }
   ],
   "source": [
    "result_df"
   ],
   "metadata": {
    "collapsed": false,
    "pycharm": {
     "name": "#%%\n"
    }
   }
  },
  {
   "cell_type": "code",
   "execution_count": 29,
   "outputs": [],
   "source": [
    "result_df.to_excel(f\"../../../data/stock_prediction/stock_prediction_model_results/{stock_ticker}.xlsx\")"
   ],
   "metadata": {
    "collapsed": false,
    "pycharm": {
     "name": "#%%\n"
    }
   }
  },
  {
   "cell_type": "markdown",
   "source": [
    "## 5. Saving all models"
   ],
   "metadata": {
    "collapsed": false,
    "pycharm": {
     "name": "#%% md\n"
    }
   }
  },
  {
   "cell_type": "code",
   "execution_count": 30,
   "outputs": [
    {
     "data": {
      "text/plain": "['../../../models/stock_prediction/SPY/Logistic_Regression.joblib']"
     },
     "execution_count": 30,
     "metadata": {},
     "output_type": "execute_result"
    }
   ],
   "source": [
    "dump(clf_lr, f'../../../models/stock_prediction/{stock_ticker}/Logistic_Regression.joblib')"
   ],
   "metadata": {
    "collapsed": false,
    "pycharm": {
     "name": "#%%\n"
    }
   }
  },
  {
   "cell_type": "code",
   "execution_count": 31,
   "outputs": [
    {
     "data": {
      "text/plain": "['../../../models/stock_prediction/SPY/Decision_Tree.joblib']"
     },
     "execution_count": 31,
     "metadata": {},
     "output_type": "execute_result"
    }
   ],
   "source": [
    "dump(clf_dt, f'../../../models/stock_prediction/{stock_ticker}/Decision_Tree.joblib')"
   ],
   "metadata": {
    "collapsed": false,
    "pycharm": {
     "name": "#%%\n"
    }
   }
  },
  {
   "cell_type": "code",
   "execution_count": 32,
   "outputs": [
    {
     "data": {
      "text/plain": "['../../../models/stock_prediction/SPY/Random_Forest.joblib']"
     },
     "execution_count": 32,
     "metadata": {},
     "output_type": "execute_result"
    }
   ],
   "source": [
    "dump(clf_rf, f'../../../models/stock_prediction/{stock_ticker}/Random_Forest.joblib')"
   ],
   "metadata": {
    "collapsed": false,
    "pycharm": {
     "name": "#%%\n"
    }
   }
  },
  {
   "cell_type": "code",
   "execution_count": 33,
   "outputs": [
    {
     "data": {
      "text/plain": "['../../../models/stock_prediction/SPY/XGBoost.joblib']"
     },
     "execution_count": 33,
     "metadata": {},
     "output_type": "execute_result"
    }
   ],
   "source": [
    "dump(cl_xgb, f'../../../models/stock_prediction/{stock_ticker}/XGBoost.joblib')"
   ],
   "metadata": {
    "collapsed": false,
    "pycharm": {
     "name": "#%%\n"
    }
   }
  },
  {
   "cell_type": "code",
   "execution_count": 34,
   "outputs": [
    {
     "data": {
      "text/plain": "['../../../models/stock_prediction/SPY/K-Nearest_Neighbour.joblib']"
     },
     "execution_count": 34,
     "metadata": {},
     "output_type": "execute_result"
    }
   ],
   "source": [
    "dump(clf_knn, f'../../../models/stock_prediction/{stock_ticker}/K-Nearest_Neighbour.joblib')"
   ],
   "metadata": {
    "collapsed": false,
    "pycharm": {
     "name": "#%%\n"
    }
   }
  },
  {
   "cell_type": "code",
   "execution_count": 35,
   "outputs": [
    {
     "data": {
      "text/plain": "['../../../models/stock_prediction/SPY/Neural_Network.joblib']"
     },
     "execution_count": 35,
     "metadata": {},
     "output_type": "execute_result"
    }
   ],
   "source": [
    "dump(clf_mlp, f'../../../models/stock_prediction/{stock_ticker}/Neural_Network.joblib')"
   ],
   "metadata": {
    "collapsed": false,
    "pycharm": {
     "name": "#%%\n"
    }
   }
  },
  {
   "cell_type": "code",
   "execution_count": null,
   "outputs": [],
   "source": [],
   "metadata": {
    "collapsed": false,
    "pycharm": {
     "name": "#%%\n"
    }
   }
  }
 ],
 "metadata": {
  "kernelspec": {
   "name": "thesis",
   "language": "python",
   "display_name": "thesis"
  },
  "language_info": {
   "codemirror_mode": {
    "name": "ipython",
    "version": 2
   },
   "file_extension": ".py",
   "mimetype": "text/x-python",
   "name": "python",
   "nbconvert_exporter": "python",
   "pygments_lexer": "ipython2",
   "version": "2.7.6"
  }
 },
 "nbformat": 4,
 "nbformat_minor": 0
}