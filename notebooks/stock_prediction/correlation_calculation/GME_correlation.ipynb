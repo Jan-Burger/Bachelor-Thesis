{
 "cells": [
  {
   "cell_type": "code",
   "execution_count": 1,
   "outputs": [],
   "source": [
    "import pandas as pd\n",
    "import numpy as np\n",
    "import datetime\n",
    "import yfinance as yf\n",
    "import scipy.stats as stats\n",
    "import matplotlib.pyplot as plt"
   ],
   "metadata": {
    "collapsed": false,
    "pycharm": {
     "name": "#%%\n"
    }
   }
  },
  {
   "cell_type": "code",
   "execution_count": 2,
   "outputs": [],
   "source": [
    "df = pd.read_csv(\"../../../data/sentiment_analysis_predictions/by_day/GME.csv\", parse_dates=[\"created_at\"])\n",
    "df.set_index(\"created_at\", drop=True, inplace=True)"
   ],
   "metadata": {
    "collapsed": false,
    "pycharm": {
     "name": "#%%\n"
    }
   }
  },
  {
   "cell_type": "code",
   "execution_count": 3,
   "outputs": [
    {
     "name": "stdout",
     "output_type": "stream",
     "text": [
      "[*********************100%***********************]  1 of 1 completed\n"
     ]
    }
   ],
   "source": [
    "data = yf.download(\"GME\", start=\"2021-05-02\", end=\"2022-05-01\")"
   ],
   "metadata": {
    "collapsed": false,
    "pycharm": {
     "name": "#%%\n"
    }
   }
  },
  {
   "cell_type": "code",
   "execution_count": 4,
   "outputs": [
    {
     "data": {
      "text/plain": "                  Open        High         Low       Close   Adj Close  \\\nDate                                                                     \n2021-05-03  177.490005  177.490005  159.610001  162.199997  162.199997   \n2021-05-04  159.000000  161.490005  151.800003  160.729996  160.729996   \n2021-05-05  161.830002  165.500000  158.330002  159.479996  159.479996   \n2021-05-06  160.860001  164.720001  155.600006  161.009995  161.009995   \n2021-05-07  160.110001  167.410004  157.500000  161.110001  161.110001   \n...                ...         ...         ...         ...         ...   \n2022-04-25  135.410004  139.710007  133.279999  135.949997  135.949997   \n2022-04-26  135.639999  136.800003  126.160004  127.599998  127.599998   \n2022-04-27  127.269997  132.679993  124.580002  129.839996  129.839996   \n2022-04-28  130.279999  132.600006  120.500000  129.309998  129.309998   \n2022-04-29  127.300003  130.889999  123.010002  125.070000  125.070000   \n\n             Volume  \nDate                 \n2021-05-03  5261000  \n2021-05-04  4007500  \n2021-05-05  2805400  \n2021-05-06  2942800  \n2021-05-07  2934600  \n...             ...  \n2022-04-25  1534800  \n2022-04-26  1545700  \n2022-04-27  1305900  \n2022-04-28  1767500  \n2022-04-29  1285900  \n\n[252 rows x 6 columns]",
      "text/html": "<div>\n<style scoped>\n    .dataframe tbody tr th:only-of-type {\n        vertical-align: middle;\n    }\n\n    .dataframe tbody tr th {\n        vertical-align: top;\n    }\n\n    .dataframe thead th {\n        text-align: right;\n    }\n</style>\n<table border=\"1\" class=\"dataframe\">\n  <thead>\n    <tr style=\"text-align: right;\">\n      <th></th>\n      <th>Open</th>\n      <th>High</th>\n      <th>Low</th>\n      <th>Close</th>\n      <th>Adj Close</th>\n      <th>Volume</th>\n    </tr>\n    <tr>\n      <th>Date</th>\n      <th></th>\n      <th></th>\n      <th></th>\n      <th></th>\n      <th></th>\n      <th></th>\n    </tr>\n  </thead>\n  <tbody>\n    <tr>\n      <th>2021-05-03</th>\n      <td>177.490005</td>\n      <td>177.490005</td>\n      <td>159.610001</td>\n      <td>162.199997</td>\n      <td>162.199997</td>\n      <td>5261000</td>\n    </tr>\n    <tr>\n      <th>2021-05-04</th>\n      <td>159.000000</td>\n      <td>161.490005</td>\n      <td>151.800003</td>\n      <td>160.729996</td>\n      <td>160.729996</td>\n      <td>4007500</td>\n    </tr>\n    <tr>\n      <th>2021-05-05</th>\n      <td>161.830002</td>\n      <td>165.500000</td>\n      <td>158.330002</td>\n      <td>159.479996</td>\n      <td>159.479996</td>\n      <td>2805400</td>\n    </tr>\n    <tr>\n      <th>2021-05-06</th>\n      <td>160.860001</td>\n      <td>164.720001</td>\n      <td>155.600006</td>\n      <td>161.009995</td>\n      <td>161.009995</td>\n      <td>2942800</td>\n    </tr>\n    <tr>\n      <th>2021-05-07</th>\n      <td>160.110001</td>\n      <td>167.410004</td>\n      <td>157.500000</td>\n      <td>161.110001</td>\n      <td>161.110001</td>\n      <td>2934600</td>\n    </tr>\n    <tr>\n      <th>...</th>\n      <td>...</td>\n      <td>...</td>\n      <td>...</td>\n      <td>...</td>\n      <td>...</td>\n      <td>...</td>\n    </tr>\n    <tr>\n      <th>2022-04-25</th>\n      <td>135.410004</td>\n      <td>139.710007</td>\n      <td>133.279999</td>\n      <td>135.949997</td>\n      <td>135.949997</td>\n      <td>1534800</td>\n    </tr>\n    <tr>\n      <th>2022-04-26</th>\n      <td>135.639999</td>\n      <td>136.800003</td>\n      <td>126.160004</td>\n      <td>127.599998</td>\n      <td>127.599998</td>\n      <td>1545700</td>\n    </tr>\n    <tr>\n      <th>2022-04-27</th>\n      <td>127.269997</td>\n      <td>132.679993</td>\n      <td>124.580002</td>\n      <td>129.839996</td>\n      <td>129.839996</td>\n      <td>1305900</td>\n    </tr>\n    <tr>\n      <th>2022-04-28</th>\n      <td>130.279999</td>\n      <td>132.600006</td>\n      <td>120.500000</td>\n      <td>129.309998</td>\n      <td>129.309998</td>\n      <td>1767500</td>\n    </tr>\n    <tr>\n      <th>2022-04-29</th>\n      <td>127.300003</td>\n      <td>130.889999</td>\n      <td>123.010002</td>\n      <td>125.070000</td>\n      <td>125.070000</td>\n      <td>1285900</td>\n    </tr>\n  </tbody>\n</table>\n<p>252 rows × 6 columns</p>\n</div>"
     },
     "execution_count": 4,
     "metadata": {},
     "output_type": "execute_result"
    }
   ],
   "source": [
    "data"
   ],
   "metadata": {
    "collapsed": false,
    "pycharm": {
     "name": "#%%\n"
    }
   }
  },
  {
   "cell_type": "code",
   "execution_count": 5,
   "outputs": [],
   "source": [
    "df_merged = pd.merge(df,data, how='inner', left_index=True, right_index=True)"
   ],
   "metadata": {
    "collapsed": false,
    "pycharm": {
     "name": "#%%\n"
    }
   }
  },
  {
   "cell_type": "code",
   "execution_count": 6,
   "outputs": [],
   "source": [
    "#df_merged[\"prev_adj_close\"] = df_merged[\"Adj Close\"].shift(1)"
   ],
   "metadata": {
    "collapsed": false,
    "pycharm": {
     "name": "#%%\n"
    }
   }
  },
  {
   "cell_type": "markdown",
   "source": [
    "## 3. Calculating Returns"
   ],
   "metadata": {
    "collapsed": false,
    "pycharm": {
     "name": "#%% md\n"
    }
   }
  },
  {
   "cell_type": "code",
   "execution_count": 7,
   "outputs": [],
   "source": [
    "# Return in percent\n",
    "df_merged[\"return\"] = df_merged[\"Adj Close\"].pct_change()"
   ],
   "metadata": {
    "collapsed": false,
    "pycharm": {
     "name": "#%%\n"
    }
   }
  },
  {
   "cell_type": "code",
   "execution_count": 8,
   "outputs": [],
   "source": [
    "df_merged[\"log_return\"] = np.log(df_merged[\"Adj Close\"]) - np.log(df_merged[\"Adj Close\"].shift(1))"
   ],
   "metadata": {
    "collapsed": false,
    "pycharm": {
     "name": "#%%\n"
    }
   }
  },
  {
   "cell_type": "code",
   "execution_count": 9,
   "outputs": [],
   "source": [
    "df_merged[\"log_return_shift\"] = df_merged[\"log_return\"].shift(-1)"
   ],
   "metadata": {
    "collapsed": false,
    "pycharm": {
     "name": "#%%\n"
    }
   }
  },
  {
   "cell_type": "code",
   "execution_count": 10,
   "outputs": [],
   "source": [
    "df_merged[\"pos_minus_neg_diff\"] = df_merged[\"pos_minus_neg\"].diff(1)"
   ],
   "metadata": {
    "collapsed": false,
    "pycharm": {
     "name": "#%%\n"
    }
   }
  },
  {
   "cell_type": "code",
   "execution_count": 11,
   "outputs": [],
   "source": [
    "df_merged.dropna(inplace=True)"
   ],
   "metadata": {
    "collapsed": false,
    "pycharm": {
     "name": "#%%\n"
    }
   }
  },
  {
   "cell_type": "code",
   "execution_count": 12,
   "outputs": [
    {
     "data": {
      "text/plain": "            Negative   Neutral  Positive  count  pos_minus_neg  \\\n2021-05-04  0.271763  0.360857  0.367380    499       0.095617   \n2021-05-05  0.229515  0.447798  0.322687    820       0.093173   \n2021-05-06  0.201018  0.429720  0.369262   1647       0.168243   \n2021-05-07  0.200771  0.395441  0.403788    734       0.203017   \n2021-05-10  0.290007  0.379028  0.330965    756       0.040958   \n...              ...       ...       ...    ...            ...   \n2022-04-22  0.259425  0.387646  0.352929    166       0.093503   \n2022-04-25  0.251789  0.407347  0.340865    226       0.089076   \n2022-04-26  0.341325  0.328281  0.330394    198      -0.010931   \n2022-04-27  0.228449  0.414548  0.357003    245       0.128553   \n2022-04-28  0.221616  0.425977  0.352407    206       0.130790   \n\n            pos_minus_neg_times_count        Open        High         Low  \\\n2021-05-04                  47.712727  159.000000  161.490005  151.800003   \n2021-05-05                  76.401538  161.830002  165.500000  158.330002   \n2021-05-06                 277.096813  160.860001  164.720001  155.600006   \n2021-05-07                 149.014766  160.110001  167.410004  157.500000   \n2021-05-10                  30.964170  161.309998  161.589996  143.000000   \n...                               ...         ...         ...         ...   \n2022-04-22                  15.521564  142.550003  146.300003  135.550003   \n2022-04-25                  20.131230  135.410004  139.710007  133.279999   \n2022-04-26                  -2.164416  135.639999  136.800003  126.160004   \n2022-04-27                  31.495606  127.269997  132.679993  124.580002   \n2022-04-28                  26.942841  130.279999  132.600006  120.500000   \n\n                 Close   Adj Close   Volume    return  log_return  \\\n2021-05-04  160.729996  160.729996  4007500 -0.009063   -0.009104   \n2021-05-05  159.479996  159.479996  2805400 -0.007777   -0.007807   \n2021-05-06  161.009995  161.009995  2942800  0.009594    0.009548   \n2021-05-07  161.110001  161.110001  2934600  0.000621    0.000621   \n2021-05-10  143.220001  143.220001  4806700 -0.111042   -0.117705   \n...                ...         ...      ...       ...         ...   \n2022-04-22  138.220001  138.220001  1569600 -0.023594   -0.023877   \n2022-04-25  135.949997  135.949997  1534800 -0.016423   -0.016559   \n2022-04-26  127.599998  127.599998  1545700 -0.061420   -0.063387   \n2022-04-27  129.839996  129.839996  1305900  0.017555    0.017403   \n2022-04-28  129.309998  129.309998  1767500 -0.004082   -0.004090   \n\n            log_return_shift  pos_minus_neg_diff  \n2021-05-04         -0.007807           -0.068648  \n2021-05-05          0.009548           -0.002444  \n2021-05-06          0.000621            0.075071  \n2021-05-07         -0.117705            0.034774  \n2021-05-10          0.025506           -0.162059  \n...                      ...                 ...  \n2022-04-22         -0.016559            0.026664  \n2022-04-25         -0.063387           -0.004427  \n2022-04-26          0.017403           -0.100008  \n2022-04-27         -0.004090            0.139485  \n2022-04-28         -0.033339            0.002237  \n\n[250 rows x 16 columns]",
      "text/html": "<div>\n<style scoped>\n    .dataframe tbody tr th:only-of-type {\n        vertical-align: middle;\n    }\n\n    .dataframe tbody tr th {\n        vertical-align: top;\n    }\n\n    .dataframe thead th {\n        text-align: right;\n    }\n</style>\n<table border=\"1\" class=\"dataframe\">\n  <thead>\n    <tr style=\"text-align: right;\">\n      <th></th>\n      <th>Negative</th>\n      <th>Neutral</th>\n      <th>Positive</th>\n      <th>count</th>\n      <th>pos_minus_neg</th>\n      <th>pos_minus_neg_times_count</th>\n      <th>Open</th>\n      <th>High</th>\n      <th>Low</th>\n      <th>Close</th>\n      <th>Adj Close</th>\n      <th>Volume</th>\n      <th>return</th>\n      <th>log_return</th>\n      <th>log_return_shift</th>\n      <th>pos_minus_neg_diff</th>\n    </tr>\n  </thead>\n  <tbody>\n    <tr>\n      <th>2021-05-04</th>\n      <td>0.271763</td>\n      <td>0.360857</td>\n      <td>0.367380</td>\n      <td>499</td>\n      <td>0.095617</td>\n      <td>47.712727</td>\n      <td>159.000000</td>\n      <td>161.490005</td>\n      <td>151.800003</td>\n      <td>160.729996</td>\n      <td>160.729996</td>\n      <td>4007500</td>\n      <td>-0.009063</td>\n      <td>-0.009104</td>\n      <td>-0.007807</td>\n      <td>-0.068648</td>\n    </tr>\n    <tr>\n      <th>2021-05-05</th>\n      <td>0.229515</td>\n      <td>0.447798</td>\n      <td>0.322687</td>\n      <td>820</td>\n      <td>0.093173</td>\n      <td>76.401538</td>\n      <td>161.830002</td>\n      <td>165.500000</td>\n      <td>158.330002</td>\n      <td>159.479996</td>\n      <td>159.479996</td>\n      <td>2805400</td>\n      <td>-0.007777</td>\n      <td>-0.007807</td>\n      <td>0.009548</td>\n      <td>-0.002444</td>\n    </tr>\n    <tr>\n      <th>2021-05-06</th>\n      <td>0.201018</td>\n      <td>0.429720</td>\n      <td>0.369262</td>\n      <td>1647</td>\n      <td>0.168243</td>\n      <td>277.096813</td>\n      <td>160.860001</td>\n      <td>164.720001</td>\n      <td>155.600006</td>\n      <td>161.009995</td>\n      <td>161.009995</td>\n      <td>2942800</td>\n      <td>0.009594</td>\n      <td>0.009548</td>\n      <td>0.000621</td>\n      <td>0.075071</td>\n    </tr>\n    <tr>\n      <th>2021-05-07</th>\n      <td>0.200771</td>\n      <td>0.395441</td>\n      <td>0.403788</td>\n      <td>734</td>\n      <td>0.203017</td>\n      <td>149.014766</td>\n      <td>160.110001</td>\n      <td>167.410004</td>\n      <td>157.500000</td>\n      <td>161.110001</td>\n      <td>161.110001</td>\n      <td>2934600</td>\n      <td>0.000621</td>\n      <td>0.000621</td>\n      <td>-0.117705</td>\n      <td>0.034774</td>\n    </tr>\n    <tr>\n      <th>2021-05-10</th>\n      <td>0.290007</td>\n      <td>0.379028</td>\n      <td>0.330965</td>\n      <td>756</td>\n      <td>0.040958</td>\n      <td>30.964170</td>\n      <td>161.309998</td>\n      <td>161.589996</td>\n      <td>143.000000</td>\n      <td>143.220001</td>\n      <td>143.220001</td>\n      <td>4806700</td>\n      <td>-0.111042</td>\n      <td>-0.117705</td>\n      <td>0.025506</td>\n      <td>-0.162059</td>\n    </tr>\n    <tr>\n      <th>...</th>\n      <td>...</td>\n      <td>...</td>\n      <td>...</td>\n      <td>...</td>\n      <td>...</td>\n      <td>...</td>\n      <td>...</td>\n      <td>...</td>\n      <td>...</td>\n      <td>...</td>\n      <td>...</td>\n      <td>...</td>\n      <td>...</td>\n      <td>...</td>\n      <td>...</td>\n      <td>...</td>\n    </tr>\n    <tr>\n      <th>2022-04-22</th>\n      <td>0.259425</td>\n      <td>0.387646</td>\n      <td>0.352929</td>\n      <td>166</td>\n      <td>0.093503</td>\n      <td>15.521564</td>\n      <td>142.550003</td>\n      <td>146.300003</td>\n      <td>135.550003</td>\n      <td>138.220001</td>\n      <td>138.220001</td>\n      <td>1569600</td>\n      <td>-0.023594</td>\n      <td>-0.023877</td>\n      <td>-0.016559</td>\n      <td>0.026664</td>\n    </tr>\n    <tr>\n      <th>2022-04-25</th>\n      <td>0.251789</td>\n      <td>0.407347</td>\n      <td>0.340865</td>\n      <td>226</td>\n      <td>0.089076</td>\n      <td>20.131230</td>\n      <td>135.410004</td>\n      <td>139.710007</td>\n      <td>133.279999</td>\n      <td>135.949997</td>\n      <td>135.949997</td>\n      <td>1534800</td>\n      <td>-0.016423</td>\n      <td>-0.016559</td>\n      <td>-0.063387</td>\n      <td>-0.004427</td>\n    </tr>\n    <tr>\n      <th>2022-04-26</th>\n      <td>0.341325</td>\n      <td>0.328281</td>\n      <td>0.330394</td>\n      <td>198</td>\n      <td>-0.010931</td>\n      <td>-2.164416</td>\n      <td>135.639999</td>\n      <td>136.800003</td>\n      <td>126.160004</td>\n      <td>127.599998</td>\n      <td>127.599998</td>\n      <td>1545700</td>\n      <td>-0.061420</td>\n      <td>-0.063387</td>\n      <td>0.017403</td>\n      <td>-0.100008</td>\n    </tr>\n    <tr>\n      <th>2022-04-27</th>\n      <td>0.228449</td>\n      <td>0.414548</td>\n      <td>0.357003</td>\n      <td>245</td>\n      <td>0.128553</td>\n      <td>31.495606</td>\n      <td>127.269997</td>\n      <td>132.679993</td>\n      <td>124.580002</td>\n      <td>129.839996</td>\n      <td>129.839996</td>\n      <td>1305900</td>\n      <td>0.017555</td>\n      <td>0.017403</td>\n      <td>-0.004090</td>\n      <td>0.139485</td>\n    </tr>\n    <tr>\n      <th>2022-04-28</th>\n      <td>0.221616</td>\n      <td>0.425977</td>\n      <td>0.352407</td>\n      <td>206</td>\n      <td>0.130790</td>\n      <td>26.942841</td>\n      <td>130.279999</td>\n      <td>132.600006</td>\n      <td>120.500000</td>\n      <td>129.309998</td>\n      <td>129.309998</td>\n      <td>1767500</td>\n      <td>-0.004082</td>\n      <td>-0.004090</td>\n      <td>-0.033339</td>\n      <td>0.002237</td>\n    </tr>\n  </tbody>\n</table>\n<p>250 rows × 16 columns</p>\n</div>"
     },
     "execution_count": 12,
     "metadata": {},
     "output_type": "execute_result"
    }
   ],
   "source": [
    "df_merged"
   ],
   "metadata": {
    "collapsed": false,
    "pycharm": {
     "name": "#%%\n"
    }
   }
  },
  {
   "cell_type": "code",
   "execution_count": 12,
   "outputs": [],
   "source": [],
   "metadata": {
    "collapsed": false,
    "pycharm": {
     "name": "#%%\n"
    }
   }
  },
  {
   "cell_type": "code",
   "execution_count": 74,
   "outputs": [
    {
     "data": {
      "text/plain": "<Figure size 432x288 with 1 Axes>",
      "image/png": "[encoded data removed]"
     },
     "metadata": {
      "needs_background": "light"
     },
     "output_type": "display_data"
    }
   ],
   "source": [
    "plt.scatter(df_merged[\"log_return_shift\"], df_merged[\"pos_minus_neg\"])\n",
    "plt.show()"
   ],
   "metadata": {
    "collapsed": false,
    "pycharm": {
     "name": "#%%\n"
    }
   }
  },
  {
   "cell_type": "code",
   "execution_count": null,
   "outputs": [],
   "source": [],
   "metadata": {
    "collapsed": false,
    "pycharm": {
     "name": "#%%\n"
    }
   }
  },
  {
   "cell_type": "code",
   "execution_count": 75,
   "outputs": [
    {
     "data": {
      "text/plain": "<Figure size 432x288 with 1 Axes>",
      "image/png": "[encoded data removed]"
     },
     "metadata": {
      "needs_background": "light"
     },
     "output_type": "display_data"
    }
   ],
   "source": [
    "plt.scatter(df_merged[\"log_return\"], df_merged[\"pos_minus_neg\"])\n",
    "plt.show()"
   ],
   "metadata": {
    "collapsed": false,
    "pycharm": {
     "name": "#%%\n"
    }
   }
  },
  {
   "cell_type": "code",
   "execution_count": 92,
   "outputs": [
    {
     "data": {
      "text/plain": "<Figure size 432x288 with 1 Axes>",
      "image/png": "[encoded data removed]"
     },
     "metadata": {
      "needs_background": "light"
     },
     "output_type": "display_data"
    }
   ],
   "source": [
    "plt.scatter(df_merged[\"log_return\"], df_merged[\"Negative\"])\n",
    "plt.show()"
   ],
   "metadata": {
    "collapsed": false,
    "pycharm": {
     "name": "#%%\n"
    }
   }
  },
  {
   "cell_type": "code",
   "execution_count": 13,
   "outputs": [
    {
     "name": "stdout",
     "output_type": "stream",
     "text": [
      "(0.39198870063018076, 1.311536864270928e-10)\n",
      "(0.012204886056458452, 0.8477294871291776)\n",
      "(0.19055733563681146, 0.0024809987787629767)\n",
      "(-0.05147274681141, 0.41775960042807253)\n",
      "(0.334466724103638, 6.00193666897092e-08)\n",
      "(-0.07033941624820689, 0.2678777718829121)\n",
      "(0.37148607956461827, 1.339264839545175e-09)\n",
      "(0.04780273513419048, 0.4517684402359975)\n",
      "(-0.3377653254126125, 4.361834846825744e-08)\n",
      "(0.036517028537754716, 0.5655056737355818)\n",
      "(0.4018638515979211, 4.0395283499853265e-11)\n",
      "(0.08540104949706363, 0.17830177548194934)\n"
     ]
    }
   ],
   "source": [
    "print(stats.pearsonr(df_merged[\"log_return\"], df_merged[\"pos_minus_neg\"]))\n",
    "print(stats.pearsonr(df_merged[\"log_return_shift\"], df_merged[\"pos_minus_neg\"]))\n",
    "\n",
    "print(stats.pearsonr(df_merged[\"log_return\"], df_merged[\"count\"]))\n",
    "print(stats.pearsonr(df_merged[\"log_return_shift\"], df_merged[\"count\"]))\n",
    "\n",
    "print(stats.pearsonr(df_merged[\"log_return\"], df_merged[\"pos_minus_neg_times_count\"]))\n",
    "print(stats.pearsonr(df_merged[\"log_return_shift\"], df_merged[\"pos_minus_neg_times_count\"]))\n",
    "\n",
    "print(stats.pearsonr(df_merged[\"log_return\"], df_merged[\"Positive\"]))\n",
    "print(stats.pearsonr(df_merged[\"log_return_shift\"], df_merged[\"Positive\"]))\n",
    "\n",
    "print(stats.pearsonr(df_merged[\"log_return\"], df_merged[\"Negative\"]))\n",
    "print(stats.pearsonr(df_merged[\"log_return_shift\"], df_merged[\"Negative\"]))\n",
    "\n",
    "print(stats.pearsonr(df_merged[\"log_return\"], df_merged[\"pos_minus_neg_diff\"]))\n",
    "print(stats.pearsonr(df_merged[\"log_return_shift\"], df_merged[\"pos_minus_neg_diff\"]))"
   ],
   "metadata": {
    "collapsed": false,
    "pycharm": {
     "name": "#%%\n"
    }
   }
  },
  {
   "cell_type": "code",
   "execution_count": null,
   "outputs": [],
   "source": [],
   "metadata": {
    "collapsed": false,
    "pycharm": {
     "name": "#%%\n"
    }
   }
  },
  {
   "cell_type": "code",
   "execution_count": null,
   "outputs": [],
   "source": [],
   "metadata": {
    "collapsed": false,
    "pycharm": {
     "name": "#%%\n"
    }
   }
  },
  {
   "cell_type": "code",
   "execution_count": 63,
   "outputs": [
    {
     "data": {
      "text/plain": "<AxesSubplot:>"
     },
     "execution_count": 63,
     "metadata": {},
     "output_type": "execute_result"
    },
    {
     "data": {
      "text/plain": "<Figure size 432x288 with 1 Axes>",
      "image/png": "[encoded data removed]"
     },
     "metadata": {
      "needs_background": "light"
     },
     "output_type": "display_data"
    }
   ],
   "source": [
    "df_merged[\"return\"].hist(bins=100, density=True)"
   ],
   "metadata": {
    "collapsed": false,
    "pycharm": {
     "name": "#%%\n"
    }
   }
  },
  {
   "cell_type": "markdown",
   "source": [
    "## 4. Descriptive and inferential statistics"
   ],
   "metadata": {
    "collapsed": false,
    "pycharm": {
     "name": "#%% md\n"
    }
   }
  },
  {
   "cell_type": "code",
   "execution_count": 67,
   "outputs": [
    {
     "data": {
      "text/plain": "<Figure size 432x288 with 1 Axes>",
      "image/png": "[encoded data removed]"
     },
     "metadata": {
      "needs_background": "light"
     },
     "output_type": "display_data"
    }
   ],
   "source": [
    "stats.probplot(df_merged[\"log_return\"].dropna(), dist=\"norm\", plot=plt)\n",
    "plt.show()"
   ],
   "metadata": {
    "collapsed": false,
    "pycharm": {
     "name": "#%%\n"
    }
   }
  },
  {
   "cell_type": "code",
   "execution_count": 68,
   "outputs": [
    {
     "data": {
      "text/plain": "<Figure size 432x288 with 1 Axes>",
      "image/png": "[encoded data removed]"
     },
     "metadata": {
      "needs_background": "light"
     },
     "output_type": "display_data"
    }
   ],
   "source": [
    "stats.probplot(df_merged[\"return\"].dropna(), dist=\"norm\", plot=plt)\n",
    "plt.show()"
   ],
   "metadata": {
    "collapsed": false,
    "pycharm": {
     "name": "#%%\n"
    }
   }
  },
  {
   "cell_type": "code",
   "execution_count": 60,
   "outputs": [
    {
     "data": {
      "text/plain": "3.999982555558476"
     },
     "execution_count": 60,
     "metadata": {},
     "output_type": "execute_result"
    }
   ],
   "source": [
    "np.e**1.38629"
   ],
   "metadata": {
    "collapsed": false,
    "pycharm": {
     "name": "#%%\n"
    }
   }
  },
  {
   "cell_type": "code",
   "execution_count": null,
   "outputs": [],
   "source": [],
   "metadata": {
    "collapsed": false,
    "pycharm": {
     "name": "#%%\n"
    }
   }
  },
  {
   "cell_type": "code",
   "execution_count": null,
   "outputs": [],
   "source": [],
   "metadata": {
    "collapsed": false,
    "pycharm": {
     "name": "#%%\n"
    }
   }
  },
  {
   "cell_type": "code",
   "execution_count": 12,
   "outputs": [
    {
     "data": {
      "text/plain": "<AxesSubplot:>"
     },
     "execution_count": 12,
     "metadata": {},
     "output_type": "execute_result"
    },
    {
     "data": {
      "text/plain": "<Figure size 432x288 with 1 Axes>",
      "image/png": "[encoded data removed]"
     },
     "metadata": {
      "needs_background": "light"
     },
     "output_type": "display_data"
    }
   ],
   "source": [
    "df[\"pos_minus_neg\"].hist(bins=15, )"
   ],
   "metadata": {
    "collapsed": false,
    "pycharm": {
     "name": "#%%\n"
    }
   }
  },
  {
   "cell_type": "code",
   "execution_count": null,
   "outputs": [],
   "source": [],
   "metadata": {
    "collapsed": false,
    "pycharm": {
     "name": "#%%\n"
    }
   }
  }
 ],
 "metadata": {
  "kernelspec": {
   "name": "thesis",
   "language": "python",
   "display_name": "thesis"
  },
  "language_info": {
   "codemirror_mode": {
    "name": "ipython",
    "version": 2
   },
   "file_extension": ".py",
   "mimetype": "text/x-python",
   "name": "python",
   "nbconvert_exporter": "python",
   "pygments_lexer": "ipython2",
   "version": "2.7.6"
  }
 },
 "nbformat": 4,
 "nbformat_minor": 0
}