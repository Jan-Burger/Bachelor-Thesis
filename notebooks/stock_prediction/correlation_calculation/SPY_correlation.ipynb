{
 "cells": [
  {
   "cell_type": "code",
   "execution_count": 16,
   "outputs": [],
   "source": [
    "import pandas as pd\n",
    "import numpy as np\n",
    "import datetime\n",
    "import yfinance as yf\n",
    "import scipy.stats as stats\n",
    "import matplotlib.pyplot as plt\n",
    "import seaborn as sns"
   ],
   "metadata": {
    "collapsed": false,
    "pycharm": {
     "name": "#%%\n"
    }
   }
  },
  {
   "cell_type": "code",
   "execution_count": 17,
   "outputs": [],
   "source": [
    "df = pd.read_csv(\"../../../data/sentiment_analysis_predictions/by_day/SPY.csv\", parse_dates=[\"created_at\"])\n",
    "df.set_index(\"created_at\", drop=True, inplace=True)"
   ],
   "metadata": {
    "collapsed": false,
    "pycharm": {
     "name": "#%%\n"
    }
   }
  },
  {
   "cell_type": "code",
   "execution_count": 18,
   "outputs": [
    {
     "name": "stdout",
     "output_type": "stream",
     "text": [
      "[*********************100%***********************]  1 of 1 completed\n"
     ]
    }
   ],
   "source": [
    "data = yf.download(\"SPY\", start=\"2021-05-02\", end=\"2022-05-01\")"
   ],
   "metadata": {
    "collapsed": false,
    "pycharm": {
     "name": "#%%\n"
    }
   }
  },
  {
   "cell_type": "code",
   "execution_count": 19,
   "outputs": [
    {
     "data": {
      "text/plain": "            Negative   Neutral  Positive  count  pos_minus_neg  \\\ncreated_at                                                       \n2021-05-01  0.364499  0.338692  0.296809     87      -0.067691   \n2021-05-02  0.353237  0.337489  0.309274    110      -0.043963   \n2021-05-03  0.473865  0.232569  0.293566    282      -0.180299   \n2021-05-04  0.467318  0.228605  0.304077    374      -0.163241   \n2021-05-05  0.501610  0.224523  0.273867    308      -0.227744   \n...              ...       ...       ...    ...            ...   \n2022-04-26  0.439146  0.273064  0.287790    602      -0.151355   \n2022-04-27  0.448051  0.286386  0.265564    600      -0.182487   \n2022-04-28  0.474838  0.292044  0.233118    565      -0.241720   \n2022-04-29  0.508760  0.258128  0.233112    726      -0.275648   \n2022-04-30  0.458508  0.317673  0.223819    197      -0.234689   \n\n            pos_minus_neg_times_count  \ncreated_at                             \n2021-05-01                  -5.889096  \n2021-05-02                  -4.835967  \n2021-05-03                 -50.844340  \n2021-05-04                 -61.052021  \n2021-05-05                 -70.145086  \n...                               ...  \n2022-04-26                 -91.115755  \n2022-04-27                -109.492358  \n2022-04-28                -136.571542  \n2022-04-29                -200.120464  \n2022-04-30                 -46.233703  \n\n[365 rows x 6 columns]",
      "text/html": "<div>\n<style scoped>\n    .dataframe tbody tr th:only-of-type {\n        vertical-align: middle;\n    }\n\n    .dataframe tbody tr th {\n        vertical-align: top;\n    }\n\n    .dataframe thead th {\n        text-align: right;\n    }\n</style>\n<table border=\"1\" class=\"dataframe\">\n  <thead>\n    <tr style=\"text-align: right;\">\n      <th></th>\n      <th>Negative</th>\n      <th>Neutral</th>\n      <th>Positive</th>\n      <th>count</th>\n      <th>pos_minus_neg</th>\n      <th>pos_minus_neg_times_count</th>\n    </tr>\n    <tr>\n      <th>created_at</th>\n      <th></th>\n      <th></th>\n      <th></th>\n      <th></th>\n      <th></th>\n      <th></th>\n    </tr>\n  </thead>\n  <tbody>\n    <tr>\n      <th>2021-05-01</th>\n      <td>0.364499</td>\n      <td>0.338692</td>\n      <td>0.296809</td>\n      <td>87</td>\n      <td>-0.067691</td>\n      <td>-5.889096</td>\n    </tr>\n    <tr>\n      <th>2021-05-02</th>\n      <td>0.353237</td>\n      <td>0.337489</td>\n      <td>0.309274</td>\n      <td>110</td>\n      <td>-0.043963</td>\n      <td>-4.835967</td>\n    </tr>\n    <tr>\n      <th>2021-05-03</th>\n      <td>0.473865</td>\n      <td>0.232569</td>\n      <td>0.293566</td>\n      <td>282</td>\n      <td>-0.180299</td>\n      <td>-50.844340</td>\n    </tr>\n    <tr>\n      <th>2021-05-04</th>\n      <td>0.467318</td>\n      <td>0.228605</td>\n      <td>0.304077</td>\n      <td>374</td>\n      <td>-0.163241</td>\n      <td>-61.052021</td>\n    </tr>\n    <tr>\n      <th>2021-05-05</th>\n      <td>0.501610</td>\n      <td>0.224523</td>\n      <td>0.273867</td>\n      <td>308</td>\n      <td>-0.227744</td>\n      <td>-70.145086</td>\n    </tr>\n    <tr>\n      <th>...</th>\n      <td>...</td>\n      <td>...</td>\n      <td>...</td>\n      <td>...</td>\n      <td>...</td>\n      <td>...</td>\n    </tr>\n    <tr>\n      <th>2022-04-26</th>\n      <td>0.439146</td>\n      <td>0.273064</td>\n      <td>0.287790</td>\n      <td>602</td>\n      <td>-0.151355</td>\n      <td>-91.115755</td>\n    </tr>\n    <tr>\n      <th>2022-04-27</th>\n      <td>0.448051</td>\n      <td>0.286386</td>\n      <td>0.265564</td>\n      <td>600</td>\n      <td>-0.182487</td>\n      <td>-109.492358</td>\n    </tr>\n    <tr>\n      <th>2022-04-28</th>\n      <td>0.474838</td>\n      <td>0.292044</td>\n      <td>0.233118</td>\n      <td>565</td>\n      <td>-0.241720</td>\n      <td>-136.571542</td>\n    </tr>\n    <tr>\n      <th>2022-04-29</th>\n      <td>0.508760</td>\n      <td>0.258128</td>\n      <td>0.233112</td>\n      <td>726</td>\n      <td>-0.275648</td>\n      <td>-200.120464</td>\n    </tr>\n    <tr>\n      <th>2022-04-30</th>\n      <td>0.458508</td>\n      <td>0.317673</td>\n      <td>0.223819</td>\n      <td>197</td>\n      <td>-0.234689</td>\n      <td>-46.233703</td>\n    </tr>\n  </tbody>\n</table>\n<p>365 rows × 6 columns</p>\n</div>"
     },
     "execution_count": 19,
     "metadata": {},
     "output_type": "execute_result"
    }
   ],
   "source": [
    "df"
   ],
   "metadata": {
    "collapsed": false,
    "pycharm": {
     "name": "#%%\n"
    }
   }
  },
  {
   "cell_type": "code",
   "execution_count": 20,
   "outputs": [],
   "source": [
    "df_merged = pd.merge(df,data, how='inner', left_index=True, right_index=True)"
   ],
   "metadata": {
    "collapsed": false,
    "pycharm": {
     "name": "#%%\n"
    }
   }
  },
  {
   "cell_type": "code",
   "execution_count": 21,
   "outputs": [],
   "source": [
    "#df_merged[\"prev_adj_close\"] = df_merged[\"Adj Close\"].shift(1)"
   ],
   "metadata": {
    "collapsed": false,
    "pycharm": {
     "name": "#%%\n"
    }
   }
  },
  {
   "cell_type": "markdown",
   "source": [
    "## 3. Calculating Returns"
   ],
   "metadata": {
    "collapsed": false,
    "pycharm": {
     "name": "#%% md\n"
    }
   }
  },
  {
   "cell_type": "code",
   "execution_count": 22,
   "outputs": [],
   "source": [
    "# Return in percent\n",
    "df_merged[\"return\"] = df_merged[\"Adj Close\"].pct_change()"
   ],
   "metadata": {
    "collapsed": false,
    "pycharm": {
     "name": "#%%\n"
    }
   }
  },
  {
   "cell_type": "code",
   "execution_count": 23,
   "outputs": [],
   "source": [
    "df_merged[\"log_return\"] = np.log(df_merged[\"Adj Close\"]) - np.log(df_merged[\"Adj Close\"].shift(1))"
   ],
   "metadata": {
    "collapsed": false,
    "pycharm": {
     "name": "#%%\n"
    }
   }
  },
  {
   "cell_type": "code",
   "execution_count": 24,
   "outputs": [],
   "source": [
    "df_merged[\"log_return_shift\"] = df_merged[\"log_return\"].shift(-1)"
   ],
   "metadata": {
    "collapsed": false,
    "pycharm": {
     "name": "#%%\n"
    }
   }
  },
  {
   "cell_type": "code",
   "execution_count": 25,
   "outputs": [],
   "source": [
    "df_merged[\"pos_minus_neg_diff\"] = df_merged[\"pos_minus_neg\"].diff(1)"
   ],
   "metadata": {
    "collapsed": false,
    "pycharm": {
     "name": "#%%\n"
    }
   }
  },
  {
   "cell_type": "code",
   "execution_count": 26,
   "outputs": [],
   "source": [
    "df_merged[\"count_diff\"] = df_merged[\"count\"].diff(1)"
   ],
   "metadata": {
    "collapsed": false,
    "pycharm": {
     "name": "#%%\n"
    }
   }
  },
  {
   "cell_type": "code",
   "execution_count": 27,
   "outputs": [],
   "source": [
    "df_merged.dropna(inplace=True)"
   ],
   "metadata": {
    "collapsed": false,
    "pycharm": {
     "name": "#%%\n"
    }
   }
  },
  {
   "cell_type": "code",
   "execution_count": 28,
   "outputs": [
    {
     "data": {
      "text/plain": "            Negative   Neutral  Positive  count  pos_minus_neg  \\\n2021-05-04  0.467318  0.228605  0.304077    374      -0.163241   \n2021-05-05  0.501610  0.224523  0.273867    308      -0.227744   \n2021-05-06  0.466016  0.237503  0.296481    418      -0.169535   \n2021-05-07  0.464900  0.232654  0.302446    547      -0.162454   \n2021-05-10  0.556672  0.195418  0.247910    466      -0.308762   \n...              ...       ...       ...    ...            ...   \n2022-04-22  0.514130  0.252199  0.233671    645      -0.280458   \n2022-04-25  0.424861  0.290111  0.285028    576      -0.139833   \n2022-04-26  0.439146  0.273064  0.287790    602      -0.151355   \n2022-04-27  0.448051  0.286386  0.265564    600      -0.182487   \n2022-04-28  0.474838  0.292044  0.233118    565      -0.241720   \n\n            pos_minus_neg_times_count        Open        High         Low  \\\n2021-05-04                 -61.052021  416.070007  416.600006  411.670013   \n2021-05-05                 -70.145086  417.380005  417.630005  415.149994   \n2021-05-06                 -70.865820  415.829987  419.209991  413.679993   \n2021-05-07                 -88.862488  419.890015  422.820007  419.160004   \n2021-05-10                -143.883209  422.500000  422.739990  417.809998   \n...                               ...         ...         ...         ...   \n2022-04-22                -180.895673  436.910004  438.079987  425.440002   \n2022-04-25                 -80.543813  423.670013  428.690002  418.839996   \n2022-04-26                 -91.115755  425.829987  426.040009  416.070007   \n2022-04-27                -109.492358  417.239990  422.920013  415.010010   \n2022-04-28                -136.571542  422.290009  429.640015  417.600006   \n\n                 Close   Adj Close     Volume    return  log_return  \\\n2021-05-04  415.619995  408.457275  101591200 -0.006169   -0.006189   \n2021-05-05  415.750000  408.585022   60162200  0.000313    0.000313   \n2021-05-06  419.070007  411.847839   74321400  0.007986    0.007954   \n2021-05-07  422.119995  414.845215   67733800  0.007278    0.007252   \n2021-05-10  417.940002  410.737305   81852400 -0.009902   -0.009952   \n...                ...         ...        ...       ...         ...   \n2022-04-22  426.040009  424.207550  132471800 -0.027439   -0.027823   \n2022-04-25  428.510010  426.666931  119647700  0.005798    0.005781   \n2022-04-26  416.100006  414.310303  103996300 -0.028961   -0.029388   \n2022-04-27  417.269989  415.475250  122030000  0.002812    0.002808   \n2022-04-28  427.809998  425.969940  105449100  0.025259    0.024946   \n\n            log_return_shift  pos_minus_neg_diff  count_diff  \n2021-05-04          0.000313            0.017058        92.0  \n2021-05-05          0.007954           -0.064503       -66.0  \n2021-05-06          0.007252            0.058208       110.0  \n2021-05-07         -0.009952            0.007081       129.0  \n2021-05-10         -0.008965           -0.146308       -81.0  \n...                      ...                 ...         ...  \n2022-04-22          0.005781           -0.051080       217.0  \n2022-04-25         -0.029388            0.140625       -69.0  \n2022-04-26          0.002808           -0.011522        26.0  \n2022-04-27          0.024946           -0.031132        -2.0  \n2022-04-28         -0.037656           -0.059232       -35.0  \n\n[250 rows x 17 columns]",
      "text/html": "<div>\n<style scoped>\n    .dataframe tbody tr th:only-of-type {\n        vertical-align: middle;\n    }\n\n    .dataframe tbody tr th {\n        vertical-align: top;\n    }\n\n    .dataframe thead th {\n        text-align: right;\n    }\n</style>\n<table border=\"1\" class=\"dataframe\">\n  <thead>\n    <tr style=\"text-align: right;\">\n      <th></th>\n      <th>Negative</th>\n      <th>Neutral</th>\n      <th>Positive</th>\n      <th>count</th>\n      <th>pos_minus_neg</th>\n      <th>pos_minus_neg_times_count</th>\n      <th>Open</th>\n      <th>High</th>\n      <th>Low</th>\n      <th>Close</th>\n      <th>Adj Close</th>\n      <th>Volume</th>\n      <th>return</th>\n      <th>log_return</th>\n      <th>log_return_shift</th>\n      <th>pos_minus_neg_diff</th>\n      <th>count_diff</th>\n    </tr>\n  </thead>\n  <tbody>\n    <tr>\n      <th>2021-05-04</th>\n      <td>0.467318</td>\n      <td>0.228605</td>\n      <td>0.304077</td>\n      <td>374</td>\n      <td>-0.163241</td>\n      <td>-61.052021</td>\n      <td>416.070007</td>\n      <td>416.600006</td>\n      <td>411.670013</td>\n      <td>415.619995</td>\n      <td>408.457275</td>\n      <td>101591200</td>\n      <td>-0.006169</td>\n      <td>-0.006189</td>\n      <td>0.000313</td>\n      <td>0.017058</td>\n      <td>92.0</td>\n    </tr>\n    <tr>\n      <th>2021-05-05</th>\n      <td>0.501610</td>\n      <td>0.224523</td>\n      <td>0.273867</td>\n      <td>308</td>\n      <td>-0.227744</td>\n      <td>-70.145086</td>\n      <td>417.380005</td>\n      <td>417.630005</td>\n      <td>415.149994</td>\n      <td>415.750000</td>\n      <td>408.585022</td>\n      <td>60162200</td>\n      <td>0.000313</td>\n      <td>0.000313</td>\n      <td>0.007954</td>\n      <td>-0.064503</td>\n      <td>-66.0</td>\n    </tr>\n    <tr>\n      <th>2021-05-06</th>\n      <td>0.466016</td>\n      <td>0.237503</td>\n      <td>0.296481</td>\n      <td>418</td>\n      <td>-0.169535</td>\n      <td>-70.865820</td>\n      <td>415.829987</td>\n      <td>419.209991</td>\n      <td>413.679993</td>\n      <td>419.070007</td>\n      <td>411.847839</td>\n      <td>74321400</td>\n      <td>0.007986</td>\n      <td>0.007954</td>\n      <td>0.007252</td>\n      <td>0.058208</td>\n      <td>110.0</td>\n    </tr>\n    <tr>\n      <th>2021-05-07</th>\n      <td>0.464900</td>\n      <td>0.232654</td>\n      <td>0.302446</td>\n      <td>547</td>\n      <td>-0.162454</td>\n      <td>-88.862488</td>\n      <td>419.890015</td>\n      <td>422.820007</td>\n      <td>419.160004</td>\n      <td>422.119995</td>\n      <td>414.845215</td>\n      <td>67733800</td>\n      <td>0.007278</td>\n      <td>0.007252</td>\n      <td>-0.009952</td>\n      <td>0.007081</td>\n      <td>129.0</td>\n    </tr>\n    <tr>\n      <th>2021-05-10</th>\n      <td>0.556672</td>\n      <td>0.195418</td>\n      <td>0.247910</td>\n      <td>466</td>\n      <td>-0.308762</td>\n      <td>-143.883209</td>\n      <td>422.500000</td>\n      <td>422.739990</td>\n      <td>417.809998</td>\n      <td>417.940002</td>\n      <td>410.737305</td>\n      <td>81852400</td>\n      <td>-0.009902</td>\n      <td>-0.009952</td>\n      <td>-0.008965</td>\n      <td>-0.146308</td>\n      <td>-81.0</td>\n    </tr>\n    <tr>\n      <th>...</th>\n      <td>...</td>\n      <td>...</td>\n      <td>...</td>\n      <td>...</td>\n      <td>...</td>\n      <td>...</td>\n      <td>...</td>\n      <td>...</td>\n      <td>...</td>\n      <td>...</td>\n      <td>...</td>\n      <td>...</td>\n      <td>...</td>\n      <td>...</td>\n      <td>...</td>\n      <td>...</td>\n      <td>...</td>\n    </tr>\n    <tr>\n      <th>2022-04-22</th>\n      <td>0.514130</td>\n      <td>0.252199</td>\n      <td>0.233671</td>\n      <td>645</td>\n      <td>-0.280458</td>\n      <td>-180.895673</td>\n      <td>436.910004</td>\n      <td>438.079987</td>\n      <td>425.440002</td>\n      <td>426.040009</td>\n      <td>424.207550</td>\n      <td>132471800</td>\n      <td>-0.027439</td>\n      <td>-0.027823</td>\n      <td>0.005781</td>\n      <td>-0.051080</td>\n      <td>217.0</td>\n    </tr>\n    <tr>\n      <th>2022-04-25</th>\n      <td>0.424861</td>\n      <td>0.290111</td>\n      <td>0.285028</td>\n      <td>576</td>\n      <td>-0.139833</td>\n      <td>-80.543813</td>\n      <td>423.670013</td>\n      <td>428.690002</td>\n      <td>418.839996</td>\n      <td>428.510010</td>\n      <td>426.666931</td>\n      <td>119647700</td>\n      <td>0.005798</td>\n      <td>0.005781</td>\n      <td>-0.029388</td>\n      <td>0.140625</td>\n      <td>-69.0</td>\n    </tr>\n    <tr>\n      <th>2022-04-26</th>\n      <td>0.439146</td>\n      <td>0.273064</td>\n      <td>0.287790</td>\n      <td>602</td>\n      <td>-0.151355</td>\n      <td>-91.115755</td>\n      <td>425.829987</td>\n      <td>426.040009</td>\n      <td>416.070007</td>\n      <td>416.100006</td>\n      <td>414.310303</td>\n      <td>103996300</td>\n      <td>-0.028961</td>\n      <td>-0.029388</td>\n      <td>0.002808</td>\n      <td>-0.011522</td>\n      <td>26.0</td>\n    </tr>\n    <tr>\n      <th>2022-04-27</th>\n      <td>0.448051</td>\n      <td>0.286386</td>\n      <td>0.265564</td>\n      <td>600</td>\n      <td>-0.182487</td>\n      <td>-109.492358</td>\n      <td>417.239990</td>\n      <td>422.920013</td>\n      <td>415.010010</td>\n      <td>417.269989</td>\n      <td>415.475250</td>\n      <td>122030000</td>\n      <td>0.002812</td>\n      <td>0.002808</td>\n      <td>0.024946</td>\n      <td>-0.031132</td>\n      <td>-2.0</td>\n    </tr>\n    <tr>\n      <th>2022-04-28</th>\n      <td>0.474838</td>\n      <td>0.292044</td>\n      <td>0.233118</td>\n      <td>565</td>\n      <td>-0.241720</td>\n      <td>-136.571542</td>\n      <td>422.290009</td>\n      <td>429.640015</td>\n      <td>417.600006</td>\n      <td>427.809998</td>\n      <td>425.969940</td>\n      <td>105449100</td>\n      <td>0.025259</td>\n      <td>0.024946</td>\n      <td>-0.037656</td>\n      <td>-0.059232</td>\n      <td>-35.0</td>\n    </tr>\n  </tbody>\n</table>\n<p>250 rows × 17 columns</p>\n</div>"
     },
     "execution_count": 28,
     "metadata": {},
     "output_type": "execute_result"
    }
   ],
   "source": [
    "df_merged"
   ],
   "metadata": {
    "collapsed": false,
    "pycharm": {
     "name": "#%%\n"
    }
   }
  },
  {
   "cell_type": "code",
   "execution_count": 28,
   "outputs": [],
   "source": [],
   "metadata": {
    "collapsed": false,
    "pycharm": {
     "name": "#%%\n"
    }
   }
  },
  {
   "cell_type": "code",
   "execution_count": 29,
   "outputs": [
    {
     "data": {
      "text/plain": "<Figure size 432x288 with 1 Axes>",
      "image/png": "[encoded data removed]"
     },
     "metadata": {
      "needs_background": "light"
     },
     "output_type": "display_data"
    }
   ],
   "source": [
    "plt.scatter(df_merged[\"log_return_shift\"], df_merged[\"pos_minus_neg\"])\n",
    "plt.show()"
   ],
   "metadata": {
    "collapsed": false,
    "pycharm": {
     "name": "#%%\n"
    }
   }
  },
  {
   "cell_type": "code",
   "execution_count": 29,
   "outputs": [],
   "source": [],
   "metadata": {
    "collapsed": false,
    "pycharm": {
     "name": "#%%\n"
    }
   }
  },
  {
   "cell_type": "code",
   "execution_count": 30,
   "outputs": [
    {
     "data": {
      "text/plain": "<Figure size 432x288 with 1 Axes>",
      "image/png": "[encoded data removed]"
     },
     "metadata": {
      "needs_background": "light"
     },
     "output_type": "display_data"
    }
   ],
   "source": [
    "plt.scatter(df_merged[\"log_return\"], df_merged[\"pos_minus_neg\"])\n",
    "plt.show()"
   ],
   "metadata": {
    "collapsed": false,
    "pycharm": {
     "name": "#%%\n"
    }
   }
  },
  {
   "cell_type": "code",
   "execution_count": 31,
   "outputs": [
    {
     "data": {
      "text/plain": "<Figure size 432x288 with 1 Axes>",
      "image/png": "[encoded data removed]"
     },
     "metadata": {
      "needs_background": "light"
     },
     "output_type": "display_data"
    }
   ],
   "source": [
    "plt.scatter(df_merged[\"log_return_shift\"], df_merged[\"count_diff\"])\n",
    "plt.show()"
   ],
   "metadata": {
    "collapsed": false,
    "pycharm": {
     "name": "#%%\n"
    }
   }
  },
  {
   "cell_type": "code",
   "execution_count": 32,
   "outputs": [],
   "source": [
    "pos_minus_neg_log_return = stats.pearsonr(df_merged[\"log_return\"], df_merged[\"pos_minus_neg\"])\n",
    "pos_minus_neg_log_return_shift = stats.pearsonr(df_merged[\"log_return_shift\"], df_merged[\"pos_minus_neg\"])\n",
    "\n",
    "count_log_return = stats.pearsonr(df_merged[\"log_return\"], df_merged[\"count\"])\n",
    "count_log_return_shift = stats.pearsonr(df_merged[\"log_return_shift\"], df_merged[\"count\"])\n",
    "\n",
    "pos_minus_neg_times_count_log_return = stats.pearsonr(df_merged[\"log_return\"], df_merged[\"pos_minus_neg_times_count\"])\n",
    "pos_minus_neg_times_count_log_return_shift = stats.pearsonr(df_merged[\"log_return_shift\"], df_merged[\"pos_minus_neg_times_count\"])\n",
    "\n",
    "Positive_log_return = stats.pearsonr(df_merged[\"log_return\"], df_merged[\"Positive\"])\n",
    "Positive_log_return_shift = stats.pearsonr(df_merged[\"log_return_shift\"], df_merged[\"Positive\"])\n",
    "\n",
    "Negative_log_return = stats.pearsonr(df_merged[\"log_return\"], df_merged[\"Negative\"])\n",
    "Negative_log_return_shift = stats.pearsonr(df_merged[\"log_return_shift\"], df_merged[\"Negative\"])\n",
    "\n",
    "pos_minus_neg_diff_log_return = stats.pearsonr(df_merged[\"log_return\"], df_merged[\"pos_minus_neg_diff\"])\n",
    "pos_minus_neg_diff_log_return_shift = stats.pearsonr(df_merged[\"log_return_shift\"], df_merged[\"pos_minus_neg_diff\"])\n",
    "\n",
    "count_diff_log_return = stats.pearsonr(df_merged[\"log_return\"], df_merged[\"count_diff\"])\n",
    "count_diff_log_return_shift = stats.pearsonr(df_merged[\"log_return_shift\"], df_merged[\"count_diff\"])"
   ],
   "metadata": {
    "collapsed": false,
    "pycharm": {
     "name": "#%%\n"
    }
   }
  },
  {
   "cell_type": "code",
   "execution_count": 33,
   "outputs": [
    {
     "data": {
      "text/plain": "<Figure size 1600x1280 with 1 Axes>",
      "image/png": "[encoded data removed]"
     },
     "metadata": {
      "needs_background": "light"
     },
     "output_type": "display_data"
    }
   ],
   "source": [
    "plt.figure(figsize=(20, 16), dpi=80)\n",
    "\n",
    "X = ['Positive','Negative','pos_min_neg','pos_min_neg_diff', \"pos_min_neg_times_count\", \"count\", \"count_diff\"]\n",
    "Y_log_return= [Positive_log_return[0],Negative_log_return[0],pos_minus_neg_log_return[0],pos_minus_neg_diff_log_return[0], pos_minus_neg_times_count_log_return[0], count_log_return[0], count_diff_log_return[0]]\n",
    "Z_log_return_shift = [Positive_log_return_shift[0],Negative_log_return_shift[0],pos_minus_neg_log_return_shift[0],pos_minus_neg_diff_log_return_shift[0], pos_minus_neg_times_count_log_return_shift[0], count_log_return_shift[0], count_diff_log_return_shift[0]]\n",
    "\n",
    "X_axis = np.arange(len(X))\n",
    "\n",
    "plt.bar(X_axis -0.2, Y_log_return, 0.4,  label = 'log_return_t')\n",
    "plt.bar(X_axis +0.2, Z_log_return_shift, 0.4, label = 'log_return_t+1')\n",
    "\n",
    "plt.xticks(X_axis, X, size=12)\n",
    "plt.xlabel(\"Feature\", size=18)\n",
    "plt.ylabel(\"Pearson Correlation\", size=18)\n",
    "plt.title(\"Pearson Correlation for different sentiment features\", size=20)\n",
    "plt.legend()\n",
    "plt.show()"
   ],
   "metadata": {
    "collapsed": false,
    "pycharm": {
     "name": "#%%\n"
    }
   }
  },
  {
   "cell_type": "code",
   "execution_count": 34,
   "outputs": [],
   "source": [
    "Y_log_return= [Positive_log_return[1],\n",
    "               Negative_log_return[1],\n",
    "               pos_minus_neg_log_return[1],\n",
    "               pos_minus_neg_diff_log_return[1],\n",
    "               pos_minus_neg_times_count_log_return[1],\n",
    "               count_log_return[1],\n",
    "               count_diff_log_return[1]]"
   ],
   "metadata": {
    "collapsed": false,
    "pycharm": {
     "name": "#%%\n"
    }
   }
  },
  {
   "cell_type": "code",
   "execution_count": 38,
   "outputs": [],
   "source": [
    "Z_log_return_shift = [Positive_log_return_shift[1],\n",
    "                      Negative_log_return_shift[1],pos_minus_neg_log_return_shift[1],pos_minus_neg_diff_log_return_shift[1], pos_minus_neg_times_count_log_return_shift[1], count_log_return_shift[1], count_diff_log_return_shift[1]]"
   ],
   "metadata": {
    "collapsed": false,
    "pycharm": {
     "name": "#%%\n"
    }
   }
  },
  {
   "cell_type": "code",
   "execution_count": 39,
   "outputs": [
    {
     "data": {
      "text/plain": "[0.9507608935613677,\n 0.9666525206829785,\n 0.955878069151112,\n 0.5508686315913268,\n 0.6048643241438928,\n 0.6673355871850355,\n 0.5416081289447643]"
     },
     "execution_count": 39,
     "metadata": {},
     "output_type": "execute_result"
    }
   ],
   "source": [
    "Z_log_return_shift"
   ],
   "metadata": {
    "collapsed": false,
    "pycharm": {
     "name": "#%%\n"
    }
   }
  },
  {
   "cell_type": "code",
   "execution_count": null,
   "outputs": [],
   "source": [],
   "metadata": {
    "collapsed": false,
    "pycharm": {
     "name": "#%%\n"
    }
   }
  },
  {
   "cell_type": "code",
   "execution_count": null,
   "outputs": [],
   "source": [],
   "metadata": {
    "collapsed": false,
    "pycharm": {
     "name": "#%%\n"
    }
   }
  },
  {
   "cell_type": "code",
   "execution_count": null,
   "outputs": [],
   "source": [],
   "metadata": {
    "collapsed": false,
    "pycharm": {
     "name": "#%%\n"
    }
   }
  },
  {
   "cell_type": "code",
   "execution_count": 19,
   "outputs": [],
   "source": [
    "df_excel = pd.DataFrame(data={\"Feature\": X, \"Log_return_t\": Y_log_return, \"Log_return_t+1\": Z_log_return_shift})"
   ],
   "metadata": {
    "collapsed": false,
    "pycharm": {
     "name": "#%%\n"
    }
   }
  },
  {
   "cell_type": "code",
   "execution_count": 20,
   "outputs": [],
   "source": [
    "df_excel.to_excel(\"corr_results_SPY.xlsx\")"
   ],
   "metadata": {
    "collapsed": false,
    "pycharm": {
     "name": "#%%\n"
    }
   }
  },
  {
   "cell_type": "code",
   "execution_count": 54,
   "outputs": [
    {
     "name": "stdout",
     "output_type": "stream",
     "text": [
      "<class 'pandas.core.frame.DataFrame'>\n",
      "RangeIndex: 7 entries, 0 to 6\n",
      "Data columns (total 3 columns):\n",
      " #   Column          Non-Null Count  Dtype  \n",
      "---  ------          --------------  -----  \n",
      " 0   Feature         7 non-null      object \n",
      " 1   Log_return_t    7 non-null      float64\n",
      " 2   Log_return_t+1  7 non-null      float64\n",
      "dtypes: float64(2), object(1)\n",
      "memory usage: 296.0+ bytes\n"
     ]
    }
   ],
   "source": [
    "df_excel.info()"
   ],
   "metadata": {
    "collapsed": false,
    "pycharm": {
     "name": "#%%\n"
    }
   }
  },
  {
   "cell_type": "code",
   "execution_count": 14,
   "outputs": [
    {
     "data": {
      "text/plain": "<AxesSubplot:>"
     },
     "execution_count": 14,
     "metadata": {},
     "output_type": "execute_result"
    },
    {
     "data": {
      "text/plain": "<Figure size 432x288 with 1 Axes>",
      "image/png": "[encoded data removed]"
     },
     "metadata": {
      "needs_background": "light"
     },
     "output_type": "display_data"
    }
   ],
   "source": [
    "ax = sns.barplot(x=\"day\", y=\"total_bill\", hue=\"sex\", data=df_excel)"
   ],
   "metadata": {
    "collapsed": false,
    "pycharm": {
     "name": "#%%\n"
    }
   }
  },
  {
   "cell_type": "markdown",
   "source": [
    "## 4. Descriptive and inferential statistics"
   ],
   "metadata": {
    "collapsed": false,
    "pycharm": {
     "name": "#%% md\n"
    }
   }
  },
  {
   "cell_type": "code",
   "execution_count": 15,
   "outputs": [
    {
     "data": {
      "text/plain": "<Figure size 432x288 with 1 Axes>",
      "image/png": "[encoded data removed]"
     },
     "metadata": {
      "needs_background": "light"
     },
     "output_type": "display_data"
    }
   ],
   "source": [
    "stats.probplot(df_merged[\"log_return\"].dropna(), dist=\"norm\", plot=plt)\n",
    "plt.show()"
   ],
   "metadata": {
    "collapsed": false,
    "pycharm": {
     "name": "#%%\n"
    }
   }
  },
  {
   "cell_type": "code",
   "execution_count": 68,
   "outputs": [
    {
     "data": {
      "text/plain": "<Figure size 432x288 with 1 Axes>",
      "image/png": "[encoded data removed]"
     },
     "metadata": {
      "needs_background": "light"
     },
     "output_type": "display_data"
    }
   ],
   "source": [
    "stats.probplot(df_merged[\"return\"].dropna(), dist=\"norm\", plot=plt)\n",
    "plt.show()"
   ],
   "metadata": {
    "collapsed": false,
    "pycharm": {
     "name": "#%%\n"
    }
   }
  },
  {
   "cell_type": "code",
   "execution_count": 60,
   "outputs": [
    {
     "data": {
      "text/plain": "3.999982555558476"
     },
     "execution_count": 60,
     "metadata": {},
     "output_type": "execute_result"
    }
   ],
   "source": [
    "np.e**1.38629"
   ],
   "metadata": {
    "collapsed": false,
    "pycharm": {
     "name": "#%%\n"
    }
   }
  },
  {
   "cell_type": "code",
   "execution_count": null,
   "outputs": [],
   "source": [],
   "metadata": {
    "collapsed": false,
    "pycharm": {
     "name": "#%%\n"
    }
   }
  },
  {
   "cell_type": "code",
   "execution_count": null,
   "outputs": [],
   "source": [],
   "metadata": {
    "collapsed": false,
    "pycharm": {
     "name": "#%%\n"
    }
   }
  },
  {
   "cell_type": "code",
   "execution_count": 12,
   "outputs": [
    {
     "data": {
      "text/plain": "<AxesSubplot:>"
     },
     "execution_count": 12,
     "metadata": {},
     "output_type": "execute_result"
    },
    {
     "data": {
      "text/plain": "<Figure size 432x288 with 1 Axes>",
      "image/png": "[encoded data removed]"
     },
     "metadata": {
      "needs_background": "light"
     },
     "output_type": "display_data"
    }
   ],
   "source": [
    "df[\"pos_minus_neg\"].hist(bins=15, )"
   ],
   "metadata": {
    "collapsed": false,
    "pycharm": {
     "name": "#%%\n"
    }
   }
  },
  {
   "cell_type": "code",
   "execution_count": null,
   "outputs": [],
   "source": [],
   "metadata": {
    "collapsed": false,
    "pycharm": {
     "name": "#%%\n"
    }
   }
  }
 ],
 "metadata": {
  "kernelspec": {
   "name": "thesis",
   "language": "python",
   "display_name": "thesis"
  },
  "language_info": {
   "codemirror_mode": {
    "name": "ipython",
    "version": 2
   },
   "file_extension": ".py",
   "mimetype": "text/x-python",
   "name": "python",
   "nbconvert_exporter": "python",
   "pygments_lexer": "ipython2",
   "version": "2.7.6"
  }
 },
 "nbformat": 4,
 "nbformat_minor": 0
}