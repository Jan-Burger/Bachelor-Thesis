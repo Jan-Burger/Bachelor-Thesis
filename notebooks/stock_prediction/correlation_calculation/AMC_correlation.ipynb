{
 "cells": [
  {
   "cell_type": "code",
   "execution_count": 1,
   "outputs": [],
   "source": [
    "import pandas as pd\n",
    "import numpy as np\n",
    "import datetime\n",
    "import yfinance as yf\n",
    "import scipy.stats as stats\n",
    "import matplotlib.pyplot as plt"
   ],
   "metadata": {
    "collapsed": false,
    "pycharm": {
     "name": "#%%\n"
    }
   }
  },
  {
   "cell_type": "code",
   "execution_count": 2,
   "outputs": [],
   "source": [
    "df = pd.read_csv(\"../../../data/sentiment_analysis_predictions/by_day/AMC.csv\", parse_dates=[\"created_at\"])\n",
    "df.set_index(\"created_at\", drop=True, inplace=True)"
   ],
   "metadata": {
    "collapsed": false,
    "pycharm": {
     "name": "#%%\n"
    }
   }
  },
  {
   "cell_type": "code",
   "execution_count": 3,
   "outputs": [
    {
     "name": "stdout",
     "output_type": "stream",
     "text": [
      "[*********************100%***********************]  1 of 1 completed\n"
     ]
    }
   ],
   "source": [
    "data = yf.download(\"AMC\", start=\"2021-05-02\", end=\"2022-05-01\")"
   ],
   "metadata": {
    "collapsed": false,
    "pycharm": {
     "name": "#%%\n"
    }
   }
  },
  {
   "cell_type": "code",
   "execution_count": 4,
   "outputs": [
    {
     "data": {
      "text/plain": "                 Open       High        Low      Close  Adj Close    Volume\nDate                                                                       \n2021-05-03  10.110000  10.120000   9.610000   9.710000   9.710000  31251200\n2021-05-04   9.630000   9.750000   9.050000   9.390000   9.390000  35222400\n2021-05-05   9.410000   9.570000   9.080000   9.170000   9.170000  27608700\n2021-05-06   9.330000   9.400000   8.930000   9.000000   9.000000  39586300\n2021-05-07   9.320000   9.790000   9.140000   9.510000   9.510000  38245000\n...               ...        ...        ...        ...        ...       ...\n2022-04-25  16.389999  17.030001  16.290001  16.959999  16.959999  26444200\n2022-04-26  16.889999  17.090000  15.490000  15.500000  15.500000  24732800\n2022-04-27  15.390000  16.250000  15.250000  15.850000  15.850000  26605900\n2022-04-28  15.710000  16.129999  14.700000  15.640000  15.640000  29857700\n2022-04-29  15.630000  16.049999  15.220000  15.300000  15.300000  21342700\n\n[252 rows x 6 columns]",
      "text/html": "<div>\n<style scoped>\n    .dataframe tbody tr th:only-of-type {\n        vertical-align: middle;\n    }\n\n    .dataframe tbody tr th {\n        vertical-align: top;\n    }\n\n    .dataframe thead th {\n        text-align: right;\n    }\n</style>\n<table border=\"1\" class=\"dataframe\">\n  <thead>\n    <tr style=\"text-align: right;\">\n      <th></th>\n      <th>Open</th>\n      <th>High</th>\n      <th>Low</th>\n      <th>Close</th>\n      <th>Adj Close</th>\n      <th>Volume</th>\n    </tr>\n    <tr>\n      <th>Date</th>\n      <th></th>\n      <th></th>\n      <th></th>\n      <th></th>\n      <th></th>\n      <th></th>\n    </tr>\n  </thead>\n  <tbody>\n    <tr>\n      <th>2021-05-03</th>\n      <td>10.110000</td>\n      <td>10.120000</td>\n      <td>9.610000</td>\n      <td>9.710000</td>\n      <td>9.710000</td>\n      <td>31251200</td>\n    </tr>\n    <tr>\n      <th>2021-05-04</th>\n      <td>9.630000</td>\n      <td>9.750000</td>\n      <td>9.050000</td>\n      <td>9.390000</td>\n      <td>9.390000</td>\n      <td>35222400</td>\n    </tr>\n    <tr>\n      <th>2021-05-05</th>\n      <td>9.410000</td>\n      <td>9.570000</td>\n      <td>9.080000</td>\n      <td>9.170000</td>\n      <td>9.170000</td>\n      <td>27608700</td>\n    </tr>\n    <tr>\n      <th>2021-05-06</th>\n      <td>9.330000</td>\n      <td>9.400000</td>\n      <td>8.930000</td>\n      <td>9.000000</td>\n      <td>9.000000</td>\n      <td>39586300</td>\n    </tr>\n    <tr>\n      <th>2021-05-07</th>\n      <td>9.320000</td>\n      <td>9.790000</td>\n      <td>9.140000</td>\n      <td>9.510000</td>\n      <td>9.510000</td>\n      <td>38245000</td>\n    </tr>\n    <tr>\n      <th>...</th>\n      <td>...</td>\n      <td>...</td>\n      <td>...</td>\n      <td>...</td>\n      <td>...</td>\n      <td>...</td>\n    </tr>\n    <tr>\n      <th>2022-04-25</th>\n      <td>16.389999</td>\n      <td>17.030001</td>\n      <td>16.290001</td>\n      <td>16.959999</td>\n      <td>16.959999</td>\n      <td>26444200</td>\n    </tr>\n    <tr>\n      <th>2022-04-26</th>\n      <td>16.889999</td>\n      <td>17.090000</td>\n      <td>15.490000</td>\n      <td>15.500000</td>\n      <td>15.500000</td>\n      <td>24732800</td>\n    </tr>\n    <tr>\n      <th>2022-04-27</th>\n      <td>15.390000</td>\n      <td>16.250000</td>\n      <td>15.250000</td>\n      <td>15.850000</td>\n      <td>15.850000</td>\n      <td>26605900</td>\n    </tr>\n    <tr>\n      <th>2022-04-28</th>\n      <td>15.710000</td>\n      <td>16.129999</td>\n      <td>14.700000</td>\n      <td>15.640000</td>\n      <td>15.640000</td>\n      <td>29857700</td>\n    </tr>\n    <tr>\n      <th>2022-04-29</th>\n      <td>15.630000</td>\n      <td>16.049999</td>\n      <td>15.220000</td>\n      <td>15.300000</td>\n      <td>15.300000</td>\n      <td>21342700</td>\n    </tr>\n  </tbody>\n</table>\n<p>252 rows × 6 columns</p>\n</div>"
     },
     "execution_count": 4,
     "metadata": {},
     "output_type": "execute_result"
    }
   ],
   "source": [
    "data"
   ],
   "metadata": {
    "collapsed": false,
    "pycharm": {
     "name": "#%%\n"
    }
   }
  },
  {
   "cell_type": "code",
   "execution_count": 5,
   "outputs": [],
   "source": [
    "df_merged = pd.merge(df,data, how='inner', left_index=True, right_index=True)"
   ],
   "metadata": {
    "collapsed": false,
    "pycharm": {
     "name": "#%%\n"
    }
   }
  },
  {
   "cell_type": "code",
   "execution_count": 6,
   "outputs": [],
   "source": [
    "#df_merged[\"prev_adj_close\"] = df_merged[\"Adj Close\"].shift(1)"
   ],
   "metadata": {
    "collapsed": false,
    "pycharm": {
     "name": "#%%\n"
    }
   }
  },
  {
   "cell_type": "markdown",
   "source": [
    "## 3. Calculating Returns"
   ],
   "metadata": {
    "collapsed": false,
    "pycharm": {
     "name": "#%% md\n"
    }
   }
  },
  {
   "cell_type": "code",
   "execution_count": 7,
   "outputs": [],
   "source": [
    "# Return in percent\n",
    "df_merged[\"return\"] = df_merged[\"Adj Close\"].pct_change()"
   ],
   "metadata": {
    "collapsed": false,
    "pycharm": {
     "name": "#%%\n"
    }
   }
  },
  {
   "cell_type": "code",
   "execution_count": 8,
   "outputs": [],
   "source": [
    "df_merged[\"log_return\"] = np.log(df_merged[\"Adj Close\"]) - np.log(df_merged[\"Adj Close\"].shift(1))"
   ],
   "metadata": {
    "collapsed": false,
    "pycharm": {
     "name": "#%%\n"
    }
   }
  },
  {
   "cell_type": "code",
   "execution_count": 9,
   "outputs": [],
   "source": [
    "df_merged[\"log_return_shift\"] = df_merged[\"log_return\"].shift(-1)"
   ],
   "metadata": {
    "collapsed": false,
    "pycharm": {
     "name": "#%%\n"
    }
   }
  },
  {
   "cell_type": "code",
   "execution_count": 10,
   "outputs": [],
   "source": [
    "df_merged[\"pos_minus_neg_diff\"] = df_merged[\"pos_minus_neg\"].diff(1)"
   ],
   "metadata": {
    "collapsed": false,
    "pycharm": {
     "name": "#%%\n"
    }
   }
  },
  {
   "cell_type": "code",
   "execution_count": 11,
   "outputs": [],
   "source": [
    "df_merged.dropna(inplace=True)"
   ],
   "metadata": {
    "collapsed": false,
    "pycharm": {
     "name": "#%%\n"
    }
   }
  },
  {
   "cell_type": "code",
   "execution_count": 12,
   "outputs": [
    {
     "data": {
      "text/plain": "            Negative   Neutral  Positive  count  pos_minus_neg  \\\n2021-05-04  0.324312  0.219098  0.456590    124       0.132277   \n2021-05-05  0.204789  0.349033  0.446178    257       0.241389   \n2021-05-06  0.238258  0.343585  0.418157    519       0.179900   \n2021-05-07  0.211977  0.340285  0.447738    323       0.235762   \n2021-05-10  0.235655  0.315471  0.448873    281       0.213218   \n...              ...       ...       ...    ...            ...   \n2022-04-22  0.320121  0.381434  0.298444     35      -0.021677   \n2022-04-25  0.151190  0.421520  0.427291     68       0.276101   \n2022-04-26  0.480377  0.361146  0.158477     46      -0.321900   \n2022-04-27  0.318885  0.384888  0.296227     44      -0.022657   \n2022-04-28  0.253839  0.318133  0.428028     27       0.174189   \n\n            pos_minus_neg_times_count       Open       High        Low  \\\n2021-05-04                  16.402389   9.630000   9.750000   9.050000   \n2021-05-05                  62.036886   9.410000   9.570000   9.080000   \n2021-05-06                  93.367912   9.330000   9.400000   8.930000   \n2021-05-07                  76.150988   9.320000   9.790000   9.140000   \n2021-05-10                  59.914264   9.900000  10.150000   9.560000   \n...                               ...        ...        ...        ...   \n2022-04-22                  -0.758702  17.120001  17.610001  16.100000   \n2022-04-25                  18.774880  16.389999  17.030001  16.290001   \n2022-04-26                 -14.807422  16.889999  17.090000  15.490000   \n2022-04-27                  -0.996929  15.390000  16.250000  15.250000   \n2022-04-28                   4.703112  15.710000  16.129999  14.700000   \n\n                Close  Adj Close    Volume    return  log_return  \\\n2021-05-04   9.390000   9.390000  35222400 -0.032956   -0.033511   \n2021-05-05   9.170000   9.170000  27608700 -0.023429   -0.023708   \n2021-05-06   9.000000   9.000000  39586300 -0.018539   -0.018713   \n2021-05-07   9.510000   9.510000  38245000  0.056667    0.055119   \n2021-05-10   9.740000   9.740000  41015300  0.024185    0.023897   \n...               ...        ...       ...       ...         ...   \n2022-04-22  16.520000  16.520000  26431700 -0.019585   -0.019779   \n2022-04-25  16.959999  16.959999  26444200  0.026634    0.026286   \n2022-04-26  15.500000  15.500000  24732800 -0.086085   -0.090018   \n2022-04-27  15.850000  15.850000  26605900  0.022581    0.022330   \n2022-04-28  15.640000  15.640000  29857700 -0.013249   -0.013338   \n\n            log_return_shift  pos_minus_neg_diff  \n2021-05-04         -0.023708           -0.139480  \n2021-05-05         -0.018713            0.109111  \n2021-05-06          0.055119           -0.061489  \n2021-05-07          0.023897            0.055862  \n2021-05-10          0.031332           -0.022544  \n...                      ...                 ...  \n2022-04-22          0.026286            0.000643  \n2022-04-25         -0.090018            0.297778  \n2022-04-26          0.022330           -0.598002  \n2022-04-27         -0.013338            0.299243  \n2022-04-28         -0.021979            0.196847  \n\n[250 rows x 16 columns]",
      "text/html": "<div>\n<style scoped>\n    .dataframe tbody tr th:only-of-type {\n        vertical-align: middle;\n    }\n\n    .dataframe tbody tr th {\n        vertical-align: top;\n    }\n\n    .dataframe thead th {\n        text-align: right;\n    }\n</style>\n<table border=\"1\" class=\"dataframe\">\n  <thead>\n    <tr style=\"text-align: right;\">\n      <th></th>\n      <th>Negative</th>\n      <th>Neutral</th>\n      <th>Positive</th>\n      <th>count</th>\n      <th>pos_minus_neg</th>\n      <th>pos_minus_neg_times_count</th>\n      <th>Open</th>\n      <th>High</th>\n      <th>Low</th>\n      <th>Close</th>\n      <th>Adj Close</th>\n      <th>Volume</th>\n      <th>return</th>\n      <th>log_return</th>\n      <th>log_return_shift</th>\n      <th>pos_minus_neg_diff</th>\n    </tr>\n  </thead>\n  <tbody>\n    <tr>\n      <th>2021-05-04</th>\n      <td>0.324312</td>\n      <td>0.219098</td>\n      <td>0.456590</td>\n      <td>124</td>\n      <td>0.132277</td>\n      <td>16.402389</td>\n      <td>9.630000</td>\n      <td>9.750000</td>\n      <td>9.050000</td>\n      <td>9.390000</td>\n      <td>9.390000</td>\n      <td>35222400</td>\n      <td>-0.032956</td>\n      <td>-0.033511</td>\n      <td>-0.023708</td>\n      <td>-0.139480</td>\n    </tr>\n    <tr>\n      <th>2021-05-05</th>\n      <td>0.204789</td>\n      <td>0.349033</td>\n      <td>0.446178</td>\n      <td>257</td>\n      <td>0.241389</td>\n      <td>62.036886</td>\n      <td>9.410000</td>\n      <td>9.570000</td>\n      <td>9.080000</td>\n      <td>9.170000</td>\n      <td>9.170000</td>\n      <td>27608700</td>\n      <td>-0.023429</td>\n      <td>-0.023708</td>\n      <td>-0.018713</td>\n      <td>0.109111</td>\n    </tr>\n    <tr>\n      <th>2021-05-06</th>\n      <td>0.238258</td>\n      <td>0.343585</td>\n      <td>0.418157</td>\n      <td>519</td>\n      <td>0.179900</td>\n      <td>93.367912</td>\n      <td>9.330000</td>\n      <td>9.400000</td>\n      <td>8.930000</td>\n      <td>9.000000</td>\n      <td>9.000000</td>\n      <td>39586300</td>\n      <td>-0.018539</td>\n      <td>-0.018713</td>\n      <td>0.055119</td>\n      <td>-0.061489</td>\n    </tr>\n    <tr>\n      <th>2021-05-07</th>\n      <td>0.211977</td>\n      <td>0.340285</td>\n      <td>0.447738</td>\n      <td>323</td>\n      <td>0.235762</td>\n      <td>76.150988</td>\n      <td>9.320000</td>\n      <td>9.790000</td>\n      <td>9.140000</td>\n      <td>9.510000</td>\n      <td>9.510000</td>\n      <td>38245000</td>\n      <td>0.056667</td>\n      <td>0.055119</td>\n      <td>0.023897</td>\n      <td>0.055862</td>\n    </tr>\n    <tr>\n      <th>2021-05-10</th>\n      <td>0.235655</td>\n      <td>0.315471</td>\n      <td>0.448873</td>\n      <td>281</td>\n      <td>0.213218</td>\n      <td>59.914264</td>\n      <td>9.900000</td>\n      <td>10.150000</td>\n      <td>9.560000</td>\n      <td>9.740000</td>\n      <td>9.740000</td>\n      <td>41015300</td>\n      <td>0.024185</td>\n      <td>0.023897</td>\n      <td>0.031332</td>\n      <td>-0.022544</td>\n    </tr>\n    <tr>\n      <th>...</th>\n      <td>...</td>\n      <td>...</td>\n      <td>...</td>\n      <td>...</td>\n      <td>...</td>\n      <td>...</td>\n      <td>...</td>\n      <td>...</td>\n      <td>...</td>\n      <td>...</td>\n      <td>...</td>\n      <td>...</td>\n      <td>...</td>\n      <td>...</td>\n      <td>...</td>\n      <td>...</td>\n    </tr>\n    <tr>\n      <th>2022-04-22</th>\n      <td>0.320121</td>\n      <td>0.381434</td>\n      <td>0.298444</td>\n      <td>35</td>\n      <td>-0.021677</td>\n      <td>-0.758702</td>\n      <td>17.120001</td>\n      <td>17.610001</td>\n      <td>16.100000</td>\n      <td>16.520000</td>\n      <td>16.520000</td>\n      <td>26431700</td>\n      <td>-0.019585</td>\n      <td>-0.019779</td>\n      <td>0.026286</td>\n      <td>0.000643</td>\n    </tr>\n    <tr>\n      <th>2022-04-25</th>\n      <td>0.151190</td>\n      <td>0.421520</td>\n      <td>0.427291</td>\n      <td>68</td>\n      <td>0.276101</td>\n      <td>18.774880</td>\n      <td>16.389999</td>\n      <td>17.030001</td>\n      <td>16.290001</td>\n      <td>16.959999</td>\n      <td>16.959999</td>\n      <td>26444200</td>\n      <td>0.026634</td>\n      <td>0.026286</td>\n      <td>-0.090018</td>\n      <td>0.297778</td>\n    </tr>\n    <tr>\n      <th>2022-04-26</th>\n      <td>0.480377</td>\n      <td>0.361146</td>\n      <td>0.158477</td>\n      <td>46</td>\n      <td>-0.321900</td>\n      <td>-14.807422</td>\n      <td>16.889999</td>\n      <td>17.090000</td>\n      <td>15.490000</td>\n      <td>15.500000</td>\n      <td>15.500000</td>\n      <td>24732800</td>\n      <td>-0.086085</td>\n      <td>-0.090018</td>\n      <td>0.022330</td>\n      <td>-0.598002</td>\n    </tr>\n    <tr>\n      <th>2022-04-27</th>\n      <td>0.318885</td>\n      <td>0.384888</td>\n      <td>0.296227</td>\n      <td>44</td>\n      <td>-0.022657</td>\n      <td>-0.996929</td>\n      <td>15.390000</td>\n      <td>16.250000</td>\n      <td>15.250000</td>\n      <td>15.850000</td>\n      <td>15.850000</td>\n      <td>26605900</td>\n      <td>0.022581</td>\n      <td>0.022330</td>\n      <td>-0.013338</td>\n      <td>0.299243</td>\n    </tr>\n    <tr>\n      <th>2022-04-28</th>\n      <td>0.253839</td>\n      <td>0.318133</td>\n      <td>0.428028</td>\n      <td>27</td>\n      <td>0.174189</td>\n      <td>4.703112</td>\n      <td>15.710000</td>\n      <td>16.129999</td>\n      <td>14.700000</td>\n      <td>15.640000</td>\n      <td>15.640000</td>\n      <td>29857700</td>\n      <td>-0.013249</td>\n      <td>-0.013338</td>\n      <td>-0.021979</td>\n      <td>0.196847</td>\n    </tr>\n  </tbody>\n</table>\n<p>250 rows × 16 columns</p>\n</div>"
     },
     "execution_count": 12,
     "metadata": {},
     "output_type": "execute_result"
    }
   ],
   "source": [
    "df_merged"
   ],
   "metadata": {
    "collapsed": false,
    "pycharm": {
     "name": "#%%\n"
    }
   }
  },
  {
   "cell_type": "code",
   "execution_count": null,
   "outputs": [],
   "source": [],
   "metadata": {
    "collapsed": false,
    "pycharm": {
     "name": "#%%\n"
    }
   }
  },
  {
   "cell_type": "code",
   "execution_count": 74,
   "outputs": [
    {
     "data": {
      "text/plain": "<Figure size 432x288 with 1 Axes>",
      "image/png": "[encoded data removed]"
     },
     "metadata": {
      "needs_background": "light"
     },
     "output_type": "display_data"
    }
   ],
   "source": [
    "plt.scatter(df_merged[\"log_return_shift\"], df_merged[\"pos_minus_neg\"])\n",
    "plt.show()"
   ],
   "metadata": {
    "collapsed": false,
    "pycharm": {
     "name": "#%%\n"
    }
   }
  },
  {
   "cell_type": "code",
   "execution_count": null,
   "outputs": [],
   "source": [],
   "metadata": {
    "collapsed": false,
    "pycharm": {
     "name": "#%%\n"
    }
   }
  },
  {
   "cell_type": "code",
   "execution_count": 75,
   "outputs": [
    {
     "data": {
      "text/plain": "<Figure size 432x288 with 1 Axes>",
      "image/png": "[encoded data removed]"
     },
     "metadata": {
      "needs_background": "light"
     },
     "output_type": "display_data"
    }
   ],
   "source": [
    "plt.scatter(df_merged[\"log_return\"], df_merged[\"pos_minus_neg\"])\n",
    "plt.show()"
   ],
   "metadata": {
    "collapsed": false,
    "pycharm": {
     "name": "#%%\n"
    }
   }
  },
  {
   "cell_type": "code",
   "execution_count": 92,
   "outputs": [
    {
     "data": {
      "text/plain": "<Figure size 432x288 with 1 Axes>",
      "image/png": "[encoded data removed]"
     },
     "metadata": {
      "needs_background": "light"
     },
     "output_type": "display_data"
    }
   ],
   "source": [
    "plt.scatter(df_merged[\"log_return\"], df_merged[\"Negative\"])\n",
    "plt.show()"
   ],
   "metadata": {
    "collapsed": false,
    "pycharm": {
     "name": "#%%\n"
    }
   }
  },
  {
   "cell_type": "code",
   "execution_count": 13,
   "outputs": [
    {
     "name": "stdout",
     "output_type": "stream",
     "text": [
      "(0.33674436593640783, 4.816683062357354e-08)\n",
      "(0.039460801578940434, 0.5345699112084484)\n",
      "(0.27226463546922336, 1.2650196866834193e-05)\n",
      "(0.08544092701808022, 0.1780984236460395)\n",
      "(0.3713561430993863, 1.3584395539372879e-09)\n",
      "(0.08998530095985388, 0.1560327224571128)\n",
      "(0.33044100459236, 8.816187487613529e-08)\n",
      "(0.06900086539796699, 0.2771129430540403)\n",
      "(-0.2765997317993243, 9.062748687973934e-06)\n",
      "(0.010132820298386625, 0.8733418194176211)\n",
      "(0.29345899458137253, 2.3457654741198983e-06)\n",
      "(0.05439566758389477, 0.3917793346729439)\n"
     ]
    }
   ],
   "source": [
    "print(stats.pearsonr(df_merged[\"log_return\"], df_merged[\"pos_minus_neg\"]))\n",
    "print(stats.pearsonr(df_merged[\"log_return_shift\"], df_merged[\"pos_minus_neg\"]))\n",
    "\n",
    "print(stats.pearsonr(df_merged[\"log_return\"], df_merged[\"count\"]))\n",
    "print(stats.pearsonr(df_merged[\"log_return_shift\"], df_merged[\"count\"]))\n",
    "\n",
    "print(stats.pearsonr(df_merged[\"log_return\"], df_merged[\"pos_minus_neg_times_count\"]))\n",
    "print(stats.pearsonr(df_merged[\"log_return_shift\"], df_merged[\"pos_minus_neg_times_count\"]))\n",
    "\n",
    "print(stats.pearsonr(df_merged[\"log_return\"], df_merged[\"Positive\"]))\n",
    "print(stats.pearsonr(df_merged[\"log_return_shift\"], df_merged[\"Positive\"]))\n",
    "\n",
    "print(stats.pearsonr(df_merged[\"log_return\"], df_merged[\"Negative\"]))\n",
    "print(stats.pearsonr(df_merged[\"log_return_shift\"], df_merged[\"Negative\"]))\n",
    "\n",
    "print(stats.pearsonr(df_merged[\"log_return\"], df_merged[\"pos_minus_neg_diff\"]))\n",
    "print(stats.pearsonr(df_merged[\"log_return_shift\"], df_merged[\"pos_minus_neg_diff\"]))"
   ],
   "metadata": {
    "collapsed": false,
    "pycharm": {
     "name": "#%%\n"
    }
   }
  },
  {
   "cell_type": "code",
   "execution_count": null,
   "outputs": [],
   "source": [],
   "metadata": {
    "collapsed": false,
    "pycharm": {
     "name": "#%%\n"
    }
   }
  },
  {
   "cell_type": "code",
   "execution_count": null,
   "outputs": [],
   "source": [],
   "metadata": {
    "collapsed": false,
    "pycharm": {
     "name": "#%%\n"
    }
   }
  },
  {
   "cell_type": "code",
   "execution_count": 14,
   "outputs": [
    {
     "data": {
      "text/plain": "<AxesSubplot:>"
     },
     "execution_count": 14,
     "metadata": {},
     "output_type": "execute_result"
    },
    {
     "data": {
      "text/plain": "<Figure size 432x288 with 1 Axes>",
      "image/png": "[encoded data removed]"
     },
     "metadata": {
      "needs_background": "light"
     },
     "output_type": "display_data"
    }
   ],
   "source": [
    "df_merged[\"return\"].hist(bins=100, density=True)"
   ],
   "metadata": {
    "collapsed": false,
    "pycharm": {
     "name": "#%%\n"
    }
   }
  },
  {
   "cell_type": "markdown",
   "source": [
    "## 4. Descriptive and inferential statistics"
   ],
   "metadata": {
    "collapsed": false,
    "pycharm": {
     "name": "#%% md\n"
    }
   }
  },
  {
   "cell_type": "code",
   "execution_count": 15,
   "outputs": [
    {
     "data": {
      "text/plain": "<Figure size 432x288 with 1 Axes>",
      "image/png": "[encoded data removed]"
     },
     "metadata": {
      "needs_background": "light"
     },
     "output_type": "display_data"
    }
   ],
   "source": [
    "stats.probplot(df_merged[\"log_return\"].dropna(), dist=\"norm\", plot=plt)\n",
    "plt.show()"
   ],
   "metadata": {
    "collapsed": false,
    "pycharm": {
     "name": "#%%\n"
    }
   }
  },
  {
   "cell_type": "code",
   "execution_count": 68,
   "outputs": [
    {
     "data": {
      "text/plain": "<Figure size 432x288 with 1 Axes>",
      "image/png": "[encoded data removed]"
     },
     "metadata": {
      "needs_background": "light"
     },
     "output_type": "display_data"
    }
   ],
   "source": [
    "stats.probplot(df_merged[\"return\"].dropna(), dist=\"norm\", plot=plt)\n",
    "plt.show()"
   ],
   "metadata": {
    "collapsed": false,
    "pycharm": {
     "name": "#%%\n"
    }
   }
  },
  {
   "cell_type": "code",
   "execution_count": 60,
   "outputs": [
    {
     "data": {
      "text/plain": "3.999982555558476"
     },
     "execution_count": 60,
     "metadata": {},
     "output_type": "execute_result"
    }
   ],
   "source": [
    "np.e**1.38629"
   ],
   "metadata": {
    "collapsed": false,
    "pycharm": {
     "name": "#%%\n"
    }
   }
  },
  {
   "cell_type": "code",
   "execution_count": null,
   "outputs": [],
   "source": [],
   "metadata": {
    "collapsed": false,
    "pycharm": {
     "name": "#%%\n"
    }
   }
  },
  {
   "cell_type": "code",
   "execution_count": null,
   "outputs": [],
   "source": [],
   "metadata": {
    "collapsed": false,
    "pycharm": {
     "name": "#%%\n"
    }
   }
  },
  {
   "cell_type": "code",
   "execution_count": 12,
   "outputs": [
    {
     "data": {
      "text/plain": "<AxesSubplot:>"
     },
     "execution_count": 12,
     "metadata": {},
     "output_type": "execute_result"
    },
    {
     "data": {
      "text/plain": "<Figure size 432x288 with 1 Axes>",
      "image/png": "[encoded data removed]"
     },
     "metadata": {
      "needs_background": "light"
     },
     "output_type": "display_data"
    }
   ],
   "source": [
    "df[\"pos_minus_neg\"].hist(bins=15, )"
   ],
   "metadata": {
    "collapsed": false,
    "pycharm": {
     "name": "#%%\n"
    }
   }
  },
  {
   "cell_type": "code",
   "execution_count": null,
   "outputs": [],
   "source": [],
   "metadata": {
    "collapsed": false,
    "pycharm": {
     "name": "#%%\n"
    }
   }
  }
 ],
 "metadata": {
  "kernelspec": {
   "name": "thesis",
   "language": "python",
   "display_name": "thesis"
  },
  "language_info": {
   "codemirror_mode": {
    "name": "ipython",
    "version": 2
   },
   "file_extension": ".py",
   "mimetype": "text/x-python",
   "name": "python",
   "nbconvert_exporter": "python",
   "pygments_lexer": "ipython2",
   "version": "2.7.6"
  }
 },
 "nbformat": 4,
 "nbformat_minor": 0
}