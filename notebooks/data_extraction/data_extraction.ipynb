{
 "cells": [
  {
   "cell_type": "markdown",
   "source": [
    "## 1. Imports and config"
   ],
   "metadata": {
    "collapsed": false,
    "pycharm": {
     "name": "#%% md\n"
    }
   }
  },
  {
   "cell_type": "code",
   "execution_count": 1,
   "metadata": {
    "collapsed": true,
    "pycharm": {
     "name": "#%%\n"
    }
   },
   "outputs": [],
   "source": [
    "from psaw import PushshiftAPI\n",
    "import datetime as dt\n",
    "import re\n",
    "import warnings\n",
    "import yaml\n",
    "import logging\n",
    "from tqdm import tqdm\n",
    "import pandas as pd\n",
    "#import numpy as np\n",
    "from sqlalchemy import create_engine, types\n",
    "from data_extraction_utils import data_prep_posts, join_submission_title_and_body, find_stock_symbols\n",
    "warnings.filterwarnings(\"ignore\")"
   ]
  },
  {
   "cell_type": "code",
   "execution_count": 2,
   "outputs": [],
   "source": [
    "# Specify logging settings\n",
    "logging.basicConfig(filename='submissions.log', level=logging.INFO, filemode=\"a\", format=\"%(asctime)s - %(levelname)s - %(message)s\")"
   ],
   "metadata": {
    "collapsed": false,
    "pycharm": {
     "name": "#%%\n"
    }
   }
  },
  {
   "cell_type": "markdown",
   "source": [
    "## 2. Database configuration"
   ],
   "metadata": {
    "collapsed": false,
    "pycharm": {
     "name": "#%% md\n"
    }
   }
  },
  {
   "cell_type": "code",
   "execution_count": 3,
   "outputs": [],
   "source": [
    "# Reading form config.yaml\"\n",
    "with open(\"../../config.yaml\", \"r\") as yamlconfig:\n",
    "    config = yaml.load(yamlconfig, Loader=yaml.FullLoader)\n",
    "\n",
    "# Create postgres string with db-config\n",
    "postgres_username = config[\"db_config\"][\"postgres_username\"]\n",
    "postgres_password = config[\"db_config\"][\"postgres_password\"]\n",
    "postgres_address = config[\"db_config\"][\"postgres_address\"]\n",
    "postgres_port = config[\"db_config\"][\"postgres_port\"]\n",
    "postgres_dbname = config[\"db_config\"][\"postgres_dbname\"]\n",
    "\n",
    "postgres_str = f\"postgresql://{postgres_username}:{postgres_password}@{postgres_address}:{postgres_port}/{postgres_dbname}\"\n",
    "\n",
    "# create db connection with sqlalchemy\n",
    "cnx = create_engine(postgres_str)"
   ],
   "metadata": {
    "collapsed": false,
    "pycharm": {
     "name": "#%%\n"
    }
   }
  },
  {
   "cell_type": "markdown",
   "source": [
    "## 3. Create stock symbol list"
   ],
   "metadata": {
    "collapsed": false,
    "pycharm": {
     "name": "#%% md\n"
    }
   }
  },
  {
   "cell_type": "code",
   "execution_count": 4,
   "outputs": [],
   "source": [
    "# load stock list and transform it into a set\n",
    "stock_ticker_list = pd.read_excel(\"../../data/external/stock_ticker_list.xlsx\")[\"symbol\"].to_list()\n",
    "\n",
    "# Modified second stock list with dollar sign\n",
    "stock_ticker_list_with_dollar_sign = [f\"${ticker}\" for ticker in stock_ticker_list]\n",
    "\n",
    "# Combine the two lists to one set\n",
    "final_stock_ticker_list = set(stock_ticker_list + stock_ticker_list_with_dollar_sign)"
   ],
   "metadata": {
    "collapsed": false,
    "pycharm": {
     "name": "#%%\n"
    }
   }
  },
  {
   "cell_type": "markdown",
   "source": [
    "## 4. Extract Submissions from reddit"
   ],
   "metadata": {
    "collapsed": false,
    "pycharm": {
     "name": "#%% md\n"
    }
   }
  },
  {
   "cell_type": "code",
   "execution_count": 5,
   "outputs": [],
   "source": [
    "# Set date range to extract the data from the API\n",
    "start = dt.datetime.strptime(\"09-05-2022\", \"%d-%m-%Y\")\n",
    "end = dt.datetime.strptime(\"23-05-2022\", \"%d-%m-%Y\")\n",
    "timestamp_list = [int((start + dt.timedelta(days=x)).timestamp()) for x in range(0, (end-start).days +1)]\n",
    "\n",
    "# Reddit API Object\n",
    "api = PushshiftAPI()"
   ],
   "metadata": {
    "collapsed": false,
    "pycharm": {
     "name": "#%%\n"
    }
   }
  },
  {
   "cell_type": "code",
   "execution_count": 6,
   "outputs": [
    {
     "name": "stderr",
     "output_type": "stream",
     "text": [
      "2022-05-22 00:00:00: 100%|██████████| 14/14 [01:48<00:00,  7.74s/it]\n"
     ]
    }
   ],
   "source": [
    "# loop over list of timestamps\n",
    "for i in (pbar := tqdm(range(len(timestamp_list) -1))):\n",
    "\n",
    "    # Set start date and end date\n",
    "    start_date = timestamp_list[i]\n",
    "    end_date = timestamp_list[i + 1]\n",
    "\n",
    "    # Specify data to extract from reddit\n",
    "    filters = ['author', 'created_utc', 'title', \"selftext\", \"score\"]\n",
    "\n",
    "    # Call API function to retrieve data from reddit as a dataframe\n",
    "    df = data_prep_posts(api, \"wallstreetbets\", start_time=start_date, end_time=end_date, filters=filters)\n",
    "\n",
    "    # Join submission title and body to \"post\"\n",
    "    df[\"post\"] = df[[\"title\", \"selftext\"]].apply(lambda x: join_submission_title_and_body(*x), axis=1)\n",
    "\n",
    "    # Transform timestamp into datetime column\n",
    "    df[\"created_at\"] = df[\"created_utc\"].apply(lambda x: dt.datetime.fromtimestamp(x))\n",
    "\n",
    "    # Get stock symbol from reddit post if available\n",
    "    df[\"stock_symbol\"] = df[\"post\"].apply(lambda x: find_stock_symbols(x, final_stock_ticker_list))\n",
    "\n",
    "    # Drop unused columns\n",
    "    df.drop(columns=[\"created_utc\", \"selftext\", \"title\", \"created\"], inplace=True)\n",
    "\n",
    "    # Rename columns as preparation for database\n",
    "    df.rename(columns={'score': 'num_up_votes'}, inplace=True)\n",
    "\n",
    "    # Write dataframe to database\n",
    "    df.to_sql(\"r_wallstreetbets\", cnx, index=False, if_exists=\"append\")\n",
    "\n",
    "    # Logging\n",
    "    logging.info(f\"{df.shape[0]} rows written to DB - Date: {dt.datetime.fromtimestamp(start_date)}\")\n",
    "    pbar.set_description(f\"{dt.datetime.fromtimestamp(start_date)}\")\n"
   ],
   "metadata": {
    "collapsed": false,
    "pycharm": {
     "name": "#%%\n"
    }
   }
  },
  {
   "cell_type": "code",
   "execution_count": 6,
   "outputs": [
    {
     "data": {
      "text/plain": "                   author  num_up_votes        type  \\\n0       must_be_funny_bot             1  submission   \n1           Bobdaman_1989             1  submission   \n2             justramos69             1  submission   \n3       ChillinwithDillon             1  submission   \n4      Broad_Tradition_98             1  submission   \n..                    ...           ...         ...   \n433        illusionist_iv             1  submission   \n434  Upper_Combination_46             1  submission   \n435        illusionist_iv             1  submission   \n436       FortSquidward69             1  submission   \n437    AnalystNatural5682             1  submission   \n\n                                                  post          created_at  \\\n0               The pillar of my destroyed meme-folio  2022-01-01 23:56:53   \n1    Am I the only one that is scared to death abou... 2022-01-01 23:56:29   \n2                              Attapoll referral bonus 2022-01-01 23:54:20   \n3                          ES bustin 4800 next week 🤞  2022-01-01 23:54:03   \n4    Lets Teach the Hedge Funds A Lesson [C3.ai](ht... 2022-01-01 23:50:11   \n..                                                 ...                 ...   \n433  The first pic is how my YOLO Tesla contracts a... 2022-01-01 00:13:25   \n434  Want to learn more I have surface level knowle... 2022-01-01 00:09:03   \n435  The first pic is how my YOLO Tesla contracts a... 2022-01-01 00:06:37   \n436                                               WSB  2022-01-01 00:03:52   \n437  life as we know it mods must be hired by suits... 2022-01-01 00:01:12   \n\n    stock_symbol  \n0            NaN  \n1            NaN  \n2            NaN  \n3           {ES}  \n4        {AI, A}  \n..           ...  \n433       {TSLA}  \n434          NaN  \n435       {TSLA}  \n436          NaN  \n437          NaN  \n\n[438 rows x 6 columns]",
      "text/html": "<div>\n<style scoped>\n    .dataframe tbody tr th:only-of-type {\n        vertical-align: middle;\n    }\n\n    .dataframe tbody tr th {\n        vertical-align: top;\n    }\n\n    .dataframe thead th {\n        text-align: right;\n    }\n</style>\n<table border=\"1\" class=\"dataframe\">\n  <thead>\n    <tr style=\"text-align: right;\">\n      <th></th>\n      <th>author</th>\n      <th>num_up_votes</th>\n      <th>type</th>\n      <th>post</th>\n      <th>created_at</th>\n      <th>stock_symbol</th>\n    </tr>\n  </thead>\n  <tbody>\n    <tr>\n      <th>0</th>\n      <td>must_be_funny_bot</td>\n      <td>1</td>\n      <td>submission</td>\n      <td>The pillar of my destroyed meme-folio</td>\n      <td>2022-01-01 23:56:53</td>\n      <td>NaN</td>\n    </tr>\n    <tr>\n      <th>1</th>\n      <td>Bobdaman_1989</td>\n      <td>1</td>\n      <td>submission</td>\n      <td>Am I the only one that is scared to death abou...</td>\n      <td>2022-01-01 23:56:29</td>\n      <td>NaN</td>\n    </tr>\n    <tr>\n      <th>2</th>\n      <td>justramos69</td>\n      <td>1</td>\n      <td>submission</td>\n      <td>Attapoll referral bonus</td>\n      <td>2022-01-01 23:54:20</td>\n      <td>NaN</td>\n    </tr>\n    <tr>\n      <th>3</th>\n      <td>ChillinwithDillon</td>\n      <td>1</td>\n      <td>submission</td>\n      <td>ES bustin 4800 next week 🤞</td>\n      <td>2022-01-01 23:54:03</td>\n      <td>{ES}</td>\n    </tr>\n    <tr>\n      <th>4</th>\n      <td>Broad_Tradition_98</td>\n      <td>1</td>\n      <td>submission</td>\n      <td>Lets Teach the Hedge Funds A Lesson [C3.ai](ht...</td>\n      <td>2022-01-01 23:50:11</td>\n      <td>{AI, A}</td>\n    </tr>\n    <tr>\n      <th>...</th>\n      <td>...</td>\n      <td>...</td>\n      <td>...</td>\n      <td>...</td>\n      <td>...</td>\n      <td>...</td>\n    </tr>\n    <tr>\n      <th>433</th>\n      <td>illusionist_iv</td>\n      <td>1</td>\n      <td>submission</td>\n      <td>The first pic is how my YOLO Tesla contracts a...</td>\n      <td>2022-01-01 00:13:25</td>\n      <td>{TSLA}</td>\n    </tr>\n    <tr>\n      <th>434</th>\n      <td>Upper_Combination_46</td>\n      <td>1</td>\n      <td>submission</td>\n      <td>Want to learn more I have surface level knowle...</td>\n      <td>2022-01-01 00:09:03</td>\n      <td>NaN</td>\n    </tr>\n    <tr>\n      <th>435</th>\n      <td>illusionist_iv</td>\n      <td>1</td>\n      <td>submission</td>\n      <td>The first pic is how my YOLO Tesla contracts a...</td>\n      <td>2022-01-01 00:06:37</td>\n      <td>{TSLA}</td>\n    </tr>\n    <tr>\n      <th>436</th>\n      <td>FortSquidward69</td>\n      <td>1</td>\n      <td>submission</td>\n      <td>WSB</td>\n      <td>2022-01-01 00:03:52</td>\n      <td>NaN</td>\n    </tr>\n    <tr>\n      <th>437</th>\n      <td>AnalystNatural5682</td>\n      <td>1</td>\n      <td>submission</td>\n      <td>life as we know it mods must be hired by suits...</td>\n      <td>2022-01-01 00:01:12</td>\n      <td>NaN</td>\n    </tr>\n  </tbody>\n</table>\n<p>438 rows × 6 columns</p>\n</div>"
     },
     "execution_count": 6,
     "metadata": {},
     "output_type": "execute_result"
    }
   ],
   "source": [
    "df"
   ],
   "metadata": {
    "collapsed": false,
    "pycharm": {
     "name": "#%%\n"
    }
   }
  },
  {
   "cell_type": "code",
   "execution_count": 9,
   "outputs": [
    {
     "name": "stdout",
     "output_type": "stream",
     "text": [
      "{'GME', '$GME'}\n",
      "{'GME'}\n"
     ]
    }
   ],
   "source": [
    "found_stock_raw = {\"$GME\", \"GME\"}\n",
    "print(found_stock_raw)\n",
    "\n",
    "found_stock_processed = {stock.replace(\"$\", \"\") if \"$\" in stock else stock for stock in found_stock_raw}\n",
    "\n",
    "print(found_stock_processed)"
   ],
   "metadata": {
    "collapsed": false,
    "pycharm": {
     "name": "#%%\n"
    }
   }
  },
  {
   "cell_type": "code",
   "execution_count": null,
   "outputs": [],
   "source": [],
   "metadata": {
    "collapsed": false,
    "pycharm": {
     "name": "#%%\n"
    }
   }
  },
  {
   "cell_type": "code",
   "execution_count": 10,
   "outputs": [],
   "source": [
    "post = set(\"Original TSLA DD - Part 2 - Update and Outlook $EBS $BAVA\".split())"
   ],
   "metadata": {
    "collapsed": false,
    "pycharm": {
     "name": "#%%\n"
    }
   }
  },
  {
   "cell_type": "code",
   "execution_count": 15,
   "outputs": [],
   "source": [
    "found_stock = list(post.intersection(final_stock_ticker_list))[0]\n",
    "if \"$\" in found_stock:\n",
    "    found_stock = found_stock.replace(\"$\", \"\")"
   ],
   "metadata": {
    "collapsed": false,
    "pycharm": {
     "name": "#%%\n"
    }
   }
  },
  {
   "cell_type": "code",
   "execution_count": 10,
   "outputs": [
    {
     "name": "stdout",
     "output_type": "stream",
     "text": [
      "not found\n"
     ]
    }
   ],
   "source": [
    "my_ser = {}\n",
    "\n",
    "if my_ser:\n",
    "    print(my_ser)\n",
    "else:\n",
    "    print(\"not found\")"
   ],
   "metadata": {
    "collapsed": false,
    "pycharm": {
     "name": "#%%\n"
    }
   }
  },
  {
   "cell_type": "code",
   "execution_count": 66,
   "outputs": [
    {
     "name": "stdout",
     "output_type": "stream",
     "text": [
      "0\n"
     ]
    }
   ],
   "source": [
    "words_re = re.compile(\"|\".join(stock_ticker_list))\n",
    "\n",
    "match = re.search(fr'{\"|\".join(stock_ticker_list)}', 'Original TSLA DD - Part 2 - Update and Outlook $EBS $BAVA')\n",
    "\n",
    "if match:\n",
    "    print(match.start())"
   ],
   "metadata": {
    "collapsed": false,
    "pycharm": {
     "name": "#%%\n"
    }
   }
  },
  {
   "cell_type": "code",
   "execution_count": 21,
   "outputs": [
    {
     "data": {
      "text/plain": "13.5"
     },
     "execution_count": 21,
     "metadata": {},
     "output_type": "execute_result"
    }
   ],
   "source": [
    "((15*52 / 8) - 30) / 5"
   ],
   "metadata": {
    "collapsed": false,
    "pycharm": {
     "name": "#%%\n"
    }
   }
  },
  {
   "cell_type": "code",
   "execution_count": null,
   "outputs": [],
   "source": [],
   "metadata": {
    "collapsed": false,
    "pycharm": {
     "name": "#%%\n"
    }
   }
  },
  {
   "cell_type": "code",
   "execution_count": 75,
   "outputs": [
    {
     "data": {
      "text/plain": "False"
     },
     "execution_count": 75,
     "metadata": {},
     "output_type": "execute_result"
    }
   ],
   "source": [
    "\"GOEV\" in \"|\".join(stock_ticker_list)"
   ],
   "metadata": {
    "collapsed": false,
    "pycharm": {
     "name": "#%%\n"
    }
   }
  },
  {
   "cell_type": "code",
   "execution_count": 63,
   "outputs": [
    {
     "name": "stdout",
     "output_type": "stream",
     "text": [
      "found!\n",
      "O\n"
     ]
    }
   ],
   "source": [
    "post = \"Original TSLA DD - Part 2 - Update and Outlook $EBS $BAVA\"\n",
    "\n",
    "match = re.search(fr'{\"|\".join(stock_ticker_list)}', post)\n",
    "if match:\n",
    "    print(\"found!\")\n",
    "    print(match.group())"
   ],
   "metadata": {
    "collapsed": false,
    "pycharm": {
     "name": "#%%\n"
    }
   }
  },
  {
   "cell_type": "code",
   "execution_count": 2,
   "outputs": [
    {
     "name": "stdout",
     "output_type": "stream",
     "text": [
      "found!\n",
      "$EBS\n"
     ]
    }
   ],
   "source": [
    "post = \"Original Monkeypox DD - Part 2 - Update and Outlook $EBS $BAVA\"\n",
    "\n",
    "match = re.search(r'\\$[A-Z]{1,10}', post)\n",
    "if match:\n",
    "    print(\"found!\")\n",
    "    print(match.group())"
   ],
   "metadata": {
    "collapsed": false,
    "pycharm": {
     "name": "#%%\n"
    }
   }
  },
  {
   "cell_type": "code",
   "execution_count": 3,
   "outputs": [
    {
     "data": {
      "text/plain": "6"
     },
     "execution_count": 3,
     "metadata": {},
     "output_type": "execute_result"
    }
   ],
   "source": [
    "len(\" $GME \")"
   ],
   "metadata": {
    "collapsed": false,
    "pycharm": {
     "name": "#%%\n"
    }
   }
  },
  {
   "cell_type": "markdown",
   "source": [],
   "metadata": {
    "collapsed": false
   }
  },
  {
   "cell_type": "code",
   "execution_count": 37,
   "outputs": [],
   "source": [
    "timestamp_list = pd.date_range(start=\"2022-01-01\",end=\"2022-01-02\").to_list()"
   ],
   "metadata": {
    "collapsed": false,
    "pycharm": {
     "name": "#%%\n"
    }
   }
  },
  {
   "cell_type": "code",
   "execution_count": 47,
   "outputs": [
    {
     "name": "stdout",
     "output_type": "stream",
     "text": [
      "2022-01-02 00:00:00\n"
     ]
    }
   ],
   "source": [
    "for i in range(len(timestamp_list) -1):\n",
    "    print(timestamp_list[i+1])"
   ],
   "metadata": {
    "collapsed": false,
    "pycharm": {
     "name": "#%%\n"
    }
   }
  },
  {
   "cell_type": "code",
   "execution_count": 52,
   "outputs": [
    {
     "data": {
      "text/plain": "[1640991600,\n 1641078000,\n 1641164400,\n 1641250800,\n 1641337200,\n 1641423600,\n 1641510000,\n 1641596400,\n 1641682800,\n 1641769200]"
     },
     "execution_count": 52,
     "metadata": {},
     "output_type": "execute_result"
    }
   ],
   "source": [
    "start = dt.datetime.strptime(\"01-01-2022\", \"%d-%m-%Y\")\n",
    "end = dt.datetime.strptime(\"11-01-2022\", \"%d-%m-%Y\")\n",
    "timestamp_list = [int((start + dt.timedelta(days=x)).timestamp()) for x in range(0, (end-start).days)]\n",
    "timestamp_list"
   ],
   "metadata": {
    "collapsed": false,
    "pycharm": {
     "name": "#%%\n"
    }
   }
  },
  {
   "cell_type": "code",
   "execution_count": 17,
   "outputs": [],
   "source": [
    "api = PushshiftAPI()              # Object of the API"
   ],
   "metadata": {
    "collapsed": false,
    "pycharm": {
     "name": "#%%\n"
    }
   }
  },
  {
   "cell_type": "code",
   "execution_count": 18,
   "outputs": [],
   "source": [
    "def data_prep_posts(subreddit: str, start_time, end_time, filters: list[str]):\n",
    "\n",
    "    posts = list(api.search_submissions(\n",
    "        subreddit=subreddit,   # Subreddit we want to audit\n",
    "        after=start_time,      # Start date\n",
    "        before=end_time,       # End date\n",
    "        filter=filters))       # Column names we want to retrieve\n",
    "\n",
    "    df = pd.DataFrame(posts)\n",
    "    df[\"type\"] = \"submission\"\n",
    "    return df # Return dataframe for analysis"
   ],
   "metadata": {
    "collapsed": false,
    "pycharm": {
     "name": "#%%\n"
    }
   }
  },
  {
   "cell_type": "code",
   "execution_count": 53,
   "outputs": [],
   "source": [
    "subreddit = \"wallstreetbets\"     # Subreddit we are auditing\n",
    "start_time = int(dt.datetime(2021, 1, 2).timestamp())\n",
    "#Starting date for our search\n",
    "end_time = int(dt.datetime(2021, 1, 3).timestamp())\n",
    "#Ending date for our search\n",
    "filters = ['author', 'created_utc', 'title', \"selftext\", \"score\"]\n",
    "\n",
    "\"\"\"Here we are going to get subreddits for a brief analysis\"\"\"\n",
    "#Call function for dataframe creation of comments\n",
    "df_p = data_prep_posts(\"wallstreetbets\", 1640991600, 1641078000, filters)"
   ],
   "metadata": {
    "collapsed": false,
    "pycharm": {
     "name": "#%%\n"
    }
   }
  },
  {
   "cell_type": "markdown",
   "source": [],
   "metadata": {
    "collapsed": false
   }
  },
  {
   "cell_type": "code",
   "execution_count": 42,
   "outputs": [],
   "source": [
    "def join_submission_title_and_body(title: str, body: str):\n",
    "\n",
    "    if body != \"[removed]\":\n",
    "        return f\"{title} {body}\"\n",
    "    else:\n",
    "        return title"
   ],
   "metadata": {
    "collapsed": false,
    "pycharm": {
     "name": "#%%\n"
    }
   }
  },
  {
   "cell_type": "code",
   "execution_count": 54,
   "outputs": [
    {
     "data": {
      "text/plain": "                   author  created_utc  score  \\\n0       must_be_funny_bot   1641077813      1   \n1           Bobdaman_1989   1641077789      1   \n2             justramos69   1641077660      1   \n3       ChillinwithDillon   1641077643      1   \n4      Broad_Tradition_98   1641077411      1   \n..                    ...          ...    ...   \n433        illusionist_iv   1640992405      1   \n434  Upper_Combination_46   1640992143      1   \n435        illusionist_iv   1640991997      1   \n436       FortSquidward69   1640991832      1   \n437    AnalystNatural5682   1640991672      1   \n\n                                              selftext  \\\n0                                                        \n1                                            [removed]   \n2                                            [removed]   \n3                                                        \n4    [C3.ai](https://C3.ai) (AI) was trading at abo...   \n..                                                 ...   \n433                                                      \n434  I have surface level knowledge of trading and ...   \n435                                                      \n436                                                      \n437  mods must be hired by suits and probably paid ...   \n\n                                                 title       created  \\\n0                The pillar of my destroyed meme-folio  1.641071e+09   \n1    Am I the only one that is scared to death abou...  1.641071e+09   \n2                              Attapoll referral bonus  1.641070e+09   \n3                           ES bustin 4800 next week 🤞  1.641070e+09   \n4                  Lets Teach the Hedge Funds A Lesson  1.641070e+09   \n..                                                 ...           ...   \n433  The first pic is how my YOLO Tesla contracts a...  1.640985e+09   \n434                                 Want to learn more  1.640985e+09   \n435  The first pic is how my YOLO Tesla contracts a...  1.640985e+09   \n436                                                WSB  1.640985e+09   \n437                                 life as we know it  1.640984e+09   \n\n                                                    d_        type  \n0    {'author': 'must_be_funny_bot', 'created_utc':...  submission  \n1    {'author': 'Bobdaman_1989', 'created_utc': 164...  submission  \n2    {'author': 'justramos69', 'created_utc': 16410...  submission  \n3    {'author': 'ChillinwithDillon', 'created_utc':...  submission  \n4    {'author': 'Broad_Tradition_98', 'created_utc'...  submission  \n..                                                 ...         ...  \n433  {'author': 'illusionist_iv', 'created_utc': 16...  submission  \n434  {'author': 'Upper_Combination_46', 'created_ut...  submission  \n435  {'author': 'illusionist_iv', 'created_utc': 16...  submission  \n436  {'author': 'FortSquidward69', 'created_utc': 1...  submission  \n437  {'author': 'AnalystNatural5682', 'created_utc'...  submission  \n\n[438 rows x 8 columns]",
      "text/html": "<div>\n<style scoped>\n    .dataframe tbody tr th:only-of-type {\n        vertical-align: middle;\n    }\n\n    .dataframe tbody tr th {\n        vertical-align: top;\n    }\n\n    .dataframe thead th {\n        text-align: right;\n    }\n</style>\n<table border=\"1\" class=\"dataframe\">\n  <thead>\n    <tr style=\"text-align: right;\">\n      <th></th>\n      <th>author</th>\n      <th>created_utc</th>\n      <th>score</th>\n      <th>selftext</th>\n      <th>title</th>\n      <th>created</th>\n      <th>d_</th>\n      <th>type</th>\n    </tr>\n  </thead>\n  <tbody>\n    <tr>\n      <th>0</th>\n      <td>must_be_funny_bot</td>\n      <td>1641077813</td>\n      <td>1</td>\n      <td></td>\n      <td>The pillar of my destroyed meme-folio</td>\n      <td>1.641071e+09</td>\n      <td>{'author': 'must_be_funny_bot', 'created_utc':...</td>\n      <td>submission</td>\n    </tr>\n    <tr>\n      <th>1</th>\n      <td>Bobdaman_1989</td>\n      <td>1641077789</td>\n      <td>1</td>\n      <td>[removed]</td>\n      <td>Am I the only one that is scared to death abou...</td>\n      <td>1.641071e+09</td>\n      <td>{'author': 'Bobdaman_1989', 'created_utc': 164...</td>\n      <td>submission</td>\n    </tr>\n    <tr>\n      <th>2</th>\n      <td>justramos69</td>\n      <td>1641077660</td>\n      <td>1</td>\n      <td>[removed]</td>\n      <td>Attapoll referral bonus</td>\n      <td>1.641070e+09</td>\n      <td>{'author': 'justramos69', 'created_utc': 16410...</td>\n      <td>submission</td>\n    </tr>\n    <tr>\n      <th>3</th>\n      <td>ChillinwithDillon</td>\n      <td>1641077643</td>\n      <td>1</td>\n      <td></td>\n      <td>ES bustin 4800 next week 🤞</td>\n      <td>1.641070e+09</td>\n      <td>{'author': 'ChillinwithDillon', 'created_utc':...</td>\n      <td>submission</td>\n    </tr>\n    <tr>\n      <th>4</th>\n      <td>Broad_Tradition_98</td>\n      <td>1641077411</td>\n      <td>1</td>\n      <td>[C3.ai](https://C3.ai) (AI) was trading at abo...</td>\n      <td>Lets Teach the Hedge Funds A Lesson</td>\n      <td>1.641070e+09</td>\n      <td>{'author': 'Broad_Tradition_98', 'created_utc'...</td>\n      <td>submission</td>\n    </tr>\n    <tr>\n      <th>...</th>\n      <td>...</td>\n      <td>...</td>\n      <td>...</td>\n      <td>...</td>\n      <td>...</td>\n      <td>...</td>\n      <td>...</td>\n      <td>...</td>\n    </tr>\n    <tr>\n      <th>433</th>\n      <td>illusionist_iv</td>\n      <td>1640992405</td>\n      <td>1</td>\n      <td></td>\n      <td>The first pic is how my YOLO Tesla contracts a...</td>\n      <td>1.640985e+09</td>\n      <td>{'author': 'illusionist_iv', 'created_utc': 16...</td>\n      <td>submission</td>\n    </tr>\n    <tr>\n      <th>434</th>\n      <td>Upper_Combination_46</td>\n      <td>1640992143</td>\n      <td>1</td>\n      <td>I have surface level knowledge of trading and ...</td>\n      <td>Want to learn more</td>\n      <td>1.640985e+09</td>\n      <td>{'author': 'Upper_Combination_46', 'created_ut...</td>\n      <td>submission</td>\n    </tr>\n    <tr>\n      <th>435</th>\n      <td>illusionist_iv</td>\n      <td>1640991997</td>\n      <td>1</td>\n      <td></td>\n      <td>The first pic is how my YOLO Tesla contracts a...</td>\n      <td>1.640985e+09</td>\n      <td>{'author': 'illusionist_iv', 'created_utc': 16...</td>\n      <td>submission</td>\n    </tr>\n    <tr>\n      <th>436</th>\n      <td>FortSquidward69</td>\n      <td>1640991832</td>\n      <td>1</td>\n      <td></td>\n      <td>WSB</td>\n      <td>1.640985e+09</td>\n      <td>{'author': 'FortSquidward69', 'created_utc': 1...</td>\n      <td>submission</td>\n    </tr>\n    <tr>\n      <th>437</th>\n      <td>AnalystNatural5682</td>\n      <td>1640991672</td>\n      <td>1</td>\n      <td>mods must be hired by suits and probably paid ...</td>\n      <td>life as we know it</td>\n      <td>1.640984e+09</td>\n      <td>{'author': 'AnalystNatural5682', 'created_utc'...</td>\n      <td>submission</td>\n    </tr>\n  </tbody>\n</table>\n<p>438 rows × 8 columns</p>\n</div>"
     },
     "execution_count": 54,
     "metadata": {},
     "output_type": "execute_result"
    }
   ],
   "source": [
    "df_p"
   ],
   "metadata": {
    "collapsed": false,
    "pycharm": {
     "name": "#%%\n"
    }
   }
  },
  {
   "cell_type": "code",
   "execution_count": 22,
   "outputs": [],
   "source": [
    "df_p[\"post\"] = df_p[[\"title\", \"selftext\"]].apply(lambda x: join_submission_title_and_body(*x), axis=1)"
   ],
   "metadata": {
    "collapsed": false,
    "pycharm": {
     "name": "#%%\n"
    }
   }
  },
  {
   "cell_type": "code",
   "execution_count": 23,
   "outputs": [
    {
     "data": {
      "text/plain": "                   author  created_utc      id  \\\n0          Keep_It_Toasty   1609628291  kp7v52   \n1      DesperateSalad5981   1609628267  kp7uve   \n2          Loess_inspired   1609628134  kp7tfw   \n3           KYJELLYTIME69   1609628119  kp7t9u   \n4    ouroboros2decimal718   1609628054  kp7sga   \n..                    ...          ...     ...   \n626     thetrollfromabove   1609542233  kol9iu   \n627                NejKaj   1609542226  kol9fs   \n628         The-Saint-Lee   1609542217  kol9bk   \n629          jeffreymeltz   1609542052  kol7ca   \n630               nyunaii   1609542047  kol7a2   \n\n                                              selftext  \\\n0                                                        \n1                                                        \n2                                                        \n3    I've been noticing some GME bears coming out o...   \n4                                                        \n..                                                 ...   \n626                                          [removed]   \n627                                          [removed]   \n628                                                      \n629                                                      \n630                                                      \n\n                                                 title       created  \\\n0    Good scripture reading for the day #StonksOnly...  1609621091.0   \n1    Thank you based House for providing us GME buy...  1609621067.0   \n2    Reddit knows I started trading options thanks WSB  1609620934.0   \n3    GME DD from a retard bull - The credit market,...  1609620919.0   \n4                      🌈🐻’s should thank RH for the DD  1609620854.0   \n..                                                 ...           ...   \n626  just bought 10 000 shares of MGM by accident a...  1609535033.0   \n627                          I want to be a degenerate  1609535026.0   \n628                How my 2020 went (started April 27)  1609535017.0   \n629                                     The Golden Egg  1609534852.0   \n630  Tesla Model 3 crashes into hotel in Hangzhou, ...  1609534847.0   \n\n                                                    d_        type  \\\n0    {'author': 'Keep_It_Toasty', 'created_utc': 16...  submission   \n1    {'author': 'DesperateSalad5981', 'created_utc'...  submission   \n2    {'author': 'Loess_inspired', 'created_utc': 16...  submission   \n3    {'author': 'KYJELLYTIME69', 'created_utc': 160...  submission   \n4    {'author': 'ouroboros2decimal718', 'created_ut...  submission   \n..                                                 ...         ...   \n626  {'author': 'thetrollfromabove', 'created_utc':...  submission   \n627  {'author': 'NejKaj', 'created_utc': 1609542226...  submission   \n628  {'author': 'The-Saint-Lee', 'created_utc': 160...  submission   \n629  {'author': 'jeffreymeltz', 'created_utc': 1609...  submission   \n630  {'author': 'nyunaii', 'created_utc': 160954204...  submission   \n\n                                                  post  \n0    Good scripture reading for the day #StonksOnly...  \n1    Thank you based House for providing us GME buy...  \n2    Reddit knows I started trading options thanks ...  \n3    GME DD from a retard bull - The credit market,...  \n4                     🌈🐻’s should thank RH for the DD   \n..                                                 ...  \n626  just bought 10 000 shares of MGM by accident a...  \n627                          I want to be a degenerate  \n628               How my 2020 went (started April 27)   \n629                                    The Golden Egg   \n630  Tesla Model 3 crashes into hotel in Hangzhou, ...  \n\n[631 rows x 9 columns]",
      "text/html": "<div>\n<style scoped>\n    .dataframe tbody tr th:only-of-type {\n        vertical-align: middle;\n    }\n\n    .dataframe tbody tr th {\n        vertical-align: top;\n    }\n\n    .dataframe thead th {\n        text-align: right;\n    }\n</style>\n<table border=\"1\" class=\"dataframe\">\n  <thead>\n    <tr style=\"text-align: right;\">\n      <th></th>\n      <th>author</th>\n      <th>created_utc</th>\n      <th>id</th>\n      <th>selftext</th>\n      <th>title</th>\n      <th>created</th>\n      <th>d_</th>\n      <th>type</th>\n      <th>post</th>\n    </tr>\n  </thead>\n  <tbody>\n    <tr>\n      <th>0</th>\n      <td>Keep_It_Toasty</td>\n      <td>1609628291</td>\n      <td>kp7v52</td>\n      <td></td>\n      <td>Good scripture reading for the day #StonksOnly...</td>\n      <td>1609621091.0</td>\n      <td>{'author': 'Keep_It_Toasty', 'created_utc': 16...</td>\n      <td>submission</td>\n      <td>Good scripture reading for the day #StonksOnly...</td>\n    </tr>\n    <tr>\n      <th>1</th>\n      <td>DesperateSalad5981</td>\n      <td>1609628267</td>\n      <td>kp7uve</td>\n      <td></td>\n      <td>Thank you based House for providing us GME buy...</td>\n      <td>1609621067.0</td>\n      <td>{'author': 'DesperateSalad5981', 'created_utc'...</td>\n      <td>submission</td>\n      <td>Thank you based House for providing us GME buy...</td>\n    </tr>\n    <tr>\n      <th>2</th>\n      <td>Loess_inspired</td>\n      <td>1609628134</td>\n      <td>kp7tfw</td>\n      <td></td>\n      <td>Reddit knows I started trading options thanks WSB</td>\n      <td>1609620934.0</td>\n      <td>{'author': 'Loess_inspired', 'created_utc': 16...</td>\n      <td>submission</td>\n      <td>Reddit knows I started trading options thanks ...</td>\n    </tr>\n    <tr>\n      <th>3</th>\n      <td>KYJELLYTIME69</td>\n      <td>1609628119</td>\n      <td>kp7t9u</td>\n      <td>I've been noticing some GME bears coming out o...</td>\n      <td>GME DD from a retard bull - The credit market,...</td>\n      <td>1609620919.0</td>\n      <td>{'author': 'KYJELLYTIME69', 'created_utc': 160...</td>\n      <td>submission</td>\n      <td>GME DD from a retard bull - The credit market,...</td>\n    </tr>\n    <tr>\n      <th>4</th>\n      <td>ouroboros2decimal718</td>\n      <td>1609628054</td>\n      <td>kp7sga</td>\n      <td></td>\n      <td>🌈🐻’s should thank RH for the DD</td>\n      <td>1609620854.0</td>\n      <td>{'author': 'ouroboros2decimal718', 'created_ut...</td>\n      <td>submission</td>\n      <td>🌈🐻’s should thank RH for the DD</td>\n    </tr>\n    <tr>\n      <th>...</th>\n      <td>...</td>\n      <td>...</td>\n      <td>...</td>\n      <td>...</td>\n      <td>...</td>\n      <td>...</td>\n      <td>...</td>\n      <td>...</td>\n      <td>...</td>\n    </tr>\n    <tr>\n      <th>626</th>\n      <td>thetrollfromabove</td>\n      <td>1609542233</td>\n      <td>kol9iu</td>\n      <td>[removed]</td>\n      <td>just bought 10 000 shares of MGM by accident a...</td>\n      <td>1609535033.0</td>\n      <td>{'author': 'thetrollfromabove', 'created_utc':...</td>\n      <td>submission</td>\n      <td>just bought 10 000 shares of MGM by accident a...</td>\n    </tr>\n    <tr>\n      <th>627</th>\n      <td>NejKaj</td>\n      <td>1609542226</td>\n      <td>kol9fs</td>\n      <td>[removed]</td>\n      <td>I want to be a degenerate</td>\n      <td>1609535026.0</td>\n      <td>{'author': 'NejKaj', 'created_utc': 1609542226...</td>\n      <td>submission</td>\n      <td>I want to be a degenerate</td>\n    </tr>\n    <tr>\n      <th>628</th>\n      <td>The-Saint-Lee</td>\n      <td>1609542217</td>\n      <td>kol9bk</td>\n      <td></td>\n      <td>How my 2020 went (started April 27)</td>\n      <td>1609535017.0</td>\n      <td>{'author': 'The-Saint-Lee', 'created_utc': 160...</td>\n      <td>submission</td>\n      <td>How my 2020 went (started April 27)</td>\n    </tr>\n    <tr>\n      <th>629</th>\n      <td>jeffreymeltz</td>\n      <td>1609542052</td>\n      <td>kol7ca</td>\n      <td></td>\n      <td>The Golden Egg</td>\n      <td>1609534852.0</td>\n      <td>{'author': 'jeffreymeltz', 'created_utc': 1609...</td>\n      <td>submission</td>\n      <td>The Golden Egg</td>\n    </tr>\n    <tr>\n      <th>630</th>\n      <td>nyunaii</td>\n      <td>1609542047</td>\n      <td>kol7a2</td>\n      <td></td>\n      <td>Tesla Model 3 crashes into hotel in Hangzhou, ...</td>\n      <td>1609534847.0</td>\n      <td>{'author': 'nyunaii', 'created_utc': 160954204...</td>\n      <td>submission</td>\n      <td>Tesla Model 3 crashes into hotel in Hangzhou, ...</td>\n    </tr>\n  </tbody>\n</table>\n<p>631 rows × 9 columns</p>\n</div>"
     },
     "execution_count": 23,
     "metadata": {},
     "output_type": "execute_result"
    }
   ],
   "source": [
    "df_p\n",
    "# filter correct columns"
   ],
   "metadata": {
    "collapsed": false,
    "pycharm": {
     "name": "#%%\n"
    }
   }
  },
  {
   "cell_type": "code",
   "execution_count": 24,
   "outputs": [
    {
     "data": {
      "text/plain": "                                                                                                                                                                                                                                                                                                                                                                                                                                                                                                                                                                                                                                                                                                                                                                                                                                                                                                                                                                                                                                                                                                                                                                                                                                                                                                                                                                                                                                                                                                                                                                                                                                                                                                                                                                                                                                                                                                                                                                                                                                                                                                                                                                                                                                                                                                                                                                                                                                                                                                                                                                                                                   386\n[removed]                                                                                                                                                                                                                                                                                                                                                                                                                                                                                                                                                                                                                                                                                                                                                                                                                                                                                                                                                                                                                                                                                                                                                                                                                                                                                                                                                                                                                                                                                                                                                                                                                                                                                                                                                                                                                                                                                                                                                                                                                                                                                                                                                                                                                                                                                                                                                                                                                                                                                                                                                                                                          159\nSoo Upon my post being posted I got a lot of hate because I’m a doubter of a company who has a horrible business models in which they don’t make most of their money from selling games or consoles but by selling you used games hence why they pay you 20 bucks for a game that was brand née a week ago for them sell it for 45 bucks but COVID has changed the way we shop and I believe that people are going to start going digital. Now time for the DD \\n\\nUpon a brief look over their financials such Q4 and Q10 and it’s clearly evident that run has been due to the lowering of debt by a lot which is good news for the company but it’s shudnt be enough to yolo your account on it truly a recipe for options player to make sweet tendies... in the short terms in Ryan Cohen words \"GameStop needs to evolve into a technology company that delights gamers and delivers exceptional digital experiences – not remain a videogame retailer that overprioritizes its brick-and-mortar footprint and stumbles around the online ecosystem,\". And I’m going to be honest personally I don’t see this happening because they are a third party seller who whole sellers like Sony, Microsoft and Nintendo screw over. I personally won’t add it to my watchlist and I offer my words of caution \\n\\nGood luck traders                                                                                                                                                                                                                                                                                                                                                                                                                                                                                                                                                                                                                                                                                                                                                                                                                                                                                                                                                                                                                                                                                                                                                                                                                                                                                  1\nPosition: 20,000 GME shares                                                                                                                                                                                                                                                                                                                                                                                                                                                                                                                                                                                                                                                                                                                                                                                                                                                                                                                                                                                                                                                                                                                                                                                                                                                                                                                                                                                                                                                                                                                                                                                                                                                                                                                                                                                                                                                                                                                                                                                                                                                                                                                                                                                                                                                                                                                                                                                                                                                                                                                                                                                          1\nI want to do a fun experiment. I will buy at least 10k of the stock gets the most votes from any comment. I will buy the winner on Monday. Then I’ll poll weekly if hold, sell, and which other to buy. I am curious as to how the portfolio driven by WSB comments would do vs. the market. I will report back on the portfolio holdings and performance.                                                                                                                                                                                                                                                                                                                                                                                                                                                                                                                                                                                                                                                                                                                                                                                                                                                                                                                                                                                                                                                                                                                                                                                                                                                                                                                                                                                                                                                                                                                                                                                                                                                                                                                                                                                                                                                                                                                                                                                                                                                                                                                                                                                                                                                           1\n                                                                                                                                                                                                                                                                                                                                                                                                                                                                                                                                                                                                                                                                                                                                                                                                                                                                                                                                                                                                                                                                                                                                                                                                                                                                                                                                                                                                                                                                                                                                                                                                                                                                                                                                                                                                                                                                                                                                                                                                                                                                                                                                                                                                                                                                                                                                                                                                                                                                                                                                                                                                                  ... \n*Long time lurker, first time poster*\\n\\nThis “prediction” is for overstock (OSTK). \\nOverstock is currently trading at a strong resistance level as well as it’s 200 day SMA, and well below its 10, 20, 50 and 100 day SMAs.  All these make a bounce likely this week. \\n\\nNow if you look at the 2hr chart for OSTK, you will notice that on that chart it is also trading well below its major SMAs. For the past 3 months, the price has been trending down moving sinusoidally, with the high prices bouncing off the 200SMA and low prices bottoming out at roughly 80% 200SMA. \\nOSTK is currently trading at ~-2 standard deviations below its 50SMA and when looking at the MACD relative to price between 12/29 and 12/31, there is a divergence. These 3 factors lead me to believe a price reversal is eminent.\\n\\nMoral of this post, OSTK is trading at $48 right now. The 200SMA (2hr chart) is $61. I predict over the next month (and probably sooner) OSTK will go back up to ~$60. \\n\\nOpinions of this analysis is greatly appreciated. \\n\\nHappy hunting, gentlemen.\\n\\n**12 years experience working as a data analyst at a major hedge fund**                                                                                                                                                                                                                                                                                                                                                                                                                                                                                                                                                                                                                                                                                                                                                                                                                                                                                                                                                                                                                                                                                                                                                                                                                                                                                                                                                                                                                                               1\nI don’t know if any of you feel the same way but I feel like the Bloomberg Live stream or CNN are really only useful for when the markets open for the first 20 mins and then the it gets switched to all boomer programming with interviews. Is there any alternatives that that report strictly numbers, price movements or sectors that are on the move without the fluff? Also $TSLA 🚀🚀                                                                                                                                                                                                                                                                                                                                                                                                                                                                                                                                                                                                                                                                                                                                                                                                                                                                                                                                                                                                                                                                                                                                                                                                                                                                                                                                                                                                                                                                                                                                                                                                                                                                                                                                                                                                                                                                                                                                                                                                                                                                                                                                                                                                                          1\nI’ve been watching the market for a year now. I put in $900 it went up to about 5k then I lost it all. This year I want to put some more research into what I invest in. Could anyone give me some advice on how they conduct research. What do you look for in a stock/option. What variables do you have to consider. And anything else that helps you make a decision.                                                                                                                                                                                                                                                                                                                                                                                                                                                                                                                                                                                                                                                                                                                                                                                                                                                                                                                                                                                                                                                                                                                                                                                                                                                                                                                                                                                                                                                                                                                                                                                                                                                                                                                                                                                                                                                                                                                                                                                                                                                                                                                                                                                                                                            1\nI know everyone is already holding $GME and $PLTR until they lands on the moon but maybe we can find out what new tickers everyone is holding, why and what are their expectations.\\n\\nHere is a list of my current positions;\\n\\n* 70 shares of $BABA at an average of $245 with a price target of $265, where I'll liquidate unless the political environment gets better.\\n   * COVID proof\\n   * Solid financials, much more liquid than Amazon\\n   * China is bound to become the largest economy\\n   * Political uncertainties are exaggerated\\n* 70 shares of $CRM at $221 with a price target of $230. Have made this same play quite a few times in the last 2 months.\\n   * COVID proof\\n   * A solid company run by a solid CEO with good growth and financials\\n   * Slack was purchased for $28b but the market has wiped 26% of its market cap off, which is more than $50b so at the very least the overreaction is extended by at least $22b (a 10% increase in market cap from current levels)\\n   * Short-term PT of $230 but have no doubt this can break above $275 in 2021. A 24% upside.\\n* 24 shares of $FB at $273 with a price target of $280. Have also done this multiple times during the last few months.\\n   * COVID proof\\n   * Earnings coming up near the end of January.\\n   * Zuck might be a lizard, but those IG \"influencers\" you follow from your fake account so your girlfriend doesn't find out will only keep luring you back in.\\n   * Political risks surrounding breakup are exaggerated and seem to be an optic play to gain public confidence. Even if this is not the case, the first hearing is years away.\\n   * Has the potential to breach $325 during 2021. An upside of 20%.\\n* 4 shares of $AMZN at $3250 with a price target of $3350 at least. Have made a bit over $5k only trading swings between $3000 and $3350.\\n   * COVID proof\\n   * Earnings coming up near the end of January.\\n   * Possible to reach ATH which is around $3500 near earnings.\\n   * Possible to breach $4000 during the year providing an upside of 23%.\\n* 275 shares of $PFE at average $38.62 with a price target of $41-42, not sure how this will go. Have made this play once before when I cashed out at $42.75 just a few weeks ago.\\n   * Only speculative play in my portfolio\\n   * Not a hold in the long run as this stock is as limp as they come but a reasonable dividend yield. So, not really worried about losing money.\\n\\nPretty boring shit, no $GME or $PLTR here but looking forward to seeing what other tickers the community is holding on to.      1\n&amp;#x200B;\\n\\n*Processing img t99m4y35ys861...*\\n\\n**PSTH is Bill Spackman's Baby Baby....**\\n\\nIt cannot fail. It has great financials with no debt and over $7B in free cash flow. Returns over the last 10 years have been higher than 20% each year. I have held this stock for over 10 years and the dividends are funny fun fun tendie time wowie.\\n\\nThe warrant structure \"TONTINE\" is fun for all the boys and girls.\\n\\n***TONTINE: For every 9 common share you buy and hold through the merger you get an additional 1000 shares at $2.00! WOW! BIG SAVINGS.***\\n\\nIf a deal isn't struck, that is a-OKAY! You get free money! For every 9 shares that you own and if Ackman fails, you get $500 gift card for Herbalife Nutrition. Ha! Not gunna happen!\\n\\nIts the greatest single company that ever did exist.\\n\\nIf you buy tomorrow at $29 you are getting in earlier.\\n\\nThis thing is going to $750 by mid-week next week.\\n\\nAckman has already announced a 200:1 stock split meaning the stock will trade from 750 to $3.75. That means a lot for you! You can buy it for 3 bucks! Great. Really bigly great.\\n\\nIf the mods don't pin this, that would be egregious!\\n\\nDouble your money! Buy PSTH!\\n\\nMy latest DD is here for you to devour! Spooky! Happy Halloween!   [🎃](https://emojipedia.org/jack-o-lantern/)[🎃](https://emojipedia.org/jack-o-lantern/)\\n\\n[https://www.reddit.com/r/wallstreetbets/comments/kldiv2/psth\\_explained\\_ive\\_had\\_enough\\_this\\_is\\_a\\_monetary/](https://www.reddit.com/r/wallstreetbets/comments/kldiv2/psth_explained_ive_had_enough_this_is_a_monetary/)                                                                                                                                                                                                                                                                                                                                                                                                                                                                                                                                                                                                                                                                                                                                                                                                                                                                                                                                                                                          1\nName: selftext, Length: 88, dtype: int64"
     },
     "execution_count": 24,
     "metadata": {},
     "output_type": "execute_result"
    }
   ],
   "source": [
    "df_p[\"selftext\"].value_counts()"
   ],
   "metadata": {
    "collapsed": false,
    "pycharm": {
     "name": "#%%\n"
    }
   }
  },
  {
   "cell_type": "code",
   "execution_count": 25,
   "outputs": [
    {
     "data": {
      "text/plain": "2"
     },
     "execution_count": 25,
     "metadata": {},
     "output_type": "execute_result"
    }
   ],
   "source": [
    "dt.datetime(2021, 5, 2).day"
   ],
   "metadata": {
    "collapsed": false,
    "pycharm": {
     "name": "#%%\n"
    }
   }
  },
  {
   "cell_type": "code",
   "execution_count": 55,
   "outputs": [
    {
     "data": {
      "text/plain": "                   author  created_utc  score  \\\n0       must_be_funny_bot   1641077813      1   \n1           Bobdaman_1989   1641077789      1   \n2             justramos69   1641077660      1   \n3       ChillinwithDillon   1641077643      1   \n4      Broad_Tradition_98   1641077411      1   \n..                    ...          ...    ...   \n433        illusionist_iv   1640992405      1   \n434  Upper_Combination_46   1640992143      1   \n435        illusionist_iv   1640991997      1   \n436       FortSquidward69   1640991832      1   \n437    AnalystNatural5682   1640991672      1   \n\n                                              selftext  \\\n0                                                        \n1                                            [removed]   \n2                                            [removed]   \n3                                                        \n4    [C3.ai](https://C3.ai) (AI) was trading at abo...   \n..                                                 ...   \n433                                                      \n434  I have surface level knowledge of trading and ...   \n435                                                      \n436                                                      \n437  mods must be hired by suits and probably paid ...   \n\n                                                 title       created  \\\n0                The pillar of my destroyed meme-folio  1.641071e+09   \n1    Am I the only one that is scared to death abou...  1.641071e+09   \n2                              Attapoll referral bonus  1.641070e+09   \n3                           ES bustin 4800 next week 🤞  1.641070e+09   \n4                  Lets Teach the Hedge Funds A Lesson  1.641070e+09   \n..                                                 ...           ...   \n433  The first pic is how my YOLO Tesla contracts a...  1.640985e+09   \n434                                 Want to learn more  1.640985e+09   \n435  The first pic is how my YOLO Tesla contracts a...  1.640985e+09   \n436                                                WSB  1.640985e+09   \n437                                 life as we know it  1.640984e+09   \n\n                                                    d_        type  \n0    {'author': 'must_be_funny_bot', 'created_utc':...  submission  \n1    {'author': 'Bobdaman_1989', 'created_utc': 164...  submission  \n2    {'author': 'justramos69', 'created_utc': 16410...  submission  \n3    {'author': 'ChillinwithDillon', 'created_utc':...  submission  \n4    {'author': 'Broad_Tradition_98', 'created_utc'...  submission  \n..                                                 ...         ...  \n433  {'author': 'illusionist_iv', 'created_utc': 16...  submission  \n434  {'author': 'Upper_Combination_46', 'created_ut...  submission  \n435  {'author': 'illusionist_iv', 'created_utc': 16...  submission  \n436  {'author': 'FortSquidward69', 'created_utc': 1...  submission  \n437  {'author': 'AnalystNatural5682', 'created_utc'...  submission  \n\n[438 rows x 8 columns]",
      "text/html": "<div>\n<style scoped>\n    .dataframe tbody tr th:only-of-type {\n        vertical-align: middle;\n    }\n\n    .dataframe tbody tr th {\n        vertical-align: top;\n    }\n\n    .dataframe thead th {\n        text-align: right;\n    }\n</style>\n<table border=\"1\" class=\"dataframe\">\n  <thead>\n    <tr style=\"text-align: right;\">\n      <th></th>\n      <th>author</th>\n      <th>created_utc</th>\n      <th>score</th>\n      <th>selftext</th>\n      <th>title</th>\n      <th>created</th>\n      <th>d_</th>\n      <th>type</th>\n    </tr>\n  </thead>\n  <tbody>\n    <tr>\n      <th>0</th>\n      <td>must_be_funny_bot</td>\n      <td>1641077813</td>\n      <td>1</td>\n      <td></td>\n      <td>The pillar of my destroyed meme-folio</td>\n      <td>1.641071e+09</td>\n      <td>{'author': 'must_be_funny_bot', 'created_utc':...</td>\n      <td>submission</td>\n    </tr>\n    <tr>\n      <th>1</th>\n      <td>Bobdaman_1989</td>\n      <td>1641077789</td>\n      <td>1</td>\n      <td>[removed]</td>\n      <td>Am I the only one that is scared to death abou...</td>\n      <td>1.641071e+09</td>\n      <td>{'author': 'Bobdaman_1989', 'created_utc': 164...</td>\n      <td>submission</td>\n    </tr>\n    <tr>\n      <th>2</th>\n      <td>justramos69</td>\n      <td>1641077660</td>\n      <td>1</td>\n      <td>[removed]</td>\n      <td>Attapoll referral bonus</td>\n      <td>1.641070e+09</td>\n      <td>{'author': 'justramos69', 'created_utc': 16410...</td>\n      <td>submission</td>\n    </tr>\n    <tr>\n      <th>3</th>\n      <td>ChillinwithDillon</td>\n      <td>1641077643</td>\n      <td>1</td>\n      <td></td>\n      <td>ES bustin 4800 next week 🤞</td>\n      <td>1.641070e+09</td>\n      <td>{'author': 'ChillinwithDillon', 'created_utc':...</td>\n      <td>submission</td>\n    </tr>\n    <tr>\n      <th>4</th>\n      <td>Broad_Tradition_98</td>\n      <td>1641077411</td>\n      <td>1</td>\n      <td>[C3.ai](https://C3.ai) (AI) was trading at abo...</td>\n      <td>Lets Teach the Hedge Funds A Lesson</td>\n      <td>1.641070e+09</td>\n      <td>{'author': 'Broad_Tradition_98', 'created_utc'...</td>\n      <td>submission</td>\n    </tr>\n    <tr>\n      <th>...</th>\n      <td>...</td>\n      <td>...</td>\n      <td>...</td>\n      <td>...</td>\n      <td>...</td>\n      <td>...</td>\n      <td>...</td>\n      <td>...</td>\n    </tr>\n    <tr>\n      <th>433</th>\n      <td>illusionist_iv</td>\n      <td>1640992405</td>\n      <td>1</td>\n      <td></td>\n      <td>The first pic is how my YOLO Tesla contracts a...</td>\n      <td>1.640985e+09</td>\n      <td>{'author': 'illusionist_iv', 'created_utc': 16...</td>\n      <td>submission</td>\n    </tr>\n    <tr>\n      <th>434</th>\n      <td>Upper_Combination_46</td>\n      <td>1640992143</td>\n      <td>1</td>\n      <td>I have surface level knowledge of trading and ...</td>\n      <td>Want to learn more</td>\n      <td>1.640985e+09</td>\n      <td>{'author': 'Upper_Combination_46', 'created_ut...</td>\n      <td>submission</td>\n    </tr>\n    <tr>\n      <th>435</th>\n      <td>illusionist_iv</td>\n      <td>1640991997</td>\n      <td>1</td>\n      <td></td>\n      <td>The first pic is how my YOLO Tesla contracts a...</td>\n      <td>1.640985e+09</td>\n      <td>{'author': 'illusionist_iv', 'created_utc': 16...</td>\n      <td>submission</td>\n    </tr>\n    <tr>\n      <th>436</th>\n      <td>FortSquidward69</td>\n      <td>1640991832</td>\n      <td>1</td>\n      <td></td>\n      <td>WSB</td>\n      <td>1.640985e+09</td>\n      <td>{'author': 'FortSquidward69', 'created_utc': 1...</td>\n      <td>submission</td>\n    </tr>\n    <tr>\n      <th>437</th>\n      <td>AnalystNatural5682</td>\n      <td>1640991672</td>\n      <td>1</td>\n      <td>mods must be hired by suits and probably paid ...</td>\n      <td>life as we know it</td>\n      <td>1.640984e+09</td>\n      <td>{'author': 'AnalystNatural5682', 'created_utc'...</td>\n      <td>submission</td>\n    </tr>\n  </tbody>\n</table>\n<p>438 rows × 8 columns</p>\n</div>"
     },
     "execution_count": 55,
     "metadata": {},
     "output_type": "execute_result"
    }
   ],
   "source": [
    "df_p"
   ],
   "metadata": {
    "collapsed": false,
    "pycharm": {
     "name": "#%%\n"
    }
   }
  },
  {
   "cell_type": "code",
   "execution_count": 27,
   "outputs": [
    {
     "name": "stdout",
     "output_type": "stream",
     "text": [
      "2021-01-02 00:00:00\n",
      "2021-01-03 00:00:00\n"
     ]
    }
   ],
   "source": [
    "print(dt.datetime.fromtimestamp(start_time))\n",
    "print(dt.datetime.fromtimestamp(end_time))"
   ],
   "metadata": {
    "collapsed": false,
    "pycharm": {
     "name": "#%%\n"
    }
   }
  },
  {
   "cell_type": "code",
   "execution_count": null,
   "outputs": [],
   "source": [],
   "metadata": {
    "collapsed": false,
    "pycharm": {
     "name": "#%%\n"
    }
   }
  },
  {
   "cell_type": "code",
   "execution_count": 56,
   "outputs": [],
   "source": [
    "df_p[\"created_utc\"] = df_p[\"created_utc\"].apply(lambda x: dt.datetime.fromtimestamp(x))"
   ],
   "metadata": {
    "collapsed": false,
    "pycharm": {
     "name": "#%%\n"
    }
   }
  },
  {
   "cell_type": "code",
   "execution_count": 57,
   "outputs": [
    {
     "data": {
      "text/plain": "                   author         created_utc  score  \\\n0       must_be_funny_bot 2022-01-01 23:56:53      1   \n1           Bobdaman_1989 2022-01-01 23:56:29      1   \n2             justramos69 2022-01-01 23:54:20      1   \n3       ChillinwithDillon 2022-01-01 23:54:03      1   \n4      Broad_Tradition_98 2022-01-01 23:50:11      1   \n..                    ...                 ...    ...   \n433        illusionist_iv 2022-01-01 00:13:25      1   \n434  Upper_Combination_46 2022-01-01 00:09:03      1   \n435        illusionist_iv 2022-01-01 00:06:37      1   \n436       FortSquidward69 2022-01-01 00:03:52      1   \n437    AnalystNatural5682 2022-01-01 00:01:12      1   \n\n                                              selftext  \\\n0                                                        \n1                                            [removed]   \n2                                            [removed]   \n3                                                        \n4    [C3.ai](https://C3.ai) (AI) was trading at abo...   \n..                                                 ...   \n433                                                      \n434  I have surface level knowledge of trading and ...   \n435                                                      \n436                                                      \n437  mods must be hired by suits and probably paid ...   \n\n                                                 title       created  \\\n0                The pillar of my destroyed meme-folio  1.641071e+09   \n1    Am I the only one that is scared to death abou...  1.641071e+09   \n2                              Attapoll referral bonus  1.641070e+09   \n3                           ES bustin 4800 next week 🤞  1.641070e+09   \n4                  Lets Teach the Hedge Funds A Lesson  1.641070e+09   \n..                                                 ...           ...   \n433  The first pic is how my YOLO Tesla contracts a...  1.640985e+09   \n434                                 Want to learn more  1.640985e+09   \n435  The first pic is how my YOLO Tesla contracts a...  1.640985e+09   \n436                                                WSB  1.640985e+09   \n437                                 life as we know it  1.640984e+09   \n\n                                                    d_        type  \n0    {'author': 'must_be_funny_bot', 'created_utc':...  submission  \n1    {'author': 'Bobdaman_1989', 'created_utc': 164...  submission  \n2    {'author': 'justramos69', 'created_utc': 16410...  submission  \n3    {'author': 'ChillinwithDillon', 'created_utc':...  submission  \n4    {'author': 'Broad_Tradition_98', 'created_utc'...  submission  \n..                                                 ...         ...  \n433  {'author': 'illusionist_iv', 'created_utc': 16...  submission  \n434  {'author': 'Upper_Combination_46', 'created_ut...  submission  \n435  {'author': 'illusionist_iv', 'created_utc': 16...  submission  \n436  {'author': 'FortSquidward69', 'created_utc': 1...  submission  \n437  {'author': 'AnalystNatural5682', 'created_utc'...  submission  \n\n[438 rows x 8 columns]",
      "text/html": "<div>\n<style scoped>\n    .dataframe tbody tr th:only-of-type {\n        vertical-align: middle;\n    }\n\n    .dataframe tbody tr th {\n        vertical-align: top;\n    }\n\n    .dataframe thead th {\n        text-align: right;\n    }\n</style>\n<table border=\"1\" class=\"dataframe\">\n  <thead>\n    <tr style=\"text-align: right;\">\n      <th></th>\n      <th>author</th>\n      <th>created_utc</th>\n      <th>score</th>\n      <th>selftext</th>\n      <th>title</th>\n      <th>created</th>\n      <th>d_</th>\n      <th>type</th>\n    </tr>\n  </thead>\n  <tbody>\n    <tr>\n      <th>0</th>\n      <td>must_be_funny_bot</td>\n      <td>2022-01-01 23:56:53</td>\n      <td>1</td>\n      <td></td>\n      <td>The pillar of my destroyed meme-folio</td>\n      <td>1.641071e+09</td>\n      <td>{'author': 'must_be_funny_bot', 'created_utc':...</td>\n      <td>submission</td>\n    </tr>\n    <tr>\n      <th>1</th>\n      <td>Bobdaman_1989</td>\n      <td>2022-01-01 23:56:29</td>\n      <td>1</td>\n      <td>[removed]</td>\n      <td>Am I the only one that is scared to death abou...</td>\n      <td>1.641071e+09</td>\n      <td>{'author': 'Bobdaman_1989', 'created_utc': 164...</td>\n      <td>submission</td>\n    </tr>\n    <tr>\n      <th>2</th>\n      <td>justramos69</td>\n      <td>2022-01-01 23:54:20</td>\n      <td>1</td>\n      <td>[removed]</td>\n      <td>Attapoll referral bonus</td>\n      <td>1.641070e+09</td>\n      <td>{'author': 'justramos69', 'created_utc': 16410...</td>\n      <td>submission</td>\n    </tr>\n    <tr>\n      <th>3</th>\n      <td>ChillinwithDillon</td>\n      <td>2022-01-01 23:54:03</td>\n      <td>1</td>\n      <td></td>\n      <td>ES bustin 4800 next week 🤞</td>\n      <td>1.641070e+09</td>\n      <td>{'author': 'ChillinwithDillon', 'created_utc':...</td>\n      <td>submission</td>\n    </tr>\n    <tr>\n      <th>4</th>\n      <td>Broad_Tradition_98</td>\n      <td>2022-01-01 23:50:11</td>\n      <td>1</td>\n      <td>[C3.ai](https://C3.ai) (AI) was trading at abo...</td>\n      <td>Lets Teach the Hedge Funds A Lesson</td>\n      <td>1.641070e+09</td>\n      <td>{'author': 'Broad_Tradition_98', 'created_utc'...</td>\n      <td>submission</td>\n    </tr>\n    <tr>\n      <th>...</th>\n      <td>...</td>\n      <td>...</td>\n      <td>...</td>\n      <td>...</td>\n      <td>...</td>\n      <td>...</td>\n      <td>...</td>\n      <td>...</td>\n    </tr>\n    <tr>\n      <th>433</th>\n      <td>illusionist_iv</td>\n      <td>2022-01-01 00:13:25</td>\n      <td>1</td>\n      <td></td>\n      <td>The first pic is how my YOLO Tesla contracts a...</td>\n      <td>1.640985e+09</td>\n      <td>{'author': 'illusionist_iv', 'created_utc': 16...</td>\n      <td>submission</td>\n    </tr>\n    <tr>\n      <th>434</th>\n      <td>Upper_Combination_46</td>\n      <td>2022-01-01 00:09:03</td>\n      <td>1</td>\n      <td>I have surface level knowledge of trading and ...</td>\n      <td>Want to learn more</td>\n      <td>1.640985e+09</td>\n      <td>{'author': 'Upper_Combination_46', 'created_ut...</td>\n      <td>submission</td>\n    </tr>\n    <tr>\n      <th>435</th>\n      <td>illusionist_iv</td>\n      <td>2022-01-01 00:06:37</td>\n      <td>1</td>\n      <td></td>\n      <td>The first pic is how my YOLO Tesla contracts a...</td>\n      <td>1.640985e+09</td>\n      <td>{'author': 'illusionist_iv', 'created_utc': 16...</td>\n      <td>submission</td>\n    </tr>\n    <tr>\n      <th>436</th>\n      <td>FortSquidward69</td>\n      <td>2022-01-01 00:03:52</td>\n      <td>1</td>\n      <td></td>\n      <td>WSB</td>\n      <td>1.640985e+09</td>\n      <td>{'author': 'FortSquidward69', 'created_utc': 1...</td>\n      <td>submission</td>\n    </tr>\n    <tr>\n      <th>437</th>\n      <td>AnalystNatural5682</td>\n      <td>2022-01-01 00:01:12</td>\n      <td>1</td>\n      <td>mods must be hired by suits and probably paid ...</td>\n      <td>life as we know it</td>\n      <td>1.640984e+09</td>\n      <td>{'author': 'AnalystNatural5682', 'created_utc'...</td>\n      <td>submission</td>\n    </tr>\n  </tbody>\n</table>\n<p>438 rows × 8 columns</p>\n</div>"
     },
     "execution_count": 57,
     "metadata": {},
     "output_type": "execute_result"
    }
   ],
   "source": [
    "df_p"
   ],
   "metadata": {
    "collapsed": false,
    "pycharm": {
     "name": "#%%\n"
    }
   }
  },
  {
   "cell_type": "code",
   "execution_count": 13,
   "outputs": [],
   "source": [
    "\"\"\"FOR COMMENTS\"\"\"\n",
    "def data_prep_comments(term, start_time, end_time, filters, limit):\n",
    "    if (len(filters) == 0):\n",
    "        filters = ['author', 'created_utc',\n",
    "                   'body', 'permalink', \"score\"]\n",
    "        #We set by default some usefull columns\n",
    "\n",
    "    comments = list(api.search_comments(\n",
    "        q=term,                 #Subreddit we want to audit\n",
    "        after=start_time,       #Start date\n",
    "        before=end_time,        #End date\n",
    "        filter=filters,         #Column names we want to retrieve\n",
    "        limit=limit))           #Max number of comments\n",
    "    return pd.DataFrame(comments) #Return dataframe for analysis"
   ],
   "metadata": {
    "collapsed": false,
    "pycharm": {
     "name": "#%%\n"
    }
   }
  },
  {
   "cell_type": "code",
   "execution_count": 16,
   "outputs": [],
   "source": [
    "\"\"\"Here we are going to get comments for a brief analysis\"\"\"\n",
    "term = 'wallstreetbets'            #Term we want to search for\n",
    "limit = 1000                #Number of elelemts\n",
    "filters = list()\n",
    "df_c = data_prep_comments(term, start_time,\n",
    "                          end_time, filters, limit)\n",
    "#Call function for dataframe creation of comments"
   ],
   "metadata": {
    "collapsed": false,
    "pycharm": {
     "name": "#%%\n"
    }
   }
  },
  {
   "cell_type": "code",
   "execution_count": 17,
   "outputs": [
    {
     "data": {
      "text/plain": "            author                                               body  \\\n0         AleksAFG  Congrats and fuck you. Hopefully I'll be there...   \n1           seb_dm                                  /r wallstreetbets   \n2    AutoModerator  This post was flaired as a YOLO so it's on the...   \n3          brodega  Yeah, all these poor people should just become...   \n4    AutoModerator  This post was flaired as a YOLO so it's on the...   \n..             ...                                                ...   \n478  AutoModerator  Your post has been removed because a single li...   \n479  AutoModerator  This post was flaired as a YOLO so it's on the...   \n480  talesofstocks  lol Oh no, the downvotes from reddit users in ...   \n481  AutoModerator  Sir, this is the unemployment line.\\n\\n*I am a...   \n482  AutoModerator  This post was flaired as a YOLO so it's on the...   \n\n     created_utc       id                                          permalink  \\\n0     1609541996  ghrq1lb  /r/Bitcoin/comments/kobrs1/my_friends_mocked_m...   \n1     1609541987  ghrq111  /r/nevertellmetheodds/comments/ko6ets/the_last...   \n2     1609541639  ghrpea5  /r/wallstreetbets/comments/kol2v7/to_dee_moon/...   \n3     1609541379  ghroxdm  /r/funny/comments/kogdjd/walmart_has_a_plan_fo...   \n4     1609541147  ghroi46  /r/wallstreetbets/comments/kokxko/golden_egg/g...   \n..           ...      ...                                                ...   \n478   1609455994  ghnh6e9  /r/wallstreetbets/comments/ko0556/the_truth_ab...   \n479   1609455976  ghnh5ad  /r/wallstreetbets/comments/ko04yx/gme_yolo_upd...   \n480   1609455819  ghngw1u  /r/wallstreetbets/comments/knus1d/it_iz_what_i...   \n481   1609455753  ghngs64  /r/wallstreetbets/comments/ko02mo/crm_salesfor...   \n482   1609455709  ghngpmk  /r/wallstreetbets/comments/ko025r/new_to_stock...   \n\n     score       created                                                 d_  \n0        1  1.609535e+09  {'author': 'AleksAFG', 'body': 'Congrats and f...  \n1        1  1.609535e+09  {'author': 'seb_dm', 'body': '/r wallstreetbet...  \n2        1  1.609534e+09  {'author': 'AutoModerator', 'body': 'This post...  \n3       15  1.609534e+09  {'author': 'brodega', 'body': 'Yeah, all these...  \n4        1  1.609534e+09  {'author': 'AutoModerator', 'body': 'This post...  \n..     ...           ...                                                ...  \n478      1  1.609449e+09  {'author': 'AutoModerator', 'body': 'Your post...  \n479      1  1.609449e+09  {'author': 'AutoModerator', 'body': 'This post...  \n480      0  1.609449e+09  {'author': 'talesofstocks', 'body': 'lol Oh no...  \n481      1  1.609449e+09  {'author': 'AutoModerator', 'body': 'Sir, this...  \n482      1  1.609449e+09  {'author': 'AutoModerator', 'body': 'This post...  \n\n[483 rows x 8 columns]",
      "text/html": "<div>\n<style scoped>\n    .dataframe tbody tr th:only-of-type {\n        vertical-align: middle;\n    }\n\n    .dataframe tbody tr th {\n        vertical-align: top;\n    }\n\n    .dataframe thead th {\n        text-align: right;\n    }\n</style>\n<table border=\"1\" class=\"dataframe\">\n  <thead>\n    <tr style=\"text-align: right;\">\n      <th></th>\n      <th>author</th>\n      <th>body</th>\n      <th>created_utc</th>\n      <th>id</th>\n      <th>permalink</th>\n      <th>score</th>\n      <th>created</th>\n      <th>d_</th>\n    </tr>\n  </thead>\n  <tbody>\n    <tr>\n      <th>0</th>\n      <td>AleksAFG</td>\n      <td>Congrats and fuck you. Hopefully I'll be there...</td>\n      <td>1609541996</td>\n      <td>ghrq1lb</td>\n      <td>/r/Bitcoin/comments/kobrs1/my_friends_mocked_m...</td>\n      <td>1</td>\n      <td>1.609535e+09</td>\n      <td>{'author': 'AleksAFG', 'body': 'Congrats and f...</td>\n    </tr>\n    <tr>\n      <th>1</th>\n      <td>seb_dm</td>\n      <td>/r wallstreetbets</td>\n      <td>1609541987</td>\n      <td>ghrq111</td>\n      <td>/r/nevertellmetheodds/comments/ko6ets/the_last...</td>\n      <td>1</td>\n      <td>1.609535e+09</td>\n      <td>{'author': 'seb_dm', 'body': '/r wallstreetbet...</td>\n    </tr>\n    <tr>\n      <th>2</th>\n      <td>AutoModerator</td>\n      <td>This post was flaired as a YOLO so it's on the...</td>\n      <td>1609541639</td>\n      <td>ghrpea5</td>\n      <td>/r/wallstreetbets/comments/kol2v7/to_dee_moon/...</td>\n      <td>1</td>\n      <td>1.609534e+09</td>\n      <td>{'author': 'AutoModerator', 'body': 'This post...</td>\n    </tr>\n    <tr>\n      <th>3</th>\n      <td>brodega</td>\n      <td>Yeah, all these poor people should just become...</td>\n      <td>1609541379</td>\n      <td>ghroxdm</td>\n      <td>/r/funny/comments/kogdjd/walmart_has_a_plan_fo...</td>\n      <td>15</td>\n      <td>1.609534e+09</td>\n      <td>{'author': 'brodega', 'body': 'Yeah, all these...</td>\n    </tr>\n    <tr>\n      <th>4</th>\n      <td>AutoModerator</td>\n      <td>This post was flaired as a YOLO so it's on the...</td>\n      <td>1609541147</td>\n      <td>ghroi46</td>\n      <td>/r/wallstreetbets/comments/kokxko/golden_egg/g...</td>\n      <td>1</td>\n      <td>1.609534e+09</td>\n      <td>{'author': 'AutoModerator', 'body': 'This post...</td>\n    </tr>\n    <tr>\n      <th>...</th>\n      <td>...</td>\n      <td>...</td>\n      <td>...</td>\n      <td>...</td>\n      <td>...</td>\n      <td>...</td>\n      <td>...</td>\n      <td>...</td>\n    </tr>\n    <tr>\n      <th>478</th>\n      <td>AutoModerator</td>\n      <td>Your post has been removed because a single li...</td>\n      <td>1609455994</td>\n      <td>ghnh6e9</td>\n      <td>/r/wallstreetbets/comments/ko0556/the_truth_ab...</td>\n      <td>1</td>\n      <td>1.609449e+09</td>\n      <td>{'author': 'AutoModerator', 'body': 'Your post...</td>\n    </tr>\n    <tr>\n      <th>479</th>\n      <td>AutoModerator</td>\n      <td>This post was flaired as a YOLO so it's on the...</td>\n      <td>1609455976</td>\n      <td>ghnh5ad</td>\n      <td>/r/wallstreetbets/comments/ko04yx/gme_yolo_upd...</td>\n      <td>1</td>\n      <td>1.609449e+09</td>\n      <td>{'author': 'AutoModerator', 'body': 'This post...</td>\n    </tr>\n    <tr>\n      <th>480</th>\n      <td>talesofstocks</td>\n      <td>lol Oh no, the downvotes from reddit users in ...</td>\n      <td>1609455819</td>\n      <td>ghngw1u</td>\n      <td>/r/wallstreetbets/comments/knus1d/it_iz_what_i...</td>\n      <td>0</td>\n      <td>1.609449e+09</td>\n      <td>{'author': 'talesofstocks', 'body': 'lol Oh no...</td>\n    </tr>\n    <tr>\n      <th>481</th>\n      <td>AutoModerator</td>\n      <td>Sir, this is the unemployment line.\\n\\n*I am a...</td>\n      <td>1609455753</td>\n      <td>ghngs64</td>\n      <td>/r/wallstreetbets/comments/ko02mo/crm_salesfor...</td>\n      <td>1</td>\n      <td>1.609449e+09</td>\n      <td>{'author': 'AutoModerator', 'body': 'Sir, this...</td>\n    </tr>\n    <tr>\n      <th>482</th>\n      <td>AutoModerator</td>\n      <td>This post was flaired as a YOLO so it's on the...</td>\n      <td>1609455709</td>\n      <td>ghngpmk</td>\n      <td>/r/wallstreetbets/comments/ko025r/new_to_stock...</td>\n      <td>1</td>\n      <td>1.609449e+09</td>\n      <td>{'author': 'AutoModerator', 'body': 'This post...</td>\n    </tr>\n  </tbody>\n</table>\n<p>483 rows × 8 columns</p>\n</div>"
     },
     "execution_count": 17,
     "metadata": {},
     "output_type": "execute_result"
    }
   ],
   "source": [
    "df_c"
   ],
   "metadata": {
    "collapsed": false,
    "pycharm": {
     "name": "#%%\n"
    }
   }
  },
  {
   "cell_type": "code",
   "execution_count": 46,
   "outputs": [
    {
     "data": {
      "text/plain": "            author                                               body  \\\n0         AleksAFG  Congrats and fuck you. Hopefully I'll be there...   \n1           seb_dm                                  /r wallstreetbets   \n2    AutoModerator  This post was flaired as a YOLO so it's on the...   \n3          brodega  Yeah, all these poor people should just become...   \n4    AutoModerator  This post was flaired as a YOLO so it's on the...   \n..             ...                                                ...   \n478  AutoModerator  Your post has been removed because a single li...   \n479  AutoModerator  This post was flaired as a YOLO so it's on the...   \n480  talesofstocks  lol Oh no, the downvotes from reddit users in ...   \n481  AutoModerator  Sir, this is the unemployment line.\\n\\n*I am a...   \n482  AutoModerator  This post was flaired as a YOLO so it's on the...   \n\n     created_utc       id                                          permalink  \\\n0     1609541996  ghrq1lb  /r/Bitcoin/comments/kobrs1/my_friends_mocked_m...   \n1     1609541987  ghrq111  /r/nevertellmetheodds/comments/ko6ets/the_last...   \n2     1609541639  ghrpea5  /r/wallstreetbets/comments/kol2v7/to_dee_moon/...   \n3     1609541379  ghroxdm  /r/funny/comments/kogdjd/walmart_has_a_plan_fo...   \n4     1609541147  ghroi46  /r/wallstreetbets/comments/kokxko/golden_egg/g...   \n..           ...      ...                                                ...   \n478   1609455994  ghnh6e9  /r/wallstreetbets/comments/ko0556/the_truth_ab...   \n479   1609455976  ghnh5ad  /r/wallstreetbets/comments/ko04yx/gme_yolo_upd...   \n480   1609455819  ghngw1u  /r/wallstreetbets/comments/knus1d/it_iz_what_i...   \n481   1609455753  ghngs64  /r/wallstreetbets/comments/ko02mo/crm_salesfor...   \n482   1609455709  ghngpmk  /r/wallstreetbets/comments/ko025r/new_to_stock...   \n\n              subreddit       created  \\\n0               Bitcoin  1.609538e+09   \n1    nevertellmetheodds  1.609538e+09   \n2        wallstreetbets  1.609538e+09   \n3                 funny  1.609538e+09   \n4        wallstreetbets  1.609538e+09   \n..                  ...           ...   \n478      wallstreetbets  1.609452e+09   \n479      wallstreetbets  1.609452e+09   \n480      wallstreetbets  1.609452e+09   \n481      wallstreetbets  1.609452e+09   \n482      wallstreetbets  1.609452e+09   \n\n                                                    d_  \n0    {'author': 'AleksAFG', 'body': 'Congrats and f...  \n1    {'author': 'seb_dm', 'body': '/r wallstreetbet...  \n2    {'author': 'AutoModerator', 'body': 'This post...  \n3    {'author': 'brodega', 'body': 'Yeah, all these...  \n4    {'author': 'AutoModerator', 'body': 'This post...  \n..                                                 ...  \n478  {'author': 'AutoModerator', 'body': 'Your post...  \n479  {'author': 'AutoModerator', 'body': 'This post...  \n480  {'author': 'talesofstocks', 'body': 'lol Oh no...  \n481  {'author': 'AutoModerator', 'body': 'Sir, this...  \n482  {'author': 'AutoModerator', 'body': 'This post...  \n\n[483 rows x 8 columns]",
      "text/html": "<div>\n<style scoped>\n    .dataframe tbody tr th:only-of-type {\n        vertical-align: middle;\n    }\n\n    .dataframe tbody tr th {\n        vertical-align: top;\n    }\n\n    .dataframe thead th {\n        text-align: right;\n    }\n</style>\n<table border=\"1\" class=\"dataframe\">\n  <thead>\n    <tr style=\"text-align: right;\">\n      <th></th>\n      <th>author</th>\n      <th>body</th>\n      <th>created_utc</th>\n      <th>id</th>\n      <th>permalink</th>\n      <th>subreddit</th>\n      <th>created</th>\n      <th>d_</th>\n    </tr>\n  </thead>\n  <tbody>\n    <tr>\n      <th>0</th>\n      <td>AleksAFG</td>\n      <td>Congrats and fuck you. Hopefully I'll be there...</td>\n      <td>1609541996</td>\n      <td>ghrq1lb</td>\n      <td>/r/Bitcoin/comments/kobrs1/my_friends_mocked_m...</td>\n      <td>Bitcoin</td>\n      <td>1.609538e+09</td>\n      <td>{'author': 'AleksAFG', 'body': 'Congrats and f...</td>\n    </tr>\n    <tr>\n      <th>1</th>\n      <td>seb_dm</td>\n      <td>/r wallstreetbets</td>\n      <td>1609541987</td>\n      <td>ghrq111</td>\n      <td>/r/nevertellmetheodds/comments/ko6ets/the_last...</td>\n      <td>nevertellmetheodds</td>\n      <td>1.609538e+09</td>\n      <td>{'author': 'seb_dm', 'body': '/r wallstreetbet...</td>\n    </tr>\n    <tr>\n      <th>2</th>\n      <td>AutoModerator</td>\n      <td>This post was flaired as a YOLO so it's on the...</td>\n      <td>1609541639</td>\n      <td>ghrpea5</td>\n      <td>/r/wallstreetbets/comments/kol2v7/to_dee_moon/...</td>\n      <td>wallstreetbets</td>\n      <td>1.609538e+09</td>\n      <td>{'author': 'AutoModerator', 'body': 'This post...</td>\n    </tr>\n    <tr>\n      <th>3</th>\n      <td>brodega</td>\n      <td>Yeah, all these poor people should just become...</td>\n      <td>1609541379</td>\n      <td>ghroxdm</td>\n      <td>/r/funny/comments/kogdjd/walmart_has_a_plan_fo...</td>\n      <td>funny</td>\n      <td>1.609538e+09</td>\n      <td>{'author': 'brodega', 'body': 'Yeah, all these...</td>\n    </tr>\n    <tr>\n      <th>4</th>\n      <td>AutoModerator</td>\n      <td>This post was flaired as a YOLO so it's on the...</td>\n      <td>1609541147</td>\n      <td>ghroi46</td>\n      <td>/r/wallstreetbets/comments/kokxko/golden_egg/g...</td>\n      <td>wallstreetbets</td>\n      <td>1.609538e+09</td>\n      <td>{'author': 'AutoModerator', 'body': 'This post...</td>\n    </tr>\n    <tr>\n      <th>...</th>\n      <td>...</td>\n      <td>...</td>\n      <td>...</td>\n      <td>...</td>\n      <td>...</td>\n      <td>...</td>\n      <td>...</td>\n      <td>...</td>\n    </tr>\n    <tr>\n      <th>478</th>\n      <td>AutoModerator</td>\n      <td>Your post has been removed because a single li...</td>\n      <td>1609455994</td>\n      <td>ghnh6e9</td>\n      <td>/r/wallstreetbets/comments/ko0556/the_truth_ab...</td>\n      <td>wallstreetbets</td>\n      <td>1.609452e+09</td>\n      <td>{'author': 'AutoModerator', 'body': 'Your post...</td>\n    </tr>\n    <tr>\n      <th>479</th>\n      <td>AutoModerator</td>\n      <td>This post was flaired as a YOLO so it's on the...</td>\n      <td>1609455976</td>\n      <td>ghnh5ad</td>\n      <td>/r/wallstreetbets/comments/ko04yx/gme_yolo_upd...</td>\n      <td>wallstreetbets</td>\n      <td>1.609452e+09</td>\n      <td>{'author': 'AutoModerator', 'body': 'This post...</td>\n    </tr>\n    <tr>\n      <th>480</th>\n      <td>talesofstocks</td>\n      <td>lol Oh no, the downvotes from reddit users in ...</td>\n      <td>1609455819</td>\n      <td>ghngw1u</td>\n      <td>/r/wallstreetbets/comments/knus1d/it_iz_what_i...</td>\n      <td>wallstreetbets</td>\n      <td>1.609452e+09</td>\n      <td>{'author': 'talesofstocks', 'body': 'lol Oh no...</td>\n    </tr>\n    <tr>\n      <th>481</th>\n      <td>AutoModerator</td>\n      <td>Sir, this is the unemployment line.\\n\\n*I am a...</td>\n      <td>1609455753</td>\n      <td>ghngs64</td>\n      <td>/r/wallstreetbets/comments/ko02mo/crm_salesfor...</td>\n      <td>wallstreetbets</td>\n      <td>1.609452e+09</td>\n      <td>{'author': 'AutoModerator', 'body': 'Sir, this...</td>\n    </tr>\n    <tr>\n      <th>482</th>\n      <td>AutoModerator</td>\n      <td>This post was flaired as a YOLO so it's on the...</td>\n      <td>1609455709</td>\n      <td>ghngpmk</td>\n      <td>/r/wallstreetbets/comments/ko025r/new_to_stock...</td>\n      <td>wallstreetbets</td>\n      <td>1.609452e+09</td>\n      <td>{'author': 'AutoModerator', 'body': 'This post...</td>\n    </tr>\n  </tbody>\n</table>\n<p>483 rows × 8 columns</p>\n</div>"
     },
     "execution_count": 46,
     "metadata": {},
     "output_type": "execute_result"
    }
   ],
   "source": [
    "df_c"
   ],
   "metadata": {
    "collapsed": false,
    "pycharm": {
     "name": "#%%\n"
    }
   }
  },
  {
   "cell_type": "code",
   "execution_count": 47,
   "outputs": [],
   "source": [
    "# get the comments of a certain submissions by some kind of id and join them together in database"
   ],
   "metadata": {
    "collapsed": false,
    "pycharm": {
     "name": "#%%\n"
    }
   }
  },
  {
   "cell_type": "code",
   "execution_count": 47,
   "outputs": [],
   "source": [],
   "metadata": {
    "collapsed": false,
    "pycharm": {
     "name": "#%%\n"
    }
   }
  },
  {
   "cell_type": "code",
   "execution_count": null,
   "outputs": [],
   "source": [],
   "metadata": {
    "collapsed": false,
    "pycharm": {
     "name": "#%%\n"
    }
   }
  }
 ],
 "metadata": {
  "kernelspec": {
   "name": "thesis",
   "language": "python",
   "display_name": "thesis"
  },
  "language_info": {
   "codemirror_mode": {
    "name": "ipython",
    "version": 2
   },
   "file_extension": ".py",
   "mimetype": "text/x-python",
   "name": "python",
   "nbconvert_exporter": "python",
   "pygments_lexer": "ipython2",
   "version": "2.7.6"
  }
 },
 "nbformat": 4,
 "nbformat_minor": 0
}