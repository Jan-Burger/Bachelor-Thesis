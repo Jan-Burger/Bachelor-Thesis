{
 "cells": [
  {
   "cell_type": "markdown",
   "source": [
    "## 1. Imports and config"
   ],
   "metadata": {
    "collapsed": false,
    "pycharm": {
     "name": "#%% md\n"
    }
   }
  },
  {
   "cell_type": "code",
   "execution_count": 1,
   "outputs": [
    {
     "name": "stdout",
     "output_type": "stream",
     "text": [
      "hisa-smfm: historical and sentiment analysis based stock market forecasting model\n"
     ]
    }
   ],
   "source": [
    "A = \"HISA-SMFM: HISTORICAL AND SENTIMENT ANALYSIS BASED STOCK MARKET FORECASTING MODEL\".lower()\n",
    "print(A)"
   ],
   "metadata": {
    "collapsed": false,
    "pycharm": {
     "name": "#%%\n"
    }
   }
  },
  {
   "cell_type": "code",
   "execution_count": 1,
   "metadata": {
    "collapsed": true,
    "pycharm": {
     "name": "#%%\n"
    }
   },
   "outputs": [],
   "source": [
    "import datetime as dt\n",
    "import warnings\n",
    "import yaml\n",
    "import logging\n",
    "import pywhatkit\n",
    "import pandas as pd\n",
    "from pmaw import PushshiftAPI\n",
    "from tqdm import tqdm\n",
    "from sqlalchemy import create_engine\n",
    "from data_extraction_utils import data_prep_posts, join_submission_title_and_body, find_stock_symbols, data_prep_comments\n",
    "warnings.filterwarnings(\"ignore\")"
   ]
  },
  {
   "cell_type": "code",
   "execution_count": 2,
   "outputs": [],
   "source": [
    "# Specify logging settings\n",
    "logging.basicConfig(filename='comments.log', level=logging.INFO, filemode=\"a\", format=\"%(asctime)s - %(levelname)s - %(message)s\")"
   ],
   "metadata": {
    "collapsed": false,
    "pycharm": {
     "name": "#%%\n"
    }
   }
  },
  {
   "cell_type": "markdown",
   "source": [
    "## 2. Database configuration"
   ],
   "metadata": {
    "collapsed": false,
    "pycharm": {
     "name": "#%% md\n"
    }
   }
  },
  {
   "cell_type": "code",
   "execution_count": 3,
   "outputs": [],
   "source": [
    "# Reading form config.yaml\"\n",
    "with open(\"../../config.yaml\", \"r\") as yamlconfig:\n",
    "    config = yaml.load(yamlconfig, Loader=yaml.FullLoader)\n",
    "\n",
    "# Create postgres string with db-config\n",
    "postgres_username = config[\"db_config\"][\"postgres_username\"]\n",
    "postgres_password = config[\"db_config\"][\"postgres_password\"]\n",
    "postgres_address = config[\"db_config\"][\"postgres_address\"]\n",
    "postgres_port = config[\"db_config\"][\"postgres_port\"]\n",
    "postgres_dbname = config[\"db_config\"][\"postgres_dbname\"]\n",
    "\n",
    "postgres_str = f\"postgresql://{postgres_username}:{postgres_password}@{postgres_address}:{postgres_port}/{postgres_dbname}\"\n",
    "\n",
    "# create db connection with sqlalchemy\n",
    "cnx = create_engine(postgres_str)"
   ],
   "metadata": {
    "collapsed": false,
    "pycharm": {
     "name": "#%%\n"
    }
   }
  },
  {
   "cell_type": "markdown",
   "source": [
    "## 3. Create stock symbol list"
   ],
   "metadata": {
    "collapsed": false,
    "pycharm": {
     "name": "#%% md\n"
    }
   }
  },
  {
   "cell_type": "code",
   "execution_count": 4,
   "outputs": [],
   "source": [
    "# load stock list and transform it into a set\n",
    "stock_ticker_list = pd.read_excel(\"../../data/external/stock_ticker_list.xlsx\")[\"symbol\"].to_list()\n",
    "\n",
    "# Modified second stock list with dollar sign\n",
    "stock_ticker_list_with_dollar_sign = [f\"${ticker}\" for ticker in stock_ticker_list]\n",
    "\n",
    "# Combine the two lists to one set\n",
    "final_stock_ticker_list = set(stock_ticker_list + stock_ticker_list_with_dollar_sign)"
   ],
   "metadata": {
    "collapsed": false,
    "pycharm": {
     "name": "#%%\n"
    }
   }
  },
  {
   "cell_type": "markdown",
   "source": [
    "## 4. Extract Comments from reddit"
   ],
   "metadata": {
    "collapsed": false,
    "pycharm": {
     "name": "#%% md\n"
    }
   }
  },
  {
   "cell_type": "code",
   "execution_count": 5,
   "outputs": [],
   "source": [
    "# Set date range to extract the data from the API\n",
    "start = dt.datetime.strptime(\"04-08-2021\", \"%d-%m-%Y\")\n",
    "end = dt.datetime.strptime(\"05-08-2021\", \"%d-%m-%Y\")\n",
    "timestamp_list = [int((start + dt.timedelta(days=x)).timestamp()) for x in range(0, (end-start).days +1)]\n",
    "\n",
    "# Reddit API Object\n",
    "api = PushshiftAPI(num_workers=60, batch_size=60)"
   ],
   "metadata": {
    "collapsed": false,
    "pycharm": {
     "name": "#%%\n"
    }
   }
  },
  {
   "cell_type": "code",
   "execution_count": 6,
   "outputs": [
    {
     "name": "stderr",
     "output_type": "stream",
     "text": [
      "  0%|          | 0/1 [09:25<?, ?it/s]\n"
     ]
    },
    {
     "ename": "ValueError",
     "evalue": "A string literal cannot contain NUL (0x00) characters.",
     "output_type": "error",
     "traceback": [
      "\u001B[1;31m---------------------------------------------------------------------------\u001B[0m",
      "\u001B[1;31mValueError\u001B[0m                                Traceback (most recent call last)",
      "Input \u001B[1;32mIn [6]\u001B[0m, in \u001B[0;36m<cell line: 2>\u001B[1;34m()\u001B[0m\n\u001B[0;32m     31\u001B[0m df\u001B[38;5;241m.\u001B[39mrename(columns\u001B[38;5;241m=\u001B[39m{\u001B[38;5;124m'\u001B[39m\u001B[38;5;124mscore\u001B[39m\u001B[38;5;124m'\u001B[39m: \u001B[38;5;124m'\u001B[39m\u001B[38;5;124mnum_up_votes\u001B[39m\u001B[38;5;124m'\u001B[39m, \u001B[38;5;124m\"\u001B[39m\u001B[38;5;124mbody\u001B[39m\u001B[38;5;124m\"\u001B[39m: \u001B[38;5;124m\"\u001B[39m\u001B[38;5;124mpost\u001B[39m\u001B[38;5;124m\"\u001B[39m}, inplace\u001B[38;5;241m=\u001B[39m\u001B[38;5;28;01mTrue\u001B[39;00m)\n\u001B[0;32m     33\u001B[0m \u001B[38;5;66;03m# Write dataframe to database\u001B[39;00m\n\u001B[1;32m---> 34\u001B[0m \u001B[43mdf\u001B[49m\u001B[38;5;241;43m.\u001B[39;49m\u001B[43mto_sql\u001B[49m\u001B[43m(\u001B[49m\u001B[38;5;124;43m\"\u001B[39;49m\u001B[38;5;124;43mr_wallstreetbets\u001B[39;49m\u001B[38;5;124;43m\"\u001B[39;49m\u001B[43m,\u001B[49m\u001B[43m \u001B[49m\u001B[43mcnx\u001B[49m\u001B[43m,\u001B[49m\u001B[43m \u001B[49m\u001B[43mindex\u001B[49m\u001B[38;5;241;43m=\u001B[39;49m\u001B[38;5;28;43;01mFalse\u001B[39;49;00m\u001B[43m,\u001B[49m\u001B[43m \u001B[49m\u001B[43mif_exists\u001B[49m\u001B[38;5;241;43m=\u001B[39;49m\u001B[38;5;124;43m\"\u001B[39;49m\u001B[38;5;124;43mappend\u001B[39;49m\u001B[38;5;124;43m\"\u001B[39;49m\u001B[43m)\u001B[49m\n\u001B[0;32m     36\u001B[0m \u001B[38;5;66;03m# Logging\u001B[39;00m\n\u001B[0;32m     37\u001B[0m logging\u001B[38;5;241m.\u001B[39minfo(\u001B[38;5;124mf\u001B[39m\u001B[38;5;124m\"\u001B[39m\u001B[38;5;132;01m{\u001B[39;00mdf\u001B[38;5;241m.\u001B[39mshape[\u001B[38;5;241m0\u001B[39m]\u001B[38;5;132;01m}\u001B[39;00m\u001B[38;5;124m rows written to DB - Date: \u001B[39m\u001B[38;5;132;01m{\u001B[39;00mdt\u001B[38;5;241m.\u001B[39mdatetime\u001B[38;5;241m.\u001B[39mfromtimestamp(start_date)\u001B[38;5;132;01m}\u001B[39;00m\u001B[38;5;124m\"\u001B[39m)\n",
      "File \u001B[1;32m~\\anaconda3\\envs\\thesis\\lib\\site-packages\\pandas\\core\\generic.py:2963\u001B[0m, in \u001B[0;36mNDFrame.to_sql\u001B[1;34m(self, name, con, schema, if_exists, index, index_label, chunksize, dtype, method)\u001B[0m\n\u001B[0;32m   2806\u001B[0m \u001B[38;5;124;03m\"\"\"\u001B[39;00m\n\u001B[0;32m   2807\u001B[0m \u001B[38;5;124;03mWrite records stored in a DataFrame to a SQL database.\u001B[39;00m\n\u001B[0;32m   2808\u001B[0m \n\u001B[1;32m   (...)\u001B[0m\n\u001B[0;32m   2959\u001B[0m \u001B[38;5;124;03m[(1,), (None,), (2,)]\u001B[39;00m\n\u001B[0;32m   2960\u001B[0m \u001B[38;5;124;03m\"\"\"\u001B[39;00m  \u001B[38;5;66;03m# noqa:E501\u001B[39;00m\n\u001B[0;32m   2961\u001B[0m \u001B[38;5;28;01mfrom\u001B[39;00m \u001B[38;5;21;01mpandas\u001B[39;00m\u001B[38;5;21;01m.\u001B[39;00m\u001B[38;5;21;01mio\u001B[39;00m \u001B[38;5;28;01mimport\u001B[39;00m sql\n\u001B[1;32m-> 2963\u001B[0m \u001B[38;5;28;01mreturn\u001B[39;00m \u001B[43msql\u001B[49m\u001B[38;5;241;43m.\u001B[39;49m\u001B[43mto_sql\u001B[49m\u001B[43m(\u001B[49m\n\u001B[0;32m   2964\u001B[0m \u001B[43m    \u001B[49m\u001B[38;5;28;43mself\u001B[39;49m\u001B[43m,\u001B[49m\n\u001B[0;32m   2965\u001B[0m \u001B[43m    \u001B[49m\u001B[43mname\u001B[49m\u001B[43m,\u001B[49m\n\u001B[0;32m   2966\u001B[0m \u001B[43m    \u001B[49m\u001B[43mcon\u001B[49m\u001B[43m,\u001B[49m\n\u001B[0;32m   2967\u001B[0m \u001B[43m    \u001B[49m\u001B[43mschema\u001B[49m\u001B[38;5;241;43m=\u001B[39;49m\u001B[43mschema\u001B[49m\u001B[43m,\u001B[49m\n\u001B[0;32m   2968\u001B[0m \u001B[43m    \u001B[49m\u001B[43mif_exists\u001B[49m\u001B[38;5;241;43m=\u001B[39;49m\u001B[43mif_exists\u001B[49m\u001B[43m,\u001B[49m\n\u001B[0;32m   2969\u001B[0m \u001B[43m    \u001B[49m\u001B[43mindex\u001B[49m\u001B[38;5;241;43m=\u001B[39;49m\u001B[43mindex\u001B[49m\u001B[43m,\u001B[49m\n\u001B[0;32m   2970\u001B[0m \u001B[43m    \u001B[49m\u001B[43mindex_label\u001B[49m\u001B[38;5;241;43m=\u001B[39;49m\u001B[43mindex_label\u001B[49m\u001B[43m,\u001B[49m\n\u001B[0;32m   2971\u001B[0m \u001B[43m    \u001B[49m\u001B[43mchunksize\u001B[49m\u001B[38;5;241;43m=\u001B[39;49m\u001B[43mchunksize\u001B[49m\u001B[43m,\u001B[49m\n\u001B[0;32m   2972\u001B[0m \u001B[43m    \u001B[49m\u001B[43mdtype\u001B[49m\u001B[38;5;241;43m=\u001B[39;49m\u001B[43mdtype\u001B[49m\u001B[43m,\u001B[49m\n\u001B[0;32m   2973\u001B[0m \u001B[43m    \u001B[49m\u001B[43mmethod\u001B[49m\u001B[38;5;241;43m=\u001B[39;49m\u001B[43mmethod\u001B[49m\u001B[43m,\u001B[49m\n\u001B[0;32m   2974\u001B[0m \u001B[43m\u001B[49m\u001B[43m)\u001B[49m\n",
      "File \u001B[1;32m~\\anaconda3\\envs\\thesis\\lib\\site-packages\\pandas\\io\\sql.py:697\u001B[0m, in \u001B[0;36mto_sql\u001B[1;34m(frame, name, con, schema, if_exists, index, index_label, chunksize, dtype, method, engine, **engine_kwargs)\u001B[0m\n\u001B[0;32m    692\u001B[0m \u001B[38;5;28;01melif\u001B[39;00m \u001B[38;5;129;01mnot\u001B[39;00m \u001B[38;5;28misinstance\u001B[39m(frame, DataFrame):\n\u001B[0;32m    693\u001B[0m     \u001B[38;5;28;01mraise\u001B[39;00m \u001B[38;5;167;01mNotImplementedError\u001B[39;00m(\n\u001B[0;32m    694\u001B[0m         \u001B[38;5;124m\"\u001B[39m\u001B[38;5;124m'\u001B[39m\u001B[38;5;124mframe\u001B[39m\u001B[38;5;124m'\u001B[39m\u001B[38;5;124m argument should be either a Series or a DataFrame\u001B[39m\u001B[38;5;124m\"\u001B[39m\n\u001B[0;32m    695\u001B[0m     )\n\u001B[1;32m--> 697\u001B[0m \u001B[38;5;28;01mreturn\u001B[39;00m pandas_sql\u001B[38;5;241m.\u001B[39mto_sql(\n\u001B[0;32m    698\u001B[0m     frame,\n\u001B[0;32m    699\u001B[0m     name,\n\u001B[0;32m    700\u001B[0m     if_exists\u001B[38;5;241m=\u001B[39mif_exists,\n\u001B[0;32m    701\u001B[0m     index\u001B[38;5;241m=\u001B[39mindex,\n\u001B[0;32m    702\u001B[0m     index_label\u001B[38;5;241m=\u001B[39mindex_label,\n\u001B[0;32m    703\u001B[0m     schema\u001B[38;5;241m=\u001B[39mschema,\n\u001B[0;32m    704\u001B[0m     chunksize\u001B[38;5;241m=\u001B[39mchunksize,\n\u001B[0;32m    705\u001B[0m     dtype\u001B[38;5;241m=\u001B[39mdtype,\n\u001B[0;32m    706\u001B[0m     method\u001B[38;5;241m=\u001B[39mmethod,\n\u001B[0;32m    707\u001B[0m     engine\u001B[38;5;241m=\u001B[39mengine,\n\u001B[0;32m    708\u001B[0m     \u001B[38;5;241m*\u001B[39m\u001B[38;5;241m*\u001B[39mengine_kwargs,\n\u001B[0;32m    709\u001B[0m )\n",
      "File \u001B[1;32m~\\anaconda3\\envs\\thesis\\lib\\site-packages\\pandas\\io\\sql.py:1739\u001B[0m, in \u001B[0;36mSQLDatabase.to_sql\u001B[1;34m(self, frame, name, if_exists, index, index_label, schema, chunksize, dtype, method, engine, **engine_kwargs)\u001B[0m\n\u001B[0;32m   1727\u001B[0m sql_engine \u001B[38;5;241m=\u001B[39m get_engine(engine)\n\u001B[0;32m   1729\u001B[0m table \u001B[38;5;241m=\u001B[39m \u001B[38;5;28mself\u001B[39m\u001B[38;5;241m.\u001B[39mprep_table(\n\u001B[0;32m   1730\u001B[0m     frame\u001B[38;5;241m=\u001B[39mframe,\n\u001B[0;32m   1731\u001B[0m     name\u001B[38;5;241m=\u001B[39mname,\n\u001B[1;32m   (...)\u001B[0m\n\u001B[0;32m   1736\u001B[0m     dtype\u001B[38;5;241m=\u001B[39mdtype,\n\u001B[0;32m   1737\u001B[0m )\n\u001B[1;32m-> 1739\u001B[0m total_inserted \u001B[38;5;241m=\u001B[39m sql_engine\u001B[38;5;241m.\u001B[39minsert_records(\n\u001B[0;32m   1740\u001B[0m     table\u001B[38;5;241m=\u001B[39mtable,\n\u001B[0;32m   1741\u001B[0m     con\u001B[38;5;241m=\u001B[39m\u001B[38;5;28mself\u001B[39m\u001B[38;5;241m.\u001B[39mconnectable,\n\u001B[0;32m   1742\u001B[0m     frame\u001B[38;5;241m=\u001B[39mframe,\n\u001B[0;32m   1743\u001B[0m     name\u001B[38;5;241m=\u001B[39mname,\n\u001B[0;32m   1744\u001B[0m     index\u001B[38;5;241m=\u001B[39mindex,\n\u001B[0;32m   1745\u001B[0m     schema\u001B[38;5;241m=\u001B[39mschema,\n\u001B[0;32m   1746\u001B[0m     chunksize\u001B[38;5;241m=\u001B[39mchunksize,\n\u001B[0;32m   1747\u001B[0m     method\u001B[38;5;241m=\u001B[39mmethod,\n\u001B[0;32m   1748\u001B[0m     \u001B[38;5;241m*\u001B[39m\u001B[38;5;241m*\u001B[39mengine_kwargs,\n\u001B[0;32m   1749\u001B[0m )\n\u001B[0;32m   1751\u001B[0m \u001B[38;5;28mself\u001B[39m\u001B[38;5;241m.\u001B[39mcheck_case_sensitive(name\u001B[38;5;241m=\u001B[39mname, schema\u001B[38;5;241m=\u001B[39mschema)\n\u001B[0;32m   1752\u001B[0m \u001B[38;5;28;01mreturn\u001B[39;00m total_inserted\n",
      "File \u001B[1;32m~\\anaconda3\\envs\\thesis\\lib\\site-packages\\pandas\\io\\sql.py:1322\u001B[0m, in \u001B[0;36mSQLAlchemyEngine.insert_records\u001B[1;34m(self, table, con, frame, name, index, schema, chunksize, method, **engine_kwargs)\u001B[0m\n\u001B[0;32m   1319\u001B[0m \u001B[38;5;28;01mfrom\u001B[39;00m \u001B[38;5;21;01msqlalchemy\u001B[39;00m \u001B[38;5;28;01mimport\u001B[39;00m exc\n\u001B[0;32m   1321\u001B[0m \u001B[38;5;28;01mtry\u001B[39;00m:\n\u001B[1;32m-> 1322\u001B[0m     \u001B[38;5;28;01mreturn\u001B[39;00m \u001B[43mtable\u001B[49m\u001B[38;5;241;43m.\u001B[39;49m\u001B[43minsert\u001B[49m\u001B[43m(\u001B[49m\u001B[43mchunksize\u001B[49m\u001B[38;5;241;43m=\u001B[39;49m\u001B[43mchunksize\u001B[49m\u001B[43m,\u001B[49m\u001B[43m \u001B[49m\u001B[43mmethod\u001B[49m\u001B[38;5;241;43m=\u001B[39;49m\u001B[43mmethod\u001B[49m\u001B[43m)\u001B[49m\n\u001B[0;32m   1323\u001B[0m \u001B[38;5;28;01mexcept\u001B[39;00m exc\u001B[38;5;241m.\u001B[39mSQLAlchemyError \u001B[38;5;28;01mas\u001B[39;00m err:\n\u001B[0;32m   1324\u001B[0m     \u001B[38;5;66;03m# GH34431\u001B[39;00m\n\u001B[0;32m   1325\u001B[0m     \u001B[38;5;66;03m# https://stackoverflow.com/a/67358288/6067848\u001B[39;00m\n\u001B[0;32m   1326\u001B[0m     msg \u001B[38;5;241m=\u001B[39m \u001B[38;5;124mr\u001B[39m\u001B[38;5;124m\"\"\"\u001B[39m\u001B[38;5;124m(\u001B[39m\u001B[38;5;124m\\\u001B[39m\u001B[38;5;124m(1054, \u001B[39m\u001B[38;5;124m\"\u001B[39m\u001B[38;5;124mUnknown column \u001B[39m\u001B[38;5;124m'\u001B[39m\u001B[38;5;124minf(e0)?\u001B[39m\u001B[38;5;124m'\u001B[39m\u001B[38;5;124m in \u001B[39m\u001B[38;5;124m'\u001B[39m\u001B[38;5;124mfield list\u001B[39m\u001B[38;5;124m'\u001B[39m\u001B[38;5;124m\"\u001B[39m\u001B[38;5;124m\\\u001B[39m\u001B[38;5;124m))(?#\u001B[39m\n\u001B[0;32m   1327\u001B[0m \u001B[38;5;124m    )|inf can not be used with MySQL\u001B[39m\u001B[38;5;124m\"\"\"\u001B[39m\n",
      "File \u001B[1;32m~\\anaconda3\\envs\\thesis\\lib\\site-packages\\pandas\\io\\sql.py:950\u001B[0m, in \u001B[0;36mSQLTable.insert\u001B[1;34m(self, chunksize, method)\u001B[0m\n\u001B[0;32m    947\u001B[0m     \u001B[38;5;28;01mbreak\u001B[39;00m\n\u001B[0;32m    949\u001B[0m chunk_iter \u001B[38;5;241m=\u001B[39m \u001B[38;5;28mzip\u001B[39m(\u001B[38;5;241m*\u001B[39m(arr[start_i:end_i] \u001B[38;5;28;01mfor\u001B[39;00m arr \u001B[38;5;129;01min\u001B[39;00m data_list))\n\u001B[1;32m--> 950\u001B[0m num_inserted \u001B[38;5;241m=\u001B[39m \u001B[43mexec_insert\u001B[49m\u001B[43m(\u001B[49m\u001B[43mconn\u001B[49m\u001B[43m,\u001B[49m\u001B[43m \u001B[49m\u001B[43mkeys\u001B[49m\u001B[43m,\u001B[49m\u001B[43m \u001B[49m\u001B[43mchunk_iter\u001B[49m\u001B[43m)\u001B[49m\n\u001B[0;32m    951\u001B[0m \u001B[38;5;28;01mif\u001B[39;00m num_inserted \u001B[38;5;129;01mis\u001B[39;00m \u001B[38;5;28;01mNone\u001B[39;00m:\n\u001B[0;32m    952\u001B[0m     total_inserted \u001B[38;5;241m=\u001B[39m \u001B[38;5;28;01mNone\u001B[39;00m\n",
      "File \u001B[1;32m~\\anaconda3\\envs\\thesis\\lib\\site-packages\\pandas\\io\\sql.py:857\u001B[0m, in \u001B[0;36mSQLTable._execute_insert\u001B[1;34m(self, conn, keys, data_iter)\u001B[0m\n\u001B[0;32m    845\u001B[0m \u001B[38;5;124;03m\"\"\"\u001B[39;00m\n\u001B[0;32m    846\u001B[0m \u001B[38;5;124;03mExecute SQL statement inserting data\u001B[39;00m\n\u001B[0;32m    847\u001B[0m \n\u001B[1;32m   (...)\u001B[0m\n\u001B[0;32m    854\u001B[0m \u001B[38;5;124;03m   Each item contains a list of values to be inserted\u001B[39;00m\n\u001B[0;32m    855\u001B[0m \u001B[38;5;124;03m\"\"\"\u001B[39;00m\n\u001B[0;32m    856\u001B[0m data \u001B[38;5;241m=\u001B[39m [\u001B[38;5;28mdict\u001B[39m(\u001B[38;5;28mzip\u001B[39m(keys, row)) \u001B[38;5;28;01mfor\u001B[39;00m row \u001B[38;5;129;01min\u001B[39;00m data_iter]\n\u001B[1;32m--> 857\u001B[0m result \u001B[38;5;241m=\u001B[39m \u001B[43mconn\u001B[49m\u001B[38;5;241;43m.\u001B[39;49m\u001B[43mexecute\u001B[49m\u001B[43m(\u001B[49m\u001B[38;5;28;43mself\u001B[39;49m\u001B[38;5;241;43m.\u001B[39;49m\u001B[43mtable\u001B[49m\u001B[38;5;241;43m.\u001B[39;49m\u001B[43minsert\u001B[49m\u001B[43m(\u001B[49m\u001B[43m)\u001B[49m\u001B[43m,\u001B[49m\u001B[43m \u001B[49m\u001B[43mdata\u001B[49m\u001B[43m)\u001B[49m\n\u001B[0;32m    858\u001B[0m \u001B[38;5;28;01mreturn\u001B[39;00m result\u001B[38;5;241m.\u001B[39mrowcount\n",
      "File \u001B[1;32m~\\anaconda3\\envs\\thesis\\lib\\site-packages\\sqlalchemy\\engine\\base.py:1306\u001B[0m, in \u001B[0;36mConnection.execute\u001B[1;34m(self, statement, *multiparams, **params)\u001B[0m\n\u001B[0;32m   1302\u001B[0m     util\u001B[38;5;241m.\u001B[39mraise_(\n\u001B[0;32m   1303\u001B[0m         exc\u001B[38;5;241m.\u001B[39mObjectNotExecutableError(statement), replace_context\u001B[38;5;241m=\u001B[39merr\n\u001B[0;32m   1304\u001B[0m     )\n\u001B[0;32m   1305\u001B[0m \u001B[38;5;28;01melse\u001B[39;00m:\n\u001B[1;32m-> 1306\u001B[0m     \u001B[38;5;28;01mreturn\u001B[39;00m \u001B[43mmeth\u001B[49m\u001B[43m(\u001B[49m\u001B[38;5;28;43mself\u001B[39;49m\u001B[43m,\u001B[49m\u001B[43m \u001B[49m\u001B[43mmultiparams\u001B[49m\u001B[43m,\u001B[49m\u001B[43m \u001B[49m\u001B[43mparams\u001B[49m\u001B[43m,\u001B[49m\u001B[43m \u001B[49m\u001B[43m_EMPTY_EXECUTION_OPTS\u001B[49m\u001B[43m)\u001B[49m\n",
      "File \u001B[1;32m~\\anaconda3\\envs\\thesis\\lib\\site-packages\\sqlalchemy\\sql\\elements.py:325\u001B[0m, in \u001B[0;36mClauseElement._execute_on_connection\u001B[1;34m(self, connection, multiparams, params, execution_options, _force)\u001B[0m\n\u001B[0;32m    321\u001B[0m \u001B[38;5;28;01mdef\u001B[39;00m \u001B[38;5;21m_execute_on_connection\u001B[39m(\n\u001B[0;32m    322\u001B[0m     \u001B[38;5;28mself\u001B[39m, connection, multiparams, params, execution_options, _force\u001B[38;5;241m=\u001B[39m\u001B[38;5;28;01mFalse\u001B[39;00m\n\u001B[0;32m    323\u001B[0m ):\n\u001B[0;32m    324\u001B[0m     \u001B[38;5;28;01mif\u001B[39;00m _force \u001B[38;5;129;01mor\u001B[39;00m \u001B[38;5;28mself\u001B[39m\u001B[38;5;241m.\u001B[39msupports_execution:\n\u001B[1;32m--> 325\u001B[0m         \u001B[38;5;28;01mreturn\u001B[39;00m \u001B[43mconnection\u001B[49m\u001B[38;5;241;43m.\u001B[39;49m\u001B[43m_execute_clauseelement\u001B[49m\u001B[43m(\u001B[49m\n\u001B[0;32m    326\u001B[0m \u001B[43m            \u001B[49m\u001B[38;5;28;43mself\u001B[39;49m\u001B[43m,\u001B[49m\u001B[43m \u001B[49m\u001B[43mmultiparams\u001B[49m\u001B[43m,\u001B[49m\u001B[43m \u001B[49m\u001B[43mparams\u001B[49m\u001B[43m,\u001B[49m\u001B[43m \u001B[49m\u001B[43mexecution_options\u001B[49m\n\u001B[0;32m    327\u001B[0m \u001B[43m        \u001B[49m\u001B[43m)\u001B[49m\n\u001B[0;32m    328\u001B[0m     \u001B[38;5;28;01melse\u001B[39;00m:\n\u001B[0;32m    329\u001B[0m         \u001B[38;5;28;01mraise\u001B[39;00m exc\u001B[38;5;241m.\u001B[39mObjectNotExecutableError(\u001B[38;5;28mself\u001B[39m)\n",
      "File \u001B[1;32m~\\anaconda3\\envs\\thesis\\lib\\site-packages\\sqlalchemy\\engine\\base.py:1498\u001B[0m, in \u001B[0;36mConnection._execute_clauseelement\u001B[1;34m(self, elem, multiparams, params, execution_options)\u001B[0m\n\u001B[0;32m   1486\u001B[0m compiled_cache \u001B[38;5;241m=\u001B[39m execution_options\u001B[38;5;241m.\u001B[39mget(\n\u001B[0;32m   1487\u001B[0m     \u001B[38;5;124m\"\u001B[39m\u001B[38;5;124mcompiled_cache\u001B[39m\u001B[38;5;124m\"\u001B[39m, \u001B[38;5;28mself\u001B[39m\u001B[38;5;241m.\u001B[39mengine\u001B[38;5;241m.\u001B[39m_compiled_cache\n\u001B[0;32m   1488\u001B[0m )\n\u001B[0;32m   1490\u001B[0m compiled_sql, extracted_params, cache_hit \u001B[38;5;241m=\u001B[39m elem\u001B[38;5;241m.\u001B[39m_compile_w_cache(\n\u001B[0;32m   1491\u001B[0m     dialect\u001B[38;5;241m=\u001B[39mdialect,\n\u001B[0;32m   1492\u001B[0m     compiled_cache\u001B[38;5;241m=\u001B[39mcompiled_cache,\n\u001B[1;32m   (...)\u001B[0m\n\u001B[0;32m   1496\u001B[0m     linting\u001B[38;5;241m=\u001B[39m\u001B[38;5;28mself\u001B[39m\u001B[38;5;241m.\u001B[39mdialect\u001B[38;5;241m.\u001B[39mcompiler_linting \u001B[38;5;241m|\u001B[39m compiler\u001B[38;5;241m.\u001B[39mWARN_LINTING,\n\u001B[0;32m   1497\u001B[0m )\n\u001B[1;32m-> 1498\u001B[0m ret \u001B[38;5;241m=\u001B[39m \u001B[38;5;28;43mself\u001B[39;49m\u001B[38;5;241;43m.\u001B[39;49m\u001B[43m_execute_context\u001B[49m\u001B[43m(\u001B[49m\n\u001B[0;32m   1499\u001B[0m \u001B[43m    \u001B[49m\u001B[43mdialect\u001B[49m\u001B[43m,\u001B[49m\n\u001B[0;32m   1500\u001B[0m \u001B[43m    \u001B[49m\u001B[43mdialect\u001B[49m\u001B[38;5;241;43m.\u001B[39;49m\u001B[43mexecution_ctx_cls\u001B[49m\u001B[38;5;241;43m.\u001B[39;49m\u001B[43m_init_compiled\u001B[49m\u001B[43m,\u001B[49m\n\u001B[0;32m   1501\u001B[0m \u001B[43m    \u001B[49m\u001B[43mcompiled_sql\u001B[49m\u001B[43m,\u001B[49m\n\u001B[0;32m   1502\u001B[0m \u001B[43m    \u001B[49m\u001B[43mdistilled_params\u001B[49m\u001B[43m,\u001B[49m\n\u001B[0;32m   1503\u001B[0m \u001B[43m    \u001B[49m\u001B[43mexecution_options\u001B[49m\u001B[43m,\u001B[49m\n\u001B[0;32m   1504\u001B[0m \u001B[43m    \u001B[49m\u001B[43mcompiled_sql\u001B[49m\u001B[43m,\u001B[49m\n\u001B[0;32m   1505\u001B[0m \u001B[43m    \u001B[49m\u001B[43mdistilled_params\u001B[49m\u001B[43m,\u001B[49m\n\u001B[0;32m   1506\u001B[0m \u001B[43m    \u001B[49m\u001B[43melem\u001B[49m\u001B[43m,\u001B[49m\n\u001B[0;32m   1507\u001B[0m \u001B[43m    \u001B[49m\u001B[43mextracted_params\u001B[49m\u001B[43m,\u001B[49m\n\u001B[0;32m   1508\u001B[0m \u001B[43m    \u001B[49m\u001B[43mcache_hit\u001B[49m\u001B[38;5;241;43m=\u001B[39;49m\u001B[43mcache_hit\u001B[49m\u001B[43m,\u001B[49m\n\u001B[0;32m   1509\u001B[0m \u001B[43m\u001B[49m\u001B[43m)\u001B[49m\n\u001B[0;32m   1510\u001B[0m \u001B[38;5;28;01mif\u001B[39;00m has_events:\n\u001B[0;32m   1511\u001B[0m     \u001B[38;5;28mself\u001B[39m\u001B[38;5;241m.\u001B[39mdispatch\u001B[38;5;241m.\u001B[39mafter_execute(\n\u001B[0;32m   1512\u001B[0m         \u001B[38;5;28mself\u001B[39m,\n\u001B[0;32m   1513\u001B[0m         elem,\n\u001B[1;32m   (...)\u001B[0m\n\u001B[0;32m   1517\u001B[0m         ret,\n\u001B[0;32m   1518\u001B[0m     )\n",
      "File \u001B[1;32m~\\anaconda3\\envs\\thesis\\lib\\site-packages\\sqlalchemy\\engine\\base.py:1862\u001B[0m, in \u001B[0;36mConnection._execute_context\u001B[1;34m(self, dialect, constructor, statement, parameters, execution_options, *args, **kw)\u001B[0m\n\u001B[0;32m   1859\u001B[0m             branched\u001B[38;5;241m.\u001B[39mclose()\n\u001B[0;32m   1861\u001B[0m \u001B[38;5;28;01mexcept\u001B[39;00m \u001B[38;5;167;01mBaseException\u001B[39;00m \u001B[38;5;28;01mas\u001B[39;00m e:\n\u001B[1;32m-> 1862\u001B[0m     \u001B[38;5;28;43mself\u001B[39;49m\u001B[38;5;241;43m.\u001B[39;49m\u001B[43m_handle_dbapi_exception\u001B[49m\u001B[43m(\u001B[49m\n\u001B[0;32m   1863\u001B[0m \u001B[43m        \u001B[49m\u001B[43me\u001B[49m\u001B[43m,\u001B[49m\u001B[43m \u001B[49m\u001B[43mstatement\u001B[49m\u001B[43m,\u001B[49m\u001B[43m \u001B[49m\u001B[43mparameters\u001B[49m\u001B[43m,\u001B[49m\u001B[43m \u001B[49m\u001B[43mcursor\u001B[49m\u001B[43m,\u001B[49m\u001B[43m \u001B[49m\u001B[43mcontext\u001B[49m\n\u001B[0;32m   1864\u001B[0m \u001B[43m    \u001B[49m\u001B[43m)\u001B[49m\n\u001B[0;32m   1866\u001B[0m \u001B[38;5;28;01mreturn\u001B[39;00m result\n",
      "File \u001B[1;32m~\\anaconda3\\envs\\thesis\\lib\\site-packages\\sqlalchemy\\engine\\base.py:2047\u001B[0m, in \u001B[0;36mConnection._handle_dbapi_exception\u001B[1;34m(self, e, statement, parameters, cursor, context)\u001B[0m\n\u001B[0;32m   2043\u001B[0m         util\u001B[38;5;241m.\u001B[39mraise_(\n\u001B[0;32m   2044\u001B[0m             sqlalchemy_exception, with_traceback\u001B[38;5;241m=\u001B[39mexc_info[\u001B[38;5;241m2\u001B[39m], from_\u001B[38;5;241m=\u001B[39me\n\u001B[0;32m   2045\u001B[0m         )\n\u001B[0;32m   2046\u001B[0m     \u001B[38;5;28;01melse\u001B[39;00m:\n\u001B[1;32m-> 2047\u001B[0m         \u001B[43mutil\u001B[49m\u001B[38;5;241;43m.\u001B[39;49m\u001B[43mraise_\u001B[49m\u001B[43m(\u001B[49m\u001B[43mexc_info\u001B[49m\u001B[43m[\u001B[49m\u001B[38;5;241;43m1\u001B[39;49m\u001B[43m]\u001B[49m\u001B[43m,\u001B[49m\u001B[43m \u001B[49m\u001B[43mwith_traceback\u001B[49m\u001B[38;5;241;43m=\u001B[39;49m\u001B[43mexc_info\u001B[49m\u001B[43m[\u001B[49m\u001B[38;5;241;43m2\u001B[39;49m\u001B[43m]\u001B[49m\u001B[43m)\u001B[49m\n\u001B[0;32m   2049\u001B[0m \u001B[38;5;28;01mfinally\u001B[39;00m:\n\u001B[0;32m   2050\u001B[0m     \u001B[38;5;28;01mdel\u001B[39;00m \u001B[38;5;28mself\u001B[39m\u001B[38;5;241m.\u001B[39m_reentrant_error\n",
      "File \u001B[1;32m~\\anaconda3\\envs\\thesis\\lib\\site-packages\\sqlalchemy\\util\\compat.py:207\u001B[0m, in \u001B[0;36mraise_\u001B[1;34m(***failed resolving arguments***)\u001B[0m\n\u001B[0;32m    204\u001B[0m     exception\u001B[38;5;241m.\u001B[39m__cause__ \u001B[38;5;241m=\u001B[39m replace_context\n\u001B[0;32m    206\u001B[0m \u001B[38;5;28;01mtry\u001B[39;00m:\n\u001B[1;32m--> 207\u001B[0m     \u001B[38;5;28;01mraise\u001B[39;00m exception\n\u001B[0;32m    208\u001B[0m \u001B[38;5;28;01mfinally\u001B[39;00m:\n\u001B[0;32m    209\u001B[0m     \u001B[38;5;66;03m# credit to\u001B[39;00m\n\u001B[0;32m    210\u001B[0m     \u001B[38;5;66;03m# https://cosmicpercolator.com/2016/01/13/exception-leaks-in-python-2-and-3/\u001B[39;00m\n\u001B[0;32m    211\u001B[0m     \u001B[38;5;66;03m# as the __traceback__ object creates a cycle\u001B[39;00m\n\u001B[0;32m    212\u001B[0m     \u001B[38;5;28;01mdel\u001B[39;00m exception, replace_context, from_, with_traceback\n",
      "File \u001B[1;32m~\\anaconda3\\envs\\thesis\\lib\\site-packages\\sqlalchemy\\engine\\base.py:1799\u001B[0m, in \u001B[0;36mConnection._execute_context\u001B[1;34m(self, dialect, constructor, statement, parameters, execution_options, *args, **kw)\u001B[0m\n\u001B[0;32m   1797\u001B[0m                 \u001B[38;5;28;01mbreak\u001B[39;00m\n\u001B[0;32m   1798\u001B[0m     \u001B[38;5;28;01mif\u001B[39;00m \u001B[38;5;129;01mnot\u001B[39;00m evt_handled:\n\u001B[1;32m-> 1799\u001B[0m         \u001B[38;5;28;43mself\u001B[39;49m\u001B[38;5;241;43m.\u001B[39;49m\u001B[43mdialect\u001B[49m\u001B[38;5;241;43m.\u001B[39;49m\u001B[43mdo_executemany\u001B[49m\u001B[43m(\u001B[49m\n\u001B[0;32m   1800\u001B[0m \u001B[43m            \u001B[49m\u001B[43mcursor\u001B[49m\u001B[43m,\u001B[49m\u001B[43m \u001B[49m\u001B[43mstatement\u001B[49m\u001B[43m,\u001B[49m\u001B[43m \u001B[49m\u001B[43mparameters\u001B[49m\u001B[43m,\u001B[49m\u001B[43m \u001B[49m\u001B[43mcontext\u001B[49m\n\u001B[0;32m   1801\u001B[0m \u001B[43m        \u001B[49m\u001B[43m)\u001B[49m\n\u001B[0;32m   1802\u001B[0m \u001B[38;5;28;01melif\u001B[39;00m \u001B[38;5;129;01mnot\u001B[39;00m parameters \u001B[38;5;129;01mand\u001B[39;00m context\u001B[38;5;241m.\u001B[39mno_parameters:\n\u001B[0;32m   1803\u001B[0m     \u001B[38;5;28;01mif\u001B[39;00m \u001B[38;5;28mself\u001B[39m\u001B[38;5;241m.\u001B[39mdialect\u001B[38;5;241m.\u001B[39m_has_events:\n",
      "File \u001B[1;32m~\\anaconda3\\envs\\thesis\\lib\\site-packages\\sqlalchemy\\dialects\\postgresql\\psycopg2.py:953\u001B[0m, in \u001B[0;36mPGDialect_psycopg2.do_executemany\u001B[1;34m(self, cursor, statement, parameters, context)\u001B[0m\n\u001B[0;32m    951\u001B[0m         kwargs \u001B[38;5;241m=\u001B[39m {}\n\u001B[0;32m    952\u001B[0m     xtras \u001B[38;5;241m=\u001B[39m \u001B[38;5;28mself\u001B[39m\u001B[38;5;241m.\u001B[39m_psycopg2_extras()\n\u001B[1;32m--> 953\u001B[0m     context\u001B[38;5;241m.\u001B[39m_psycopg2_fetched_rows \u001B[38;5;241m=\u001B[39m xtras\u001B[38;5;241m.\u001B[39mexecute_values(\n\u001B[0;32m    954\u001B[0m         cursor,\n\u001B[0;32m    955\u001B[0m         statement,\n\u001B[0;32m    956\u001B[0m         parameters,\n\u001B[0;32m    957\u001B[0m         template\u001B[38;5;241m=\u001B[39mexecutemany_values,\n\u001B[0;32m    958\u001B[0m         fetch\u001B[38;5;241m=\u001B[39m\u001B[38;5;28mbool\u001B[39m(context\u001B[38;5;241m.\u001B[39mcompiled\u001B[38;5;241m.\u001B[39mreturning),\n\u001B[0;32m    959\u001B[0m         \u001B[38;5;241m*\u001B[39m\u001B[38;5;241m*\u001B[39mkwargs\n\u001B[0;32m    960\u001B[0m     )\n\u001B[0;32m    962\u001B[0m \u001B[38;5;28;01melif\u001B[39;00m \u001B[38;5;28mself\u001B[39m\u001B[38;5;241m.\u001B[39mexecutemany_mode \u001B[38;5;241m&\u001B[39m EXECUTEMANY_BATCH:\n\u001B[0;32m    963\u001B[0m     \u001B[38;5;28;01mif\u001B[39;00m \u001B[38;5;28mself\u001B[39m\u001B[38;5;241m.\u001B[39mexecutemany_batch_page_size:\n",
      "File \u001B[1;32m~\\anaconda3\\envs\\thesis\\lib\\site-packages\\psycopg2\\extras.py:1267\u001B[0m, in \u001B[0;36mexecute_values\u001B[1;34m(cur, sql, argslist, template, page_size, fetch)\u001B[0m\n\u001B[0;32m   1265\u001B[0m parts \u001B[38;5;241m=\u001B[39m pre[:]\n\u001B[0;32m   1266\u001B[0m \u001B[38;5;28;01mfor\u001B[39;00m args \u001B[38;5;129;01min\u001B[39;00m page:\n\u001B[1;32m-> 1267\u001B[0m     parts\u001B[38;5;241m.\u001B[39mappend(\u001B[43mcur\u001B[49m\u001B[38;5;241;43m.\u001B[39;49m\u001B[43mmogrify\u001B[49m\u001B[43m(\u001B[49m\u001B[43mtemplate\u001B[49m\u001B[43m,\u001B[49m\u001B[43m \u001B[49m\u001B[43margs\u001B[49m\u001B[43m)\u001B[49m)\n\u001B[0;32m   1268\u001B[0m     parts\u001B[38;5;241m.\u001B[39mappend(\u001B[38;5;124mb\u001B[39m\u001B[38;5;124m'\u001B[39m\u001B[38;5;124m,\u001B[39m\u001B[38;5;124m'\u001B[39m)\n\u001B[0;32m   1269\u001B[0m parts[\u001B[38;5;241m-\u001B[39m\u001B[38;5;241m1\u001B[39m:] \u001B[38;5;241m=\u001B[39m post\n",
      "\u001B[1;31mValueError\u001B[0m: A string literal cannot contain NUL (0x00) characters."
     ]
    }
   ],
   "source": [
    "\n",
    "# loop over list of timestamps\n",
    "for i in (pbar := tqdm(range(len(timestamp_list) -1))):\n",
    "\n",
    "    # Set start date and end date\n",
    "    start_date = timestamp_list[i]\n",
    "    end_date = timestamp_list[i + 1]\n",
    "\n",
    "    # Specify data to extract from reddit\n",
    "    filters = ['author', 'created_utc', \"score\", \"body\"]\n",
    "\n",
    "    # Call API function to retrieve data from reddit as a dataframe\n",
    "    df = data_prep_comments(api, \"wallstreetbets\", start_time=start_date, end_time=end_date, filters=filters)\n",
    "\n",
    "    # If response from API is empty -> Note that we have missing data for that day and continue\n",
    "    if len(df) == 0:\n",
    "        print(f\"Missing Data for: {dt.datetime.fromtimestamp(start_date)}\")\n",
    "        logging.info(f\"{df.shape[0]} rows written to DB - Date: {dt.datetime.fromtimestamp(start_date)}\")\n",
    "        pbar.set_description(f\"{dt.datetime.fromtimestamp(start_date)}\")\n",
    "        continue\n",
    "\n",
    "    # Transform timestamp into datetime column\n",
    "    df[\"created_at\"] = df[\"created_utc\"].apply(lambda x: dt.datetime.fromtimestamp(x))\n",
    "\n",
    "    # Get stock symbol from reddit post if available\n",
    "    df[\"stock_symbol\"] = df[\"body\"].apply(lambda x: find_stock_symbols(x, final_stock_ticker_list))\n",
    "\n",
    "    # Drop unused columns\n",
    "    df.drop(columns=[\"created_utc\"], inplace=True)\n",
    "\n",
    "    # Rename columns as preparation for database\n",
    "    df.rename(columns={'score': 'num_up_votes', \"body\": \"post\"}, inplace=True)\n",
    "\n",
    "    # Write dataframe to database\n",
    "    df.to_sql(\"r_wallstreetbets\", cnx, index=False, if_exists=\"append\")\n",
    "\n",
    "    # Logging\n",
    "    logging.info(f\"{df.shape[0]} rows written to DB - Date: {dt.datetime.fromtimestamp(start_date)}\")\n",
    "    pbar.set_description(f\"{dt.datetime.fromtimestamp(start_date)}\")"
   ],
   "metadata": {
    "collapsed": false,
    "pycharm": {
     "name": "#%%\n"
    }
   }
  },
  {
   "cell_type": "code",
   "execution_count": 7,
   "outputs": [
    {
     "data": {
      "text/plain": "                    author                                               post  \\\n0             EatMeatPeeps                    Quick, relate it to the market!   \n1              Trex_in_F16                     De blasio more like de blasted   \n2                 oscart57                                   Just stop please   \n3                    Jtbny                                  I paid $12.75 per   \n4      1percentRolexWinner                                              Week?   \n...                    ...                                                ...   \n44731      phoenixmusicman                            We have to eject them 😡   \n44732               avelak  He's just trying to get people to accept his w...   \n44733           edibleblue  Oh yea saw them NYE Chicago... They opened the...   \n44734             mMounirM                                       etsy is rekt   \n44735            [deleted]                                          [removed]   \n\n       num_up_votes     type          created_at stock_symbol  \n0                11  comment 2021-08-04 01:11:57          NaN  \n1                 4  comment 2021-08-04 01:11:56          NaN  \n2                 1  comment 2021-08-04 01:11:54          NaN  \n3                 3  comment 2021-08-04 01:11:53          NaN  \n4                 1  comment 2021-08-04 01:11:51          NaN  \n...             ...      ...                 ...          ...  \n44731             1  comment 2021-08-04 23:16:31          NaN  \n44732             1  comment 2021-08-04 23:16:31          NaN  \n44733             1  comment 2021-08-04 22:06:14         [AL]  \n44734             1  comment 2021-08-04 22:06:14          NaN  \n44735             1  comment 2021-08-04 22:06:13          NaN  \n\n[44736 rows x 6 columns]",
      "text/html": "<div>\n<style scoped>\n    .dataframe tbody tr th:only-of-type {\n        vertical-align: middle;\n    }\n\n    .dataframe tbody tr th {\n        vertical-align: top;\n    }\n\n    .dataframe thead th {\n        text-align: right;\n    }\n</style>\n<table border=\"1\" class=\"dataframe\">\n  <thead>\n    <tr style=\"text-align: right;\">\n      <th></th>\n      <th>author</th>\n      <th>post</th>\n      <th>num_up_votes</th>\n      <th>type</th>\n      <th>created_at</th>\n      <th>stock_symbol</th>\n    </tr>\n  </thead>\n  <tbody>\n    <tr>\n      <th>0</th>\n      <td>EatMeatPeeps</td>\n      <td>Quick, relate it to the market!</td>\n      <td>11</td>\n      <td>comment</td>\n      <td>2021-08-04 01:11:57</td>\n      <td>NaN</td>\n    </tr>\n    <tr>\n      <th>1</th>\n      <td>Trex_in_F16</td>\n      <td>De blasio more like de blasted</td>\n      <td>4</td>\n      <td>comment</td>\n      <td>2021-08-04 01:11:56</td>\n      <td>NaN</td>\n    </tr>\n    <tr>\n      <th>2</th>\n      <td>oscart57</td>\n      <td>Just stop please</td>\n      <td>1</td>\n      <td>comment</td>\n      <td>2021-08-04 01:11:54</td>\n      <td>NaN</td>\n    </tr>\n    <tr>\n      <th>3</th>\n      <td>Jtbny</td>\n      <td>I paid $12.75 per</td>\n      <td>3</td>\n      <td>comment</td>\n      <td>2021-08-04 01:11:53</td>\n      <td>NaN</td>\n    </tr>\n    <tr>\n      <th>4</th>\n      <td>1percentRolexWinner</td>\n      <td>Week?</td>\n      <td>1</td>\n      <td>comment</td>\n      <td>2021-08-04 01:11:51</td>\n      <td>NaN</td>\n    </tr>\n    <tr>\n      <th>...</th>\n      <td>...</td>\n      <td>...</td>\n      <td>...</td>\n      <td>...</td>\n      <td>...</td>\n      <td>...</td>\n    </tr>\n    <tr>\n      <th>44731</th>\n      <td>phoenixmusicman</td>\n      <td>We have to eject them 😡</td>\n      <td>1</td>\n      <td>comment</td>\n      <td>2021-08-04 23:16:31</td>\n      <td>NaN</td>\n    </tr>\n    <tr>\n      <th>44732</th>\n      <td>avelak</td>\n      <td>He's just trying to get people to accept his w...</td>\n      <td>1</td>\n      <td>comment</td>\n      <td>2021-08-04 23:16:31</td>\n      <td>NaN</td>\n    </tr>\n    <tr>\n      <th>44733</th>\n      <td>edibleblue</td>\n      <td>Oh yea saw them NYE Chicago... They opened the...</td>\n      <td>1</td>\n      <td>comment</td>\n      <td>2021-08-04 22:06:14</td>\n      <td>[AL]</td>\n    </tr>\n    <tr>\n      <th>44734</th>\n      <td>mMounirM</td>\n      <td>etsy is rekt</td>\n      <td>1</td>\n      <td>comment</td>\n      <td>2021-08-04 22:06:14</td>\n      <td>NaN</td>\n    </tr>\n    <tr>\n      <th>44735</th>\n      <td>[deleted]</td>\n      <td>[removed]</td>\n      <td>1</td>\n      <td>comment</td>\n      <td>2021-08-04 22:06:13</td>\n      <td>NaN</td>\n    </tr>\n  </tbody>\n</table>\n<p>44736 rows × 6 columns</p>\n</div>"
     },
     "execution_count": 7,
     "metadata": {},
     "output_type": "execute_result"
    }
   ],
   "source": [
    "df"
   ],
   "metadata": {
    "collapsed": false,
    "pycharm": {
     "name": "#%%\n"
    }
   }
  },
  {
   "cell_type": "code",
   "execution_count": 14,
   "outputs": [
    {
     "data": {
      "text/plain": "array([[False, False, False, False, False,  True],\n       [False, False, False, False, False,  True],\n       [False, False, False, False, False,  True],\n       ...,\n       [False, False, False, False, False, False],\n       [False, False, False, False, False,  True],\n       [False, False, False, False, False,  True]])"
     },
     "execution_count": 14,
     "metadata": {},
     "output_type": "execute_result"
    }
   ],
   "source": [
    "df.isnull().values"
   ],
   "metadata": {
    "collapsed": false,
    "pycharm": {
     "name": "#%%\n"
    }
   }
  },
  {
   "cell_type": "code",
   "execution_count": 9,
   "outputs": [],
   "source": [
    "filters = ['author', 'created_utc', \"score\", \"body\"]"
   ],
   "metadata": {
    "collapsed": false,
    "pycharm": {
     "name": "#%%\n"
    }
   }
  },
  {
   "cell_type": "code",
   "execution_count": 16,
   "outputs": [
    {
     "data": {
      "text/plain": "0        False\n1        False\n2        False\n3        False\n4        False\n         ...  \n44731    False\n44732    False\n44733    False\n44734    False\n44735    False\nName: post, Length: 44736, dtype: bool"
     },
     "execution_count": 16,
     "metadata": {},
     "output_type": "execute_result"
    }
   ],
   "source": [
    "df[\"post\"].isnull()"
   ],
   "metadata": {
    "collapsed": false,
    "pycharm": {
     "name": "#%%\n"
    }
   }
  },
  {
   "cell_type": "code",
   "execution_count": 10,
   "outputs": [],
   "source": [
    "posts = data_prep_comments(api, \"wallstreetbets\", start_time=1619820000, end_time=1619906400, filters=filters)"
   ],
   "metadata": {
    "collapsed": false,
    "pycharm": {
     "name": "#%%\n"
    }
   }
  },
  {
   "cell_type": "code",
   "execution_count": 19,
   "outputs": [
    {
     "data": {
      "text/plain": "Empty DataFrame\nColumns: [author, post, num_up_votes, type, created_at, stock_symbol]\nIndex: []",
      "text/html": "<div>\n<style scoped>\n    .dataframe tbody tr th:only-of-type {\n        vertical-align: middle;\n    }\n\n    .dataframe tbody tr th {\n        vertical-align: top;\n    }\n\n    .dataframe thead th {\n        text-align: right;\n    }\n</style>\n<table border=\"1\" class=\"dataframe\">\n  <thead>\n    <tr style=\"text-align: right;\">\n      <th></th>\n      <th>author</th>\n      <th>post</th>\n      <th>num_up_votes</th>\n      <th>type</th>\n      <th>created_at</th>\n      <th>stock_symbol</th>\n    </tr>\n  </thead>\n  <tbody>\n  </tbody>\n</table>\n</div>"
     },
     "execution_count": 19,
     "metadata": {},
     "output_type": "execute_result"
    }
   ],
   "source": [
    "df[df[\"post\"].isna()]"
   ],
   "metadata": {
    "collapsed": false,
    "pycharm": {
     "name": "#%%\n"
    }
   }
  },
  {
   "cell_type": "code",
   "execution_count": 14,
   "outputs": [
    {
     "data": {
      "text/plain": "[{'author': 'Archdemon2212',\n  'body': 'Due diligence',\n  'created_utc': 1619822878,\n  'score': 1},\n {'author': 'JimCramersCoke',\n  'body': 'ocean water',\n  'created_utc': 1619822871,\n  'score': 4},\n {'author': 'Overdue_bills',\n  'body': 'Puts on Monday.',\n  'created_utc': 1619822869,\n  'score': 1},\n {'author': 'Horror-Lemon3200',\n  'body': 'Welcome! You found your home',\n  'created_utc': 1619822867,\n  'score': 2},\n {'author': 'get_MEAN_yall',\n  'body': 'I can trade until 8pm eastern. What broker do you use?',\n  'created_utc': 1619822866,\n  'score': 0},\n {'author': 'dulkion',\n  'body': 'And here I am preaching the GME gospel at Thanksgiving, and not buying in until January.  \\n\\nI need to listen to me more often.',\n  'created_utc': 1619822866,\n  'score': 2},\n {'author': 'SnooCauliflowers4003',\n  'body': 'its the best public college system in the country?',\n  'created_utc': 1619822864,\n  'score': 1},\n {'author': 'Forevergogo',\n  'body': \"Oh man, I'd be selling TSLA so fast.  Everyone knows its way overvalued.  Do they have potential?  Yah.  But so does like. Everyone.  \\nBut this is not financial advice, and neither are the 300 search results on google that agree with my opinion.\",\n  'created_utc': 1619822863,\n  'score': 2},\n {'author': '1worldterminal',\n  'body': 'Sold it at a loss',\n  'created_utc': 1619822861,\n  'score': 0},\n {'author': 'DapperDan_95',\n  'body': 'Who wants to raise DNN? Denison Mines chillin at $1.06',\n  'created_utc': 1619822858,\n  'score': 4},\n {'author': 'drunkwasabeherder',\n  'body': \"He's a retard, at least he got the right part of the world.\",\n  'created_utc': 1619822857,\n  'score': 3},\n {'author': 'riderrp82',\n  'body': 'best thing about doing it yourself is after u fuck it up three times on the way u are oretty much a pro when u are done',\n  'created_utc': 1619822857,\n  'score': 4},\n {'author': 'Eattherich1987',\n  'body': '?? BTX was going up all week, mooned Wednesday, pulled back Thursday, mooned today. MVIS was a play last week to sell Monday. You’re just not paying attention bud.',\n  'created_utc': 1619822856,\n  'score': 1},\n {'author': 'AbuLi0n',\n  'body': 'SAME! Drive me mad. I will dish out solid advice to others and I never actually put my chips on the table.',\n  'created_utc': 1619822856,\n  'score': 2},\n {'author': '[deleted]',\n  'body': '[removed]',\n  'created_utc': 1619822854,\n  'score': 1},\n {'author': 'magdellan',\n  'body': 'It’s a P&amp;D just look at the market cap',\n  'created_utc': 1619822853,\n  'score': 0},\n {'author': 'Waffle_Authority',\n  'body': 'If I just bought funny money all this time, I would be way up',\n  'created_utc': 1619822852,\n  'score': 3},\n {'author': 'JimCramersCoke',\n  'body': 'it’s friday night and i’m watching cramer. What the fuck is wrong with me',\n  'created_utc': 1619822850,\n  'score': 9},\n {'author': 'M_DIZ',\n  'body': 'this is the way !',\n  'created_utc': 1619822843,\n  'score': 2},\n {'author': 'JadedJared',\n  'body': 'Every email I get is titled “Last chance!” or something similar. I paid for the $99 a year option, is SA on top of that or included? Shit, I don’t even know what I paid for.',\n  'created_utc': 1619822843,\n  'score': 1},\n {'author': '3dprintsAnomus',\n  'body': 'May normally has some juice left in it but normally stays flat as fuck. \\n\\nMaybe 0.87% gain on average for the full month. \\n\\nNow June normally has a loss of ~0.21% from the start to the end of the month.\\n\\nThings may not pop off again until October.',\n  'created_utc': 1619822841,\n  'score': 2},\n {'author': 'Horror-Lemon3200',\n  'body': 'Boss',\n  'created_utc': 1619822841,\n  'score': 2},\n {'author': 'SnooCauliflowers4003',\n  'body': 'Medical is part of STEM right',\n  'created_utc': 1619822837,\n  'score': 1},\n {'author': 'Legitimate-Ad-7621',\n  'body': 'SYME is a fraud.\\nETWO has very attractive economics.',\n  'created_utc': 1619822835,\n  'score': 1},\n {'author': 'VisualMod',\n  'body': \"I am a bot from /r/wallstreetbets.                                You submitted one or more banned tickers: ZOM.\\n\\n                                Message /u/zjz if they're above 1.25 billion-ish market cap and not related to crypto/pennies/OTC/SPACs.\",\n  'created_utc': 1619822835,\n  'score': 1},\n {'author': 'Another_Name_Today',\n  'body': 'I invested in Chesapeake years ago at $35. Not as much as you here, but enough that I felt it. \\n\\nI’d show you my loss porn, but when they reverse split, my shares were so worthless I got cashed out by my broker. Who then charged me a reverse split fee that exceeded the sell price. \\n\\nPoint being, treasure this moment. Years from now when things are great, you’ll have photographic proof of how bad it got to temper your joy.',\n  'created_utc': 1619822834,\n  'score': 2},\n {'author': 'VermillionPutas',\n  'body': 'Paperhanding SNDL in the .85 to .95 range.\\nIt is working well so far.',\n  'created_utc': 1619822832,\n  'score': 0},\n {'author': 'freeportme',\n  'body': 'Ya I like first generation although there are some really nice super new pimped out ones. The average ones suck',\n  'created_utc': 1619822832,\n  'score': 1},\n {'author': 'shiverstar',\n  'body': 'Ice cold water after a long hike in the cold but sunny breeze.',\n  'created_utc': 1619822831,\n  'score': 6},\n {'author': 'gonnaitchwhenitdries',\n  'body': 'you really should be wondering if perhaps we aren’t that stupid after all. \\n\\nAlso, that’s not a lot of money in a retirement for my age. I won’t be able to retire on the trajectory I am on.',\n  'created_utc': 1619822828,\n  'score': 21},\n {'author': 'labancaneba',\n  'body': 'Fresh OJ',\n  'created_utc': 1619822827,\n  'score': 2},\n {'author': 'Jy_sunny',\n  'body': 'I was talking about calls. Poors like me can’t afford those :(',\n  'created_utc': 1619822826,\n  'score': 3},\n {'author': 'Quarter120',\n  'body': 'If i had a 401k id absolutely be doing this. This is the Winning Hand right here',\n  'created_utc': 1619822825,\n  'score': 15},\n {'author': 'BigboyJayjayjetplane',\n  'body': 'Im a property manager i can give you good estimates for those jobs the popcorn ceiling and drywall for 15k is absurd',\n  'created_utc': 1619822823,\n  'score': 2},\n {'author': 'StonkDoctor1000',\n  'body': 'Yes please',\n  'created_utc': 1619822822,\n  'score': 2},\n {'author': 'Perryswoman',\n  'body': 'I just saw a 1000 share order on level 2 @72.21 waiting to be filled',\n  'created_utc': 1619822820,\n  'score': 0},\n {'author': 'This-Engineering3277',\n  'body': 'Anyone who wants to play forest dm me',\n  'created_utc': 1619822819,\n  'score': 2},\n {'author': '[deleted]',\n  'body': '[removed]',\n  'created_utc': 1619822819,\n  'score': 1},\n {'author': 'Rk0',\n  'body': 'sir my casino is closed',\n  'created_utc': 1619822819,\n  'score': 0},\n {'author': 'bbq-ribs',\n  'body': 'I think I figuired out how the fed is calculating inflation.\\n\\n\\nI call it onlyinfaltion, they look that top 1% of onlyfans accounts. \\n\\nbasically if subscription fees go up, inflation.\\nif subscription fees go down then deflation.\\n\\n\\nOr this could be used to see the real effect of employment.',\n  'created_utc': 1619822814,\n  'score': 3},\n {'author': 'Tfti_',\n  'body': 'FYI Playboy still has room to run before 5/12 earnings',\n  'created_utc': 1619822812,\n  'score': 2},\n {'author': 'Glad-Egg-5672',\n  'body': 'Free. That’s like my kid’s lemonade stand. It’s free when you don’t have to pay for lemons or water or a jug or any supplies. Miners have to pay for equipment and electricity and staff and shit. It’s not Free.\\n\\nSide note: I’m giving you the benefit of the doubt that you were just bring flippant, but I’m a dad so I needed to correct you.',\n  'created_utc': 1619822810,\n  'score': 3},\n {'author': 'mingling4502',\n  'body': 'DISCA anyone?',\n  'created_utc': 1619822810,\n  'score': 1},\n {'author': 'fungi-seeking-fungis',\n  'body': 'God OP is a glorious ape. Thanks for this',\n  'created_utc': 1619822804,\n  'score': 1},\n {'author': 'kakawaka1',\n  'body': 'Lol for reference next time.... Pure ethanol wipes it off in one go without damaging your clear coat.\\nIt happened to my van one time',\n  'created_utc': 1619822804,\n  'score': 2},\n {'author': 'LSSCI',\n  'body': 'I had Twitter, I deleted it. Because it was an echo chamber. And from the outside looking in, it has only become much worse. \\nI love it when people assume that they are an expert in knowing things like why they are not on Twitter.\\n\\nHave a good day.',\n  'created_utc': 1619822803,\n  'score': 1},\n {'author': 'labancaneba',\n  'body': 'Buy puts on whatever people are euphoric over',\n  'created_utc': 1619822803,\n  'score': 3},\n {'author': '[deleted]',\n  'body': '[removed]',\n  'created_utc': 1619822801,\n  'score': 1},\n {'author': 'WeaponizedAutism12',\n  'body': 'Ban',\n  'created_utc': 1619822800,\n  'score': 3},\n {'author': 'ticklebadger1',\n  'body': 'Thank you!!',\n  'created_utc': 1619822789,\n  'score': 1},\n {'author': '[deleted]',\n  'body': '[removed]',\n  'created_utc': 1619822787,\n  'score': 2},\n {'author': 'Marvin1koz',\n  'body': 'My local dry cleaners made more money than MVIS during the pandemic.',\n  'created_utc': 1619822787,\n  'score': 21},\n {'author': 'get_MEAN_yall',\n  'body': 'Not if you sell your bags right now',\n  'created_utc': 1619822783,\n  'score': 1},\n {'author': 'Convergentshave',\n  'body': 'You’d probably get kicked out of here if you did....',\n  'created_utc': 1619822783,\n  'score': 2},\n {'author': 'WeaponizedAutism12',\n  'body': 'You cannot lump these under WSB plays, the apes form a portable echo chamber and it drowns everything else out',\n  'created_utc': 1619822781,\n  'score': 0},\n {'author': 'Eattherich1987',\n  'body': 'They’re hitting low bids to drive down the price.',\n  'created_utc': 1619822780,\n  'score': -1},\n {'author': 'Rebelwithacause970',\n  'body': 'Nice',\n  'created_utc': 1619822774,\n  'score': 4},\n {'author': 'Hardstucked',\n  'body': '🤡🤡🤡🤡',\n  'created_utc': 1619822774,\n  'score': -6},\n {'author': 'Palantaylor-swift',\n  'body': 'Lmao Are you me? 😎',\n  'created_utc': 1619822768,\n  'score': 4},\n {'author': 'VisualMod',\n  'body': 'I am a bot. A Gain/Loss/YOLO should be a picture of a closed gain, a closed loss, or an open position &gt; $2,500.',\n  'created_utc': 1619822764,\n  'score': 1},\n {'author': 'DawudM',\n  'body': 'What’s the best non-alcohol beverage you’ve had?',\n  'created_utc': 1619822763,\n  'score': 0},\n {'author': 'mold_motel',\n  'body': 'P&amp;D does not stand for peanut butter and dolphin sandwich.',\n  'created_utc': 1619822754,\n  'score': 2},\n {'author': 'Duffbeers71',\n  'body': 'By yourself',\n  'created_utc': 1619822747,\n  'score': 3},\n {'author': 'dvdr1029',\n  'body': 'To anyone who fomo’d into BTX, congratulations',\n  'created_utc': 1619822741,\n  'score': 3},\n {'author': 'Fckwalstreet',\n  'body': 'I think they should be at 12 back next week',\n  'created_utc': 1619822739,\n  'score': 2},\n {'author': 'TheCatnamedMittens',\n  'body': 'Altria is the best weed stock change my mind.',\n  'created_utc': 1619822731,\n  'score': 0},\n {'author': 'labancaneba',\n  'body': 'Remember when yolos would always be calls or puts, but never shares?',\n  'created_utc': 1619822729,\n  'score': 1},\n {'author': 'Overdue_bills',\n  'body': 'Work at a hedgefund.',\n  'created_utc': 1619822729,\n  'score': 10},\n {'author': 'LameOne',\n  'body': \"I also haven't been shot before.\",\n  'created_utc': 1619822728,\n  'score': 35},\n {'author': 'Lonely_Writer_1883',\n  'body': 'right! i have to eat them just to trip and imagine i have that kind of loot',\n  'created_utc': 1619822722,\n  'score': 1},\n {'author': 'Donkeycow15',\n  'body': 'Tell them to fuck off man. If you have a friend in the building trade talk to him and pay cash. He’ll get his mates to do it at the weekend for half that.',\n  'created_utc': 1619822719,\n  'score': 3},\n {'author': 'MuratCey',\n  'body': 'This is the way 🚀🚀🚀',\n  'created_utc': 1619822715,\n  'score': 1},\n {'author': 'Admirable-Weakness52',\n  'body': 'in for 105 shares!',\n  'created_utc': 1619822714,\n  'score': 1},\n {'author': 'ionmeeler',\n  'body': 'Hm, it shouldn’t have it, but it’s possible so yeah best to get it tested. Though I’d assume there would be some type of disclosure when you bought it if it did',\n  'created_utc': 1619822714,\n  'score': 1},\n {'author': 'Chunkifunkeye',\n  'body': 'How old r u?',\n  'created_utc': 1619822711,\n  'score': 3},\n {'author': 'Scorpio11777',\n  'body': \"Notify me if you find my money, it's missing.\",\n  'created_utc': 1619822711,\n  'score': 3},\n {'author': 'freeportme', 'body': '💼👜', 'created_utc': 1619822708, 'score': 2},\n {'author': 'footlong24seven',\n  'body': 'Rookie numbers man',\n  'created_utc': 1619822708,\n  'score': 1},\n {'author': 'L3t5G000',\n  'body': \"30 Jan 2022 $70 calls and 30 Jan 2023 $100 calls.. i'm ready.\",\n  'created_utc': 1619822707,\n  'score': 11},\n {'author': 'Admirable-Weakness52',\n  'body': 'in for 150 shares!',\n  'created_utc': 1619822703,\n  'score': 4},\n {'author': 'assnuuut',\n  'body': 'Godspeed retard.... Godspeed....',\n  'created_utc': 1619822700,\n  'score': 3},\n {'author': 'MuratCey',\n  'body': 'This is the way 🚀🚀🚀',\n  'created_utc': 1619822694,\n  'score': 1},\n {'author': '[deleted]',\n  'body': '[removed]',\n  'created_utc': 1619822693,\n  'score': 2},\n {'author': 'No_Instruction5780',\n  'body': 'Serving up a hot beverage.',\n  'created_utc': 1619822692,\n  'score': 1},\n {'author': 'shiverstar',\n  'body': \"They are not going to recover any time soon, and they're a boomer dividend machine so they won't crash too much more. Maybe an iron condor or something similar.\",\n  'created_utc': 1619822691,\n  'score': 1},\n {'author': 'HydrocodonesForAll',\n  'body': \"I mean you *are* rich by some means. Did you know 2.3 billion people on earth still use a pit latrine as their primary toilet? If fecal sludge management is not a *serious* issue in your country, you ARE richer than most people in the world. And having at least 88k in liquidity makes you richer than most of the people left. It's important we don't lose sight of how lucky we really are\",\n  'created_utc': 1619822691,\n  'score': 5},\n {'author': 'Superfiend78',\n  'body': 'Y’all underestimating that dirty rag $PLBY\\nWHO ELSE IS IN DM ME',\n  'created_utc': 1619822691,\n  'score': 3},\n {'author': 'VisualMod',\n  'body': \"I am a bot. Don't just post the Robinhood front page or an equivalently useless screenshot. Positions or GTFO.\",\n  'created_utc': 1619822690,\n  'score': 1},\n {'author': 'AdvertisingOne215',\n  'body': 'Dead stock',\n  'created_utc': 1619822690,\n  'score': 3},\n {'author': '[deleted]',\n  'body': '[removed]',\n  'created_utc': 1619822686,\n  'score': 0},\n {'author': 'VisualMod',\n  'body': \"I am a bot. You submitted a picture of a banned ticker, PSTV.                            Yell at /u/zjz if it's above 1 billion-ish market cap and not related to crypto/pennies/OTC/SPACs.\",\n  'created_utc': 1619822683,\n  'score': 1},\n {'author': 'isthisquora',\n  'body': 'Or both',\n  'created_utc': 1619822682,\n  'score': 1},\n {'author': 'letsgetapplebees',\n  'body': 'I’m just bored and tryin to get a date for tomorrow',\n  'created_utc': 1619822682,\n  'score': 0},\n {'author': '[deleted]',\n  'body': '[removed]',\n  'created_utc': 1619822681,\n  'score': 1},\n {'author': 'Life_Breath',\n  'body': 'I am from North Korea, no joke.',\n  'created_utc': 1619822680,\n  'score': 4},\n {'author': 'fpcane305',\n  'body': 'Cool story Bro....lol',\n  'created_utc': 1619822679,\n  'score': 1},\n {'author': 'fkgaslighters',\n  'body': 'This video made my day lmao',\n  'created_utc': 1619822679,\n  'score': 1},\n {'author': 'Top_Caramel5267',\n  'body': 'Worlds are colliding',\n  'created_utc': 1619822674,\n  'score': 2},\n {'author': 'letsgetapplebees',\n  'body': 'I like to show up on zoom in my pjs and beanie',\n  'created_utc': 1619822671,\n  'score': 1},\n {'author': 'Forevergogo',\n  'body': \"This is why ameritrade won't let me play with call options, they know I'm a stupid ape and I'd just piss it all on memes.\",\n  'created_utc': 1619822668,\n  'score': 1}]"
     },
     "execution_count": 14,
     "metadata": {},
     "output_type": "execute_result"
    }
   ],
   "source": [
    "posts"
   ],
   "metadata": {
    "collapsed": false,
    "pycharm": {
     "name": "#%%\n"
    }
   }
  },
  {
   "cell_type": "code",
   "execution_count": 15,
   "outputs": [
    {
     "data": {
      "text/plain": "              author                                               body  \\\n0      Archdemon2212                                      Due diligence   \n1     JimCramersCoke                                        ocean water   \n2      Overdue_bills                                    Puts on Monday.   \n3   Horror-Lemon3200                       Welcome! You found your home   \n4      get_MEAN_yall  I can trade until 8pm eastern. What broker do ...   \n..               ...                                                ...   \n95         fpcane305                              Cool story Bro....lol   \n96     fkgaslighters                        This video made my day lmao   \n97   Top_Caramel5267                               Worlds are colliding   \n98  letsgetapplebees     I like to show up on zoom in my pjs and beanie   \n99       Forevergogo  This is why ameritrade won't let me play with ...   \n\n    created_utc  score  \n0    1619822878      1  \n1    1619822871      4  \n2    1619822869      1  \n3    1619822867      2  \n4    1619822866      0  \n..          ...    ...  \n95   1619822679      1  \n96   1619822679      1  \n97   1619822674      2  \n98   1619822671      1  \n99   1619822668      1  \n\n[100 rows x 4 columns]",
      "text/html": "<div>\n<style scoped>\n    .dataframe tbody tr th:only-of-type {\n        vertical-align: middle;\n    }\n\n    .dataframe tbody tr th {\n        vertical-align: top;\n    }\n\n    .dataframe thead th {\n        text-align: right;\n    }\n</style>\n<table border=\"1\" class=\"dataframe\">\n  <thead>\n    <tr style=\"text-align: right;\">\n      <th></th>\n      <th>author</th>\n      <th>body</th>\n      <th>created_utc</th>\n      <th>score</th>\n    </tr>\n  </thead>\n  <tbody>\n    <tr>\n      <th>0</th>\n      <td>Archdemon2212</td>\n      <td>Due diligence</td>\n      <td>1619822878</td>\n      <td>1</td>\n    </tr>\n    <tr>\n      <th>1</th>\n      <td>JimCramersCoke</td>\n      <td>ocean water</td>\n      <td>1619822871</td>\n      <td>4</td>\n    </tr>\n    <tr>\n      <th>2</th>\n      <td>Overdue_bills</td>\n      <td>Puts on Monday.</td>\n      <td>1619822869</td>\n      <td>1</td>\n    </tr>\n    <tr>\n      <th>3</th>\n      <td>Horror-Lemon3200</td>\n      <td>Welcome! You found your home</td>\n      <td>1619822867</td>\n      <td>2</td>\n    </tr>\n    <tr>\n      <th>4</th>\n      <td>get_MEAN_yall</td>\n      <td>I can trade until 8pm eastern. What broker do ...</td>\n      <td>1619822866</td>\n      <td>0</td>\n    </tr>\n    <tr>\n      <th>...</th>\n      <td>...</td>\n      <td>...</td>\n      <td>...</td>\n      <td>...</td>\n    </tr>\n    <tr>\n      <th>95</th>\n      <td>fpcane305</td>\n      <td>Cool story Bro....lol</td>\n      <td>1619822679</td>\n      <td>1</td>\n    </tr>\n    <tr>\n      <th>96</th>\n      <td>fkgaslighters</td>\n      <td>This video made my day lmao</td>\n      <td>1619822679</td>\n      <td>1</td>\n    </tr>\n    <tr>\n      <th>97</th>\n      <td>Top_Caramel5267</td>\n      <td>Worlds are colliding</td>\n      <td>1619822674</td>\n      <td>2</td>\n    </tr>\n    <tr>\n      <th>98</th>\n      <td>letsgetapplebees</td>\n      <td>I like to show up on zoom in my pjs and beanie</td>\n      <td>1619822671</td>\n      <td>1</td>\n    </tr>\n    <tr>\n      <th>99</th>\n      <td>Forevergogo</td>\n      <td>This is why ameritrade won't let me play with ...</td>\n      <td>1619822668</td>\n      <td>1</td>\n    </tr>\n  </tbody>\n</table>\n<p>100 rows × 4 columns</p>\n</div>"
     },
     "execution_count": 15,
     "metadata": {},
     "output_type": "execute_result"
    }
   ],
   "source": [
    "pd.DataFrame(posts)"
   ],
   "metadata": {
    "collapsed": false,
    "pycharm": {
     "name": "#%%\n"
    }
   }
  },
  {
   "cell_type": "code",
   "execution_count": 27,
   "outputs": [
    {
     "data": {
      "text/plain": "                     author  \\\n14685  OrangePrestigious168   \n\n                                                    post  num_up_votes  \\\n14685  Give love to the growers and come to Scott's m...             2   \n\n          type          created_at stock_symbol  \n14685  comment 2021-08-04 20:10:01          NaN  ",
      "text/html": "<div>\n<style scoped>\n    .dataframe tbody tr th:only-of-type {\n        vertical-align: middle;\n    }\n\n    .dataframe tbody tr th {\n        vertical-align: top;\n    }\n\n    .dataframe thead th {\n        text-align: right;\n    }\n</style>\n<table border=\"1\" class=\"dataframe\">\n  <thead>\n    <tr style=\"text-align: right;\">\n      <th></th>\n      <th>author</th>\n      <th>post</th>\n      <th>num_up_votes</th>\n      <th>type</th>\n      <th>created_at</th>\n      <th>stock_symbol</th>\n    </tr>\n  </thead>\n  <tbody>\n    <tr>\n      <th>14685</th>\n      <td>OrangePrestigious168</td>\n      <td>Give love to the growers and come to Scott's m...</td>\n      <td>2</td>\n      <td>comment</td>\n      <td>2021-08-04 20:10:01</td>\n      <td>NaN</td>\n    </tr>\n  </tbody>\n</table>\n</div>"
     },
     "execution_count": 27,
     "metadata": {},
     "output_type": "execute_result"
    }
   ],
   "source": [
    "df[df[\"post\"].str.contains(\"\\x00\")]"
   ],
   "metadata": {
    "collapsed": false,
    "pycharm": {
     "name": "#%%\n"
    }
   }
  },
  {
   "cell_type": "code",
   "execution_count": 30,
   "outputs": [
    {
     "data": {
      "text/plain": "14685    Give love to the growers and come to Scott's m...\nName: post, dtype: object"
     },
     "execution_count": 30,
     "metadata": {},
     "output_type": "execute_result"
    }
   ],
   "source": [
    "df[df[\"post\"].str.contains(\"\\x00\")][\"post\"]"
   ],
   "metadata": {
    "collapsed": false,
    "pycharm": {
     "name": "#%%\n"
    }
   }
  },
  {
   "cell_type": "code",
   "execution_count": 38,
   "outputs": [
    {
     "data": {
      "text/plain": "14685    Give love to the growers and come to Scott's m...\nName: post, dtype: object"
     },
     "execution_count": 38,
     "metadata": {},
     "output_type": "execute_result"
    }
   ],
   "source": [
    "df[df[\"post\"].str.contains(\"\\x00\")][\"post\"]"
   ],
   "metadata": {
    "collapsed": false,
    "pycharm": {
     "name": "#%%\n"
    }
   }
  },
  {
   "cell_type": "code",
   "execution_count": 42,
   "outputs": [],
   "source": [
    "df_cleaned = df.drop(df.loc[df[\"post\"].str.contains(\"\\x00\")].index)"
   ],
   "metadata": {
    "collapsed": false,
    "pycharm": {
     "name": "#%%\n"
    }
   }
  },
  {
   "cell_type": "code",
   "execution_count": 43,
   "outputs": [
    {
     "data": {
      "text/plain": "                    author                                               post  \\\n0             EatMeatPeeps                    Quick, relate it to the market!   \n1              Trex_in_F16                     De blasio more like de blasted   \n2                 oscart57                                   Just stop please   \n3                    Jtbny                                  I paid $12.75 per   \n4      1percentRolexWinner                                              Week?   \n...                    ...                                                ...   \n44731      phoenixmusicman                            We have to eject them 😡   \n44732               avelak  He's just trying to get people to accept his w...   \n44733           edibleblue  Oh yea saw them NYE Chicago... They opened the...   \n44734             mMounirM                                       etsy is rekt   \n44735            [deleted]                                          [removed]   \n\n       num_up_votes     type          created_at stock_symbol  \n0                11  comment 2021-08-04 01:11:57          NaN  \n1                 4  comment 2021-08-04 01:11:56          NaN  \n2                 1  comment 2021-08-04 01:11:54          NaN  \n3                 3  comment 2021-08-04 01:11:53          NaN  \n4                 1  comment 2021-08-04 01:11:51          NaN  \n...             ...      ...                 ...          ...  \n44731             1  comment 2021-08-04 23:16:31          NaN  \n44732             1  comment 2021-08-04 23:16:31          NaN  \n44733             1  comment 2021-08-04 22:06:14         [AL]  \n44734             1  comment 2021-08-04 22:06:14          NaN  \n44735             1  comment 2021-08-04 22:06:13          NaN  \n\n[44735 rows x 6 columns]",
      "text/html": "<div>\n<style scoped>\n    .dataframe tbody tr th:only-of-type {\n        vertical-align: middle;\n    }\n\n    .dataframe tbody tr th {\n        vertical-align: top;\n    }\n\n    .dataframe thead th {\n        text-align: right;\n    }\n</style>\n<table border=\"1\" class=\"dataframe\">\n  <thead>\n    <tr style=\"text-align: right;\">\n      <th></th>\n      <th>author</th>\n      <th>post</th>\n      <th>num_up_votes</th>\n      <th>type</th>\n      <th>created_at</th>\n      <th>stock_symbol</th>\n    </tr>\n  </thead>\n  <tbody>\n    <tr>\n      <th>0</th>\n      <td>EatMeatPeeps</td>\n      <td>Quick, relate it to the market!</td>\n      <td>11</td>\n      <td>comment</td>\n      <td>2021-08-04 01:11:57</td>\n      <td>NaN</td>\n    </tr>\n    <tr>\n      <th>1</th>\n      <td>Trex_in_F16</td>\n      <td>De blasio more like de blasted</td>\n      <td>4</td>\n      <td>comment</td>\n      <td>2021-08-04 01:11:56</td>\n      <td>NaN</td>\n    </tr>\n    <tr>\n      <th>2</th>\n      <td>oscart57</td>\n      <td>Just stop please</td>\n      <td>1</td>\n      <td>comment</td>\n      <td>2021-08-04 01:11:54</td>\n      <td>NaN</td>\n    </tr>\n    <tr>\n      <th>3</th>\n      <td>Jtbny</td>\n      <td>I paid $12.75 per</td>\n      <td>3</td>\n      <td>comment</td>\n      <td>2021-08-04 01:11:53</td>\n      <td>NaN</td>\n    </tr>\n    <tr>\n      <th>4</th>\n      <td>1percentRolexWinner</td>\n      <td>Week?</td>\n      <td>1</td>\n      <td>comment</td>\n      <td>2021-08-04 01:11:51</td>\n      <td>NaN</td>\n    </tr>\n    <tr>\n      <th>...</th>\n      <td>...</td>\n      <td>...</td>\n      <td>...</td>\n      <td>...</td>\n      <td>...</td>\n      <td>...</td>\n    </tr>\n    <tr>\n      <th>44731</th>\n      <td>phoenixmusicman</td>\n      <td>We have to eject them 😡</td>\n      <td>1</td>\n      <td>comment</td>\n      <td>2021-08-04 23:16:31</td>\n      <td>NaN</td>\n    </tr>\n    <tr>\n      <th>44732</th>\n      <td>avelak</td>\n      <td>He's just trying to get people to accept his w...</td>\n      <td>1</td>\n      <td>comment</td>\n      <td>2021-08-04 23:16:31</td>\n      <td>NaN</td>\n    </tr>\n    <tr>\n      <th>44733</th>\n      <td>edibleblue</td>\n      <td>Oh yea saw them NYE Chicago... They opened the...</td>\n      <td>1</td>\n      <td>comment</td>\n      <td>2021-08-04 22:06:14</td>\n      <td>[AL]</td>\n    </tr>\n    <tr>\n      <th>44734</th>\n      <td>mMounirM</td>\n      <td>etsy is rekt</td>\n      <td>1</td>\n      <td>comment</td>\n      <td>2021-08-04 22:06:14</td>\n      <td>NaN</td>\n    </tr>\n    <tr>\n      <th>44735</th>\n      <td>[deleted]</td>\n      <td>[removed]</td>\n      <td>1</td>\n      <td>comment</td>\n      <td>2021-08-04 22:06:13</td>\n      <td>NaN</td>\n    </tr>\n  </tbody>\n</table>\n<p>44735 rows × 6 columns</p>\n</div>"
     },
     "execution_count": 43,
     "metadata": {},
     "output_type": "execute_result"
    }
   ],
   "source": [
    "df_cleaned"
   ],
   "metadata": {
    "collapsed": false,
    "pycharm": {
     "name": "#%%\n"
    }
   }
  },
  {
   "cell_type": "code",
   "execution_count": 44,
   "outputs": [
    {
     "data": {
      "text/plain": "735"
     },
     "execution_count": 44,
     "metadata": {},
     "output_type": "execute_result"
    }
   ],
   "source": [
    "df_cleaned.to_sql(\"r_wallstreetbets\", cnx, index=False, if_exists=\"append\")"
   ],
   "metadata": {
    "collapsed": false,
    "pycharm": {
     "name": "#%%\n"
    }
   }
  },
  {
   "cell_type": "code",
   "execution_count": null,
   "outputs": [],
   "source": [],
   "metadata": {
    "collapsed": false,
    "pycharm": {
     "name": "#%%\n"
    }
   }
  }
 ],
 "metadata": {
  "kernelspec": {
   "name": "thesis",
   "language": "python",
   "display_name": "thesis"
  },
  "language_info": {
   "codemirror_mode": {
    "name": "ipython",
    "version": 2
   },
   "file_extension": ".py",
   "mimetype": "text/x-python",
   "name": "python",
   "nbconvert_exporter": "python",
   "pygments_lexer": "ipython2",
   "version": "2.7.6"
  }
 },
 "nbformat": 4,
 "nbformat_minor": 0
}