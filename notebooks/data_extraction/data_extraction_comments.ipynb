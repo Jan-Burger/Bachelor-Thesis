{
 "cells": [
  {
   "cell_type": "markdown",
   "source": [
    "## 1. Imports and config"
   ],
   "metadata": {
    "collapsed": false,
    "pycharm": {
     "name": "#%% md\n"
    }
   }
  },
  {
   "cell_type": "code",
   "execution_count": 1,
   "metadata": {
    "collapsed": true,
    "pycharm": {
     "name": "#%%\n"
    }
   },
   "outputs": [],
   "source": [
    "import datetime as dt\n",
    "import warnings\n",
    "import yaml\n",
    "import logging\n",
    "import pywhatkit\n",
    "import pandas as pd\n",
    "from pmaw import PushshiftAPI\n",
    "from tqdm import tqdm\n",
    "from sqlalchemy import create_engine\n",
    "from data_extraction_utils import data_prep_posts, join_submission_title_and_body, find_stock_symbols, data_prep_comments\n",
    "warnings.filterwarnings(\"ignore\")"
   ]
  },
  {
   "cell_type": "code",
   "execution_count": 2,
   "outputs": [],
   "source": [
    "# Specify logging settings\n",
    "logging.basicConfig(filename='comments.log', level=logging.INFO, filemode=\"a\", format=\"%(asctime)s - %(levelname)s - %(message)s\")"
   ],
   "metadata": {
    "collapsed": false,
    "pycharm": {
     "name": "#%%\n"
    }
   }
  },
  {
   "cell_type": "markdown",
   "source": [
    "## 2. Database configuration"
   ],
   "metadata": {
    "collapsed": false,
    "pycharm": {
     "name": "#%% md\n"
    }
   }
  },
  {
   "cell_type": "code",
   "execution_count": 3,
   "outputs": [],
   "source": [
    "# Reading form config.yaml\"\n",
    "with open(\"../../config.yaml\", \"r\") as yamlconfig:\n",
    "    config = yaml.load(yamlconfig, Loader=yaml.FullLoader)\n",
    "\n",
    "# Create postgres string with db-config\n",
    "postgres_username = config[\"db_config\"][\"postgres_username\"]\n",
    "postgres_password = config[\"db_config\"][\"postgres_password\"]\n",
    "postgres_address = config[\"db_config\"][\"postgres_address\"]\n",
    "postgres_port = config[\"db_config\"][\"postgres_port\"]\n",
    "postgres_dbname = config[\"db_config\"][\"postgres_dbname\"]\n",
    "\n",
    "postgres_str = f\"postgresql://{postgres_username}:{postgres_password}@{postgres_address}:{postgres_port}/{postgres_dbname}\"\n",
    "\n",
    "# create db connection with sqlalchemy\n",
    "cnx = create_engine(postgres_str)"
   ],
   "metadata": {
    "collapsed": false,
    "pycharm": {
     "name": "#%%\n"
    }
   }
  },
  {
   "cell_type": "markdown",
   "source": [
    "## 3. Create stock symbol list"
   ],
   "metadata": {
    "collapsed": false,
    "pycharm": {
     "name": "#%% md\n"
    }
   }
  },
  {
   "cell_type": "code",
   "execution_count": 4,
   "outputs": [],
   "source": [
    "# load stock list and transform it into a set\n",
    "stock_ticker_list = pd.read_excel(\"../../data/external/stock_ticker_list.xlsx\")[\"symbol\"].to_list()\n",
    "\n",
    "# Modified second stock list with dollar sign\n",
    "stock_ticker_list_with_dollar_sign = [f\"${ticker}\" for ticker in stock_ticker_list]\n",
    "\n",
    "# Combine the two lists to one set\n",
    "final_stock_ticker_list = set(stock_ticker_list + stock_ticker_list_with_dollar_sign)"
   ],
   "metadata": {
    "collapsed": false,
    "pycharm": {
     "name": "#%%\n"
    }
   }
  },
  {
   "cell_type": "markdown",
   "source": [
    "## 4. Extract Comments from reddit"
   ],
   "metadata": {
    "collapsed": false,
    "pycharm": {
     "name": "#%% md\n"
    }
   }
  },
  {
   "cell_type": "code",
   "execution_count": 5,
   "outputs": [],
   "source": [
    "# Set date range to extract the data from the API\n",
    "start = dt.datetime.strptime(\"05-08-2021\", \"%d-%m-%Y\")\n",
    "end = dt.datetime.strptime(\"01-05-2022\", \"%d-%m-%Y\")\n",
    "timestamp_list = [int((start + dt.timedelta(days=x)).timestamp()) for x in range(0, (end-start).days +1)]\n",
    "\n",
    "# Reddit API Object\n",
    "api = PushshiftAPI(num_workers=60, batch_size=60)"
   ],
   "metadata": {
    "collapsed": false,
    "pycharm": {
     "name": "#%%\n"
    }
   }
  },
  {
   "cell_type": "code",
   "execution_count": 6,
   "outputs": [
    {
     "name": "stderr",
     "output_type": "stream",
     "text": [
      "2022-04-30 00:00:00: 100%|██████████| 269/269 [33:50:55<00:00, 452.99s/it]   \n"
     ]
    }
   ],
   "source": [
    "try:\n",
    "    # loop over list of timestamps\n",
    "    for i in (pbar := tqdm(range(len(timestamp_list) -1))):\n",
    "\n",
    "        # Set start date and end date\n",
    "        start_date = timestamp_list[i]\n",
    "        end_date = timestamp_list[i + 1]\n",
    "\n",
    "        # Specify data to extract from reddit\n",
    "        filters = ['author', 'created_utc', \"score\", \"body\"]\n",
    "\n",
    "        # Call API function to retrieve data from reddit as a dataframe\n",
    "        df = data_prep_comments(api, \"wallstreetbets\", start_time=start_date, end_time=end_date, filters=filters)\n",
    "\n",
    "        # If response from API is empty -> Note that we have missing data for that day and continue\n",
    "        if len(df) == 0:\n",
    "            print(f\"Missing Data for: {dt.datetime.fromtimestamp(start_date)}\")\n",
    "            logging.info(f\"{df.shape[0]} rows written to DB - Date: {dt.datetime.fromtimestamp(start_date)}\")\n",
    "            pbar.set_description(f\"{dt.datetime.fromtimestamp(start_date)}\")\n",
    "            continue\n",
    "\n",
    "        # Transform timestamp into datetime column\n",
    "        df[\"created_at\"] = df[\"created_utc\"].apply(lambda x: dt.datetime.fromtimestamp(x))\n",
    "\n",
    "        # Get stock symbol from reddit post if available\n",
    "        df[\"stock_symbol\"] = df[\"body\"].apply(lambda x: find_stock_symbols(x, final_stock_ticker_list))\n",
    "\n",
    "        # Drop unused columns\n",
    "        df.drop(columns=[\"created_utc\"], inplace=True)\n",
    "\n",
    "        # Rename columns as preparation for database\n",
    "        df.rename(columns={'score': 'num_up_votes', \"body\": \"post\"}, inplace=True)\n",
    "\n",
    "        # Write dataframe to database\n",
    "        df.to_sql(\"r_wallstreetbets\", cnx, index=False, if_exists=\"append\")\n",
    "\n",
    "        # Logging\n",
    "        logging.info(f\"{df.shape[0]} rows written to DB - Date: {dt.datetime.fromtimestamp(start_date)}\")\n",
    "        pbar.set_description(f\"{dt.datetime.fromtimestamp(start_date)}\")\n",
    "\n",
    "except Exception as e:\n",
    "    now = dt.datetime.now().time()  #time object\n",
    "    pywhatkit.sendwhatmsg(\"\", f\"ERROR - {e}\", time_hour=now.hour, time_min=now.minute+2)"
   ],
   "metadata": {
    "collapsed": false,
    "pycharm": {
     "name": "#%%\n"
    }
   }
  },
  {
   "cell_type": "code",
   "execution_count": 2,
   "outputs": [
    {
     "ename": "NameError",
     "evalue": "name 'start_date' is not defined",
     "output_type": "error",
     "traceback": [
      "\u001B[1;31m---------------------------------------------------------------------------\u001B[0m",
      "\u001B[1;31mNameError\u001B[0m                                 Traceback (most recent call last)",
      "Input \u001B[1;32mIn [2]\u001B[0m, in \u001B[0;36m<cell line: 1>\u001B[1;34m()\u001B[0m\n\u001B[1;32m----> 1\u001B[0m \u001B[43mstart_date\u001B[49m\n",
      "\u001B[1;31mNameError\u001B[0m: name 'start_date' is not defined"
     ]
    }
   ],
   "source": [
    "start_date"
   ],
   "metadata": {
    "collapsed": false,
    "pycharm": {
     "name": "#%%\n"
    }
   }
  },
  {
   "cell_type": "code",
   "execution_count": null,
   "outputs": [],
   "source": [
    "end_date"
   ],
   "metadata": {
    "collapsed": false,
    "pycharm": {
     "name": "#%%\n"
    }
   }
  },
  {
   "cell_type": "code",
   "execution_count": 9,
   "outputs": [],
   "source": [
    "filters = ['author', 'created_utc', \"score\", \"body\"]"
   ],
   "metadata": {
    "collapsed": false,
    "pycharm": {
     "name": "#%%\n"
    }
   }
  },
  {
   "cell_type": "code",
   "execution_count": 8,
   "outputs": [
    {
     "data": {
      "text/plain": "[1619820000,\n 1619906400,\n 1619992800,\n 1620079200,\n 1620165600,\n 1620252000,\n 1620338400,\n 1620424800,\n 1620511200,\n 1620597600,\n 1620684000,\n 1620770400,\n 1620856800,\n 1620943200,\n 1621029600,\n 1621116000,\n 1621202400,\n 1621288800,\n 1621375200,\n 1621461600,\n 1621548000,\n 1621634400,\n 1621720800,\n 1621807200,\n 1621893600,\n 1621980000,\n 1622066400,\n 1622152800,\n 1622239200,\n 1622325600,\n 1622412000,\n 1622498400,\n 1622584800,\n 1622671200,\n 1622757600,\n 1622844000,\n 1622930400,\n 1623016800,\n 1623103200,\n 1623189600,\n 1623276000,\n 1623362400,\n 1623448800,\n 1623535200,\n 1623621600,\n 1623708000,\n 1623794400,\n 1623880800,\n 1623967200,\n 1624053600,\n 1624140000,\n 1624226400,\n 1624312800,\n 1624399200,\n 1624485600,\n 1624572000,\n 1624658400,\n 1624744800,\n 1624831200,\n 1624917600,\n 1625004000,\n 1625090400,\n 1625176800,\n 1625263200,\n 1625349600,\n 1625436000,\n 1625522400,\n 1625608800,\n 1625695200,\n 1625781600,\n 1625868000,\n 1625954400,\n 1626040800,\n 1626127200,\n 1626213600,\n 1626300000,\n 1626386400,\n 1626472800,\n 1626559200,\n 1626645600,\n 1626732000,\n 1626818400,\n 1626904800,\n 1626991200,\n 1627077600,\n 1627164000,\n 1627250400,\n 1627336800,\n 1627423200,\n 1627509600,\n 1627596000,\n 1627682400,\n 1627768800,\n 1627855200,\n 1627941600,\n 1628028000,\n 1628114400,\n 1628200800,\n 1628287200,\n 1628373600,\n 1628460000,\n 1628546400,\n 1628632800,\n 1628719200,\n 1628805600,\n 1628892000,\n 1628978400,\n 1629064800,\n 1629151200,\n 1629237600,\n 1629324000,\n 1629410400,\n 1629496800,\n 1629583200,\n 1629669600,\n 1629756000,\n 1629842400,\n 1629928800,\n 1630015200,\n 1630101600,\n 1630188000,\n 1630274400,\n 1630360800,\n 1630447200,\n 1630533600,\n 1630620000,\n 1630706400,\n 1630792800,\n 1630879200,\n 1630965600,\n 1631052000,\n 1631138400,\n 1631224800,\n 1631311200,\n 1631397600,\n 1631484000,\n 1631570400,\n 1631656800,\n 1631743200,\n 1631829600,\n 1631916000,\n 1632002400,\n 1632088800,\n 1632175200,\n 1632261600,\n 1632348000,\n 1632434400,\n 1632520800,\n 1632607200,\n 1632693600,\n 1632780000,\n 1632866400,\n 1632952800,\n 1633039200,\n 1633125600,\n 1633212000,\n 1633298400,\n 1633384800,\n 1633471200,\n 1633557600,\n 1633644000,\n 1633730400,\n 1633816800,\n 1633903200,\n 1633989600,\n 1634076000,\n 1634162400,\n 1634248800,\n 1634335200,\n 1634421600,\n 1634508000,\n 1634594400,\n 1634680800,\n 1634767200,\n 1634853600,\n 1634940000,\n 1635026400,\n 1635112800,\n 1635199200,\n 1635285600,\n 1635372000,\n 1635458400,\n 1635544800,\n 1635631200,\n 1635721200,\n 1635807600,\n 1635894000,\n 1635980400,\n 1636066800,\n 1636153200,\n 1636239600,\n 1636326000,\n 1636412400,\n 1636498800,\n 1636585200,\n 1636671600,\n 1636758000,\n 1636844400,\n 1636930800,\n 1637017200,\n 1637103600,\n 1637190000,\n 1637276400,\n 1637362800,\n 1637449200,\n 1637535600,\n 1637622000,\n 1637708400,\n 1637794800,\n 1637881200,\n 1637967600,\n 1638054000,\n 1638140400,\n 1638226800,\n 1638313200,\n 1638399600,\n 1638486000,\n 1638572400,\n 1638658800,\n 1638745200,\n 1638831600,\n 1638918000,\n 1639004400,\n 1639090800,\n 1639177200,\n 1639263600,\n 1639350000,\n 1639436400,\n 1639522800,\n 1639609200,\n 1639695600,\n 1639782000,\n 1639868400,\n 1639954800,\n 1640041200,\n 1640127600,\n 1640214000,\n 1640300400,\n 1640386800,\n 1640473200,\n 1640559600,\n 1640646000,\n 1640732400,\n 1640818800,\n 1640905200,\n 1640991600,\n 1641078000,\n 1641164400,\n 1641250800,\n 1641337200,\n 1641423600,\n 1641510000,\n 1641596400,\n 1641682800,\n 1641769200,\n 1641855600,\n 1641942000,\n 1642028400,\n 1642114800,\n 1642201200,\n 1642287600,\n 1642374000,\n 1642460400,\n 1642546800,\n 1642633200,\n 1642719600,\n 1642806000,\n 1642892400,\n 1642978800,\n 1643065200,\n 1643151600,\n 1643238000,\n 1643324400,\n 1643410800,\n 1643497200,\n 1643583600,\n 1643670000,\n 1643756400,\n 1643842800,\n 1643929200,\n 1644015600,\n 1644102000,\n 1644188400,\n 1644274800,\n 1644361200,\n 1644447600,\n 1644534000,\n 1644620400,\n 1644706800,\n 1644793200,\n 1644879600,\n 1644966000,\n 1645052400,\n 1645138800,\n 1645225200,\n 1645311600,\n 1645398000,\n 1645484400,\n 1645570800,\n 1645657200,\n 1645743600,\n 1645830000,\n 1645916400,\n 1646002800,\n 1646089200,\n 1646175600,\n 1646262000,\n 1646348400,\n 1646434800,\n 1646521200,\n 1646607600,\n 1646694000,\n 1646780400,\n 1646866800,\n 1646953200,\n 1647039600,\n 1647126000,\n 1647212400,\n 1647298800,\n 1647385200,\n 1647471600,\n 1647558000,\n 1647644400,\n 1647730800,\n 1647817200,\n 1647903600,\n 1647990000,\n 1648076400,\n 1648162800,\n 1648249200,\n 1648335600,\n 1648418400,\n 1648504800,\n 1648591200,\n 1648677600,\n 1648764000,\n 1648850400,\n 1648936800,\n 1649023200,\n 1649109600,\n 1649196000,\n 1649282400,\n 1649368800,\n 1649455200,\n 1649541600,\n 1649628000,\n 1649714400,\n 1649800800,\n 1649887200,\n 1649973600,\n 1650060000,\n 1650146400,\n 1650232800,\n 1650319200,\n 1650405600,\n 1650492000,\n 1650578400,\n 1650664800,\n 1650751200,\n 1650837600,\n 1650924000,\n 1651010400,\n 1651096800,\n 1651183200,\n 1651269600,\n 1651356000]"
     },
     "execution_count": 8,
     "metadata": {},
     "output_type": "execute_result"
    }
   ],
   "source": [
    "timestamp_list"
   ],
   "metadata": {
    "collapsed": false,
    "pycharm": {
     "name": "#%%\n"
    }
   }
  },
  {
   "cell_type": "code",
   "execution_count": 10,
   "outputs": [],
   "source": [
    "posts = data_prep_comments(api, \"wallstreetbets\", start_time=1619820000, end_time=1619906400, filters=filters)"
   ],
   "metadata": {
    "collapsed": false,
    "pycharm": {
     "name": "#%%\n"
    }
   }
  },
  {
   "cell_type": "code",
   "execution_count": 11,
   "outputs": [
    {
     "data": {
      "text/plain": "[{'author': 'Archdemon2212',\n  'body': 'Due diligence',\n  'created_utc': 1619822878,\n  'score': 1},\n {'author': 'JimCramersCoke',\n  'body': 'ocean water',\n  'created_utc': 1619822871,\n  'score': 4},\n {'author': 'Overdue_bills',\n  'body': 'Puts on Monday.',\n  'created_utc': 1619822869,\n  'score': 1},\n {'author': 'Horror-Lemon3200',\n  'body': 'Welcome! You found your home',\n  'created_utc': 1619822867,\n  'score': 2},\n {'author': 'get_MEAN_yall',\n  'body': 'I can trade until 8pm eastern. What broker do you use?',\n  'created_utc': 1619822866,\n  'score': 0},\n {'author': 'dulkion',\n  'body': 'And here I am preaching the GME gospel at Thanksgiving, and not buying in until January.  \\n\\nI need to listen to me more often.',\n  'created_utc': 1619822866,\n  'score': 2},\n {'author': 'SnooCauliflowers4003',\n  'body': 'its the best public college system in the country?',\n  'created_utc': 1619822864,\n  'score': 1},\n {'author': 'Forevergogo',\n  'body': \"Oh man, I'd be selling TSLA so fast.  Everyone knows its way overvalued.  Do they have potential?  Yah.  But so does like. Everyone.  \\nBut this is not financial advice, and neither are the 300 search results on google that agree with my opinion.\",\n  'created_utc': 1619822863,\n  'score': 2},\n {'author': '1worldterminal',\n  'body': 'Sold it at a loss',\n  'created_utc': 1619822861,\n  'score': 0},\n {'author': 'DapperDan_95',\n  'body': 'Who wants to raise DNN? Denison Mines chillin at $1.06',\n  'created_utc': 1619822858,\n  'score': 4},\n {'author': 'drunkwasabeherder',\n  'body': \"He's a retard, at least he got the right part of the world.\",\n  'created_utc': 1619822857,\n  'score': 3},\n {'author': 'riderrp82',\n  'body': 'best thing about doing it yourself is after u fuck it up three times on the way u are oretty much a pro when u are done',\n  'created_utc': 1619822857,\n  'score': 4},\n {'author': 'Eattherich1987',\n  'body': '?? BTX was going up all week, mooned Wednesday, pulled back Thursday, mooned today. MVIS was a play last week to sell Monday. You’re just not paying attention bud.',\n  'created_utc': 1619822856,\n  'score': 1},\n {'author': 'AbuLi0n',\n  'body': 'SAME! Drive me mad. I will dish out solid advice to others and I never actually put my chips on the table.',\n  'created_utc': 1619822856,\n  'score': 2},\n {'author': '[deleted]',\n  'body': '[removed]',\n  'created_utc': 1619822854,\n  'score': 1},\n {'author': 'magdellan',\n  'body': 'It’s a P&amp;D just look at the market cap',\n  'created_utc': 1619822853,\n  'score': 0},\n {'author': 'Waffle_Authority',\n  'body': 'If I just bought funny money all this time, I would be way up',\n  'created_utc': 1619822852,\n  'score': 3},\n {'author': 'JimCramersCoke',\n  'body': 'it’s friday night and i’m watching cramer. What the fuck is wrong with me',\n  'created_utc': 1619822850,\n  'score': 9},\n {'author': 'M_DIZ',\n  'body': 'this is the way !',\n  'created_utc': 1619822843,\n  'score': 2},\n {'author': 'JadedJared',\n  'body': 'Every email I get is titled “Last chance!” or something similar. I paid for the $99 a year option, is SA on top of that or included? Shit, I don’t even know what I paid for.',\n  'created_utc': 1619822843,\n  'score': 1},\n {'author': '3dprintsAnomus',\n  'body': 'May normally has some juice left in it but normally stays flat as fuck. \\n\\nMaybe 0.87% gain on average for the full month. \\n\\nNow June normally has a loss of ~0.21% from the start to the end of the month.\\n\\nThings may not pop off again until October.',\n  'created_utc': 1619822841,\n  'score': 2},\n {'author': 'Horror-Lemon3200',\n  'body': 'Boss',\n  'created_utc': 1619822841,\n  'score': 2},\n {'author': 'SnooCauliflowers4003',\n  'body': 'Medical is part of STEM right',\n  'created_utc': 1619822837,\n  'score': 1},\n {'author': 'Legitimate-Ad-7621',\n  'body': 'SYME is a fraud.\\nETWO has very attractive economics.',\n  'created_utc': 1619822835,\n  'score': 1},\n {'author': 'VisualMod',\n  'body': \"I am a bot from /r/wallstreetbets.                                You submitted one or more banned tickers: ZOM.\\n\\n                                Message /u/zjz if they're above 1.25 billion-ish market cap and not related to crypto/pennies/OTC/SPACs.\",\n  'created_utc': 1619822835,\n  'score': 1},\n {'author': 'Another_Name_Today',\n  'body': 'I invested in Chesapeake years ago at $35. Not as much as you here, but enough that I felt it. \\n\\nI’d show you my loss porn, but when they reverse split, my shares were so worthless I got cashed out by my broker. Who then charged me a reverse split fee that exceeded the sell price. \\n\\nPoint being, treasure this moment. Years from now when things are great, you’ll have photographic proof of how bad it got to temper your joy.',\n  'created_utc': 1619822834,\n  'score': 2},\n {'author': 'VermillionPutas',\n  'body': 'Paperhanding SNDL in the .85 to .95 range.\\nIt is working well so far.',\n  'created_utc': 1619822832,\n  'score': 0},\n {'author': 'freeportme',\n  'body': 'Ya I like first generation although there are some really nice super new pimped out ones. The average ones suck',\n  'created_utc': 1619822832,\n  'score': 1},\n {'author': 'shiverstar',\n  'body': 'Ice cold water after a long hike in the cold but sunny breeze.',\n  'created_utc': 1619822831,\n  'score': 6},\n {'author': 'gonnaitchwhenitdries',\n  'body': 'you really should be wondering if perhaps we aren’t that stupid after all. \\n\\nAlso, that’s not a lot of money in a retirement for my age. I won’t be able to retire on the trajectory I am on.',\n  'created_utc': 1619822828,\n  'score': 21},\n {'author': 'labancaneba',\n  'body': 'Fresh OJ',\n  'created_utc': 1619822827,\n  'score': 2},\n {'author': 'Jy_sunny',\n  'body': 'I was talking about calls. Poors like me can’t afford those :(',\n  'created_utc': 1619822826,\n  'score': 3},\n {'author': 'Quarter120',\n  'body': 'If i had a 401k id absolutely be doing this. This is the Winning Hand right here',\n  'created_utc': 1619822825,\n  'score': 15},\n {'author': 'BigboyJayjayjetplane',\n  'body': 'Im a property manager i can give you good estimates for those jobs the popcorn ceiling and drywall for 15k is absurd',\n  'created_utc': 1619822823,\n  'score': 2},\n {'author': 'StonkDoctor1000',\n  'body': 'Yes please',\n  'created_utc': 1619822822,\n  'score': 2},\n {'author': 'Perryswoman',\n  'body': 'I just saw a 1000 share order on level 2 @72.21 waiting to be filled',\n  'created_utc': 1619822820,\n  'score': 0},\n {'author': 'This-Engineering3277',\n  'body': 'Anyone who wants to play forest dm me',\n  'created_utc': 1619822819,\n  'score': 2},\n {'author': '[deleted]',\n  'body': '[removed]',\n  'created_utc': 1619822819,\n  'score': 1},\n {'author': 'Rk0',\n  'body': 'sir my casino is closed',\n  'created_utc': 1619822819,\n  'score': 0},\n {'author': 'bbq-ribs',\n  'body': 'I think I figuired out how the fed is calculating inflation.\\n\\n\\nI call it onlyinfaltion, they look that top 1% of onlyfans accounts. \\n\\nbasically if subscription fees go up, inflation.\\nif subscription fees go down then deflation.\\n\\n\\nOr this could be used to see the real effect of employment.',\n  'created_utc': 1619822814,\n  'score': 3},\n {'author': 'Tfti_',\n  'body': 'FYI Playboy still has room to run before 5/12 earnings',\n  'created_utc': 1619822812,\n  'score': 2},\n {'author': 'Glad-Egg-5672',\n  'body': 'Free. That’s like my kid’s lemonade stand. It’s free when you don’t have to pay for lemons or water or a jug or any supplies. Miners have to pay for equipment and electricity and staff and shit. It’s not Free.\\n\\nSide note: I’m giving you the benefit of the doubt that you were just bring flippant, but I’m a dad so I needed to correct you.',\n  'created_utc': 1619822810,\n  'score': 3},\n {'author': 'mingling4502',\n  'body': 'DISCA anyone?',\n  'created_utc': 1619822810,\n  'score': 1},\n {'author': 'fungi-seeking-fungis',\n  'body': 'God OP is a glorious ape. Thanks for this',\n  'created_utc': 1619822804,\n  'score': 1},\n {'author': 'kakawaka1',\n  'body': 'Lol for reference next time.... Pure ethanol wipes it off in one go without damaging your clear coat.\\nIt happened to my van one time',\n  'created_utc': 1619822804,\n  'score': 2},\n {'author': 'LSSCI',\n  'body': 'I had Twitter, I deleted it. Because it was an echo chamber. And from the outside looking in, it has only become much worse. \\nI love it when people assume that they are an expert in knowing things like why they are not on Twitter.\\n\\nHave a good day.',\n  'created_utc': 1619822803,\n  'score': 1},\n {'author': 'labancaneba',\n  'body': 'Buy puts on whatever people are euphoric over',\n  'created_utc': 1619822803,\n  'score': 3},\n {'author': '[deleted]',\n  'body': '[removed]',\n  'created_utc': 1619822801,\n  'score': 1},\n {'author': 'WeaponizedAutism12',\n  'body': 'Ban',\n  'created_utc': 1619822800,\n  'score': 3},\n {'author': 'ticklebadger1',\n  'body': 'Thank you!!',\n  'created_utc': 1619822789,\n  'score': 1},\n {'author': '[deleted]',\n  'body': '[removed]',\n  'created_utc': 1619822787,\n  'score': 2},\n {'author': 'Marvin1koz',\n  'body': 'My local dry cleaners made more money than MVIS during the pandemic.',\n  'created_utc': 1619822787,\n  'score': 21},\n {'author': 'get_MEAN_yall',\n  'body': 'Not if you sell your bags right now',\n  'created_utc': 1619822783,\n  'score': 1},\n {'author': 'Convergentshave',\n  'body': 'You’d probably get kicked out of here if you did....',\n  'created_utc': 1619822783,\n  'score': 2},\n {'author': 'WeaponizedAutism12',\n  'body': 'You cannot lump these under WSB plays, the apes form a portable echo chamber and it drowns everything else out',\n  'created_utc': 1619822781,\n  'score': 0},\n {'author': 'Eattherich1987',\n  'body': 'They’re hitting low bids to drive down the price.',\n  'created_utc': 1619822780,\n  'score': -1},\n {'author': 'Rebelwithacause970',\n  'body': 'Nice',\n  'created_utc': 1619822774,\n  'score': 4},\n {'author': 'Hardstucked',\n  'body': '🤡🤡🤡🤡',\n  'created_utc': 1619822774,\n  'score': -6},\n {'author': 'Palantaylor-swift',\n  'body': 'Lmao Are you me? 😎',\n  'created_utc': 1619822768,\n  'score': 4},\n {'author': 'VisualMod',\n  'body': 'I am a bot. A Gain/Loss/YOLO should be a picture of a closed gain, a closed loss, or an open position &gt; $2,500.',\n  'created_utc': 1619822764,\n  'score': 1},\n {'author': 'DawudM',\n  'body': 'What’s the best non-alcohol beverage you’ve had?',\n  'created_utc': 1619822763,\n  'score': 0},\n {'author': 'mold_motel',\n  'body': 'P&amp;D does not stand for peanut butter and dolphin sandwich.',\n  'created_utc': 1619822754,\n  'score': 2},\n {'author': 'Duffbeers71',\n  'body': 'By yourself',\n  'created_utc': 1619822747,\n  'score': 3},\n {'author': 'dvdr1029',\n  'body': 'To anyone who fomo’d into BTX, congratulations',\n  'created_utc': 1619822741,\n  'score': 3},\n {'author': 'Fckwalstreet',\n  'body': 'I think they should be at 12 back next week',\n  'created_utc': 1619822739,\n  'score': 2},\n {'author': 'TheCatnamedMittens',\n  'body': 'Altria is the best weed stock change my mind.',\n  'created_utc': 1619822731,\n  'score': 0},\n {'author': 'labancaneba',\n  'body': 'Remember when yolos would always be calls or puts, but never shares?',\n  'created_utc': 1619822729,\n  'score': 1},\n {'author': 'Overdue_bills',\n  'body': 'Work at a hedgefund.',\n  'created_utc': 1619822729,\n  'score': 10},\n {'author': 'LameOne',\n  'body': \"I also haven't been shot before.\",\n  'created_utc': 1619822728,\n  'score': 35},\n {'author': 'Lonely_Writer_1883',\n  'body': 'right! i have to eat them just to trip and imagine i have that kind of loot',\n  'created_utc': 1619822722,\n  'score': 1},\n {'author': 'Donkeycow15',\n  'body': 'Tell them to fuck off man. If you have a friend in the building trade talk to him and pay cash. He’ll get his mates to do it at the weekend for half that.',\n  'created_utc': 1619822719,\n  'score': 3},\n {'author': 'MuratCey',\n  'body': 'This is the way 🚀🚀🚀',\n  'created_utc': 1619822715,\n  'score': 1},\n {'author': 'Admirable-Weakness52',\n  'body': 'in for 105 shares!',\n  'created_utc': 1619822714,\n  'score': 1},\n {'author': 'ionmeeler',\n  'body': 'Hm, it shouldn’t have it, but it’s possible so yeah best to get it tested. Though I’d assume there would be some type of disclosure when you bought it if it did',\n  'created_utc': 1619822714,\n  'score': 1},\n {'author': 'Chunkifunkeye',\n  'body': 'How old r u?',\n  'created_utc': 1619822711,\n  'score': 3},\n {'author': 'Scorpio11777',\n  'body': \"Notify me if you find my money, it's missing.\",\n  'created_utc': 1619822711,\n  'score': 3},\n {'author': 'freeportme', 'body': '💼👜', 'created_utc': 1619822708, 'score': 2},\n {'author': 'footlong24seven',\n  'body': 'Rookie numbers man',\n  'created_utc': 1619822708,\n  'score': 1},\n {'author': 'L3t5G000',\n  'body': \"30 Jan 2022 $70 calls and 30 Jan 2023 $100 calls.. i'm ready.\",\n  'created_utc': 1619822707,\n  'score': 11},\n {'author': 'Admirable-Weakness52',\n  'body': 'in for 150 shares!',\n  'created_utc': 1619822703,\n  'score': 4},\n {'author': 'assnuuut',\n  'body': 'Godspeed retard.... Godspeed....',\n  'created_utc': 1619822700,\n  'score': 3},\n {'author': 'MuratCey',\n  'body': 'This is the way 🚀🚀🚀',\n  'created_utc': 1619822694,\n  'score': 1},\n {'author': '[deleted]',\n  'body': '[removed]',\n  'created_utc': 1619822693,\n  'score': 2},\n {'author': 'No_Instruction5780',\n  'body': 'Serving up a hot beverage.',\n  'created_utc': 1619822692,\n  'score': 1},\n {'author': 'shiverstar',\n  'body': \"They are not going to recover any time soon, and they're a boomer dividend machine so they won't crash too much more. Maybe an iron condor or something similar.\",\n  'created_utc': 1619822691,\n  'score': 1},\n {'author': 'HydrocodonesForAll',\n  'body': \"I mean you *are* rich by some means. Did you know 2.3 billion people on earth still use a pit latrine as their primary toilet? If fecal sludge management is not a *serious* issue in your country, you ARE richer than most people in the world. And having at least 88k in liquidity makes you richer than most of the people left. It's important we don't lose sight of how lucky we really are\",\n  'created_utc': 1619822691,\n  'score': 5},\n {'author': 'Superfiend78',\n  'body': 'Y’all underestimating that dirty rag $PLBY\\nWHO ELSE IS IN DM ME',\n  'created_utc': 1619822691,\n  'score': 3},\n {'author': 'VisualMod',\n  'body': \"I am a bot. Don't just post the Robinhood front page or an equivalently useless screenshot. Positions or GTFO.\",\n  'created_utc': 1619822690,\n  'score': 1},\n {'author': 'AdvertisingOne215',\n  'body': 'Dead stock',\n  'created_utc': 1619822690,\n  'score': 3},\n {'author': '[deleted]',\n  'body': '[removed]',\n  'created_utc': 1619822686,\n  'score': 0},\n {'author': 'VisualMod',\n  'body': \"I am a bot. You submitted a picture of a banned ticker, PSTV.                            Yell at /u/zjz if it's above 1 billion-ish market cap and not related to crypto/pennies/OTC/SPACs.\",\n  'created_utc': 1619822683,\n  'score': 1},\n {'author': 'isthisquora',\n  'body': 'Or both',\n  'created_utc': 1619822682,\n  'score': 1},\n {'author': 'letsgetapplebees',\n  'body': 'I’m just bored and tryin to get a date for tomorrow',\n  'created_utc': 1619822682,\n  'score': 0},\n {'author': '[deleted]',\n  'body': '[removed]',\n  'created_utc': 1619822681,\n  'score': 1},\n {'author': 'Life_Breath',\n  'body': 'I am from North Korea, no joke.',\n  'created_utc': 1619822680,\n  'score': 4},\n {'author': 'fpcane305',\n  'body': 'Cool story Bro....lol',\n  'created_utc': 1619822679,\n  'score': 1},\n {'author': 'fkgaslighters',\n  'body': 'This video made my day lmao',\n  'created_utc': 1619822679,\n  'score': 1},\n {'author': 'Top_Caramel5267',\n  'body': 'Worlds are colliding',\n  'created_utc': 1619822674,\n  'score': 2},\n {'author': 'letsgetapplebees',\n  'body': 'I like to show up on zoom in my pjs and beanie',\n  'created_utc': 1619822671,\n  'score': 1},\n {'author': 'Forevergogo',\n  'body': \"This is why ameritrade won't let me play with call options, they know I'm a stupid ape and I'd just piss it all on memes.\",\n  'created_utc': 1619822668,\n  'score': 1}]"
     },
     "execution_count": 11,
     "metadata": {},
     "output_type": "execute_result"
    }
   ],
   "source": [
    "posts"
   ],
   "metadata": {
    "collapsed": false,
    "pycharm": {
     "name": "#%%\n"
    }
   }
  },
  {
   "cell_type": "code",
   "execution_count": 14,
   "outputs": [
    {
     "data": {
      "text/plain": "[{'author': 'Archdemon2212',\n  'body': 'Due diligence',\n  'created_utc': 1619822878,\n  'score': 1},\n {'author': 'JimCramersCoke',\n  'body': 'ocean water',\n  'created_utc': 1619822871,\n  'score': 4},\n {'author': 'Overdue_bills',\n  'body': 'Puts on Monday.',\n  'created_utc': 1619822869,\n  'score': 1},\n {'author': 'Horror-Lemon3200',\n  'body': 'Welcome! You found your home',\n  'created_utc': 1619822867,\n  'score': 2},\n {'author': 'get_MEAN_yall',\n  'body': 'I can trade until 8pm eastern. What broker do you use?',\n  'created_utc': 1619822866,\n  'score': 0},\n {'author': 'dulkion',\n  'body': 'And here I am preaching the GME gospel at Thanksgiving, and not buying in until January.  \\n\\nI need to listen to me more often.',\n  'created_utc': 1619822866,\n  'score': 2},\n {'author': 'SnooCauliflowers4003',\n  'body': 'its the best public college system in the country?',\n  'created_utc': 1619822864,\n  'score': 1},\n {'author': 'Forevergogo',\n  'body': \"Oh man, I'd be selling TSLA so fast.  Everyone knows its way overvalued.  Do they have potential?  Yah.  But so does like. Everyone.  \\nBut this is not financial advice, and neither are the 300 search results on google that agree with my opinion.\",\n  'created_utc': 1619822863,\n  'score': 2},\n {'author': '1worldterminal',\n  'body': 'Sold it at a loss',\n  'created_utc': 1619822861,\n  'score': 0},\n {'author': 'DapperDan_95',\n  'body': 'Who wants to raise DNN? Denison Mines chillin at $1.06',\n  'created_utc': 1619822858,\n  'score': 4},\n {'author': 'drunkwasabeherder',\n  'body': \"He's a retard, at least he got the right part of the world.\",\n  'created_utc': 1619822857,\n  'score': 3},\n {'author': 'riderrp82',\n  'body': 'best thing about doing it yourself is after u fuck it up three times on the way u are oretty much a pro when u are done',\n  'created_utc': 1619822857,\n  'score': 4},\n {'author': 'Eattherich1987',\n  'body': '?? BTX was going up all week, mooned Wednesday, pulled back Thursday, mooned today. MVIS was a play last week to sell Monday. You’re just not paying attention bud.',\n  'created_utc': 1619822856,\n  'score': 1},\n {'author': 'AbuLi0n',\n  'body': 'SAME! Drive me mad. I will dish out solid advice to others and I never actually put my chips on the table.',\n  'created_utc': 1619822856,\n  'score': 2},\n {'author': '[deleted]',\n  'body': '[removed]',\n  'created_utc': 1619822854,\n  'score': 1},\n {'author': 'magdellan',\n  'body': 'It’s a P&amp;D just look at the market cap',\n  'created_utc': 1619822853,\n  'score': 0},\n {'author': 'Waffle_Authority',\n  'body': 'If I just bought funny money all this time, I would be way up',\n  'created_utc': 1619822852,\n  'score': 3},\n {'author': 'JimCramersCoke',\n  'body': 'it’s friday night and i’m watching cramer. What the fuck is wrong with me',\n  'created_utc': 1619822850,\n  'score': 9},\n {'author': 'M_DIZ',\n  'body': 'this is the way !',\n  'created_utc': 1619822843,\n  'score': 2},\n {'author': 'JadedJared',\n  'body': 'Every email I get is titled “Last chance!” or something similar. I paid for the $99 a year option, is SA on top of that or included? Shit, I don’t even know what I paid for.',\n  'created_utc': 1619822843,\n  'score': 1},\n {'author': '3dprintsAnomus',\n  'body': 'May normally has some juice left in it but normally stays flat as fuck. \\n\\nMaybe 0.87% gain on average for the full month. \\n\\nNow June normally has a loss of ~0.21% from the start to the end of the month.\\n\\nThings may not pop off again until October.',\n  'created_utc': 1619822841,\n  'score': 2},\n {'author': 'Horror-Lemon3200',\n  'body': 'Boss',\n  'created_utc': 1619822841,\n  'score': 2},\n {'author': 'SnooCauliflowers4003',\n  'body': 'Medical is part of STEM right',\n  'created_utc': 1619822837,\n  'score': 1},\n {'author': 'Legitimate-Ad-7621',\n  'body': 'SYME is a fraud.\\nETWO has very attractive economics.',\n  'created_utc': 1619822835,\n  'score': 1},\n {'author': 'VisualMod',\n  'body': \"I am a bot from /r/wallstreetbets.                                You submitted one or more banned tickers: ZOM.\\n\\n                                Message /u/zjz if they're above 1.25 billion-ish market cap and not related to crypto/pennies/OTC/SPACs.\",\n  'created_utc': 1619822835,\n  'score': 1},\n {'author': 'Another_Name_Today',\n  'body': 'I invested in Chesapeake years ago at $35. Not as much as you here, but enough that I felt it. \\n\\nI’d show you my loss porn, but when they reverse split, my shares were so worthless I got cashed out by my broker. Who then charged me a reverse split fee that exceeded the sell price. \\n\\nPoint being, treasure this moment. Years from now when things are great, you’ll have photographic proof of how bad it got to temper your joy.',\n  'created_utc': 1619822834,\n  'score': 2},\n {'author': 'VermillionPutas',\n  'body': 'Paperhanding SNDL in the .85 to .95 range.\\nIt is working well so far.',\n  'created_utc': 1619822832,\n  'score': 0},\n {'author': 'freeportme',\n  'body': 'Ya I like first generation although there are some really nice super new pimped out ones. The average ones suck',\n  'created_utc': 1619822832,\n  'score': 1},\n {'author': 'shiverstar',\n  'body': 'Ice cold water after a long hike in the cold but sunny breeze.',\n  'created_utc': 1619822831,\n  'score': 6},\n {'author': 'gonnaitchwhenitdries',\n  'body': 'you really should be wondering if perhaps we aren’t that stupid after all. \\n\\nAlso, that’s not a lot of money in a retirement for my age. I won’t be able to retire on the trajectory I am on.',\n  'created_utc': 1619822828,\n  'score': 21},\n {'author': 'labancaneba',\n  'body': 'Fresh OJ',\n  'created_utc': 1619822827,\n  'score': 2},\n {'author': 'Jy_sunny',\n  'body': 'I was talking about calls. Poors like me can’t afford those :(',\n  'created_utc': 1619822826,\n  'score': 3},\n {'author': 'Quarter120',\n  'body': 'If i had a 401k id absolutely be doing this. This is the Winning Hand right here',\n  'created_utc': 1619822825,\n  'score': 15},\n {'author': 'BigboyJayjayjetplane',\n  'body': 'Im a property manager i can give you good estimates for those jobs the popcorn ceiling and drywall for 15k is absurd',\n  'created_utc': 1619822823,\n  'score': 2},\n {'author': 'StonkDoctor1000',\n  'body': 'Yes please',\n  'created_utc': 1619822822,\n  'score': 2},\n {'author': 'Perryswoman',\n  'body': 'I just saw a 1000 share order on level 2 @72.21 waiting to be filled',\n  'created_utc': 1619822820,\n  'score': 0},\n {'author': 'This-Engineering3277',\n  'body': 'Anyone who wants to play forest dm me',\n  'created_utc': 1619822819,\n  'score': 2},\n {'author': '[deleted]',\n  'body': '[removed]',\n  'created_utc': 1619822819,\n  'score': 1},\n {'author': 'Rk0',\n  'body': 'sir my casino is closed',\n  'created_utc': 1619822819,\n  'score': 0},\n {'author': 'bbq-ribs',\n  'body': 'I think I figuired out how the fed is calculating inflation.\\n\\n\\nI call it onlyinfaltion, they look that top 1% of onlyfans accounts. \\n\\nbasically if subscription fees go up, inflation.\\nif subscription fees go down then deflation.\\n\\n\\nOr this could be used to see the real effect of employment.',\n  'created_utc': 1619822814,\n  'score': 3},\n {'author': 'Tfti_',\n  'body': 'FYI Playboy still has room to run before 5/12 earnings',\n  'created_utc': 1619822812,\n  'score': 2},\n {'author': 'Glad-Egg-5672',\n  'body': 'Free. That’s like my kid’s lemonade stand. It’s free when you don’t have to pay for lemons or water or a jug or any supplies. Miners have to pay for equipment and electricity and staff and shit. It’s not Free.\\n\\nSide note: I’m giving you the benefit of the doubt that you were just bring flippant, but I’m a dad so I needed to correct you.',\n  'created_utc': 1619822810,\n  'score': 3},\n {'author': 'mingling4502',\n  'body': 'DISCA anyone?',\n  'created_utc': 1619822810,\n  'score': 1},\n {'author': 'fungi-seeking-fungis',\n  'body': 'God OP is a glorious ape. Thanks for this',\n  'created_utc': 1619822804,\n  'score': 1},\n {'author': 'kakawaka1',\n  'body': 'Lol for reference next time.... Pure ethanol wipes it off in one go without damaging your clear coat.\\nIt happened to my van one time',\n  'created_utc': 1619822804,\n  'score': 2},\n {'author': 'LSSCI',\n  'body': 'I had Twitter, I deleted it. Because it was an echo chamber. And from the outside looking in, it has only become much worse. \\nI love it when people assume that they are an expert in knowing things like why they are not on Twitter.\\n\\nHave a good day.',\n  'created_utc': 1619822803,\n  'score': 1},\n {'author': 'labancaneba',\n  'body': 'Buy puts on whatever people are euphoric over',\n  'created_utc': 1619822803,\n  'score': 3},\n {'author': '[deleted]',\n  'body': '[removed]',\n  'created_utc': 1619822801,\n  'score': 1},\n {'author': 'WeaponizedAutism12',\n  'body': 'Ban',\n  'created_utc': 1619822800,\n  'score': 3},\n {'author': 'ticklebadger1',\n  'body': 'Thank you!!',\n  'created_utc': 1619822789,\n  'score': 1},\n {'author': '[deleted]',\n  'body': '[removed]',\n  'created_utc': 1619822787,\n  'score': 2},\n {'author': 'Marvin1koz',\n  'body': 'My local dry cleaners made more money than MVIS during the pandemic.',\n  'created_utc': 1619822787,\n  'score': 21},\n {'author': 'get_MEAN_yall',\n  'body': 'Not if you sell your bags right now',\n  'created_utc': 1619822783,\n  'score': 1},\n {'author': 'Convergentshave',\n  'body': 'You’d probably get kicked out of here if you did....',\n  'created_utc': 1619822783,\n  'score': 2},\n {'author': 'WeaponizedAutism12',\n  'body': 'You cannot lump these under WSB plays, the apes form a portable echo chamber and it drowns everything else out',\n  'created_utc': 1619822781,\n  'score': 0},\n {'author': 'Eattherich1987',\n  'body': 'They’re hitting low bids to drive down the price.',\n  'created_utc': 1619822780,\n  'score': -1},\n {'author': 'Rebelwithacause970',\n  'body': 'Nice',\n  'created_utc': 1619822774,\n  'score': 4},\n {'author': 'Hardstucked',\n  'body': '🤡🤡🤡🤡',\n  'created_utc': 1619822774,\n  'score': -6},\n {'author': 'Palantaylor-swift',\n  'body': 'Lmao Are you me? 😎',\n  'created_utc': 1619822768,\n  'score': 4},\n {'author': 'VisualMod',\n  'body': 'I am a bot. A Gain/Loss/YOLO should be a picture of a closed gain, a closed loss, or an open position &gt; $2,500.',\n  'created_utc': 1619822764,\n  'score': 1},\n {'author': 'DawudM',\n  'body': 'What’s the best non-alcohol beverage you’ve had?',\n  'created_utc': 1619822763,\n  'score': 0},\n {'author': 'mold_motel',\n  'body': 'P&amp;D does not stand for peanut butter and dolphin sandwich.',\n  'created_utc': 1619822754,\n  'score': 2},\n {'author': 'Duffbeers71',\n  'body': 'By yourself',\n  'created_utc': 1619822747,\n  'score': 3},\n {'author': 'dvdr1029',\n  'body': 'To anyone who fomo’d into BTX, congratulations',\n  'created_utc': 1619822741,\n  'score': 3},\n {'author': 'Fckwalstreet',\n  'body': 'I think they should be at 12 back next week',\n  'created_utc': 1619822739,\n  'score': 2},\n {'author': 'TheCatnamedMittens',\n  'body': 'Altria is the best weed stock change my mind.',\n  'created_utc': 1619822731,\n  'score': 0},\n {'author': 'labancaneba',\n  'body': 'Remember when yolos would always be calls or puts, but never shares?',\n  'created_utc': 1619822729,\n  'score': 1},\n {'author': 'Overdue_bills',\n  'body': 'Work at a hedgefund.',\n  'created_utc': 1619822729,\n  'score': 10},\n {'author': 'LameOne',\n  'body': \"I also haven't been shot before.\",\n  'created_utc': 1619822728,\n  'score': 35},\n {'author': 'Lonely_Writer_1883',\n  'body': 'right! i have to eat them just to trip and imagine i have that kind of loot',\n  'created_utc': 1619822722,\n  'score': 1},\n {'author': 'Donkeycow15',\n  'body': 'Tell them to fuck off man. If you have a friend in the building trade talk to him and pay cash. He’ll get his mates to do it at the weekend for half that.',\n  'created_utc': 1619822719,\n  'score': 3},\n {'author': 'MuratCey',\n  'body': 'This is the way 🚀🚀🚀',\n  'created_utc': 1619822715,\n  'score': 1},\n {'author': 'Admirable-Weakness52',\n  'body': 'in for 105 shares!',\n  'created_utc': 1619822714,\n  'score': 1},\n {'author': 'ionmeeler',\n  'body': 'Hm, it shouldn’t have it, but it’s possible so yeah best to get it tested. Though I’d assume there would be some type of disclosure when you bought it if it did',\n  'created_utc': 1619822714,\n  'score': 1},\n {'author': 'Chunkifunkeye',\n  'body': 'How old r u?',\n  'created_utc': 1619822711,\n  'score': 3},\n {'author': 'Scorpio11777',\n  'body': \"Notify me if you find my money, it's missing.\",\n  'created_utc': 1619822711,\n  'score': 3},\n {'author': 'freeportme', 'body': '💼👜', 'created_utc': 1619822708, 'score': 2},\n {'author': 'footlong24seven',\n  'body': 'Rookie numbers man',\n  'created_utc': 1619822708,\n  'score': 1},\n {'author': 'L3t5G000',\n  'body': \"30 Jan 2022 $70 calls and 30 Jan 2023 $100 calls.. i'm ready.\",\n  'created_utc': 1619822707,\n  'score': 11},\n {'author': 'Admirable-Weakness52',\n  'body': 'in for 150 shares!',\n  'created_utc': 1619822703,\n  'score': 4},\n {'author': 'assnuuut',\n  'body': 'Godspeed retard.... Godspeed....',\n  'created_utc': 1619822700,\n  'score': 3},\n {'author': 'MuratCey',\n  'body': 'This is the way 🚀🚀🚀',\n  'created_utc': 1619822694,\n  'score': 1},\n {'author': '[deleted]',\n  'body': '[removed]',\n  'created_utc': 1619822693,\n  'score': 2},\n {'author': 'No_Instruction5780',\n  'body': 'Serving up a hot beverage.',\n  'created_utc': 1619822692,\n  'score': 1},\n {'author': 'shiverstar',\n  'body': \"They are not going to recover any time soon, and they're a boomer dividend machine so they won't crash too much more. Maybe an iron condor or something similar.\",\n  'created_utc': 1619822691,\n  'score': 1},\n {'author': 'HydrocodonesForAll',\n  'body': \"I mean you *are* rich by some means. Did you know 2.3 billion people on earth still use a pit latrine as their primary toilet? If fecal sludge management is not a *serious* issue in your country, you ARE richer than most people in the world. And having at least 88k in liquidity makes you richer than most of the people left. It's important we don't lose sight of how lucky we really are\",\n  'created_utc': 1619822691,\n  'score': 5},\n {'author': 'Superfiend78',\n  'body': 'Y’all underestimating that dirty rag $PLBY\\nWHO ELSE IS IN DM ME',\n  'created_utc': 1619822691,\n  'score': 3},\n {'author': 'VisualMod',\n  'body': \"I am a bot. Don't just post the Robinhood front page or an equivalently useless screenshot. Positions or GTFO.\",\n  'created_utc': 1619822690,\n  'score': 1},\n {'author': 'AdvertisingOne215',\n  'body': 'Dead stock',\n  'created_utc': 1619822690,\n  'score': 3},\n {'author': '[deleted]',\n  'body': '[removed]',\n  'created_utc': 1619822686,\n  'score': 0},\n {'author': 'VisualMod',\n  'body': \"I am a bot. You submitted a picture of a banned ticker, PSTV.                            Yell at /u/zjz if it's above 1 billion-ish market cap and not related to crypto/pennies/OTC/SPACs.\",\n  'created_utc': 1619822683,\n  'score': 1},\n {'author': 'isthisquora',\n  'body': 'Or both',\n  'created_utc': 1619822682,\n  'score': 1},\n {'author': 'letsgetapplebees',\n  'body': 'I’m just bored and tryin to get a date for tomorrow',\n  'created_utc': 1619822682,\n  'score': 0},\n {'author': '[deleted]',\n  'body': '[removed]',\n  'created_utc': 1619822681,\n  'score': 1},\n {'author': 'Life_Breath',\n  'body': 'I am from North Korea, no joke.',\n  'created_utc': 1619822680,\n  'score': 4},\n {'author': 'fpcane305',\n  'body': 'Cool story Bro....lol',\n  'created_utc': 1619822679,\n  'score': 1},\n {'author': 'fkgaslighters',\n  'body': 'This video made my day lmao',\n  'created_utc': 1619822679,\n  'score': 1},\n {'author': 'Top_Caramel5267',\n  'body': 'Worlds are colliding',\n  'created_utc': 1619822674,\n  'score': 2},\n {'author': 'letsgetapplebees',\n  'body': 'I like to show up on zoom in my pjs and beanie',\n  'created_utc': 1619822671,\n  'score': 1},\n {'author': 'Forevergogo',\n  'body': \"This is why ameritrade won't let me play with call options, they know I'm a stupid ape and I'd just piss it all on memes.\",\n  'created_utc': 1619822668,\n  'score': 1}]"
     },
     "execution_count": 14,
     "metadata": {},
     "output_type": "execute_result"
    }
   ],
   "source": [
    "posts"
   ],
   "metadata": {
    "collapsed": false,
    "pycharm": {
     "name": "#%%\n"
    }
   }
  },
  {
   "cell_type": "code",
   "execution_count": 15,
   "outputs": [
    {
     "data": {
      "text/plain": "              author                                               body  \\\n0      Archdemon2212                                      Due diligence   \n1     JimCramersCoke                                        ocean water   \n2      Overdue_bills                                    Puts on Monday.   \n3   Horror-Lemon3200                       Welcome! You found your home   \n4      get_MEAN_yall  I can trade until 8pm eastern. What broker do ...   \n..               ...                                                ...   \n95         fpcane305                              Cool story Bro....lol   \n96     fkgaslighters                        This video made my day lmao   \n97   Top_Caramel5267                               Worlds are colliding   \n98  letsgetapplebees     I like to show up on zoom in my pjs and beanie   \n99       Forevergogo  This is why ameritrade won't let me play with ...   \n\n    created_utc  score  \n0    1619822878      1  \n1    1619822871      4  \n2    1619822869      1  \n3    1619822867      2  \n4    1619822866      0  \n..          ...    ...  \n95   1619822679      1  \n96   1619822679      1  \n97   1619822674      2  \n98   1619822671      1  \n99   1619822668      1  \n\n[100 rows x 4 columns]",
      "text/html": "<div>\n<style scoped>\n    .dataframe tbody tr th:only-of-type {\n        vertical-align: middle;\n    }\n\n    .dataframe tbody tr th {\n        vertical-align: top;\n    }\n\n    .dataframe thead th {\n        text-align: right;\n    }\n</style>\n<table border=\"1\" class=\"dataframe\">\n  <thead>\n    <tr style=\"text-align: right;\">\n      <th></th>\n      <th>author</th>\n      <th>body</th>\n      <th>created_utc</th>\n      <th>score</th>\n    </tr>\n  </thead>\n  <tbody>\n    <tr>\n      <th>0</th>\n      <td>Archdemon2212</td>\n      <td>Due diligence</td>\n      <td>1619822878</td>\n      <td>1</td>\n    </tr>\n    <tr>\n      <th>1</th>\n      <td>JimCramersCoke</td>\n      <td>ocean water</td>\n      <td>1619822871</td>\n      <td>4</td>\n    </tr>\n    <tr>\n      <th>2</th>\n      <td>Overdue_bills</td>\n      <td>Puts on Monday.</td>\n      <td>1619822869</td>\n      <td>1</td>\n    </tr>\n    <tr>\n      <th>3</th>\n      <td>Horror-Lemon3200</td>\n      <td>Welcome! You found your home</td>\n      <td>1619822867</td>\n      <td>2</td>\n    </tr>\n    <tr>\n      <th>4</th>\n      <td>get_MEAN_yall</td>\n      <td>I can trade until 8pm eastern. What broker do ...</td>\n      <td>1619822866</td>\n      <td>0</td>\n    </tr>\n    <tr>\n      <th>...</th>\n      <td>...</td>\n      <td>...</td>\n      <td>...</td>\n      <td>...</td>\n    </tr>\n    <tr>\n      <th>95</th>\n      <td>fpcane305</td>\n      <td>Cool story Bro....lol</td>\n      <td>1619822679</td>\n      <td>1</td>\n    </tr>\n    <tr>\n      <th>96</th>\n      <td>fkgaslighters</td>\n      <td>This video made my day lmao</td>\n      <td>1619822679</td>\n      <td>1</td>\n    </tr>\n    <tr>\n      <th>97</th>\n      <td>Top_Caramel5267</td>\n      <td>Worlds are colliding</td>\n      <td>1619822674</td>\n      <td>2</td>\n    </tr>\n    <tr>\n      <th>98</th>\n      <td>letsgetapplebees</td>\n      <td>I like to show up on zoom in my pjs and beanie</td>\n      <td>1619822671</td>\n      <td>1</td>\n    </tr>\n    <tr>\n      <th>99</th>\n      <td>Forevergogo</td>\n      <td>This is why ameritrade won't let me play with ...</td>\n      <td>1619822668</td>\n      <td>1</td>\n    </tr>\n  </tbody>\n</table>\n<p>100 rows × 4 columns</p>\n</div>"
     },
     "execution_count": 15,
     "metadata": {},
     "output_type": "execute_result"
    }
   ],
   "source": [
    "pd.DataFrame(posts)"
   ],
   "metadata": {
    "collapsed": false,
    "pycharm": {
     "name": "#%%\n"
    }
   }
  },
  {
   "cell_type": "code",
   "execution_count": null,
   "outputs": [],
   "source": [],
   "metadata": {
    "collapsed": false,
    "pycharm": {
     "name": "#%%\n"
    }
   }
  }
 ],
 "metadata": {
  "kernelspec": {
   "name": "thesis",
   "language": "python",
   "display_name": "thesis"
  },
  "language_info": {
   "codemirror_mode": {
    "name": "ipython",
    "version": 2
   },
   "file_extension": ".py",
   "mimetype": "text/x-python",
   "name": "python",
   "nbconvert_exporter": "python",
   "pygments_lexer": "ipython2",
   "version": "2.7.6"
  }
 },
 "nbformat": 4,
 "nbformat_minor": 0
}