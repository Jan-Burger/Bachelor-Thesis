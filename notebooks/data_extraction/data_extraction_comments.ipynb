{
 "cells": [
  {
   "cell_type": "markdown",
   "source": [
    "## 1. Imports and config"
   ],
   "metadata": {
    "collapsed": false,
    "pycharm": {
     "name": "#%% md\n"
    }
   }
  },
  {
   "cell_type": "code",
   "execution_count": 3,
   "metadata": {
    "collapsed": true,
    "pycharm": {
     "name": "#%%\n"
    }
   },
   "outputs": [],
   "source": [
    "import datetime as dt\n",
    "import warnings\n",
    "import yaml\n",
    "import logging\n",
    "import pywhatkit\n",
    "import pandas as pd\n",
    "from psaw import PushshiftAPI\n",
    "from tqdm import tqdm\n",
    "from sqlalchemy import create_engine\n",
    "from data_extraction_utils import data_prep_posts, join_submission_title_and_body, find_stock_symbols, data_prep_comments\n",
    "warnings.filterwarnings(\"ignore\")"
   ]
  },
  {
   "cell_type": "code",
   "execution_count": 2,
   "outputs": [],
   "source": [
    "# Specify logging settings\n",
    "logging.basicConfig(filename='comments.log', level=logging.INFO, filemode=\"a\", format=\"%(asctime)s - %(levelname)s - %(message)s\")"
   ],
   "metadata": {
    "collapsed": false,
    "pycharm": {
     "name": "#%%\n"
    }
   }
  },
  {
   "cell_type": "markdown",
   "source": [
    "## 2. Database configuration"
   ],
   "metadata": {
    "collapsed": false,
    "pycharm": {
     "name": "#%% md\n"
    }
   }
  },
  {
   "cell_type": "code",
   "execution_count": 3,
   "outputs": [],
   "source": [
    "# Reading form config.yaml\"\n",
    "with open(\"../../config.yaml\", \"r\") as yamlconfig:\n",
    "    config = yaml.load(yamlconfig, Loader=yaml.FullLoader)\n",
    "\n",
    "# Create postgres string with db-config\n",
    "postgres_username = config[\"db_config\"][\"postgres_username\"]\n",
    "postgres_password = config[\"db_config\"][\"postgres_password\"]\n",
    "postgres_address = config[\"db_config\"][\"postgres_address\"]\n",
    "postgres_port = config[\"db_config\"][\"postgres_port\"]\n",
    "postgres_dbname = config[\"db_config\"][\"postgres_dbname\"]\n",
    "\n",
    "postgres_str = f\"postgresql://{postgres_username}:{postgres_password}@{postgres_address}:{postgres_port}/{postgres_dbname}\"\n",
    "\n",
    "# create db connection with sqlalchemy\n",
    "cnx = create_engine(postgres_str)"
   ],
   "metadata": {
    "collapsed": false,
    "pycharm": {
     "name": "#%%\n"
    }
   }
  },
  {
   "cell_type": "markdown",
   "source": [
    "## 3. Create stock symbol list"
   ],
   "metadata": {
    "collapsed": false,
    "pycharm": {
     "name": "#%% md\n"
    }
   }
  },
  {
   "cell_type": "code",
   "execution_count": 4,
   "outputs": [],
   "source": [
    "# load stock list and transform it into a set\n",
    "stock_ticker_list = pd.read_excel(\"../../data/external/stock_ticker_list.xlsx\")[\"symbol\"].to_list()\n",
    "\n",
    "# Modified second stock list with dollar sign\n",
    "stock_ticker_list_with_dollar_sign = [f\"${ticker}\" for ticker in stock_ticker_list]\n",
    "\n",
    "# Combine the two lists to one set\n",
    "final_stock_ticker_list = set(stock_ticker_list + stock_ticker_list_with_dollar_sign)"
   ],
   "metadata": {
    "collapsed": false,
    "pycharm": {
     "name": "#%%\n"
    }
   }
  },
  {
   "cell_type": "markdown",
   "source": [
    "## 4. Extract Submissions from reddit"
   ],
   "metadata": {
    "collapsed": false,
    "pycharm": {
     "name": "#%% md\n"
    }
   }
  },
  {
   "cell_type": "code",
   "execution_count": 5,
   "outputs": [],
   "source": [
    "# Set date range to extract the data from the API\n",
    "start = dt.datetime.strptime(\"25-01-2021\", \"%d-%m-%Y\")\n",
    "end = dt.datetime.strptime(\"01-01-2022\", \"%d-%m-%Y\")\n",
    "timestamp_list = [int((start + dt.timedelta(days=x)).timestamp()) for x in range(0, (end-start).days +1)]\n",
    "\n",
    "# Reddit API Object\n",
    "api = PushshiftAPI()"
   ],
   "metadata": {
    "collapsed": false,
    "pycharm": {
     "name": "#%%\n"
    }
   }
  },
  {
   "cell_type": "code",
   "execution_count": 6,
   "outputs": [
    {
     "name": "stderr",
     "output_type": "stream",
     "text": [
      "2021-01-24 00:00:00:   7%|▋         | 24/365 [5:39:11<80:19:22, 847.98s/it]  \n"
     ]
    },
    {
     "ename": "KeyError",
     "evalue": "'created_utc'",
     "output_type": "error",
     "traceback": [
      "\u001B[1;31m---------------------------------------------------------------------------\u001B[0m",
      "\u001B[1;31mKeyError\u001B[0m                                  Traceback (most recent call last)",
      "File \u001B[1;32m~\\anaconda3\\envs\\thesis\\lib\\site-packages\\pandas\\core\\indexes\\base.py:3621\u001B[0m, in \u001B[0;36mIndex.get_loc\u001B[1;34m(self, key, method, tolerance)\u001B[0m\n\u001B[0;32m   3620\u001B[0m \u001B[38;5;28;01mtry\u001B[39;00m:\n\u001B[1;32m-> 3621\u001B[0m     \u001B[38;5;28;01mreturn\u001B[39;00m \u001B[38;5;28;43mself\u001B[39;49m\u001B[38;5;241;43m.\u001B[39;49m\u001B[43m_engine\u001B[49m\u001B[38;5;241;43m.\u001B[39;49m\u001B[43mget_loc\u001B[49m\u001B[43m(\u001B[49m\u001B[43mcasted_key\u001B[49m\u001B[43m)\u001B[49m\n\u001B[0;32m   3622\u001B[0m \u001B[38;5;28;01mexcept\u001B[39;00m \u001B[38;5;167;01mKeyError\u001B[39;00m \u001B[38;5;28;01mas\u001B[39;00m err:\n",
      "File \u001B[1;32m~\\anaconda3\\envs\\thesis\\lib\\site-packages\\pandas\\_libs\\index.pyx:136\u001B[0m, in \u001B[0;36mpandas._libs.index.IndexEngine.get_loc\u001B[1;34m()\u001B[0m\n",
      "File \u001B[1;32m~\\anaconda3\\envs\\thesis\\lib\\site-packages\\pandas\\_libs\\index.pyx:163\u001B[0m, in \u001B[0;36mpandas._libs.index.IndexEngine.get_loc\u001B[1;34m()\u001B[0m\n",
      "File \u001B[1;32mpandas\\_libs\\hashtable_class_helper.pxi:5198\u001B[0m, in \u001B[0;36mpandas._libs.hashtable.PyObjectHashTable.get_item\u001B[1;34m()\u001B[0m\n",
      "File \u001B[1;32mpandas\\_libs\\hashtable_class_helper.pxi:5206\u001B[0m, in \u001B[0;36mpandas._libs.hashtable.PyObjectHashTable.get_item\u001B[1;34m()\u001B[0m\n",
      "\u001B[1;31mKeyError\u001B[0m: 'created_utc'",
      "\nThe above exception was the direct cause of the following exception:\n",
      "\u001B[1;31mKeyError\u001B[0m                                  Traceback (most recent call last)",
      "Input \u001B[1;32mIn [6]\u001B[0m, in \u001B[0;36m<cell line: 2>\u001B[1;34m()\u001B[0m\n\u001B[0;32m     12\u001B[0m df \u001B[38;5;241m=\u001B[39m data_prep_comments(api, \u001B[38;5;124m\"\u001B[39m\u001B[38;5;124mwallstreetbets\u001B[39m\u001B[38;5;124m\"\u001B[39m, start_time\u001B[38;5;241m=\u001B[39mstart_date, end_time\u001B[38;5;241m=\u001B[39mend_date, filters\u001B[38;5;241m=\u001B[39mfilters)\n\u001B[0;32m     14\u001B[0m \u001B[38;5;66;03m# Transform timestamp into datetime column\u001B[39;00m\n\u001B[1;32m---> 15\u001B[0m df[\u001B[38;5;124m\"\u001B[39m\u001B[38;5;124mcreated_at\u001B[39m\u001B[38;5;124m\"\u001B[39m] \u001B[38;5;241m=\u001B[39m \u001B[43mdf\u001B[49m\u001B[43m[\u001B[49m\u001B[38;5;124;43m\"\u001B[39;49m\u001B[38;5;124;43mcreated_utc\u001B[39;49m\u001B[38;5;124;43m\"\u001B[39;49m\u001B[43m]\u001B[49m\u001B[38;5;241m.\u001B[39mapply(\u001B[38;5;28;01mlambda\u001B[39;00m x: dt\u001B[38;5;241m.\u001B[39mdatetime\u001B[38;5;241m.\u001B[39mfromtimestamp(x))\n\u001B[0;32m     17\u001B[0m \u001B[38;5;66;03m# Get stock symbol from reddit post if available\u001B[39;00m\n\u001B[0;32m     18\u001B[0m df[\u001B[38;5;124m\"\u001B[39m\u001B[38;5;124mstock_symbol\u001B[39m\u001B[38;5;124m\"\u001B[39m] \u001B[38;5;241m=\u001B[39m df[\u001B[38;5;124m\"\u001B[39m\u001B[38;5;124mbody\u001B[39m\u001B[38;5;124m\"\u001B[39m]\u001B[38;5;241m.\u001B[39mapply(\u001B[38;5;28;01mlambda\u001B[39;00m x: find_stock_symbols(x, final_stock_ticker_list))\n",
      "File \u001B[1;32m~\\anaconda3\\envs\\thesis\\lib\\site-packages\\pandas\\core\\frame.py:3505\u001B[0m, in \u001B[0;36mDataFrame.__getitem__\u001B[1;34m(self, key)\u001B[0m\n\u001B[0;32m   3503\u001B[0m \u001B[38;5;28;01mif\u001B[39;00m \u001B[38;5;28mself\u001B[39m\u001B[38;5;241m.\u001B[39mcolumns\u001B[38;5;241m.\u001B[39mnlevels \u001B[38;5;241m>\u001B[39m \u001B[38;5;241m1\u001B[39m:\n\u001B[0;32m   3504\u001B[0m     \u001B[38;5;28;01mreturn\u001B[39;00m \u001B[38;5;28mself\u001B[39m\u001B[38;5;241m.\u001B[39m_getitem_multilevel(key)\n\u001B[1;32m-> 3505\u001B[0m indexer \u001B[38;5;241m=\u001B[39m \u001B[38;5;28;43mself\u001B[39;49m\u001B[38;5;241;43m.\u001B[39;49m\u001B[43mcolumns\u001B[49m\u001B[38;5;241;43m.\u001B[39;49m\u001B[43mget_loc\u001B[49m\u001B[43m(\u001B[49m\u001B[43mkey\u001B[49m\u001B[43m)\u001B[49m\n\u001B[0;32m   3506\u001B[0m \u001B[38;5;28;01mif\u001B[39;00m is_integer(indexer):\n\u001B[0;32m   3507\u001B[0m     indexer \u001B[38;5;241m=\u001B[39m [indexer]\n",
      "File \u001B[1;32m~\\anaconda3\\envs\\thesis\\lib\\site-packages\\pandas\\core\\indexes\\base.py:3623\u001B[0m, in \u001B[0;36mIndex.get_loc\u001B[1;34m(self, key, method, tolerance)\u001B[0m\n\u001B[0;32m   3621\u001B[0m     \u001B[38;5;28;01mreturn\u001B[39;00m \u001B[38;5;28mself\u001B[39m\u001B[38;5;241m.\u001B[39m_engine\u001B[38;5;241m.\u001B[39mget_loc(casted_key)\n\u001B[0;32m   3622\u001B[0m \u001B[38;5;28;01mexcept\u001B[39;00m \u001B[38;5;167;01mKeyError\u001B[39;00m \u001B[38;5;28;01mas\u001B[39;00m err:\n\u001B[1;32m-> 3623\u001B[0m     \u001B[38;5;28;01mraise\u001B[39;00m \u001B[38;5;167;01mKeyError\u001B[39;00m(key) \u001B[38;5;28;01mfrom\u001B[39;00m \u001B[38;5;21;01merr\u001B[39;00m\n\u001B[0;32m   3624\u001B[0m \u001B[38;5;28;01mexcept\u001B[39;00m \u001B[38;5;167;01mTypeError\u001B[39;00m:\n\u001B[0;32m   3625\u001B[0m     \u001B[38;5;66;03m# If we have a listlike key, _check_indexing_error will raise\u001B[39;00m\n\u001B[0;32m   3626\u001B[0m     \u001B[38;5;66;03m#  InvalidIndexError. Otherwise we fall through and re-raise\u001B[39;00m\n\u001B[0;32m   3627\u001B[0m     \u001B[38;5;66;03m#  the TypeError.\u001B[39;00m\n\u001B[0;32m   3628\u001B[0m     \u001B[38;5;28mself\u001B[39m\u001B[38;5;241m.\u001B[39m_check_indexing_error(key)\n",
      "\u001B[1;31mKeyError\u001B[0m: 'created_utc'"
     ]
    }
   ],
   "source": [
    "try:\n",
    "    # loop over list of timestamps\n",
    "    for i in (pbar := tqdm(range(len(timestamp_list) -1))):\n",
    "\n",
    "        # Set start date and end date\n",
    "        start_date = timestamp_list[i]\n",
    "        end_date = timestamp_list[i + 1]\n",
    "\n",
    "        # Specify data to extract from reddit\n",
    "        filters = ['author', 'created_utc', \"score\", \"body\"]\n",
    "\n",
    "        # Call API function to retrieve data from reddit as a dataframe\n",
    "        df = data_prep_comments(api, \"wallstreetbets\", start_time=start_date, end_time=end_date, filters=filters)\n",
    "\n",
    "        # Transform timestamp into datetime column\n",
    "        df[\"created_at\"] = df[\"created_utc\"].apply(lambda x: dt.datetime.fromtimestamp(x))\n",
    "\n",
    "        # Get stock symbol from reddit post if available\n",
    "        df[\"stock_symbol\"] = df[\"body\"].apply(lambda x: find_stock_symbols(x, final_stock_ticker_list))\n",
    "\n",
    "        # Drop unused columns\n",
    "        df.drop(columns=[\"created_utc\", \"created\"], inplace=True)\n",
    "\n",
    "        # Rename columns as preparation for database\n",
    "        df.rename(columns={'score': 'num_up_votes', \"body\": \"post\"}, inplace=True)\n",
    "\n",
    "        # Write dataframe to database\n",
    "        df.to_sql(\"r_wallstreetbets\", cnx, index=False, if_exists=\"append\")\n",
    "\n",
    "        # Logging\n",
    "        logging.info(f\"{df.shape[0]} rows written to DB - Date: {dt.datetime.fromtimestamp(start_date)}\")\n",
    "        pbar.set_description(f\"{dt.datetime.fromtimestamp(start_date)}\")\n",
    "\n",
    "except Exception as e:\n",
    "    now = dt.datetime.now().time() # time object\n",
    "    pywhatkit.sendwhatmsg(\"+4915737884472\", f\"ERROR - {e}\", time_hour=now.hour, time_min=now.minute+1)\n"
   ],
   "metadata": {
    "collapsed": false,
    "pycharm": {
     "name": "#%%\n"
    }
   }
  }
 ],
 "metadata": {
  "kernelspec": {
   "name": "thesis",
   "language": "python",
   "display_name": "thesis"
  },
  "language_info": {
   "codemirror_mode": {
    "name": "ipython",
    "version": 2
   },
   "file_extension": ".py",
   "mimetype": "text/x-python",
   "name": "python",
   "nbconvert_exporter": "python",
   "pygments_lexer": "ipython2",
   "version": "2.7.6"
  }
 },
 "nbformat": 4,
 "nbformat_minor": 0
}