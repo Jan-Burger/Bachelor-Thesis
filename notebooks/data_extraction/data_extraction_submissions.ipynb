{
 "cells": [
  {
   "cell_type": "markdown",
   "source": [
    "## 1. Imports and config"
   ],
   "metadata": {
    "collapsed": false,
    "pycharm": {
     "name": "#%% md\n"
    }
   }
  },
  {
   "cell_type": "code",
   "execution_count": 1,
   "metadata": {
    "collapsed": true,
    "pycharm": {
     "name": "#%%\n"
    }
   },
   "outputs": [],
   "source": [
    "import datetime as dt\n",
    "import warnings\n",
    "import yaml\n",
    "import logging\n",
    "import pandas as pd\n",
    "from psaw import PushshiftAPI\n",
    "from tqdm import tqdm\n",
    "from sqlalchemy import create_engine, types\n",
    "from data_extraction_utils import data_prep_posts, join_submission_title_and_body, find_stock_symbols\n",
    "warnings.filterwarnings(\"ignore\")"
   ]
  },
  {
   "cell_type": "code",
   "execution_count": 2,
   "outputs": [],
   "source": [
    "# Specify logging settings\n",
    "logging.basicConfig(filename='submissions.log', level=logging.INFO, filemode=\"a\", format=\"%(asctime)s - %(levelname)s - %(message)s\")"
   ],
   "metadata": {
    "collapsed": false,
    "pycharm": {
     "name": "#%%\n"
    }
   }
  },
  {
   "cell_type": "markdown",
   "source": [
    "## 2. Database configuration"
   ],
   "metadata": {
    "collapsed": false,
    "pycharm": {
     "name": "#%% md\n"
    }
   }
  },
  {
   "cell_type": "code",
   "execution_count": 3,
   "outputs": [],
   "source": [
    "# Reading form config.yaml\"\n",
    "with open(\"../../config.yaml\", \"r\") as yamlconfig:\n",
    "    config = yaml.load(yamlconfig, Loader=yaml.FullLoader)\n",
    "\n",
    "# Create postgres string with db-config\n",
    "postgres_username = config[\"db_config\"][\"postgres_username\"]\n",
    "postgres_password = config[\"db_config\"][\"postgres_password\"]\n",
    "postgres_address = config[\"db_config\"][\"postgres_address\"]\n",
    "postgres_port = config[\"db_config\"][\"postgres_port\"]\n",
    "postgres_dbname = config[\"db_config\"][\"postgres_dbname\"]\n",
    "\n",
    "postgres_str = f\"postgresql://{postgres_username}:{postgres_password}@{postgres_address}:{postgres_port}/{postgres_dbname}\"\n",
    "\n",
    "# create db connection with sqlalchemy\n",
    "cnx = create_engine(postgres_str)"
   ],
   "metadata": {
    "collapsed": false,
    "pycharm": {
     "name": "#%%\n"
    }
   }
  },
  {
   "cell_type": "markdown",
   "source": [
    "## 3. Create stock symbol list"
   ],
   "metadata": {
    "collapsed": false,
    "pycharm": {
     "name": "#%% md\n"
    }
   }
  },
  {
   "cell_type": "code",
   "execution_count": 4,
   "outputs": [],
   "source": [
    "# load stock list and transform it into a set\n",
    "stock_ticker_list = pd.read_excel(\"../../data/external/stock_ticker_list.xlsx\")[\"symbol\"].to_list()\n",
    "\n",
    "# Modified second stock list with dollar sign\n",
    "stock_ticker_list_with_dollar_sign = [f\"${ticker}\" for ticker in stock_ticker_list]\n",
    "\n",
    "# Combine the two lists to one set\n",
    "final_stock_ticker_list = set(stock_ticker_list + stock_ticker_list_with_dollar_sign)"
   ],
   "metadata": {
    "collapsed": false,
    "pycharm": {
     "name": "#%%\n"
    }
   }
  },
  {
   "cell_type": "markdown",
   "source": [
    "## 4. Extract Submissions from reddit"
   ],
   "metadata": {
    "collapsed": false,
    "pycharm": {
     "name": "#%% md\n"
    }
   }
  },
  {
   "cell_type": "code",
   "execution_count": 5,
   "outputs": [],
   "source": [
    "# Set date range to extract the data from the API\n",
    "start = dt.datetime.strptime(\"01-05-2021\", \"%d-%m-%Y\")\n",
    "end = dt.datetime.strptime(\"01-05-2022\", \"%d-%m-%Y\")\n",
    "timestamp_list = [int((start + dt.timedelta(days=x)).timestamp()) for x in range(0, (end-start).days +1)]\n",
    "\n",
    "# Reddit API Object\n",
    "api = PushshiftAPI()"
   ],
   "metadata": {
    "collapsed": false,
    "pycharm": {
     "name": "#%%\n"
    }
   }
  },
  {
   "cell_type": "code",
   "execution_count": 6,
   "outputs": [
    {
     "name": "stderr",
     "output_type": "stream",
     "text": [
      "2022-04-30 00:00:00: 100%|██████████| 365/365 [1:11:03<00:00, 11.68s/it]\n"
     ]
    }
   ],
   "source": [
    "# loop over list of timestamps\n",
    "for i in (pbar := tqdm(range(len(timestamp_list) -1))):\n",
    "\n",
    "    # Set start date and end date\n",
    "    start_date = timestamp_list[i]\n",
    "    end_date = timestamp_list[i + 1]\n",
    "\n",
    "    # Specify data to extract from reddit\n",
    "    filters = ['author', 'created_utc', 'title', \"selftext\", \"score\"]\n",
    "\n",
    "    # Call API function to retrieve data from reddit as a dataframe\n",
    "    df = data_prep_posts(api, \"wallstreetbets\", start_time=start_date, end_time=end_date, filters=filters)\n",
    "\n",
    "    # Join submission title and body to \"post\"\n",
    "    df[\"post\"] = df[[\"title\", \"selftext\"]].apply(lambda x: join_submission_title_and_body(*x), axis=1)\n",
    "\n",
    "    # Transform timestamp into datetime column\n",
    "    df[\"created_at\"] = df[\"created_utc\"].apply(lambda x: dt.datetime.fromtimestamp(x))\n",
    "\n",
    "    # Get stock symbol from reddit post if available\n",
    "    df[\"stock_symbol\"] = df[\"post\"].apply(lambda x: find_stock_symbols(x, final_stock_ticker_list))\n",
    "\n",
    "    # Drop unused columns\n",
    "    df.drop(columns=[\"created_utc\", \"selftext\", \"title\", \"created\"], inplace=True)\n",
    "\n",
    "    # Rename columns as preparation for database\n",
    "    df.rename(columns={'score': 'num_up_votes'}, inplace=True)\n",
    "\n",
    "    # Write dataframe to database\n",
    "    df.to_sql(\"r_wallstreetbets\", cnx, index=False, if_exists=\"append\")\n",
    "\n",
    "    # Logging\n",
    "    logging.info(f\"{df.shape[0]} rows written to DB - Date: {dt.datetime.fromtimestamp(start_date)}\")\n",
    "    pbar.set_description(f\"{dt.datetime.fromtimestamp(start_date)}\")"
   ],
   "metadata": {
    "collapsed": false,
    "pycharm": {
     "name": "#%%\n"
    }
   }
  }
 ],
 "metadata": {
  "kernelspec": {
   "name": "thesis",
   "language": "python",
   "display_name": "thesis"
  },
  "language_info": {
   "codemirror_mode": {
    "name": "ipython",
    "version": 2
   },
   "file_extension": ".py",
   "mimetype": "text/x-python",
   "name": "python",
   "nbconvert_exporter": "python",
   "pygments_lexer": "ipython2",
   "version": "2.7.6"
  }
 },
 "nbformat": 4,
 "nbformat_minor": 0
}